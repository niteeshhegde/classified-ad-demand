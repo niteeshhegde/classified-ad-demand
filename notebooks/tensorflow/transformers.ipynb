{
  "nbformat": 4,
  "nbformat_minor": 0,
  "metadata": {
    "colab": {
      "name": "Final-Transformer.ipynb",
      "provenance": [],
      "collapsed_sections": [],
      "machine_shape": "hm"
    },
    "kernelspec": {
      "name": "python3",
      "display_name": "Python 3"
    },
    "accelerator": "TPU",
    "widgets": {
      "application/vnd.jupyter.widget-state+json": {
        "a6f655ea8c234c1da5f3835034d334d0": {
          "model_module": "@jupyter-widgets/controls",
          "model_name": "HBoxModel",
          "state": {
            "_view_name": "HBoxView",
            "_dom_classes": [],
            "_model_name": "HBoxModel",
            "_view_module": "@jupyter-widgets/controls",
            "_model_module_version": "1.5.0",
            "_view_count": null,
            "_view_module_version": "1.5.0",
            "box_style": "",
            "layout": "IPY_MODEL_9d6488ba2b1542b899768359fb82834b",
            "_model_module": "@jupyter-widgets/controls",
            "children": [
              "IPY_MODEL_5466150f9bb34924ad070485f086607f",
              "IPY_MODEL_12951be007c34f7e8398bf741a1b11e1"
            ]
          }
        },
        "9d6488ba2b1542b899768359fb82834b": {
          "model_module": "@jupyter-widgets/base",
          "model_name": "LayoutModel",
          "state": {
            "_view_name": "LayoutView",
            "grid_template_rows": null,
            "right": null,
            "justify_content": null,
            "_view_module": "@jupyter-widgets/base",
            "overflow": null,
            "_model_module_version": "1.2.0",
            "_view_count": null,
            "flex_flow": null,
            "width": null,
            "min_width": null,
            "border": null,
            "align_items": null,
            "bottom": null,
            "_model_module": "@jupyter-widgets/base",
            "top": null,
            "grid_column": null,
            "overflow_y": null,
            "overflow_x": null,
            "grid_auto_flow": null,
            "grid_area": null,
            "grid_template_columns": null,
            "flex": null,
            "_model_name": "LayoutModel",
            "justify_items": null,
            "grid_row": null,
            "max_height": null,
            "align_content": null,
            "visibility": null,
            "align_self": null,
            "height": null,
            "min_height": null,
            "padding": null,
            "grid_auto_rows": null,
            "grid_gap": null,
            "max_width": null,
            "order": null,
            "_view_module_version": "1.2.0",
            "grid_template_areas": null,
            "object_position": null,
            "object_fit": null,
            "grid_auto_columns": null,
            "margin": null,
            "display": null,
            "left": null
          }
        },
        "5466150f9bb34924ad070485f086607f": {
          "model_module": "@jupyter-widgets/controls",
          "model_name": "FloatProgressModel",
          "state": {
            "_view_name": "ProgressView",
            "style": "IPY_MODEL_4935f52bd78b4c69b2a8ad969f5f6caf",
            "_dom_classes": [],
            "description": "Downloading: 100%",
            "_model_name": "FloatProgressModel",
            "bar_style": "success",
            "max": 642,
            "_view_module": "@jupyter-widgets/controls",
            "_model_module_version": "1.5.0",
            "value": 642,
            "_view_count": null,
            "_view_module_version": "1.5.0",
            "orientation": "horizontal",
            "min": 0,
            "description_tooltip": null,
            "_model_module": "@jupyter-widgets/controls",
            "layout": "IPY_MODEL_e8bcde0f7270427c862568f330f0d792"
          }
        },
        "12951be007c34f7e8398bf741a1b11e1": {
          "model_module": "@jupyter-widgets/controls",
          "model_name": "HTMLModel",
          "state": {
            "_view_name": "HTMLView",
            "style": "IPY_MODEL_ea4eff6aad634fe1be706d141bdac2e3",
            "_dom_classes": [],
            "description": "",
            "_model_name": "HTMLModel",
            "placeholder": "​",
            "_view_module": "@jupyter-widgets/controls",
            "_model_module_version": "1.5.0",
            "value": " 642/642 [00:01&lt;00:00, 395B/s]",
            "_view_count": null,
            "_view_module_version": "1.5.0",
            "description_tooltip": null,
            "_model_module": "@jupyter-widgets/controls",
            "layout": "IPY_MODEL_3c88eba1b5444cf9b5fdbc1c372b5ba1"
          }
        },
        "4935f52bd78b4c69b2a8ad969f5f6caf": {
          "model_module": "@jupyter-widgets/controls",
          "model_name": "ProgressStyleModel",
          "state": {
            "_view_name": "StyleView",
            "_model_name": "ProgressStyleModel",
            "description_width": "initial",
            "_view_module": "@jupyter-widgets/base",
            "_model_module_version": "1.5.0",
            "_view_count": null,
            "_view_module_version": "1.2.0",
            "bar_color": null,
            "_model_module": "@jupyter-widgets/controls"
          }
        },
        "e8bcde0f7270427c862568f330f0d792": {
          "model_module": "@jupyter-widgets/base",
          "model_name": "LayoutModel",
          "state": {
            "_view_name": "LayoutView",
            "grid_template_rows": null,
            "right": null,
            "justify_content": null,
            "_view_module": "@jupyter-widgets/base",
            "overflow": null,
            "_model_module_version": "1.2.0",
            "_view_count": null,
            "flex_flow": null,
            "width": null,
            "min_width": null,
            "border": null,
            "align_items": null,
            "bottom": null,
            "_model_module": "@jupyter-widgets/base",
            "top": null,
            "grid_column": null,
            "overflow_y": null,
            "overflow_x": null,
            "grid_auto_flow": null,
            "grid_area": null,
            "grid_template_columns": null,
            "flex": null,
            "_model_name": "LayoutModel",
            "justify_items": null,
            "grid_row": null,
            "max_height": null,
            "align_content": null,
            "visibility": null,
            "align_self": null,
            "height": null,
            "min_height": null,
            "padding": null,
            "grid_auto_rows": null,
            "grid_gap": null,
            "max_width": null,
            "order": null,
            "_view_module_version": "1.2.0",
            "grid_template_areas": null,
            "object_position": null,
            "object_fit": null,
            "grid_auto_columns": null,
            "margin": null,
            "display": null,
            "left": null
          }
        },
        "ea4eff6aad634fe1be706d141bdac2e3": {
          "model_module": "@jupyter-widgets/controls",
          "model_name": "DescriptionStyleModel",
          "state": {
            "_view_name": "StyleView",
            "_model_name": "DescriptionStyleModel",
            "description_width": "",
            "_view_module": "@jupyter-widgets/base",
            "_model_module_version": "1.5.0",
            "_view_count": null,
            "_view_module_version": "1.2.0",
            "_model_module": "@jupyter-widgets/controls"
          }
        },
        "3c88eba1b5444cf9b5fdbc1c372b5ba1": {
          "model_module": "@jupyter-widgets/base",
          "model_name": "LayoutModel",
          "state": {
            "_view_name": "LayoutView",
            "grid_template_rows": null,
            "right": null,
            "justify_content": null,
            "_view_module": "@jupyter-widgets/base",
            "overflow": null,
            "_model_module_version": "1.2.0",
            "_view_count": null,
            "flex_flow": null,
            "width": null,
            "min_width": null,
            "border": null,
            "align_items": null,
            "bottom": null,
            "_model_module": "@jupyter-widgets/base",
            "top": null,
            "grid_column": null,
            "overflow_y": null,
            "overflow_x": null,
            "grid_auto_flow": null,
            "grid_area": null,
            "grid_template_columns": null,
            "flex": null,
            "_model_name": "LayoutModel",
            "justify_items": null,
            "grid_row": null,
            "max_height": null,
            "align_content": null,
            "visibility": null,
            "align_self": null,
            "height": null,
            "min_height": null,
            "padding": null,
            "grid_auto_rows": null,
            "grid_gap": null,
            "max_width": null,
            "order": null,
            "_view_module_version": "1.2.0",
            "grid_template_areas": null,
            "object_position": null,
            "object_fit": null,
            "grid_auto_columns": null,
            "margin": null,
            "display": null,
            "left": null
          }
        },
        "514743747d834d03b42764f742dff7f8": {
          "model_module": "@jupyter-widgets/controls",
          "model_name": "HBoxModel",
          "state": {
            "_view_name": "HBoxView",
            "_dom_classes": [],
            "_model_name": "HBoxModel",
            "_view_module": "@jupyter-widgets/controls",
            "_model_module_version": "1.5.0",
            "_view_count": null,
            "_view_module_version": "1.5.0",
            "box_style": "",
            "layout": "IPY_MODEL_41a249c25b514349a947669e6d0fbe6c",
            "_model_module": "@jupyter-widgets/controls",
            "children": [
              "IPY_MODEL_1158025c6a4f4181b2c5b433a1683f8e",
              "IPY_MODEL_200ef8a05a5e47bd916810e611b634ce"
            ]
          }
        },
        "41a249c25b514349a947669e6d0fbe6c": {
          "model_module": "@jupyter-widgets/base",
          "model_name": "LayoutModel",
          "state": {
            "_view_name": "LayoutView",
            "grid_template_rows": null,
            "right": null,
            "justify_content": null,
            "_view_module": "@jupyter-widgets/base",
            "overflow": null,
            "_model_module_version": "1.2.0",
            "_view_count": null,
            "flex_flow": null,
            "width": null,
            "min_width": null,
            "border": null,
            "align_items": null,
            "bottom": null,
            "_model_module": "@jupyter-widgets/base",
            "top": null,
            "grid_column": null,
            "overflow_y": null,
            "overflow_x": null,
            "grid_auto_flow": null,
            "grid_area": null,
            "grid_template_columns": null,
            "flex": null,
            "_model_name": "LayoutModel",
            "justify_items": null,
            "grid_row": null,
            "max_height": null,
            "align_content": null,
            "visibility": null,
            "align_self": null,
            "height": null,
            "min_height": null,
            "padding": null,
            "grid_auto_rows": null,
            "grid_gap": null,
            "max_width": null,
            "order": null,
            "_view_module_version": "1.2.0",
            "grid_template_areas": null,
            "object_position": null,
            "object_fit": null,
            "grid_auto_columns": null,
            "margin": null,
            "display": null,
            "left": null
          }
        },
        "1158025c6a4f4181b2c5b433a1683f8e": {
          "model_module": "@jupyter-widgets/controls",
          "model_name": "FloatProgressModel",
          "state": {
            "_view_name": "ProgressView",
            "style": "IPY_MODEL_527ae032bf5945b7b910c8477d796991",
            "_dom_classes": [],
            "description": "Downloading: 100%",
            "_model_name": "FloatProgressModel",
            "bar_style": "success",
            "max": 1649718,
            "_view_module": "@jupyter-widgets/controls",
            "_model_module_version": "1.5.0",
            "value": 1649718,
            "_view_count": null,
            "_view_module_version": "1.5.0",
            "orientation": "horizontal",
            "min": 0,
            "description_tooltip": null,
            "_model_module": "@jupyter-widgets/controls",
            "layout": "IPY_MODEL_c6dfe0c4edd34f8a8a3aa274cc2441db"
          }
        },
        "200ef8a05a5e47bd916810e611b634ce": {
          "model_module": "@jupyter-widgets/controls",
          "model_name": "HTMLModel",
          "state": {
            "_view_name": "HTMLView",
            "style": "IPY_MODEL_0cced715de214fd5b2caff0c26cec922",
            "_dom_classes": [],
            "description": "",
            "_model_name": "HTMLModel",
            "placeholder": "​",
            "_view_module": "@jupyter-widgets/controls",
            "_model_module_version": "1.5.0",
            "value": " 1.65M/1.65M [00:00&lt;00:00, 2.24MB/s]",
            "_view_count": null,
            "_view_module_version": "1.5.0",
            "description_tooltip": null,
            "_model_module": "@jupyter-widgets/controls",
            "layout": "IPY_MODEL_37137c2d6a264df187e5ff84d8936dd0"
          }
        },
        "527ae032bf5945b7b910c8477d796991": {
          "model_module": "@jupyter-widgets/controls",
          "model_name": "ProgressStyleModel",
          "state": {
            "_view_name": "StyleView",
            "_model_name": "ProgressStyleModel",
            "description_width": "initial",
            "_view_module": "@jupyter-widgets/base",
            "_model_module_version": "1.5.0",
            "_view_count": null,
            "_view_module_version": "1.2.0",
            "bar_color": null,
            "_model_module": "@jupyter-widgets/controls"
          }
        },
        "c6dfe0c4edd34f8a8a3aa274cc2441db": {
          "model_module": "@jupyter-widgets/base",
          "model_name": "LayoutModel",
          "state": {
            "_view_name": "LayoutView",
            "grid_template_rows": null,
            "right": null,
            "justify_content": null,
            "_view_module": "@jupyter-widgets/base",
            "overflow": null,
            "_model_module_version": "1.2.0",
            "_view_count": null,
            "flex_flow": null,
            "width": null,
            "min_width": null,
            "border": null,
            "align_items": null,
            "bottom": null,
            "_model_module": "@jupyter-widgets/base",
            "top": null,
            "grid_column": null,
            "overflow_y": null,
            "overflow_x": null,
            "grid_auto_flow": null,
            "grid_area": null,
            "grid_template_columns": null,
            "flex": null,
            "_model_name": "LayoutModel",
            "justify_items": null,
            "grid_row": null,
            "max_height": null,
            "align_content": null,
            "visibility": null,
            "align_self": null,
            "height": null,
            "min_height": null,
            "padding": null,
            "grid_auto_rows": null,
            "grid_gap": null,
            "max_width": null,
            "order": null,
            "_view_module_version": "1.2.0",
            "grid_template_areas": null,
            "object_position": null,
            "object_fit": null,
            "grid_auto_columns": null,
            "margin": null,
            "display": null,
            "left": null
          }
        },
        "0cced715de214fd5b2caff0c26cec922": {
          "model_module": "@jupyter-widgets/controls",
          "model_name": "DescriptionStyleModel",
          "state": {
            "_view_name": "StyleView",
            "_model_name": "DescriptionStyleModel",
            "description_width": "",
            "_view_module": "@jupyter-widgets/base",
            "_model_module_version": "1.5.0",
            "_view_count": null,
            "_view_module_version": "1.2.0",
            "_model_module": "@jupyter-widgets/controls"
          }
        },
        "37137c2d6a264df187e5ff84d8936dd0": {
          "model_module": "@jupyter-widgets/base",
          "model_name": "LayoutModel",
          "state": {
            "_view_name": "LayoutView",
            "grid_template_rows": null,
            "right": null,
            "justify_content": null,
            "_view_module": "@jupyter-widgets/base",
            "overflow": null,
            "_model_module_version": "1.2.0",
            "_view_count": null,
            "flex_flow": null,
            "width": null,
            "min_width": null,
            "border": null,
            "align_items": null,
            "bottom": null,
            "_model_module": "@jupyter-widgets/base",
            "top": null,
            "grid_column": null,
            "overflow_y": null,
            "overflow_x": null,
            "grid_auto_flow": null,
            "grid_area": null,
            "grid_template_columns": null,
            "flex": null,
            "_model_name": "LayoutModel",
            "justify_items": null,
            "grid_row": null,
            "max_height": null,
            "align_content": null,
            "visibility": null,
            "align_self": null,
            "height": null,
            "min_height": null,
            "padding": null,
            "grid_auto_rows": null,
            "grid_gap": null,
            "max_width": null,
            "order": null,
            "_view_module_version": "1.2.0",
            "grid_template_areas": null,
            "object_position": null,
            "object_fit": null,
            "grid_auto_columns": null,
            "margin": null,
            "display": null,
            "left": null
          }
        },
        "3946b29d330c436e92db9900b896acf3": {
          "model_module": "@jupyter-widgets/controls",
          "model_name": "HBoxModel",
          "state": {
            "_view_name": "HBoxView",
            "_dom_classes": [],
            "_model_name": "HBoxModel",
            "_view_module": "@jupyter-widgets/controls",
            "_model_module_version": "1.5.0",
            "_view_count": null,
            "_view_module_version": "1.5.0",
            "box_style": "",
            "layout": "IPY_MODEL_2dc6bd7f9fe84bc389465523a1a1ddcd",
            "_model_module": "@jupyter-widgets/controls",
            "children": [
              "IPY_MODEL_2901df9630c94141810ad0d25e4ab955",
              "IPY_MODEL_eab6438cb98b4f34bb8e04642864ce31"
            ]
          }
        },
        "2dc6bd7f9fe84bc389465523a1a1ddcd": {
          "model_module": "@jupyter-widgets/base",
          "model_name": "LayoutModel",
          "state": {
            "_view_name": "LayoutView",
            "grid_template_rows": null,
            "right": null,
            "justify_content": null,
            "_view_module": "@jupyter-widgets/base",
            "overflow": null,
            "_model_module_version": "1.2.0",
            "_view_count": null,
            "flex_flow": null,
            "width": null,
            "min_width": null,
            "border": null,
            "align_items": null,
            "bottom": null,
            "_model_module": "@jupyter-widgets/base",
            "top": null,
            "grid_column": null,
            "overflow_y": null,
            "overflow_x": null,
            "grid_auto_flow": null,
            "grid_area": null,
            "grid_template_columns": null,
            "flex": null,
            "_model_name": "LayoutModel",
            "justify_items": null,
            "grid_row": null,
            "max_height": null,
            "align_content": null,
            "visibility": null,
            "align_self": null,
            "height": null,
            "min_height": null,
            "padding": null,
            "grid_auto_rows": null,
            "grid_gap": null,
            "max_width": null,
            "order": null,
            "_view_module_version": "1.2.0",
            "grid_template_areas": null,
            "object_position": null,
            "object_fit": null,
            "grid_auto_columns": null,
            "margin": null,
            "display": null,
            "left": null
          }
        },
        "2901df9630c94141810ad0d25e4ab955": {
          "model_module": "@jupyter-widgets/controls",
          "model_name": "FloatProgressModel",
          "state": {
            "_view_name": "ProgressView",
            "style": "IPY_MODEL_254512fe80294f8c9c005ec418184856",
            "_dom_classes": [],
            "description": "Downloading: 100%",
            "_model_name": "FloatProgressModel",
            "bar_style": "success",
            "max": 112,
            "_view_module": "@jupyter-widgets/controls",
            "_model_module_version": "1.5.0",
            "value": 112,
            "_view_count": null,
            "_view_module_version": "1.5.0",
            "orientation": "horizontal",
            "min": 0,
            "description_tooltip": null,
            "_model_module": "@jupyter-widgets/controls",
            "layout": "IPY_MODEL_ef5b154ae50d490c9bdde228afca1cc0"
          }
        },
        "eab6438cb98b4f34bb8e04642864ce31": {
          "model_module": "@jupyter-widgets/controls",
          "model_name": "HTMLModel",
          "state": {
            "_view_name": "HTMLView",
            "style": "IPY_MODEL_6745489d632a493fbe19564e69cdfae5",
            "_dom_classes": [],
            "description": "",
            "_model_name": "HTMLModel",
            "placeholder": "​",
            "_view_module": "@jupyter-widgets/controls",
            "_model_module_version": "1.5.0",
            "value": " 112/112 [00:00&lt;00:00, 200B/s]",
            "_view_count": null,
            "_view_module_version": "1.5.0",
            "description_tooltip": null,
            "_model_module": "@jupyter-widgets/controls",
            "layout": "IPY_MODEL_40146936514941a484bac72fc15ec4cc"
          }
        },
        "254512fe80294f8c9c005ec418184856": {
          "model_module": "@jupyter-widgets/controls",
          "model_name": "ProgressStyleModel",
          "state": {
            "_view_name": "StyleView",
            "_model_name": "ProgressStyleModel",
            "description_width": "initial",
            "_view_module": "@jupyter-widgets/base",
            "_model_module_version": "1.5.0",
            "_view_count": null,
            "_view_module_version": "1.2.0",
            "bar_color": null,
            "_model_module": "@jupyter-widgets/controls"
          }
        },
        "ef5b154ae50d490c9bdde228afca1cc0": {
          "model_module": "@jupyter-widgets/base",
          "model_name": "LayoutModel",
          "state": {
            "_view_name": "LayoutView",
            "grid_template_rows": null,
            "right": null,
            "justify_content": null,
            "_view_module": "@jupyter-widgets/base",
            "overflow": null,
            "_model_module_version": "1.2.0",
            "_view_count": null,
            "flex_flow": null,
            "width": null,
            "min_width": null,
            "border": null,
            "align_items": null,
            "bottom": null,
            "_model_module": "@jupyter-widgets/base",
            "top": null,
            "grid_column": null,
            "overflow_y": null,
            "overflow_x": null,
            "grid_auto_flow": null,
            "grid_area": null,
            "grid_template_columns": null,
            "flex": null,
            "_model_name": "LayoutModel",
            "justify_items": null,
            "grid_row": null,
            "max_height": null,
            "align_content": null,
            "visibility": null,
            "align_self": null,
            "height": null,
            "min_height": null,
            "padding": null,
            "grid_auto_rows": null,
            "grid_gap": null,
            "max_width": null,
            "order": null,
            "_view_module_version": "1.2.0",
            "grid_template_areas": null,
            "object_position": null,
            "object_fit": null,
            "grid_auto_columns": null,
            "margin": null,
            "display": null,
            "left": null
          }
        },
        "6745489d632a493fbe19564e69cdfae5": {
          "model_module": "@jupyter-widgets/controls",
          "model_name": "DescriptionStyleModel",
          "state": {
            "_view_name": "StyleView",
            "_model_name": "DescriptionStyleModel",
            "description_width": "",
            "_view_module": "@jupyter-widgets/base",
            "_model_module_version": "1.5.0",
            "_view_count": null,
            "_view_module_version": "1.2.0",
            "_model_module": "@jupyter-widgets/controls"
          }
        },
        "40146936514941a484bac72fc15ec4cc": {
          "model_module": "@jupyter-widgets/base",
          "model_name": "LayoutModel",
          "state": {
            "_view_name": "LayoutView",
            "grid_template_rows": null,
            "right": null,
            "justify_content": null,
            "_view_module": "@jupyter-widgets/base",
            "overflow": null,
            "_model_module_version": "1.2.0",
            "_view_count": null,
            "flex_flow": null,
            "width": null,
            "min_width": null,
            "border": null,
            "align_items": null,
            "bottom": null,
            "_model_module": "@jupyter-widgets/base",
            "top": null,
            "grid_column": null,
            "overflow_y": null,
            "overflow_x": null,
            "grid_auto_flow": null,
            "grid_area": null,
            "grid_template_columns": null,
            "flex": null,
            "_model_name": "LayoutModel",
            "justify_items": null,
            "grid_row": null,
            "max_height": null,
            "align_content": null,
            "visibility": null,
            "align_self": null,
            "height": null,
            "min_height": null,
            "padding": null,
            "grid_auto_rows": null,
            "grid_gap": null,
            "max_width": null,
            "order": null,
            "_view_module_version": "1.2.0",
            "grid_template_areas": null,
            "object_position": null,
            "object_fit": null,
            "grid_auto_columns": null,
            "margin": null,
            "display": null,
            "left": null
          }
        },
        "87323595d3aa400e943ab404e9c3042a": {
          "model_module": "@jupyter-widgets/controls",
          "model_name": "HBoxModel",
          "state": {
            "_view_name": "HBoxView",
            "_dom_classes": [],
            "_model_name": "HBoxModel",
            "_view_module": "@jupyter-widgets/controls",
            "_model_module_version": "1.5.0",
            "_view_count": null,
            "_view_module_version": "1.5.0",
            "box_style": "",
            "layout": "IPY_MODEL_87235cca7d1e41d3acc219d86e29926c",
            "_model_module": "@jupyter-widgets/controls",
            "children": [
              "IPY_MODEL_fbc02efb3e98463e8eda72cdd567c1fc",
              "IPY_MODEL_d819bc539c2f49599848b153797c0e7d"
            ]
          }
        },
        "87235cca7d1e41d3acc219d86e29926c": {
          "model_module": "@jupyter-widgets/base",
          "model_name": "LayoutModel",
          "state": {
            "_view_name": "LayoutView",
            "grid_template_rows": null,
            "right": null,
            "justify_content": null,
            "_view_module": "@jupyter-widgets/base",
            "overflow": null,
            "_model_module_version": "1.2.0",
            "_view_count": null,
            "flex_flow": null,
            "width": null,
            "min_width": null,
            "border": null,
            "align_items": null,
            "bottom": null,
            "_model_module": "@jupyter-widgets/base",
            "top": null,
            "grid_column": null,
            "overflow_y": null,
            "overflow_x": null,
            "grid_auto_flow": null,
            "grid_area": null,
            "grid_template_columns": null,
            "flex": null,
            "_model_name": "LayoutModel",
            "justify_items": null,
            "grid_row": null,
            "max_height": null,
            "align_content": null,
            "visibility": null,
            "align_self": null,
            "height": null,
            "min_height": null,
            "padding": null,
            "grid_auto_rows": null,
            "grid_gap": null,
            "max_width": null,
            "order": null,
            "_view_module_version": "1.2.0",
            "grid_template_areas": null,
            "object_position": null,
            "object_fit": null,
            "grid_auto_columns": null,
            "margin": null,
            "display": null,
            "left": null
          }
        },
        "fbc02efb3e98463e8eda72cdd567c1fc": {
          "model_module": "@jupyter-widgets/controls",
          "model_name": "FloatProgressModel",
          "state": {
            "_view_name": "ProgressView",
            "style": "IPY_MODEL_2f1db9328b5d47d4af0e70a4e62a71b7",
            "_dom_classes": [],
            "description": "Downloading: 100%",
            "_model_name": "FloatProgressModel",
            "bar_style": "success",
            "max": 2,
            "_view_module": "@jupyter-widgets/controls",
            "_model_module_version": "1.5.0",
            "value": 2,
            "_view_count": null,
            "_view_module_version": "1.5.0",
            "orientation": "horizontal",
            "min": 0,
            "description_tooltip": null,
            "_model_module": "@jupyter-widgets/controls",
            "layout": "IPY_MODEL_7a228e448972462f91c8dc4f622fd32b"
          }
        },
        "d819bc539c2f49599848b153797c0e7d": {
          "model_module": "@jupyter-widgets/controls",
          "model_name": "HTMLModel",
          "state": {
            "_view_name": "HTMLView",
            "style": "IPY_MODEL_722e9c62796847d1b13b4ee2ab08e738",
            "_dom_classes": [],
            "description": "",
            "_model_name": "HTMLModel",
            "placeholder": "​",
            "_view_module": "@jupyter-widgets/controls",
            "_model_module_version": "1.5.0",
            "value": " 2.00/2.00 [00:00&lt;00:00, 8.04B/s]",
            "_view_count": null,
            "_view_module_version": "1.5.0",
            "description_tooltip": null,
            "_model_module": "@jupyter-widgets/controls",
            "layout": "IPY_MODEL_7526554bfec44a02965a78e160213c0d"
          }
        },
        "2f1db9328b5d47d4af0e70a4e62a71b7": {
          "model_module": "@jupyter-widgets/controls",
          "model_name": "ProgressStyleModel",
          "state": {
            "_view_name": "StyleView",
            "_model_name": "ProgressStyleModel",
            "description_width": "initial",
            "_view_module": "@jupyter-widgets/base",
            "_model_module_version": "1.5.0",
            "_view_count": null,
            "_view_module_version": "1.2.0",
            "bar_color": null,
            "_model_module": "@jupyter-widgets/controls"
          }
        },
        "7a228e448972462f91c8dc4f622fd32b": {
          "model_module": "@jupyter-widgets/base",
          "model_name": "LayoutModel",
          "state": {
            "_view_name": "LayoutView",
            "grid_template_rows": null,
            "right": null,
            "justify_content": null,
            "_view_module": "@jupyter-widgets/base",
            "overflow": null,
            "_model_module_version": "1.2.0",
            "_view_count": null,
            "flex_flow": null,
            "width": null,
            "min_width": null,
            "border": null,
            "align_items": null,
            "bottom": null,
            "_model_module": "@jupyter-widgets/base",
            "top": null,
            "grid_column": null,
            "overflow_y": null,
            "overflow_x": null,
            "grid_auto_flow": null,
            "grid_area": null,
            "grid_template_columns": null,
            "flex": null,
            "_model_name": "LayoutModel",
            "justify_items": null,
            "grid_row": null,
            "max_height": null,
            "align_content": null,
            "visibility": null,
            "align_self": null,
            "height": null,
            "min_height": null,
            "padding": null,
            "grid_auto_rows": null,
            "grid_gap": null,
            "max_width": null,
            "order": null,
            "_view_module_version": "1.2.0",
            "grid_template_areas": null,
            "object_position": null,
            "object_fit": null,
            "grid_auto_columns": null,
            "margin": null,
            "display": null,
            "left": null
          }
        },
        "722e9c62796847d1b13b4ee2ab08e738": {
          "model_module": "@jupyter-widgets/controls",
          "model_name": "DescriptionStyleModel",
          "state": {
            "_view_name": "StyleView",
            "_model_name": "DescriptionStyleModel",
            "description_width": "",
            "_view_module": "@jupyter-widgets/base",
            "_model_module_version": "1.5.0",
            "_view_count": null,
            "_view_module_version": "1.2.0",
            "_model_module": "@jupyter-widgets/controls"
          }
        },
        "7526554bfec44a02965a78e160213c0d": {
          "model_module": "@jupyter-widgets/base",
          "model_name": "LayoutModel",
          "state": {
            "_view_name": "LayoutView",
            "grid_template_rows": null,
            "right": null,
            "justify_content": null,
            "_view_module": "@jupyter-widgets/base",
            "overflow": null,
            "_model_module_version": "1.2.0",
            "_view_count": null,
            "flex_flow": null,
            "width": null,
            "min_width": null,
            "border": null,
            "align_items": null,
            "bottom": null,
            "_model_module": "@jupyter-widgets/base",
            "top": null,
            "grid_column": null,
            "overflow_y": null,
            "overflow_x": null,
            "grid_auto_flow": null,
            "grid_area": null,
            "grid_template_columns": null,
            "flex": null,
            "_model_name": "LayoutModel",
            "justify_items": null,
            "grid_row": null,
            "max_height": null,
            "align_content": null,
            "visibility": null,
            "align_self": null,
            "height": null,
            "min_height": null,
            "padding": null,
            "grid_auto_rows": null,
            "grid_gap": null,
            "max_width": null,
            "order": null,
            "_view_module_version": "1.2.0",
            "grid_template_areas": null,
            "object_position": null,
            "object_fit": null,
            "grid_auto_columns": null,
            "margin": null,
            "display": null,
            "left": null
          }
        }
      }
    }
  },
  "cells": [
    {
      "cell_type": "markdown",
      "metadata": {
        "id": "bLbl3J_EYow6",
        "colab_type": "text"
      },
      "source": [
        "# DeepLearning using Tensorflow (Transformers)"
      ]
    },
    {
      "cell_type": "markdown",
      "metadata": {
        "id": "9xtOGwnAYxC8",
        "colab_type": "text"
      },
      "source": [
        "## Data Preparation and Environment Setup"
      ]
    },
    {
      "cell_type": "markdown",
      "metadata": {
        "id": "fkicNB83Y4Lw",
        "colab_type": "text"
      },
      "source": [
        "Second round of data preparation was essential and number of classes were reduced. \n",
        "\n",
        "Details in this [notebook](https://github.com/niteeshhegde/classified-ad-demand/blob/master/data-preprocessing/dataprep-pandas.ipynb) \n",
        "\n",
        "Google's Colab has free GPUs and users can run 2 sessions at a time.\n",
        "\n",
        "This notebook was run on colab with Python 3 and GPU with 36Gi RAM.\n",
        "\n",
        "Also here text data from Title and Description are taken intoo consideration.\n",
        "\n",
        "In this tensorflow model, embeddings are taken from ruber transformer for title and description.\n",
        "\n",
        "Details : https://huggingface.co/DeepPavlov/rubert-base-cased"
      ]
    },
    {
      "cell_type": "markdown",
      "metadata": {
        "id": "anGq3xwlY4EI",
        "colab_type": "text"
      },
      "source": [
        "Authenticate into gcp"
      ]
    },
    {
      "cell_type": "code",
      "metadata": {
        "id": "DJ-muVdcMcFz",
        "colab_type": "code",
        "colab": {}
      },
      "source": [
        "from google.colab import auth"
      ],
      "execution_count": null,
      "outputs": []
    },
    {
      "cell_type": "code",
      "metadata": {
        "id": "IT78Abl0MvhR",
        "colab_type": "code",
        "colab": {}
      },
      "source": [
        "auth.authenticate_user()"
      ],
      "execution_count": null,
      "outputs": []
    },
    {
      "cell_type": "code",
      "metadata": {
        "id": "oCqAZwAgM4vw",
        "colab_type": "code",
        "colab": {
          "base_uri": "https://localhost:8080/",
          "height": 34
        },
        "outputId": "d8131180-4bef-46f4-d5eb-6e86fa8d6f5c"
      },
      "source": [
        "!gcloud config set project skilful-orb-255314"
      ],
      "execution_count": null,
      "outputs": [
        {
          "output_type": "stream",
          "text": [
            "Updated property [core/project].\n"
          ],
          "name": "stdout"
        }
      ]
    },
    {
      "cell_type": "markdown",
      "metadata": {
        "id": "Vc3JyANBZVOn",
        "colab_type": "text"
      },
      "source": [
        "Copy the dataset "
      ]
    },
    {
      "cell_type": "code",
      "metadata": {
        "id": "W0DykSBBNEHP",
        "colab_type": "code",
        "colab": {
          "base_uri": "https://localhost:8080/",
          "height": 68
        },
        "outputId": "5870c848-b3bf-43cd-9257-c2474ee0c31f"
      },
      "source": [
        "!gsutil cp gs://dataproc-e3bd1f7b-2e29-4da6-a5c4-077c164fd32a-us-central1/avito/test/three_class_model_train_param_title_desc_params.csv /train.csv"
      ],
      "execution_count": null,
      "outputs": [
        {
          "output_type": "stream",
          "text": [
            "Copying gs://dataproc-e3bd1f7b-2e29-4da6-a5c4-077c164fd32a-us-central1/avito/test/three_class_model_train_param_title_desc_params.csv...\n",
            "| [1 files][712.8 MiB/712.8 MiB]                                                \n",
            "Operation completed over 1 objects/712.8 MiB.                                    \n"
          ],
          "name": "stdout"
        }
      ]
    },
    {
      "cell_type": "code",
      "metadata": {
        "id": "0tPzWPD3Nhzu",
        "colab_type": "code",
        "colab": {
          "base_uri": "https://localhost:8080/",
          "height": 394
        },
        "outputId": "8dc6d5a5-7e68-4757-9ab0-9f7e97be043a"
      },
      "source": [
        "!pip install gcsfs"
      ],
      "execution_count": null,
      "outputs": [
        {
          "output_type": "stream",
          "text": [
            "Collecting gcsfs\n",
            "  Downloading https://files.pythonhosted.org/packages/ce/5c/bc61dbd2e5b61d84486a96a64ca43512c9ac085487464562182f58406290/gcsfs-0.6.2-py2.py3-none-any.whl\n",
            "Requirement already satisfied: fsspec>=0.6.0 in /usr/local/lib/python3.6/dist-packages (from gcsfs) (0.7.4)\n",
            "Requirement already satisfied: google-auth-oauthlib in /usr/local/lib/python3.6/dist-packages (from gcsfs) (0.4.1)\n",
            "Requirement already satisfied: decorator in /usr/local/lib/python3.6/dist-packages (from gcsfs) (4.4.2)\n",
            "Requirement already satisfied: requests in /usr/local/lib/python3.6/dist-packages (from gcsfs) (2.23.0)\n",
            "Requirement already satisfied: google-auth>=1.2 in /usr/local/lib/python3.6/dist-packages (from gcsfs) (1.17.2)\n",
            "Requirement already satisfied: requests-oauthlib>=0.7.0 in /usr/local/lib/python3.6/dist-packages (from google-auth-oauthlib->gcsfs) (1.3.0)\n",
            "Requirement already satisfied: chardet<4,>=3.0.2 in /usr/local/lib/python3.6/dist-packages (from requests->gcsfs) (3.0.4)\n",
            "Requirement already satisfied: idna<3,>=2.5 in /usr/local/lib/python3.6/dist-packages (from requests->gcsfs) (2.10)\n",
            "Requirement already satisfied: urllib3!=1.25.0,!=1.25.1,<1.26,>=1.21.1 in /usr/local/lib/python3.6/dist-packages (from requests->gcsfs) (1.24.3)\n",
            "Requirement already satisfied: certifi>=2017.4.17 in /usr/local/lib/python3.6/dist-packages (from requests->gcsfs) (2020.6.20)\n",
            "Requirement already satisfied: rsa<5,>=3.1.4; python_version >= \"3\" in /usr/local/lib/python3.6/dist-packages (from google-auth>=1.2->gcsfs) (4.6)\n",
            "Requirement already satisfied: pyasn1-modules>=0.2.1 in /usr/local/lib/python3.6/dist-packages (from google-auth>=1.2->gcsfs) (0.2.8)\n",
            "Requirement already satisfied: cachetools<5.0,>=2.0.0 in /usr/local/lib/python3.6/dist-packages (from google-auth>=1.2->gcsfs) (4.1.1)\n",
            "Requirement already satisfied: six>=1.9.0 in /usr/local/lib/python3.6/dist-packages (from google-auth>=1.2->gcsfs) (1.12.0)\n",
            "Requirement already satisfied: setuptools>=40.3.0 in /usr/local/lib/python3.6/dist-packages (from google-auth>=1.2->gcsfs) (49.1.0)\n",
            "Requirement already satisfied: oauthlib>=3.0.0 in /usr/local/lib/python3.6/dist-packages (from requests-oauthlib>=0.7.0->google-auth-oauthlib->gcsfs) (3.1.0)\n",
            "Requirement already satisfied: pyasn1>=0.1.3 in /usr/local/lib/python3.6/dist-packages (from rsa<5,>=3.1.4; python_version >= \"3\"->google-auth>=1.2->gcsfs) (0.4.8)\n",
            "Installing collected packages: gcsfs\n",
            "Successfully installed gcsfs-0.6.2\n"
          ],
          "name": "stdout"
        }
      ]
    },
    {
      "cell_type": "code",
      "metadata": {
        "id": "R-zNZGvtNJ_E",
        "colab_type": "code",
        "colab": {}
      },
      "source": [
        "import pandas as pd\n",
        "import numpy as np\n",
        "import gcsfs"
      ],
      "execution_count": null,
      "outputs": []
    },
    {
      "cell_type": "code",
      "metadata": {
        "id": "H1KvhFWCN66w",
        "colab_type": "code",
        "colab": {
          "base_uri": "https://localhost:8080/",
          "height": 71
        },
        "outputId": "8b5307b3-bba6-49fc-bb26-921615572af5"
      },
      "source": [
        "from sklearn.model_selection import train_test_split\n",
        "from sklearn.metrics import accuracy_score\n",
        "import matplotlib.pyplot as plt\n",
        "import seaborn as sns\n",
        "from sklearn import preprocessing\n",
        "from sklearn.preprocessing import LabelEncoder, OneHotEncoder\n",
        "from sklearn.preprocessing import StandardScaler\n",
        "from sklearn.metrics import classification_report\n",
        "from sklearn.metrics import f1_score\n",
        "from sklearn.utils import resample\n",
        "from sklearn.model_selection import GridSearchCV\n",
        "from sklearn.metrics import confusion_matrix \n",
        "import time"
      ],
      "execution_count": null,
      "outputs": [
        {
          "output_type": "stream",
          "text": [
            "/usr/local/lib/python3.6/dist-packages/statsmodels/tools/_testing.py:19: FutureWarning: pandas.util.testing is deprecated. Use the functions in the public API at pandas.testing instead.\n",
            "  import pandas.util.testing as tm\n"
          ],
          "name": "stderr"
        }
      ]
    },
    {
      "cell_type": "code",
      "metadata": {
        "id": "nbu7MaC3NNyU",
        "colab_type": "code",
        "colab": {
          "base_uri": "https://localhost:8080/",
          "height": 360
        },
        "outputId": "c410880c-a269-454b-c388-3549f9d50fa1"
      },
      "source": [
        "df_train = pd.read_csv('/train.csv')\n",
        "df_train.head()"
      ],
      "execution_count": null,
      "outputs": [
        {
          "output_type": "execute_result",
          "data": {
            "text/html": [
              "<div>\n",
              "<style scoped>\n",
              "    .dataframe tbody tr th:only-of-type {\n",
              "        vertical-align: middle;\n",
              "    }\n",
              "\n",
              "    .dataframe tbody tr th {\n",
              "        vertical-align: top;\n",
              "    }\n",
              "\n",
              "    .dataframe thead th {\n",
              "        text-align: right;\n",
              "    }\n",
              "</style>\n",
              "<table border=\"1\" class=\"dataframe\">\n",
              "  <thead>\n",
              "    <tr style=\"text-align: right;\">\n",
              "      <th></th>\n",
              "      <th>region_en</th>\n",
              "      <th>category_name_en</th>\n",
              "      <th>parent_category_name_en</th>\n",
              "      <th>user_type</th>\n",
              "      <th>weekend</th>\n",
              "      <th>price</th>\n",
              "      <th>description</th>\n",
              "      <th>title</th>\n",
              "      <th>param_1</th>\n",
              "      <th>param_2</th>\n",
              "      <th>param_3</th>\n",
              "      <th>description_len</th>\n",
              "      <th>title_len</th>\n",
              "      <th>param_1_len</th>\n",
              "      <th>param_2_len</th>\n",
              "      <th>param_3_len</th>\n",
              "      <th>item_seq_number</th>\n",
              "      <th>image_present</th>\n",
              "      <th>image_top_1</th>\n",
              "      <th>deal_class_5</th>\n",
              "    </tr>\n",
              "  </thead>\n",
              "  <tbody>\n",
              "    <tr>\n",
              "      <th>0</th>\n",
              "      <td>Sverdlovsk oblast</td>\n",
              "      <td>Children's products and toys</td>\n",
              "      <td>Personal belongings</td>\n",
              "      <td>Private</td>\n",
              "      <td>0</td>\n",
              "      <td>400.0</td>\n",
              "      <td>Кокон для сна малыша,пользовались меньше месяц...</td>\n",
              "      <td>Кокоби(кокон для сна)</td>\n",
              "      <td>Постельные принадлежности</td>\n",
              "      <td></td>\n",
              "      <td></td>\n",
              "      <td>7</td>\n",
              "      <td>3</td>\n",
              "      <td>2</td>\n",
              "      <td>0</td>\n",
              "      <td>0</td>\n",
              "      <td>2</td>\n",
              "      <td>False</td>\n",
              "      <td>1008.0</td>\n",
              "      <td>Poor</td>\n",
              "    </tr>\n",
              "    <tr>\n",
              "      <th>1</th>\n",
              "      <td>Samara oblast</td>\n",
              "      <td>Furniture and interior</td>\n",
              "      <td>For the home and garden</td>\n",
              "      <td>Private</td>\n",
              "      <td>1</td>\n",
              "      <td>3000.0</td>\n",
              "      <td>Стойка для одежды, под вешалки. С бутика.</td>\n",
              "      <td>Стойка для Одежды</td>\n",
              "      <td>Другое</td>\n",
              "      <td></td>\n",
              "      <td></td>\n",
              "      <td>7</td>\n",
              "      <td>3</td>\n",
              "      <td>1</td>\n",
              "      <td>0</td>\n",
              "      <td>0</td>\n",
              "      <td>19</td>\n",
              "      <td>False</td>\n",
              "      <td>692.0</td>\n",
              "      <td>Poor</td>\n",
              "    </tr>\n",
              "    <tr>\n",
              "      <th>2</th>\n",
              "      <td>Rostov oblast</td>\n",
              "      <td>Audio and video</td>\n",
              "      <td>Consumer electronics</td>\n",
              "      <td>Private</td>\n",
              "      <td>1</td>\n",
              "      <td>4000.0</td>\n",
              "      <td>В хорошем состоянии, домашний кинотеатр с blu ...</td>\n",
              "      <td>Philips bluray</td>\n",
              "      <td>Видео, DVD и Blu-ray плееры</td>\n",
              "      <td></td>\n",
              "      <td></td>\n",
              "      <td>17</td>\n",
              "      <td>2</td>\n",
              "      <td>5</td>\n",
              "      <td>0</td>\n",
              "      <td>0</td>\n",
              "      <td>9</td>\n",
              "      <td>False</td>\n",
              "      <td>3032.0</td>\n",
              "      <td>Okay</td>\n",
              "    </tr>\n",
              "    <tr>\n",
              "      <th>3</th>\n",
              "      <td>Tatarstan</td>\n",
              "      <td>Children's products and toys</td>\n",
              "      <td>Personal belongings</td>\n",
              "      <td>Company</td>\n",
              "      <td>0</td>\n",
              "      <td>2200.0</td>\n",
              "      <td>Продам кресло от0-25кг</td>\n",
              "      <td>Автокресло</td>\n",
              "      <td>Автомобильные кресла</td>\n",
              "      <td></td>\n",
              "      <td></td>\n",
              "      <td>3</td>\n",
              "      <td>1</td>\n",
              "      <td>2</td>\n",
              "      <td>0</td>\n",
              "      <td>0</td>\n",
              "      <td>286</td>\n",
              "      <td>False</td>\n",
              "      <td>796.0</td>\n",
              "      <td>Good</td>\n",
              "    </tr>\n",
              "    <tr>\n",
              "      <th>4</th>\n",
              "      <td>Volgograd oblast</td>\n",
              "      <td>Cars</td>\n",
              "      <td>Transport</td>\n",
              "      <td>Private</td>\n",
              "      <td>0</td>\n",
              "      <td>40000.0</td>\n",
              "      <td>Все вопросы по телефону.</td>\n",
              "      <td>ВАЗ 2110, 2003</td>\n",
              "      <td>С пробегом</td>\n",
              "      <td>ВАЗ (LADA)</td>\n",
              "      <td>2110</td>\n",
              "      <td>4</td>\n",
              "      <td>3</td>\n",
              "      <td>2</td>\n",
              "      <td>2</td>\n",
              "      <td>1</td>\n",
              "      <td>3</td>\n",
              "      <td>False</td>\n",
              "      <td>2264.0</td>\n",
              "      <td>Poor</td>\n",
              "    </tr>\n",
              "  </tbody>\n",
              "</table>\n",
              "</div>"
            ],
            "text/plain": [
              "           region_en              category_name_en  ... image_top_1 deal_class_5\n",
              "0  Sverdlovsk oblast  Children's products and toys  ...      1008.0         Poor\n",
              "1      Samara oblast        Furniture and interior  ...       692.0         Poor\n",
              "2      Rostov oblast               Audio and video  ...      3032.0         Okay\n",
              "3          Tatarstan  Children's products and toys  ...       796.0         Good\n",
              "4   Volgograd oblast                          Cars  ...      2264.0         Poor\n",
              "\n",
              "[5 rows x 20 columns]"
            ]
          },
          "metadata": {
            "tags": []
          },
          "execution_count": 8
        }
      ]
    },
    {
      "cell_type": "markdown",
      "metadata": {
        "id": "LBY5PVMoEuvv",
        "colab_type": "text"
      },
      "source": [
        ""
      ]
    },
    {
      "cell_type": "code",
      "metadata": {
        "id": "LlAgt2jcNqBj",
        "colab_type": "code",
        "colab": {
          "base_uri": "https://localhost:8080/",
          "height": 423
        },
        "outputId": "c2e5401c-afe9-4787-bda8-ad1b47137855"
      },
      "source": [
        "X = df_train[['region_en','category_name_en','user_type','weekend','price','description','description_len','title','title_len','param_1_len','param_2_len','param_3_len','param_1','param_2','param_3']]\n",
        "y = df_train[['deal_class_5']]\n",
        "X_enc = pd.get_dummies(X, columns=['region_en','user_type','category_name_en'], drop_first = True)\n",
        "X_enc.head()"
      ],
      "execution_count": null,
      "outputs": [
        {
          "output_type": "execute_result",
          "data": {
            "text/html": [
              "<div>\n",
              "<style scoped>\n",
              "    .dataframe tbody tr th:only-of-type {\n",
              "        vertical-align: middle;\n",
              "    }\n",
              "\n",
              "    .dataframe tbody tr th {\n",
              "        vertical-align: top;\n",
              "    }\n",
              "\n",
              "    .dataframe thead th {\n",
              "        text-align: right;\n",
              "    }\n",
              "</style>\n",
              "<table border=\"1\" class=\"dataframe\">\n",
              "  <thead>\n",
              "    <tr style=\"text-align: right;\">\n",
              "      <th></th>\n",
              "      <th>weekend</th>\n",
              "      <th>price</th>\n",
              "      <th>description</th>\n",
              "      <th>description_len</th>\n",
              "      <th>title</th>\n",
              "      <th>title_len</th>\n",
              "      <th>param_1_len</th>\n",
              "      <th>param_2_len</th>\n",
              "      <th>param_3_len</th>\n",
              "      <th>param_1</th>\n",
              "      <th>param_2</th>\n",
              "      <th>param_3</th>\n",
              "      <th>region_en_Bashkortostan</th>\n",
              "      <th>region_en_Belgorod oblast</th>\n",
              "      <th>region_en_Chelyabinsk oblast</th>\n",
              "      <th>region_en_Irkutsk oblast</th>\n",
              "      <th>region_en_Kaliningrad oblast</th>\n",
              "      <th>region_en_Kemerovo oblast</th>\n",
              "      <th>region_en_Khanty-Mansi Autonomous Okrug</th>\n",
              "      <th>region_en_Krasnodar Krai</th>\n",
              "      <th>region_en_Krasnoyarsk Krai</th>\n",
              "      <th>region_en_Nizhny Novgorod oblast</th>\n",
              "      <th>region_en_Novosibirsk oblast</th>\n",
              "      <th>region_en_Omsk oblast</th>\n",
              "      <th>region_en_Orenburg oblast</th>\n",
              "      <th>region_en_Perm Krai</th>\n",
              "      <th>region_en_Rostov oblast</th>\n",
              "      <th>region_en_Samara oblast</th>\n",
              "      <th>region_en_Saratov oblast</th>\n",
              "      <th>region_en_Stavropol Krai</th>\n",
              "      <th>region_en_Sverdlovsk oblast</th>\n",
              "      <th>region_en_Tatarstan</th>\n",
              "      <th>region_en_Tula oblast</th>\n",
              "      <th>region_en_Tyumen oblast</th>\n",
              "      <th>region_en_Udmurtia</th>\n",
              "      <th>region_en_Vladimir oblast</th>\n",
              "      <th>region_en_Volgograd oblast</th>\n",
              "      <th>region_en_Voronezh oblast</th>\n",
              "      <th>region_en_Yaroslavl oblast</th>\n",
              "      <th>user_type_Private</th>\n",
              "      <th>...</th>\n",
              "      <th>category_name_en_Cars</th>\n",
              "      <th>category_name_en_Cats</th>\n",
              "      <th>category_name_en_Children's clothing and shoes</th>\n",
              "      <th>category_name_en_Children's products and toys</th>\n",
              "      <th>category_name_en_Clothing, shoes, accessories</th>\n",
              "      <th>category_name_en_Collecting</th>\n",
              "      <th>category_name_en_Commercial property</th>\n",
              "      <th>category_name_en_Desktop computers</th>\n",
              "      <th>category_name_en_Dogs</th>\n",
              "      <th>category_name_en_Equipment for business</th>\n",
              "      <th>category_name_en_Food</th>\n",
              "      <th>category_name_en_Furniture and interior</th>\n",
              "      <th>category_name_en_Games, consoles and software</th>\n",
              "      <th>category_name_en_Garages and Parking spaces</th>\n",
              "      <th>category_name_en_Health and beauty</th>\n",
              "      <th>category_name_en_Houses, villas, cottages</th>\n",
              "      <th>category_name_en_Hunting and fishing</th>\n",
              "      <th>category_name_en_Land</th>\n",
              "      <th>category_name_en_Laptops</th>\n",
              "      <th>category_name_en_Motorcycles and bikes</th>\n",
              "      <th>category_name_en_Musical instruments</th>\n",
              "      <th>category_name_en_Offer services</th>\n",
              "      <th>category_name_en_Office equipment and consumables</th>\n",
              "      <th>category_name_en_Other animals</th>\n",
              "      <th>category_name_en_Pet products</th>\n",
              "      <th>category_name_en_Phones</th>\n",
              "      <th>category_name_en_Photo</th>\n",
              "      <th>category_name_en_Plants</th>\n",
              "      <th>category_name_en_Products for computer</th>\n",
              "      <th>category_name_en_Property abroad</th>\n",
              "      <th>category_name_en_Ready business</th>\n",
              "      <th>category_name_en_Repair and construction</th>\n",
              "      <th>category_name_en_Room</th>\n",
              "      <th>category_name_en_Sports and recreation</th>\n",
              "      <th>category_name_en_Tablets and e-books</th>\n",
              "      <th>category_name_en_Tableware and goods for kitchen</th>\n",
              "      <th>category_name_en_Tickets and travel</th>\n",
              "      <th>category_name_en_Trucks and buses</th>\n",
              "      <th>category_name_en_Watches and jewelry</th>\n",
              "      <th>category_name_en_Water transport</th>\n",
              "    </tr>\n",
              "  </thead>\n",
              "  <tbody>\n",
              "    <tr>\n",
              "      <th>0</th>\n",
              "      <td>0</td>\n",
              "      <td>400.0</td>\n",
              "      <td>Кокон для сна малыша,пользовались меньше месяц...</td>\n",
              "      <td>7</td>\n",
              "      <td>Кокоби(кокон для сна)</td>\n",
              "      <td>3</td>\n",
              "      <td>2</td>\n",
              "      <td>0</td>\n",
              "      <td>0</td>\n",
              "      <td>Постельные принадлежности</td>\n",
              "      <td></td>\n",
              "      <td></td>\n",
              "      <td>0</td>\n",
              "      <td>0</td>\n",
              "      <td>0</td>\n",
              "      <td>0</td>\n",
              "      <td>0</td>\n",
              "      <td>0</td>\n",
              "      <td>0</td>\n",
              "      <td>0</td>\n",
              "      <td>0</td>\n",
              "      <td>0</td>\n",
              "      <td>0</td>\n",
              "      <td>0</td>\n",
              "      <td>0</td>\n",
              "      <td>0</td>\n",
              "      <td>0</td>\n",
              "      <td>0</td>\n",
              "      <td>0</td>\n",
              "      <td>0</td>\n",
              "      <td>1</td>\n",
              "      <td>0</td>\n",
              "      <td>0</td>\n",
              "      <td>0</td>\n",
              "      <td>0</td>\n",
              "      <td>0</td>\n",
              "      <td>0</td>\n",
              "      <td>0</td>\n",
              "      <td>0</td>\n",
              "      <td>1</td>\n",
              "      <td>...</td>\n",
              "      <td>0</td>\n",
              "      <td>0</td>\n",
              "      <td>0</td>\n",
              "      <td>1</td>\n",
              "      <td>0</td>\n",
              "      <td>0</td>\n",
              "      <td>0</td>\n",
              "      <td>0</td>\n",
              "      <td>0</td>\n",
              "      <td>0</td>\n",
              "      <td>0</td>\n",
              "      <td>0</td>\n",
              "      <td>0</td>\n",
              "      <td>0</td>\n",
              "      <td>0</td>\n",
              "      <td>0</td>\n",
              "      <td>0</td>\n",
              "      <td>0</td>\n",
              "      <td>0</td>\n",
              "      <td>0</td>\n",
              "      <td>0</td>\n",
              "      <td>0</td>\n",
              "      <td>0</td>\n",
              "      <td>0</td>\n",
              "      <td>0</td>\n",
              "      <td>0</td>\n",
              "      <td>0</td>\n",
              "      <td>0</td>\n",
              "      <td>0</td>\n",
              "      <td>0</td>\n",
              "      <td>0</td>\n",
              "      <td>0</td>\n",
              "      <td>0</td>\n",
              "      <td>0</td>\n",
              "      <td>0</td>\n",
              "      <td>0</td>\n",
              "      <td>0</td>\n",
              "      <td>0</td>\n",
              "      <td>0</td>\n",
              "      <td>0</td>\n",
              "    </tr>\n",
              "    <tr>\n",
              "      <th>1</th>\n",
              "      <td>1</td>\n",
              "      <td>3000.0</td>\n",
              "      <td>Стойка для одежды, под вешалки. С бутика.</td>\n",
              "      <td>7</td>\n",
              "      <td>Стойка для Одежды</td>\n",
              "      <td>3</td>\n",
              "      <td>1</td>\n",
              "      <td>0</td>\n",
              "      <td>0</td>\n",
              "      <td>Другое</td>\n",
              "      <td></td>\n",
              "      <td></td>\n",
              "      <td>0</td>\n",
              "      <td>0</td>\n",
              "      <td>0</td>\n",
              "      <td>0</td>\n",
              "      <td>0</td>\n",
              "      <td>0</td>\n",
              "      <td>0</td>\n",
              "      <td>0</td>\n",
              "      <td>0</td>\n",
              "      <td>0</td>\n",
              "      <td>0</td>\n",
              "      <td>0</td>\n",
              "      <td>0</td>\n",
              "      <td>0</td>\n",
              "      <td>0</td>\n",
              "      <td>1</td>\n",
              "      <td>0</td>\n",
              "      <td>0</td>\n",
              "      <td>0</td>\n",
              "      <td>0</td>\n",
              "      <td>0</td>\n",
              "      <td>0</td>\n",
              "      <td>0</td>\n",
              "      <td>0</td>\n",
              "      <td>0</td>\n",
              "      <td>0</td>\n",
              "      <td>0</td>\n",
              "      <td>1</td>\n",
              "      <td>...</td>\n",
              "      <td>0</td>\n",
              "      <td>0</td>\n",
              "      <td>0</td>\n",
              "      <td>0</td>\n",
              "      <td>0</td>\n",
              "      <td>0</td>\n",
              "      <td>0</td>\n",
              "      <td>0</td>\n",
              "      <td>0</td>\n",
              "      <td>0</td>\n",
              "      <td>0</td>\n",
              "      <td>1</td>\n",
              "      <td>0</td>\n",
              "      <td>0</td>\n",
              "      <td>0</td>\n",
              "      <td>0</td>\n",
              "      <td>0</td>\n",
              "      <td>0</td>\n",
              "      <td>0</td>\n",
              "      <td>0</td>\n",
              "      <td>0</td>\n",
              "      <td>0</td>\n",
              "      <td>0</td>\n",
              "      <td>0</td>\n",
              "      <td>0</td>\n",
              "      <td>0</td>\n",
              "      <td>0</td>\n",
              "      <td>0</td>\n",
              "      <td>0</td>\n",
              "      <td>0</td>\n",
              "      <td>0</td>\n",
              "      <td>0</td>\n",
              "      <td>0</td>\n",
              "      <td>0</td>\n",
              "      <td>0</td>\n",
              "      <td>0</td>\n",
              "      <td>0</td>\n",
              "      <td>0</td>\n",
              "      <td>0</td>\n",
              "      <td>0</td>\n",
              "    </tr>\n",
              "    <tr>\n",
              "      <th>2</th>\n",
              "      <td>1</td>\n",
              "      <td>4000.0</td>\n",
              "      <td>В хорошем состоянии, домашний кинотеатр с blu ...</td>\n",
              "      <td>17</td>\n",
              "      <td>Philips bluray</td>\n",
              "      <td>2</td>\n",
              "      <td>5</td>\n",
              "      <td>0</td>\n",
              "      <td>0</td>\n",
              "      <td>Видео, DVD и Blu-ray плееры</td>\n",
              "      <td></td>\n",
              "      <td></td>\n",
              "      <td>0</td>\n",
              "      <td>0</td>\n",
              "      <td>0</td>\n",
              "      <td>0</td>\n",
              "      <td>0</td>\n",
              "      <td>0</td>\n",
              "      <td>0</td>\n",
              "      <td>0</td>\n",
              "      <td>0</td>\n",
              "      <td>0</td>\n",
              "      <td>0</td>\n",
              "      <td>0</td>\n",
              "      <td>0</td>\n",
              "      <td>0</td>\n",
              "      <td>1</td>\n",
              "      <td>0</td>\n",
              "      <td>0</td>\n",
              "      <td>0</td>\n",
              "      <td>0</td>\n",
              "      <td>0</td>\n",
              "      <td>0</td>\n",
              "      <td>0</td>\n",
              "      <td>0</td>\n",
              "      <td>0</td>\n",
              "      <td>0</td>\n",
              "      <td>0</td>\n",
              "      <td>0</td>\n",
              "      <td>1</td>\n",
              "      <td>...</td>\n",
              "      <td>0</td>\n",
              "      <td>0</td>\n",
              "      <td>0</td>\n",
              "      <td>0</td>\n",
              "      <td>0</td>\n",
              "      <td>0</td>\n",
              "      <td>0</td>\n",
              "      <td>0</td>\n",
              "      <td>0</td>\n",
              "      <td>0</td>\n",
              "      <td>0</td>\n",
              "      <td>0</td>\n",
              "      <td>0</td>\n",
              "      <td>0</td>\n",
              "      <td>0</td>\n",
              "      <td>0</td>\n",
              "      <td>0</td>\n",
              "      <td>0</td>\n",
              "      <td>0</td>\n",
              "      <td>0</td>\n",
              "      <td>0</td>\n",
              "      <td>0</td>\n",
              "      <td>0</td>\n",
              "      <td>0</td>\n",
              "      <td>0</td>\n",
              "      <td>0</td>\n",
              "      <td>0</td>\n",
              "      <td>0</td>\n",
              "      <td>0</td>\n",
              "      <td>0</td>\n",
              "      <td>0</td>\n",
              "      <td>0</td>\n",
              "      <td>0</td>\n",
              "      <td>0</td>\n",
              "      <td>0</td>\n",
              "      <td>0</td>\n",
              "      <td>0</td>\n",
              "      <td>0</td>\n",
              "      <td>0</td>\n",
              "      <td>0</td>\n",
              "    </tr>\n",
              "    <tr>\n",
              "      <th>3</th>\n",
              "      <td>0</td>\n",
              "      <td>2200.0</td>\n",
              "      <td>Продам кресло от0-25кг</td>\n",
              "      <td>3</td>\n",
              "      <td>Автокресло</td>\n",
              "      <td>1</td>\n",
              "      <td>2</td>\n",
              "      <td>0</td>\n",
              "      <td>0</td>\n",
              "      <td>Автомобильные кресла</td>\n",
              "      <td></td>\n",
              "      <td></td>\n",
              "      <td>0</td>\n",
              "      <td>0</td>\n",
              "      <td>0</td>\n",
              "      <td>0</td>\n",
              "      <td>0</td>\n",
              "      <td>0</td>\n",
              "      <td>0</td>\n",
              "      <td>0</td>\n",
              "      <td>0</td>\n",
              "      <td>0</td>\n",
              "      <td>0</td>\n",
              "      <td>0</td>\n",
              "      <td>0</td>\n",
              "      <td>0</td>\n",
              "      <td>0</td>\n",
              "      <td>0</td>\n",
              "      <td>0</td>\n",
              "      <td>0</td>\n",
              "      <td>0</td>\n",
              "      <td>1</td>\n",
              "      <td>0</td>\n",
              "      <td>0</td>\n",
              "      <td>0</td>\n",
              "      <td>0</td>\n",
              "      <td>0</td>\n",
              "      <td>0</td>\n",
              "      <td>0</td>\n",
              "      <td>0</td>\n",
              "      <td>...</td>\n",
              "      <td>0</td>\n",
              "      <td>0</td>\n",
              "      <td>0</td>\n",
              "      <td>1</td>\n",
              "      <td>0</td>\n",
              "      <td>0</td>\n",
              "      <td>0</td>\n",
              "      <td>0</td>\n",
              "      <td>0</td>\n",
              "      <td>0</td>\n",
              "      <td>0</td>\n",
              "      <td>0</td>\n",
              "      <td>0</td>\n",
              "      <td>0</td>\n",
              "      <td>0</td>\n",
              "      <td>0</td>\n",
              "      <td>0</td>\n",
              "      <td>0</td>\n",
              "      <td>0</td>\n",
              "      <td>0</td>\n",
              "      <td>0</td>\n",
              "      <td>0</td>\n",
              "      <td>0</td>\n",
              "      <td>0</td>\n",
              "      <td>0</td>\n",
              "      <td>0</td>\n",
              "      <td>0</td>\n",
              "      <td>0</td>\n",
              "      <td>0</td>\n",
              "      <td>0</td>\n",
              "      <td>0</td>\n",
              "      <td>0</td>\n",
              "      <td>0</td>\n",
              "      <td>0</td>\n",
              "      <td>0</td>\n",
              "      <td>0</td>\n",
              "      <td>0</td>\n",
              "      <td>0</td>\n",
              "      <td>0</td>\n",
              "      <td>0</td>\n",
              "    </tr>\n",
              "    <tr>\n",
              "      <th>4</th>\n",
              "      <td>0</td>\n",
              "      <td>40000.0</td>\n",
              "      <td>Все вопросы по телефону.</td>\n",
              "      <td>4</td>\n",
              "      <td>ВАЗ 2110, 2003</td>\n",
              "      <td>3</td>\n",
              "      <td>2</td>\n",
              "      <td>2</td>\n",
              "      <td>1</td>\n",
              "      <td>С пробегом</td>\n",
              "      <td>ВАЗ (LADA)</td>\n",
              "      <td>2110</td>\n",
              "      <td>0</td>\n",
              "      <td>0</td>\n",
              "      <td>0</td>\n",
              "      <td>0</td>\n",
              "      <td>0</td>\n",
              "      <td>0</td>\n",
              "      <td>0</td>\n",
              "      <td>0</td>\n",
              "      <td>0</td>\n",
              "      <td>0</td>\n",
              "      <td>0</td>\n",
              "      <td>0</td>\n",
              "      <td>0</td>\n",
              "      <td>0</td>\n",
              "      <td>0</td>\n",
              "      <td>0</td>\n",
              "      <td>0</td>\n",
              "      <td>0</td>\n",
              "      <td>0</td>\n",
              "      <td>0</td>\n",
              "      <td>0</td>\n",
              "      <td>0</td>\n",
              "      <td>0</td>\n",
              "      <td>0</td>\n",
              "      <td>1</td>\n",
              "      <td>0</td>\n",
              "      <td>0</td>\n",
              "      <td>1</td>\n",
              "      <td>...</td>\n",
              "      <td>1</td>\n",
              "      <td>0</td>\n",
              "      <td>0</td>\n",
              "      <td>0</td>\n",
              "      <td>0</td>\n",
              "      <td>0</td>\n",
              "      <td>0</td>\n",
              "      <td>0</td>\n",
              "      <td>0</td>\n",
              "      <td>0</td>\n",
              "      <td>0</td>\n",
              "      <td>0</td>\n",
              "      <td>0</td>\n",
              "      <td>0</td>\n",
              "      <td>0</td>\n",
              "      <td>0</td>\n",
              "      <td>0</td>\n",
              "      <td>0</td>\n",
              "      <td>0</td>\n",
              "      <td>0</td>\n",
              "      <td>0</td>\n",
              "      <td>0</td>\n",
              "      <td>0</td>\n",
              "      <td>0</td>\n",
              "      <td>0</td>\n",
              "      <td>0</td>\n",
              "      <td>0</td>\n",
              "      <td>0</td>\n",
              "      <td>0</td>\n",
              "      <td>0</td>\n",
              "      <td>0</td>\n",
              "      <td>0</td>\n",
              "      <td>0</td>\n",
              "      <td>0</td>\n",
              "      <td>0</td>\n",
              "      <td>0</td>\n",
              "      <td>0</td>\n",
              "      <td>0</td>\n",
              "      <td>0</td>\n",
              "      <td>0</td>\n",
              "    </tr>\n",
              "  </tbody>\n",
              "</table>\n",
              "<p>5 rows × 87 columns</p>\n",
              "</div>"
            ],
            "text/plain": [
              "   weekend  ...  category_name_en_Water transport\n",
              "0        0  ...                                 0\n",
              "1        1  ...                                 0\n",
              "2        1  ...                                 0\n",
              "3        0  ...                                 0\n",
              "4        0  ...                                 0\n",
              "\n",
              "[5 rows x 87 columns]"
            ]
          },
          "metadata": {
            "tags": []
          },
          "execution_count": 9
        }
      ]
    },
    {
      "cell_type": "code",
      "metadata": {
        "id": "wgpmXmiGJa-g",
        "colab_type": "code",
        "colab": {}
      },
      "source": [
        "from sklearn.feature_extraction.text import CountVectorizer, TfidfVectorizer\n",
        "import re, string, timeit"
      ],
      "execution_count": null,
      "outputs": []
    },
    {
      "cell_type": "code",
      "metadata": {
        "id": "4EA9hvrIfoth",
        "colab_type": "code",
        "colab": {
          "base_uri": "https://localhost:8080/",
          "height": 34
        },
        "outputId": "80d2065b-41c7-407a-a12c-8fe07344c5fc"
      },
      "source": [
        "from keras.preprocessing import text,sequence\n",
        "from sklearn.utils import resample"
      ],
      "execution_count": null,
      "outputs": [
        {
          "output_type": "stream",
          "text": [
            "Using TensorFlow backend.\n"
          ],
          "name": "stderr"
        }
      ]
    },
    {
      "cell_type": "code",
      "metadata": {
        "id": "xSX9lNdIGlg4",
        "colab_type": "code",
        "colab": {}
      },
      "source": [
        "X_train, X_test, y_train, y_test = train_test_split(X_enc, y, test_size = 0.20, random_state = 42, stratify=y)"
      ],
      "execution_count": null,
      "outputs": []
    },
    {
      "cell_type": "code",
      "metadata": {
        "id": "m3D3ikuJGsX3",
        "colab_type": "code",
        "colab": {
          "base_uri": "https://localhost:8080/",
          "height": 323
        },
        "outputId": "986c4dd8-398a-41cd-d3dc-4d67c80021af"
      },
      "source": [
        "LE = LabelEncoder()\n",
        "y_train['deal_class_5'] = LE.fit_transform(y_train.deal_class_5)\n",
        "y_test['deal_class_5'] = LE.fit_transform(y_test.deal_class_5)\n",
        "X_train['deal_class_5'] = y_train['deal_class_5']"
      ],
      "execution_count": null,
      "outputs": [
        {
          "output_type": "stream",
          "text": [
            "/usr/local/lib/python3.6/dist-packages/ipykernel_launcher.py:2: SettingWithCopyWarning: \n",
            "A value is trying to be set on a copy of a slice from a DataFrame.\n",
            "Try using .loc[row_indexer,col_indexer] = value instead\n",
            "\n",
            "See the caveats in the documentation: https://pandas.pydata.org/pandas-docs/stable/user_guide/indexing.html#returning-a-view-versus-a-copy\n",
            "  \n",
            "/usr/local/lib/python3.6/dist-packages/ipykernel_launcher.py:3: SettingWithCopyWarning: \n",
            "A value is trying to be set on a copy of a slice from a DataFrame.\n",
            "Try using .loc[row_indexer,col_indexer] = value instead\n",
            "\n",
            "See the caveats in the documentation: https://pandas.pydata.org/pandas-docs/stable/user_guide/indexing.html#returning-a-view-versus-a-copy\n",
            "  This is separate from the ipykernel package so we can avoid doing imports until\n",
            "/usr/local/lib/python3.6/dist-packages/ipykernel_launcher.py:4: SettingWithCopyWarning: \n",
            "A value is trying to be set on a copy of a slice from a DataFrame.\n",
            "Try using .loc[row_indexer,col_indexer] = value instead\n",
            "\n",
            "See the caveats in the documentation: https://pandas.pydata.org/pandas-docs/stable/user_guide/indexing.html#returning-a-view-versus-a-copy\n",
            "  after removing the cwd from sys.path.\n"
          ],
          "name": "stderr"
        }
      ]
    },
    {
      "cell_type": "markdown",
      "metadata": {
        "id": "9QkNv6L9ZjoX",
        "colab_type": "text"
      },
      "source": [
        "## Resampling the data"
      ]
    },
    {
      "cell_type": "code",
      "metadata": {
        "id": "n46sXVMmG0kp",
        "colab_type": "code",
        "colab": {
          "base_uri": "https://localhost:8080/",
          "height": 85
        },
        "outputId": "57db633d-6dcb-41ce-e604-4193ec3a6ccc"
      },
      "source": [
        "df_2 = X_train[X_train['deal_class_5']==2]\n",
        "df_1= X_train[X_train['deal_class_5']==1]\n",
        "df_0= X_train[X_train['deal_class_5']==0]\n",
        "# Downsample majority class\n",
        "df_2 = resample(df_2, \n",
        "                                 replace=False,    # sample without replacement\n",
        "                                 n_samples=700000,     # to match minority class\n",
        "                                 random_state=123) # reproducible results\n",
        "df_1 = resample(df_1, \n",
        "                                 replace=True,    # sample without replacement\n",
        "                                 n_samples=700000,     # to match minority class\n",
        "                                 random_state=123) \n",
        "df_0 = resample(df_0, \n",
        "                                 replace=True,    # sample without replacement\n",
        "                                 n_samples=700000,     # to match minority class\n",
        "                                 random_state=123) \n",
        "# Combine minority class with downsampled majority class\n",
        "df_downsampled = pd.concat([df_2, df_1, df_0])\n",
        " \n",
        "# Display new class counts\n",
        "df_downsampled.deal_class_5.value_counts()"
      ],
      "execution_count": null,
      "outputs": [
        {
          "output_type": "execute_result",
          "data": {
            "text/plain": [
              "2    700000\n",
              "1    700000\n",
              "0    700000\n",
              "Name: deal_class_5, dtype: int64"
            ]
          },
          "metadata": {
            "tags": []
          },
          "execution_count": 16
        }
      ]
    },
    {
      "cell_type": "code",
      "metadata": {
        "id": "5CHMj7jiG5Qe",
        "colab_type": "code",
        "colab": {}
      },
      "source": [
        "y_train = df_downsampled['deal_class_5']\n",
        "X_train = df_downsampled.drop(columns=['deal_class_5'])"
      ],
      "execution_count": null,
      "outputs": []
    },
    {
      "cell_type": "markdown",
      "metadata": {
        "id": "iTxTG4jCZqRW",
        "colab_type": "text"
      },
      "source": [
        "## Transformer Embeddings"
      ]
    },
    {
      "cell_type": "code",
      "metadata": {
        "id": "-_l-wge0OaJB",
        "colab_type": "code",
        "colab": {
          "base_uri": "https://localhost:8080/",
          "height": 615
        },
        "outputId": "53456acf-469f-4098-91fc-fa8745594234"
      },
      "source": [
        "!pip install transformers"
      ],
      "execution_count": null,
      "outputs": [
        {
          "output_type": "stream",
          "text": [
            "Collecting transformers\n",
            "\u001b[?25l  Downloading https://files.pythonhosted.org/packages/27/3c/91ed8f5c4e7ef3227b4119200fc0ed4b4fd965b1f0172021c25701087825/transformers-3.0.2-py3-none-any.whl (769kB)\n",
            "\u001b[K     |████████████████████████████████| 778kB 3.5MB/s \n",
            "\u001b[?25hRequirement already satisfied: packaging in /usr/local/lib/python3.6/dist-packages (from transformers) (20.4)\n",
            "Requirement already satisfied: filelock in /usr/local/lib/python3.6/dist-packages (from transformers) (3.0.12)\n",
            "Requirement already satisfied: regex!=2019.12.17 in /usr/local/lib/python3.6/dist-packages (from transformers) (2019.12.20)\n",
            "Collecting sacremoses\n",
            "\u001b[?25l  Downloading https://files.pythonhosted.org/packages/7d/34/09d19aff26edcc8eb2a01bed8e98f13a1537005d31e95233fd48216eed10/sacremoses-0.0.43.tar.gz (883kB)\n",
            "\u001b[K     |████████████████████████████████| 890kB 16.7MB/s \n",
            "\u001b[?25hCollecting tokenizers==0.8.1.rc1\n",
            "\u001b[?25l  Downloading https://files.pythonhosted.org/packages/40/d0/30d5f8d221a0ed981a186c8eb986ce1c94e3a6e87f994eae9f4aa5250217/tokenizers-0.8.1rc1-cp36-cp36m-manylinux1_x86_64.whl (3.0MB)\n",
            "\u001b[K     |████████████████████████████████| 3.0MB 14.0MB/s \n",
            "\u001b[?25hCollecting sentencepiece!=0.1.92\n",
            "\u001b[?25l  Downloading https://files.pythonhosted.org/packages/d4/a4/d0a884c4300004a78cca907a6ff9a5e9fe4f090f5d95ab341c53d28cbc58/sentencepiece-0.1.91-cp36-cp36m-manylinux1_x86_64.whl (1.1MB)\n",
            "\u001b[K     |████████████████████████████████| 1.1MB 46.4MB/s \n",
            "\u001b[?25hRequirement already satisfied: requests in /usr/local/lib/python3.6/dist-packages (from transformers) (2.23.0)\n",
            "Requirement already satisfied: tqdm>=4.27 in /usr/local/lib/python3.6/dist-packages (from transformers) (4.41.1)\n",
            "Requirement already satisfied: dataclasses; python_version < \"3.7\" in /usr/local/lib/python3.6/dist-packages (from transformers) (0.7)\n",
            "Requirement already satisfied: numpy in /usr/local/lib/python3.6/dist-packages (from transformers) (1.18.5)\n",
            "Requirement already satisfied: pyparsing>=2.0.2 in /usr/local/lib/python3.6/dist-packages (from packaging->transformers) (2.4.7)\n",
            "Requirement already satisfied: six in /usr/local/lib/python3.6/dist-packages (from packaging->transformers) (1.12.0)\n",
            "Requirement already satisfied: click in /usr/local/lib/python3.6/dist-packages (from sacremoses->transformers) (7.1.2)\n",
            "Requirement already satisfied: joblib in /usr/local/lib/python3.6/dist-packages (from sacremoses->transformers) (0.16.0)\n",
            "Requirement already satisfied: urllib3!=1.25.0,!=1.25.1,<1.26,>=1.21.1 in /usr/local/lib/python3.6/dist-packages (from requests->transformers) (1.24.3)\n",
            "Requirement already satisfied: idna<3,>=2.5 in /usr/local/lib/python3.6/dist-packages (from requests->transformers) (2.10)\n",
            "Requirement already satisfied: certifi>=2017.4.17 in /usr/local/lib/python3.6/dist-packages (from requests->transformers) (2020.6.20)\n",
            "Requirement already satisfied: chardet<4,>=3.0.2 in /usr/local/lib/python3.6/dist-packages (from requests->transformers) (3.0.4)\n",
            "Building wheels for collected packages: sacremoses\n",
            "  Building wheel for sacremoses (setup.py) ... \u001b[?25l\u001b[?25hdone\n",
            "  Created wheel for sacremoses: filename=sacremoses-0.0.43-cp36-none-any.whl size=893260 sha256=2c209483940651538ee99eedf47bdd4dc5fa1dc720529fee4272071b50c0341c\n",
            "  Stored in directory: /root/.cache/pip/wheels/29/3c/fd/7ce5c3f0666dab31a50123635e6fb5e19ceb42ce38d4e58f45\n",
            "Successfully built sacremoses\n",
            "Installing collected packages: sacremoses, tokenizers, sentencepiece, transformers\n",
            "Successfully installed sacremoses-0.0.43 sentencepiece-0.1.91 tokenizers-0.8.1rc1 transformers-3.0.2\n"
          ],
          "name": "stdout"
        }
      ]
    },
    {
      "cell_type": "code",
      "metadata": {
        "id": "cduWEN8EObrG",
        "colab_type": "code",
        "colab": {}
      },
      "source": [
        "import tensorflow as tf\n",
        "import transformers\n",
        "from numpy import random\n",
        "from transformers import AutoTokenizer"
      ],
      "execution_count": null,
      "outputs": []
    },
    {
      "cell_type": "markdown",
      "metadata": {
        "id": "yY3JBtBnZuAH",
        "colab_type": "text"
      },
      "source": [
        "Download the tokenizer"
      ]
    },
    {
      "cell_type": "code",
      "metadata": {
        "id": "O9QlYTz8Om1m",
        "colab_type": "code",
        "colab": {
          "base_uri": "https://localhost:8080/",
          "height": 213,
          "referenced_widgets": [
            "a6f655ea8c234c1da5f3835034d334d0",
            "9d6488ba2b1542b899768359fb82834b",
            "5466150f9bb34924ad070485f086607f",
            "12951be007c34f7e8398bf741a1b11e1",
            "4935f52bd78b4c69b2a8ad969f5f6caf",
            "e8bcde0f7270427c862568f330f0d792",
            "ea4eff6aad634fe1be706d141bdac2e3",
            "3c88eba1b5444cf9b5fdbc1c372b5ba1",
            "514743747d834d03b42764f742dff7f8",
            "41a249c25b514349a947669e6d0fbe6c",
            "1158025c6a4f4181b2c5b433a1683f8e",
            "200ef8a05a5e47bd916810e611b634ce",
            "527ae032bf5945b7b910c8477d796991",
            "c6dfe0c4edd34f8a8a3aa274cc2441db",
            "0cced715de214fd5b2caff0c26cec922",
            "37137c2d6a264df187e5ff84d8936dd0",
            "3946b29d330c436e92db9900b896acf3",
            "2dc6bd7f9fe84bc389465523a1a1ddcd",
            "2901df9630c94141810ad0d25e4ab955",
            "eab6438cb98b4f34bb8e04642864ce31",
            "254512fe80294f8c9c005ec418184856",
            "ef5b154ae50d490c9bdde228afca1cc0",
            "6745489d632a493fbe19564e69cdfae5",
            "40146936514941a484bac72fc15ec4cc",
            "87323595d3aa400e943ab404e9c3042a",
            "87235cca7d1e41d3acc219d86e29926c",
            "fbc02efb3e98463e8eda72cdd567c1fc",
            "d819bc539c2f49599848b153797c0e7d",
            "2f1db9328b5d47d4af0e70a4e62a71b7",
            "7a228e448972462f91c8dc4f622fd32b",
            "722e9c62796847d1b13b4ee2ab08e738",
            "7526554bfec44a02965a78e160213c0d"
          ]
        },
        "outputId": "7ea15466-3f07-4661-ddd5-ec657faf3fd0"
      },
      "source": [
        "tokenizer = AutoTokenizer.from_pretrained(\"DeepPavlov/rubert-base-cased\")"
      ],
      "execution_count": null,
      "outputs": [
        {
          "output_type": "display_data",
          "data": {
            "application/vnd.jupyter.widget-view+json": {
              "model_id": "a6f655ea8c234c1da5f3835034d334d0",
              "version_minor": 0,
              "version_major": 2
            },
            "text/plain": [
              "HBox(children=(FloatProgress(value=0.0, description='Downloading', max=642.0, style=ProgressStyle(description_…"
            ]
          },
          "metadata": {
            "tags": []
          }
        },
        {
          "output_type": "stream",
          "text": [
            "\n"
          ],
          "name": "stdout"
        },
        {
          "output_type": "display_data",
          "data": {
            "application/vnd.jupyter.widget-view+json": {
              "model_id": "514743747d834d03b42764f742dff7f8",
              "version_minor": 0,
              "version_major": 2
            },
            "text/plain": [
              "HBox(children=(FloatProgress(value=0.0, description='Downloading', max=1649718.0, style=ProgressStyle(descript…"
            ]
          },
          "metadata": {
            "tags": []
          }
        },
        {
          "output_type": "stream",
          "text": [
            "\n"
          ],
          "name": "stdout"
        },
        {
          "output_type": "display_data",
          "data": {
            "application/vnd.jupyter.widget-view+json": {
              "model_id": "3946b29d330c436e92db9900b896acf3",
              "version_minor": 0,
              "version_major": 2
            },
            "text/plain": [
              "HBox(children=(FloatProgress(value=0.0, description='Downloading', max=112.0, style=ProgressStyle(description_…"
            ]
          },
          "metadata": {
            "tags": []
          }
        },
        {
          "output_type": "stream",
          "text": [
            "\n"
          ],
          "name": "stdout"
        },
        {
          "output_type": "display_data",
          "data": {
            "application/vnd.jupyter.widget-view+json": {
              "model_id": "87323595d3aa400e943ab404e9c3042a",
              "version_minor": 0,
              "version_major": 2
            },
            "text/plain": [
              "HBox(children=(FloatProgress(value=0.0, description='Downloading', max=2.0, style=ProgressStyle(description_wi…"
            ]
          },
          "metadata": {
            "tags": []
          }
        },
        {
          "output_type": "stream",
          "text": [
            "\n"
          ],
          "name": "stdout"
        }
      ]
    },
    {
      "cell_type": "markdown",
      "metadata": {
        "id": "bMYtxvTVZ0-K",
        "colab_type": "text"
      },
      "source": [
        "Tokenize title and description"
      ]
    },
    {
      "cell_type": "code",
      "metadata": {
        "id": "w3zYujPBZbUi",
        "colab_type": "code",
        "colab": {}
      },
      "source": [
        "enc_desc = X_train['description']\n",
        "enc_title = X_train['title']"
      ],
      "execution_count": null,
      "outputs": []
    },
    {
      "cell_type": "code",
      "metadata": {
        "id": "mDib25fhZIeD",
        "colab_type": "code",
        "colab": {}
      },
      "source": [
        "encode = lambda x: tokenizer.encode(x)"
      ],
      "execution_count": null,
      "outputs": []
    },
    {
      "cell_type": "code",
      "metadata": {
        "id": "Xmvknvv9XEZO",
        "colab_type": "code",
        "colab": {}
      },
      "source": [
        "enc_title = enc_title.map(encode)\n",
        "enc_desc = enc_desc.map(encode)"
      ],
      "execution_count": null,
      "outputs": []
    },
    {
      "cell_type": "code",
      "metadata": {
        "id": "2N6KnHNqpmh_",
        "colab_type": "code",
        "colab": {}
      },
      "source": [
        "X_train['embed_title'] = enc_title\n",
        "X_train['embed_desc'] = enc_desc"
      ],
      "execution_count": null,
      "outputs": []
    },
    {
      "cell_type": "code",
      "metadata": {
        "id": "duG3EFHrne1V",
        "colab_type": "code",
        "colab": {}
      },
      "source": [
        "X_test_title = X_test['title']\n",
        "X_test_desc = X_test['description']"
      ],
      "execution_count": null,
      "outputs": []
    },
    {
      "cell_type": "code",
      "metadata": {
        "id": "49Nbja2wn5w-",
        "colab_type": "code",
        "colab": {}
      },
      "source": [
        "X_test_title = X_test_title.map(encode)\n",
        "X_test_desc = X_test_desc.map(encode)"
      ],
      "execution_count": null,
      "outputs": []
    },
    {
      "cell_type": "code",
      "metadata": {
        "id": "zCb-SdCWpyxC",
        "colab_type": "code",
        "colab": {
          "base_uri": "https://localhost:8080/",
          "height": 54
        },
        "outputId": "48b53cca-4280-43c0-9b00-66238ef6b0ae"
      },
      "source": [
        "X_train.to_csv('gs://dataproc-e3bd1f7b-2e29-4da6-a5c4-077c164fd32a-us-central1/avito/tfdata/train_embed.csv',index=False)"
      ],
      "execution_count": null,
      "outputs": [
        {
          "output_type": "stream",
          "text": [
            "WARNING:google.auth._default:No project ID could be determined. Consider running `gcloud config set project` or setting the GOOGLE_CLOUD_PROJECT environment variable\n"
          ],
          "name": "stderr"
        }
      ]
    },
    {
      "cell_type": "code",
      "metadata": {
        "id": "WfjU4AnOghVP",
        "colab_type": "code",
        "colab": {}
      },
      "source": [
        "max_features = 100000\n",
        "maxlen_title = 50\n",
        "maxlen_desc = 150\n",
        "embed_size = 300"
      ],
      "execution_count": null,
      "outputs": []
    },
    {
      "cell_type": "markdown",
      "metadata": {
        "id": "sco6yYU5Z83m",
        "colab_type": "text"
      },
      "source": [
        "For getting the saved X_Train which contains the embeddings:"
      ]
    },
    {
      "cell_type": "code",
      "metadata": {
        "id": "ntbOVVfmBREd",
        "colab_type": "code",
        "colab": {}
      },
      "source": [
        "#only when newly loaded from csv\n",
        "!gsutil cp gs://dataproc-e3bd1f7b-2e29-4da6-a5c4-077c164fd32a-us-central1/avito/tfdata/train_embed.csv /train.csv\n",
        "X_train = pd.read_csv('/train.csv')\n",
        "listing = lambda x: x.strip('][').split(', ')\n",
        "X_train['embed_title'] = X_train['embed_title'].map(listing)\n",
        "X_train['embed_desc'] = X_train['embed_desc'].map(listing)"
      ],
      "execution_count": null,
      "outputs": []
    },
    {
      "cell_type": "markdown",
      "metadata": {
        "id": "DxLsahQ5aIUg",
        "colab_type": "text"
      },
      "source": [
        "Padding for title and description"
      ]
    },
    {
      "cell_type": "code",
      "metadata": {
        "id": "7vphQZGDqzmJ",
        "colab_type": "code",
        "colab": {}
      },
      "source": [
        "X_train_title = sequence.pad_sequences(X_train['embed_title'], maxlen=maxlen_title)\n",
        "X_train_desc = sequence.pad_sequences(X_train['embed_desc'], maxlen=maxlen_desc)\n",
        "X_test_title = sequence.pad_sequences(X_test_title, maxlen=maxlen_title)\n",
        "X_test_desc = sequence.pad_sequences(X_test_desc, maxlen=maxlen_desc)"
      ],
      "execution_count": null,
      "outputs": []
    },
    {
      "cell_type": "code",
      "metadata": {
        "id": "S15KyExzUA20",
        "colab_type": "code",
        "colab": {}
      },
      "source": [
        "X_train = X_train.drop(columns=['description', 'title', 'param_1', 'param_2', 'param_3', 'embed_title', 'embed_desc'])\n",
        "X_test = X_test.drop(columns=['description', 'title', 'param_1', 'param_2', 'param_3', 'embed_title', 'embed_desc'])"
      ],
      "execution_count": null,
      "outputs": []
    },
    {
      "cell_type": "code",
      "metadata": {
        "id": "wUZFEuwlLanR",
        "colab_type": "code",
        "colab": {}
      },
      "source": [
        "sc = StandardScaler()\n",
        "X_train.loc[:,[\"price\",\"description_len\",\"title_len\",\"param_1_len\",\"param_2_len\",\"param_3_len\"]] = sc.fit_transform(X_train[[\"price\",\"description_len\",\"title_len\",\"param_1_len\",\"param_2_len\",\"param_3_len\"]])\n",
        "X_test.loc[:,[\"price\",\"description_len\",\"title_len\",\"param_1_len\",\"param_2_len\",\"param_3_len\"]] = sc.transform(X_test[[\"price\",\"description_len\",\"title_len\",\"param_1_len\",\"param_2_len\",\"param_3_len\"]])\n"
      ],
      "execution_count": null,
      "outputs": []
    },
    {
      "cell_type": "code",
      "metadata": {
        "id": "ETEJ4cNyML0I",
        "colab_type": "code",
        "colab": {}
      },
      "source": [
        "X_test = X_test.to_numpy()\n",
        "X_train = X_train.to_numpy()\n",
        "y_test = pd.get_dummies(y_test, columns=['deal_class_5']).to_numpy()\n",
        "y_train = pd.get_dummies(y_train, columns=['0']).to_numpy()"
      ],
      "execution_count": null,
      "outputs": []
    },
    {
      "cell_type": "markdown",
      "metadata": {
        "id": "p16LoUTzaNZH",
        "colab_type": "text"
      },
      "source": [
        "## Tensorflow Model"
      ]
    },
    {
      "cell_type": "code",
      "metadata": {
        "id": "XaOVlML3MVnU",
        "colab_type": "code",
        "colab": {
          "base_uri": "https://localhost:8080/",
          "height": 34
        },
        "outputId": "31d61a48-cb0b-4c15-ecfb-51abb84e9e39"
      },
      "source": [
        "from sklearn import metrics\n",
        "import tensorflow as tf\n",
        "\n",
        "from tensorflow import keras as k1\n",
        "from tensorflow.keras import layers\n",
        "from tensorflow.keras import Model\n",
        "print(tf.__version__)"
      ],
      "execution_count": null,
      "outputs": [
        {
          "output_type": "stream",
          "text": [
            "2.2.0\n"
          ],
          "name": "stdout"
        }
      ]
    },
    {
      "cell_type": "code",
      "metadata": {
        "id": "NFlaRGSHMa-h",
        "colab_type": "code",
        "colab": {
          "base_uri": "https://localhost:8080/",
          "height": 309
        },
        "outputId": "eb662595-af7b-4828-ef2b-b2e30f4edce8"
      },
      "source": [
        "pip install git+https://github.com/tensorflow/docs"
      ],
      "execution_count": null,
      "outputs": [
        {
          "output_type": "stream",
          "text": [
            "Collecting git+https://github.com/tensorflow/docs\n",
            "  Cloning https://github.com/tensorflow/docs to /tmp/pip-req-build-aqunr239\n",
            "  Running command git clone -q https://github.com/tensorflow/docs /tmp/pip-req-build-aqunr239\n",
            "Requirement already satisfied: astor in /usr/local/lib/python3.6/dist-packages (from tensorflow-docs===0.0.0d41eeb858e80108db8d13ba25867757d7de0fcf9-) (0.8.1)\n",
            "Requirement already satisfied: absl-py in /usr/local/lib/python3.6/dist-packages (from tensorflow-docs===0.0.0d41eeb858e80108db8d13ba25867757d7de0fcf9-) (0.9.0)\n",
            "Requirement already satisfied: protobuf in /usr/local/lib/python3.6/dist-packages (from tensorflow-docs===0.0.0d41eeb858e80108db8d13ba25867757d7de0fcf9-) (3.12.2)\n",
            "Requirement already satisfied: pyyaml in /usr/local/lib/python3.6/dist-packages (from tensorflow-docs===0.0.0d41eeb858e80108db8d13ba25867757d7de0fcf9-) (3.13)\n",
            "Requirement already satisfied: six in /usr/local/lib/python3.6/dist-packages (from absl-py->tensorflow-docs===0.0.0d41eeb858e80108db8d13ba25867757d7de0fcf9-) (1.12.0)\n",
            "Requirement already satisfied: setuptools in /usr/local/lib/python3.6/dist-packages (from protobuf->tensorflow-docs===0.0.0d41eeb858e80108db8d13ba25867757d7de0fcf9-) (49.1.0)\n",
            "Building wheels for collected packages: tensorflow-docs\n",
            "  Building wheel for tensorflow-docs (setup.py) ... \u001b[?25l\u001b[?25hdone\n",
            "  Created wheel for tensorflow-docs: filename=tensorflow_docs-0.0.0d41eeb858e80108db8d13ba25867757d7de0fcf9_-cp36-none-any.whl size=124709 sha256=7812aceffaceba678b190c998815dc265cd30836fe4168de6448e15a1d293155\n",
            "  Stored in directory: /tmp/pip-ephem-wheel-cache-gycdu82z/wheels/eb/1b/35/fce87697be00d2fc63e0b4b395b0d9c7e391a10e98d9a0d97f\n",
            "Successfully built tensorflow-docs\n",
            "Installing collected packages: tensorflow-docs\n",
            "Successfully installed tensorflow-docs-0.0.0d41eeb858e80108db8d13ba25867757d7de0fcf9-\n"
          ],
          "name": "stdout"
        }
      ]
    },
    {
      "cell_type": "code",
      "metadata": {
        "id": "hwireco2MdDv",
        "colab_type": "code",
        "colab": {
          "base_uri": "https://localhost:8080/",
          "height": 51
        },
        "outputId": "296da4fe-eb2f-43cc-d3a6-00c1a57e2867"
      },
      "source": [
        "pip install tensorflow-addons"
      ],
      "execution_count": null,
      "outputs": [
        {
          "output_type": "stream",
          "text": [
            "Requirement already satisfied: tensorflow-addons in /usr/local/lib/python3.6/dist-packages (0.8.3)\n",
            "Requirement already satisfied: typeguard in /usr/local/lib/python3.6/dist-packages (from tensorflow-addons) (2.7.1)\n"
          ],
          "name": "stdout"
        }
      ]
    },
    {
      "cell_type": "code",
      "metadata": {
        "id": "E6lqlpJ-Mfl2",
        "colab_type": "code",
        "colab": {}
      },
      "source": [
        "import tensorflow_docs as tfdocs\n",
        "import tensorflow_docs.plots\n",
        "import tensorflow_docs.modeling\n",
        "import keras.backend as K\n",
        "import tensorflow_addons as tfa\n"
      ],
      "execution_count": null,
      "outputs": []
    },
    {
      "cell_type": "code",
      "metadata": {
        "id": "Gx5sh40lMh4u",
        "colab_type": "code",
        "colab": {}
      },
      "source": [
        "from keras import backend as K\n",
        "from keras.layers import Input\n",
        "from keras.layers import Embedding, concatenate,GlobalAveragePooling1D,Dense,Dropout,SpatialDropout1D,Reshape,Flatten\n",
        "from keras import Model\n",
        "from keras.callbacks import ModelCheckpoint"
      ],
      "execution_count": null,
      "outputs": []
    },
    {
      "cell_type": "code",
      "metadata": {
        "id": "f4ukOQD0Mk8L",
        "colab_type": "code",
        "colab": {}
      },
      "source": [
        "seq_length_title = 50\n",
        "seq_length_desc = 150"
      ],
      "execution_count": null,
      "outputs": []
    },
    {
      "cell_type": "code",
      "metadata": {
        "id": "BPDqdGHeNUwu",
        "colab_type": "code",
        "colab": {}
      },
      "source": [
        "nlp_input_desc = Input(shape=(seq_length_desc,), name='nlp_input_desc')\n",
        "nlp_input_title = Input(shape=(seq_length_title,), name='nlp_input_title')\n",
        "emb1 = Embedding(input_dim=tokenizer.vocab_size,output_dim=1)(nlp_input_title)\n",
        "emb1 = SpatialDropout1D(0.2)(emb1)\n",
        "emb1 = Flatten()(emb1)\n",
        "emb2 = Embedding(input_dim=tokenizer.vocab_size,output_dim=1)(nlp_input_desc)\n",
        "emb2 = SpatialDropout1D(0.2)(emb2)\n",
        "emb2 = Flatten()(emb2)\n",
        "meta_input = Input(shape=(82,), name='meta_input')\n",
        "x = concatenate([emb1,emb2, meta_input])\n",
        "x = Dense(512, activation='relu')(x)\n",
        "x = Dropout(0.05)(x)\n",
        "x = Dense(256, activation='relu')(x)\n",
        "x = Dense(64, activation='relu')(x)\n",
        "x = Dense(32, activation='relu')(x)\n",
        "x = Dense(3, activation='softmax')(x)\n",
        "model =  Model(inputs=[nlp_input_title,nlp_input_desc, meta_input], outputs=[x])"
      ],
      "execution_count": null,
      "outputs": []
    },
    {
      "cell_type": "code",
      "metadata": {
        "id": "10JU9_5SNriw",
        "colab_type": "code",
        "colab": {}
      },
      "source": [
        "early_stopping = k1.callbacks.EarlyStopping(\n",
        "    monitor='accuracy', \n",
        "    verbose=1,\n",
        "    patience=30,\n",
        "    mode='max',\n",
        "    restore_best_weights=True)"
      ],
      "execution_count": null,
      "outputs": []
    },
    {
      "cell_type": "code",
      "metadata": {
        "id": "rGQydKCpNo5A",
        "colab_type": "code",
        "colab": {}
      },
      "source": [
        "model.compile(optimizer=k1.optimizers.Adam(lr=2e-4),\n",
        "              loss=\"categorical_crossentropy\",\n",
        "              metrics=[tfa.metrics.F1Score(num_classes=3,average=\"macro\",threshold=None),\"accuracy\" ])"
      ],
      "execution_count": null,
      "outputs": []
    },
    {
      "cell_type": "code",
      "metadata": {
        "id": "4jhLksl7Nk6W",
        "colab_type": "code",
        "colab": {}
      },
      "source": [
        "checkpoint_path = \"gs://dataproc-e3bd1f7b-2e29-4da6-a5c4-077c164fd32a-us-central1/avito/dl0/transformers2/cp-{epoch:04d}.ckpt\""
      ],
      "execution_count": null,
      "outputs": []
    },
    {
      "cell_type": "code",
      "metadata": {
        "id": "bQdyCDOsNyIA",
        "colab_type": "code",
        "colab": {}
      },
      "source": [
        "cp_callback = ModelCheckpoint(\n",
        "    filepath=checkpoint_path, \n",
        "    verbose=1, \n",
        "    save_weights_only=True,\n",
        "    period=5)"
      ],
      "execution_count": null,
      "outputs": []
    },
    {
      "cell_type": "code",
      "metadata": {
        "id": "GEAFvo-ZCJyC",
        "colab_type": "code",
        "colab": {}
      },
      "source": [
        "model.load_weights(\"gs://dataproc-e3bd1f7b-2e29-4da6-a5c4-077c164fd32a-us-central1/avito/dl0/transformers/cp-0055.ckpt\")"
      ],
      "execution_count": null,
      "outputs": []
    },
    {
      "cell_type": "code",
      "metadata": {
        "id": "hGBm87-jN3aR",
        "colab_type": "code",
        "colab": {
          "base_uri": "https://localhost:8080/",
          "height": 1000
        },
        "outputId": "68c9315c-e2e5-4cbe-af10-f8a3c21ff10f"
      },
      "source": [
        "history = model.fit([X_train_title,X_train_desc,X_train],y_train, epochs=100, callbacks=[cp_callback,early_stopping], validation_split=0.2, shuffle= True,batch_size=2048)"
      ],
      "execution_count": null,
      "outputs": [
        {
          "output_type": "stream",
          "text": [
            "Train on 1680000 samples, validate on 420000 samples\n",
            "Epoch 1/100\n",
            "1680000/1680000 [==============================] - 42s 25us/step - loss: 0.4780 - f1_score: 0.0000e+00 - accuracy: 0.8041 - val_loss: 1.0957 - val_f1_score: 0.0000e+00 - val_accuracy: 0.4813\n",
            "Epoch 2/100\n",
            "1680000/1680000 [==============================] - 43s 25us/step - loss: 0.4756 - f1_score: 0.0000e+00 - accuracy: 0.8049 - val_loss: 1.1603 - val_f1_score: 0.0000e+00 - val_accuracy: 0.4602\n",
            "Epoch 3/100\n",
            "1680000/1680000 [==============================] - 42s 25us/step - loss: 0.4738 - f1_score: 0.0000e+00 - accuracy: 0.8054 - val_loss: 1.1966 - val_f1_score: 0.0000e+00 - val_accuracy: 0.4328\n",
            "Epoch 4/100\n",
            "1680000/1680000 [==============================] - 43s 25us/step - loss: 0.4729 - f1_score: 0.0000e+00 - accuracy: 0.8059 - val_loss: 1.0347 - val_f1_score: 0.0000e+00 - val_accuracy: 0.5197\n",
            "Epoch 5/100\n",
            "1680000/1680000 [==============================] - 43s 26us/step - loss: 0.4708 - f1_score: 0.0000e+00 - accuracy: 0.8067 - val_loss: 1.0955 - val_f1_score: 0.0000e+00 - val_accuracy: 0.4964\n",
            "\n",
            "Epoch 00005: saving model to gs://dataproc-e3bd1f7b-2e29-4da6-a5c4-077c164fd32a-us-central1/avito/dl0/transformers2/cp-0005.ckpt\n",
            "Epoch 6/100\n",
            "1680000/1680000 [==============================] - 43s 26us/step - loss: 0.4686 - f1_score: 0.0000e+00 - accuracy: 0.8077 - val_loss: 1.1468 - val_f1_score: 0.0000e+00 - val_accuracy: 0.4620\n",
            "Epoch 7/100\n",
            "1680000/1680000 [==============================] - 43s 26us/step - loss: 0.4676 - f1_score: 0.0000e+00 - accuracy: 0.8082 - val_loss: 1.1748 - val_f1_score: 0.0000e+00 - val_accuracy: 0.4550\n",
            "Epoch 8/100\n",
            "1680000/1680000 [==============================] - 44s 26us/step - loss: 0.4657 - f1_score: 0.0000e+00 - accuracy: 0.8085 - val_loss: 1.0539 - val_f1_score: 0.0000e+00 - val_accuracy: 0.5144\n",
            "Epoch 9/100\n",
            "1680000/1680000 [==============================] - 44s 26us/step - loss: 0.4644 - f1_score: 0.0000e+00 - accuracy: 0.8092 - val_loss: 1.1243 - val_f1_score: 0.0000e+00 - val_accuracy: 0.4745\n",
            "Epoch 10/100\n",
            "1680000/1680000 [==============================] - 44s 26us/step - loss: 0.4623 - f1_score: 0.0000e+00 - accuracy: 0.8103 - val_loss: 1.0974 - val_f1_score: 0.0000e+00 - val_accuracy: 0.4919\n",
            "\n",
            "Epoch 00010: saving model to gs://dataproc-e3bd1f7b-2e29-4da6-a5c4-077c164fd32a-us-central1/avito/dl0/transformers2/cp-0010.ckpt\n",
            "Epoch 11/100\n",
            "1680000/1680000 [==============================] - 44s 26us/step - loss: 0.4612 - f1_score: 0.0000e+00 - accuracy: 0.8105 - val_loss: 1.0344 - val_f1_score: 0.0000e+00 - val_accuracy: 0.5268\n",
            "Epoch 12/100\n",
            "1680000/1680000 [==============================] - 44s 26us/step - loss: 0.4593 - f1_score: 0.0000e+00 - accuracy: 0.8113 - val_loss: 1.0848 - val_f1_score: 0.0000e+00 - val_accuracy: 0.4931\n",
            "Epoch 13/100\n",
            "1680000/1680000 [==============================] - 44s 26us/step - loss: 0.4580 - f1_score: 0.0000e+00 - accuracy: 0.8119 - val_loss: 1.0540 - val_f1_score: 0.0000e+00 - val_accuracy: 0.5082\n",
            "Epoch 14/100\n",
            "1680000/1680000 [==============================] - 44s 26us/step - loss: 0.4565 - f1_score: 0.0000e+00 - accuracy: 0.8125 - val_loss: 1.1133 - val_f1_score: 0.0000e+00 - val_accuracy: 0.4855\n",
            "Epoch 15/100\n",
            "1680000/1680000 [==============================] - 44s 26us/step - loss: 0.4553 - f1_score: 0.0000e+00 - accuracy: 0.8127 - val_loss: 1.0671 - val_f1_score: 0.0000e+00 - val_accuracy: 0.5091\n",
            "\n",
            "Epoch 00015: saving model to gs://dataproc-e3bd1f7b-2e29-4da6-a5c4-077c164fd32a-us-central1/avito/dl0/transformers2/cp-0015.ckpt\n",
            "Epoch 16/100\n",
            "1680000/1680000 [==============================] - 44s 26us/step - loss: 0.4538 - f1_score: 0.0000e+00 - accuracy: 0.8135 - val_loss: 1.0744 - val_f1_score: 0.0000e+00 - val_accuracy: 0.5058\n",
            "Epoch 17/100\n",
            "1680000/1680000 [==============================] - 44s 26us/step - loss: 0.4528 - f1_score: 0.0000e+00 - accuracy: 0.8139 - val_loss: 1.0903 - val_f1_score: 0.0000e+00 - val_accuracy: 0.5055\n",
            "Epoch 18/100\n",
            "1680000/1680000 [==============================] - 44s 26us/step - loss: 0.4515 - f1_score: 0.0000e+00 - accuracy: 0.8146 - val_loss: 1.0806 - val_f1_score: 0.0000e+00 - val_accuracy: 0.5088\n",
            "Epoch 19/100\n",
            "1680000/1680000 [==============================] - 44s 26us/step - loss: 0.4497 - f1_score: 0.0000e+00 - accuracy: 0.8155 - val_loss: 0.9450 - val_f1_score: 0.0000e+00 - val_accuracy: 0.5642\n",
            "Epoch 20/100\n",
            "1680000/1680000 [==============================] - 44s 26us/step - loss: 0.4491 - f1_score: 0.0000e+00 - accuracy: 0.8153 - val_loss: 1.0308 - val_f1_score: 0.0000e+00 - val_accuracy: 0.5291\n",
            "\n",
            "Epoch 00020: saving model to gs://dataproc-e3bd1f7b-2e29-4da6-a5c4-077c164fd32a-us-central1/avito/dl0/transformers2/cp-0020.ckpt\n",
            "Epoch 21/100\n",
            "1680000/1680000 [==============================] - 44s 26us/step - loss: 0.4474 - f1_score: 0.0000e+00 - accuracy: 0.8162 - val_loss: 1.0074 - val_f1_score: 0.0000e+00 - val_accuracy: 0.5405\n",
            "Epoch 22/100\n",
            "1680000/1680000 [==============================] - 44s 26us/step - loss: 0.4470 - f1_score: 0.0000e+00 - accuracy: 0.8161 - val_loss: 1.0316 - val_f1_score: 0.0000e+00 - val_accuracy: 0.5332\n",
            "Epoch 23/100\n",
            "1680000/1680000 [==============================] - 43s 26us/step - loss: 0.4448 - f1_score: 0.0000e+00 - accuracy: 0.8171 - val_loss: 1.0424 - val_f1_score: 0.0000e+00 - val_accuracy: 0.5264\n",
            "Epoch 24/100\n",
            "1680000/1680000 [==============================] - 43s 26us/step - loss: 0.4441 - f1_score: 0.0000e+00 - accuracy: 0.8172 - val_loss: 1.0341 - val_f1_score: 0.0000e+00 - val_accuracy: 0.5327\n",
            "Epoch 25/100\n",
            "1680000/1680000 [==============================] - 43s 25us/step - loss: 0.4424 - f1_score: 0.0000e+00 - accuracy: 0.8183 - val_loss: 1.0287 - val_f1_score: 0.0000e+00 - val_accuracy: 0.5329\n",
            "\n",
            "Epoch 00025: saving model to gs://dataproc-e3bd1f7b-2e29-4da6-a5c4-077c164fd32a-us-central1/avito/dl0/transformers2/cp-0025.ckpt\n",
            "Epoch 26/100\n",
            "1680000/1680000 [==============================] - 43s 26us/step - loss: 0.4418 - f1_score: 0.0000e+00 - accuracy: 0.8185 - val_loss: 0.9909 - val_f1_score: 0.0000e+00 - val_accuracy: 0.5508\n",
            "Epoch 27/100\n",
            "1680000/1680000 [==============================] - 43s 26us/step - loss: 0.4411 - f1_score: 0.0000e+00 - accuracy: 0.8187 - val_loss: 1.0676 - val_f1_score: 0.0000e+00 - val_accuracy: 0.5089\n",
            "Epoch 28/100\n",
            "1680000/1680000 [==============================] - 43s 26us/step - loss: 0.4394 - f1_score: 0.0000e+00 - accuracy: 0.8193 - val_loss: 1.0242 - val_f1_score: 0.0000e+00 - val_accuracy: 0.5355\n",
            "Epoch 29/100\n",
            "1680000/1680000 [==============================] - 44s 26us/step - loss: 0.4376 - f1_score: 0.0000e+00 - accuracy: 0.8201 - val_loss: 1.0626 - val_f1_score: 0.0000e+00 - val_accuracy: 0.5157\n",
            "Epoch 30/100\n",
            "1680000/1680000 [==============================] - 43s 26us/step - loss: 0.4376 - f1_score: 0.0000e+00 - accuracy: 0.8199 - val_loss: 1.0366 - val_f1_score: 0.0000e+00 - val_accuracy: 0.5254\n",
            "\n",
            "Epoch 00030: saving model to gs://dataproc-e3bd1f7b-2e29-4da6-a5c4-077c164fd32a-us-central1/avito/dl0/transformers2/cp-0030.ckpt\n",
            "Epoch 31/100\n",
            "1680000/1680000 [==============================] - 43s 26us/step - loss: 0.4364 - f1_score: 0.0000e+00 - accuracy: 0.8204 - val_loss: 1.0451 - val_f1_score: 0.0000e+00 - val_accuracy: 0.5213\n",
            "Epoch 32/100\n",
            "1680000/1680000 [==============================] - 43s 26us/step - loss: 0.4349 - f1_score: 0.0000e+00 - accuracy: 0.8212 - val_loss: 1.0093 - val_f1_score: 0.0000e+00 - val_accuracy: 0.5435\n",
            "Epoch 33/100\n",
            "1680000/1680000 [==============================] - 43s 25us/step - loss: 0.4347 - f1_score: 0.0000e+00 - accuracy: 0.8211 - val_loss: 1.0032 - val_f1_score: 0.0000e+00 - val_accuracy: 0.5418\n",
            "Epoch 34/100\n",
            "1680000/1680000 [==============================] - 43s 26us/step - loss: 0.4332 - f1_score: 0.0000e+00 - accuracy: 0.8216 - val_loss: 1.0122 - val_f1_score: 0.0000e+00 - val_accuracy: 0.5491\n",
            "Epoch 35/100\n",
            "1680000/1680000 [==============================] - 43s 26us/step - loss: 0.4317 - f1_score: 0.0000e+00 - accuracy: 0.8222 - val_loss: 1.0354 - val_f1_score: 0.0000e+00 - val_accuracy: 0.5292\n",
            "\n",
            "Epoch 00035: saving model to gs://dataproc-e3bd1f7b-2e29-4da6-a5c4-077c164fd32a-us-central1/avito/dl0/transformers2/cp-0035.ckpt\n",
            "Epoch 36/100\n",
            "1680000/1680000 [==============================] - 43s 26us/step - loss: 0.4315 - f1_score: 0.0000e+00 - accuracy: 0.8224 - val_loss: 1.0465 - val_f1_score: 0.0000e+00 - val_accuracy: 0.5316\n",
            "Epoch 37/100\n",
            "1680000/1680000 [==============================] - 43s 26us/step - loss: 0.4309 - f1_score: 0.0000e+00 - accuracy: 0.8226 - val_loss: 1.1007 - val_f1_score: 0.0000e+00 - val_accuracy: 0.4966\n",
            "Epoch 38/100\n",
            "1680000/1680000 [==============================] - 42s 25us/step - loss: 0.4295 - f1_score: 0.0000e+00 - accuracy: 0.8234 - val_loss: 0.9629 - val_f1_score: 0.0000e+00 - val_accuracy: 0.5746\n",
            "Epoch 39/100\n",
            "1680000/1680000 [==============================] - 43s 26us/step - loss: 0.4293 - f1_score: 0.0000e+00 - accuracy: 0.8232 - val_loss: 0.9627 - val_f1_score: 0.0000e+00 - val_accuracy: 0.5707\n",
            "Epoch 40/100\n",
            "1680000/1680000 [==============================] - 43s 25us/step - loss: 0.4282 - f1_score: 0.0000e+00 - accuracy: 0.8235 - val_loss: 1.0256 - val_f1_score: 0.0000e+00 - val_accuracy: 0.5401\n",
            "\n",
            "Epoch 00040: saving model to gs://dataproc-e3bd1f7b-2e29-4da6-a5c4-077c164fd32a-us-central1/avito/dl0/transformers2/cp-0040.ckpt\n",
            "Epoch 41/100\n",
            "1680000/1680000 [==============================] - 43s 26us/step - loss: 0.4274 - f1_score: 0.0000e+00 - accuracy: 0.8240 - val_loss: 0.9822 - val_f1_score: 0.0000e+00 - val_accuracy: 0.5558\n",
            "Epoch 42/100\n",
            "1680000/1680000 [==============================] - 42s 25us/step - loss: 0.4261 - f1_score: 0.0000e+00 - accuracy: 0.8245 - val_loss: 1.0108 - val_f1_score: 0.0000e+00 - val_accuracy: 0.5466\n",
            "Epoch 43/100\n",
            "1680000/1680000 [==============================] - 43s 25us/step - loss: 0.4258 - f1_score: 0.0000e+00 - accuracy: 0.8247 - val_loss: 1.0165 - val_f1_score: 0.0000e+00 - val_accuracy: 0.5477\n",
            "Epoch 44/100\n",
            "1680000/1680000 [==============================] - 42s 25us/step - loss: 0.4245 - f1_score: 0.0000e+00 - accuracy: 0.8251 - val_loss: 1.0152 - val_f1_score: 0.0000e+00 - val_accuracy: 0.5467\n",
            "Epoch 45/100\n",
            "1680000/1680000 [==============================] - 42s 25us/step - loss: 0.4244 - f1_score: 0.0000e+00 - accuracy: 0.8252 - val_loss: 1.0233 - val_f1_score: 0.0000e+00 - val_accuracy: 0.5426\n",
            "\n",
            "Epoch 00045: saving model to gs://dataproc-e3bd1f7b-2e29-4da6-a5c4-077c164fd32a-us-central1/avito/dl0/transformers2/cp-0045.ckpt\n",
            "Epoch 46/100\n",
            "1680000/1680000 [==============================] - 43s 25us/step - loss: 0.4229 - f1_score: 0.0000e+00 - accuracy: 0.8256 - val_loss: 0.9562 - val_f1_score: 0.0000e+00 - val_accuracy: 0.5778\n",
            "Epoch 47/100\n",
            "1680000/1680000 [==============================] - 42s 25us/step - loss: 0.4220 - f1_score: 0.0000e+00 - accuracy: 0.8261 - val_loss: 0.9848 - val_f1_score: 0.0000e+00 - val_accuracy: 0.5658\n",
            "Epoch 48/100\n",
            "1680000/1680000 [==============================] - 43s 25us/step - loss: 0.4212 - f1_score: 0.0000e+00 - accuracy: 0.8265 - val_loss: 0.9852 - val_f1_score: 0.0000e+00 - val_accuracy: 0.5568\n",
            "Epoch 49/100\n",
            "1680000/1680000 [==============================] - 43s 26us/step - loss: 0.4209 - f1_score: 0.0000e+00 - accuracy: 0.8266 - val_loss: 1.0160 - val_f1_score: 0.0000e+00 - val_accuracy: 0.5484\n",
            "Epoch 50/100\n",
            "1680000/1680000 [==============================] - 43s 25us/step - loss: 0.4199 - f1_score: 0.0000e+00 - accuracy: 0.8267 - val_loss: 0.9953 - val_f1_score: 0.0000e+00 - val_accuracy: 0.5574\n",
            "\n",
            "Epoch 00050: saving model to gs://dataproc-e3bd1f7b-2e29-4da6-a5c4-077c164fd32a-us-central1/avito/dl0/transformers2/cp-0050.ckpt\n",
            "Epoch 51/100\n",
            "1680000/1680000 [==============================] - 43s 26us/step - loss: 0.4188 - f1_score: 0.0000e+00 - accuracy: 0.8275 - val_loss: 1.0459 - val_f1_score: 0.0000e+00 - val_accuracy: 0.5271\n",
            "Epoch 52/100\n",
            "1680000/1680000 [==============================] - 42s 25us/step - loss: 0.4188 - f1_score: 0.0000e+00 - accuracy: 0.8276 - val_loss: 0.9646 - val_f1_score: 0.0000e+00 - val_accuracy: 0.5712\n",
            "Epoch 53/100\n",
            "1680000/1680000 [==============================] - 42s 25us/step - loss: 0.4176 - f1_score: 0.0000e+00 - accuracy: 0.8277 - val_loss: 1.0141 - val_f1_score: 0.0000e+00 - val_accuracy: 0.5530\n",
            "Epoch 54/100\n",
            "1680000/1680000 [==============================] - 43s 25us/step - loss: 0.4169 - f1_score: 0.0000e+00 - accuracy: 0.8282 - val_loss: 0.9737 - val_f1_score: 0.0000e+00 - val_accuracy: 0.5733\n",
            "Epoch 55/100\n",
            "1680000/1680000 [==============================] - 43s 25us/step - loss: 0.4164 - f1_score: 0.0000e+00 - accuracy: 0.8284 - val_loss: 1.0370 - val_f1_score: 0.0000e+00 - val_accuracy: 0.5450\n",
            "\n",
            "Epoch 00055: saving model to gs://dataproc-e3bd1f7b-2e29-4da6-a5c4-077c164fd32a-us-central1/avito/dl0/transformers2/cp-0055.ckpt\n",
            "Epoch 56/100\n",
            "1680000/1680000 [==============================] - 43s 25us/step - loss: 0.4159 - f1_score: 0.0000e+00 - accuracy: 0.8286 - val_loss: 0.9433 - val_f1_score: 0.0000e+00 - val_accuracy: 0.5801\n",
            "Epoch 57/100\n",
            "1680000/1680000 [==============================] - 43s 25us/step - loss: 0.4152 - f1_score: 0.0000e+00 - accuracy: 0.8289 - val_loss: 1.0565 - val_f1_score: 0.0000e+00 - val_accuracy: 0.5369\n",
            "Epoch 58/100\n",
            "1680000/1680000 [==============================] - 43s 26us/step - loss: 0.4141 - f1_score: 0.0000e+00 - accuracy: 0.8295 - val_loss: 0.9132 - val_f1_score: 0.0000e+00 - val_accuracy: 0.5993\n",
            "Epoch 59/100\n",
            "1680000/1680000 [==============================] - 42s 25us/step - loss: 0.4133 - f1_score: 0.0000e+00 - accuracy: 0.8296 - val_loss: 1.0250 - val_f1_score: 0.0000e+00 - val_accuracy: 0.5470\n",
            "Epoch 60/100\n",
            "1680000/1680000 [==============================] - 43s 25us/step - loss: 0.4129 - f1_score: 0.0000e+00 - accuracy: 0.8296 - val_loss: 0.9615 - val_f1_score: 0.0000e+00 - val_accuracy: 0.5738\n",
            "\n",
            "Epoch 00060: saving model to gs://dataproc-e3bd1f7b-2e29-4da6-a5c4-077c164fd32a-us-central1/avito/dl0/transformers2/cp-0060.ckpt\n",
            "Epoch 61/100\n",
            "1680000/1680000 [==============================] - 42s 25us/step - loss: 0.4126 - f1_score: 0.0000e+00 - accuracy: 0.8301 - val_loss: 0.9652 - val_f1_score: 0.0000e+00 - val_accuracy: 0.5774\n",
            "Epoch 62/100\n",
            "1680000/1680000 [==============================] - 43s 26us/step - loss: 0.4116 - f1_score: 0.0000e+00 - accuracy: 0.8304 - val_loss: 0.9689 - val_f1_score: 0.0000e+00 - val_accuracy: 0.5763\n",
            "Epoch 63/100\n",
            "1680000/1680000 [==============================] - 43s 25us/step - loss: 0.4110 - f1_score: 0.0000e+00 - accuracy: 0.8309 - val_loss: 0.9853 - val_f1_score: 0.0000e+00 - val_accuracy: 0.5643\n",
            "Epoch 64/100\n",
            "1680000/1680000 [==============================] - 42s 25us/step - loss: 0.4096 - f1_score: 0.0000e+00 - accuracy: 0.8313 - val_loss: 0.9684 - val_f1_score: 0.0000e+00 - val_accuracy: 0.5734\n",
            "Epoch 65/100\n",
            "1680000/1680000 [==============================] - 43s 26us/step - loss: 0.4092 - f1_score: 0.0000e+00 - accuracy: 0.8314 - val_loss: 0.9601 - val_f1_score: 0.0000e+00 - val_accuracy: 0.5869\n",
            "\n",
            "Epoch 00065: saving model to gs://dataproc-e3bd1f7b-2e29-4da6-a5c4-077c164fd32a-us-central1/avito/dl0/transformers2/cp-0065.ckpt\n",
            "Epoch 66/100\n",
            "1680000/1680000 [==============================] - 43s 25us/step - loss: 0.4087 - f1_score: 0.0000e+00 - accuracy: 0.8313 - val_loss: 0.9771 - val_f1_score: 0.0000e+00 - val_accuracy: 0.5730\n",
            "Epoch 67/100\n",
            "1680000/1680000 [==============================] - 42s 25us/step - loss: 0.4080 - f1_score: 0.0000e+00 - accuracy: 0.8319 - val_loss: 0.9423 - val_f1_score: 0.0000e+00 - val_accuracy: 0.5937\n",
            "Epoch 68/100\n",
            "1680000/1680000 [==============================] - 43s 25us/step - loss: 0.4078 - f1_score: 0.0000e+00 - accuracy: 0.8320 - val_loss: 1.0206 - val_f1_score: 0.0000e+00 - val_accuracy: 0.5518\n",
            "Epoch 69/100\n",
            "1680000/1680000 [==============================] - 43s 26us/step - loss: 0.4074 - f1_score: 0.0000e+00 - accuracy: 0.8321 - val_loss: 0.9428 - val_f1_score: 0.0000e+00 - val_accuracy: 0.5926\n",
            "Epoch 70/100\n",
            "1680000/1680000 [==============================] - 43s 26us/step - loss: 0.4065 - f1_score: 0.0000e+00 - accuracy: 0.8325 - val_loss: 1.0084 - val_f1_score: 0.0000e+00 - val_accuracy: 0.5684\n",
            "\n",
            "Epoch 00070: saving model to gs://dataproc-e3bd1f7b-2e29-4da6-a5c4-077c164fd32a-us-central1/avito/dl0/transformers2/cp-0070.ckpt\n",
            "Epoch 71/100\n",
            "1680000/1680000 [==============================] - 43s 26us/step - loss: 0.4061 - f1_score: 0.0000e+00 - accuracy: 0.8329 - val_loss: 0.9481 - val_f1_score: 0.0000e+00 - val_accuracy: 0.5875\n",
            "Epoch 72/100\n",
            "1680000/1680000 [==============================] - 43s 25us/step - loss: 0.4063 - f1_score: 0.0000e+00 - accuracy: 0.8326 - val_loss: 0.9681 - val_f1_score: 0.0000e+00 - val_accuracy: 0.5763\n",
            "Epoch 73/100\n",
            "1680000/1680000 [==============================] - 43s 25us/step - loss: 0.4053 - f1_score: 0.0000e+00 - accuracy: 0.8326 - val_loss: 0.9676 - val_f1_score: 0.0000e+00 - val_accuracy: 0.5796\n",
            "Epoch 74/100\n",
            "1680000/1680000 [==============================] - 43s 25us/step - loss: 0.4039 - f1_score: 0.0000e+00 - accuracy: 0.8338 - val_loss: 0.9618 - val_f1_score: 0.0000e+00 - val_accuracy: 0.5808\n",
            "Epoch 75/100\n",
            "1680000/1680000 [==============================] - 43s 25us/step - loss: 0.4041 - f1_score: 0.0000e+00 - accuracy: 0.8334 - val_loss: 0.9356 - val_f1_score: 0.0000e+00 - val_accuracy: 0.5958\n",
            "\n",
            "Epoch 00075: saving model to gs://dataproc-e3bd1f7b-2e29-4da6-a5c4-077c164fd32a-us-central1/avito/dl0/transformers2/cp-0075.ckpt\n",
            "Epoch 76/100\n",
            "1680000/1680000 [==============================] - 42s 25us/step - loss: 0.4036 - f1_score: 0.0000e+00 - accuracy: 0.8335 - val_loss: 0.9594 - val_f1_score: 0.0000e+00 - val_accuracy: 0.5850\n",
            "Epoch 77/100\n",
            "1680000/1680000 [==============================] - 43s 26us/step - loss: 0.4030 - f1_score: 0.0000e+00 - accuracy: 0.8338 - val_loss: 0.9989 - val_f1_score: 0.0000e+00 - val_accuracy: 0.5701\n",
            "Epoch 78/100\n",
            "1680000/1680000 [==============================] - 43s 25us/step - loss: 0.4018 - f1_score: 0.0000e+00 - accuracy: 0.8346 - val_loss: 0.9169 - val_f1_score: 0.0000e+00 - val_accuracy: 0.6019\n",
            "Epoch 79/100\n",
            "1680000/1680000 [==============================] - 43s 26us/step - loss: 0.4019 - f1_score: 0.0000e+00 - accuracy: 0.8343 - val_loss: 0.9480 - val_f1_score: 0.0000e+00 - val_accuracy: 0.5937\n",
            "Epoch 80/100\n",
            "1680000/1680000 [==============================] - 43s 26us/step - loss: 0.4016 - f1_score: 0.0000e+00 - accuracy: 0.8346 - val_loss: 0.9874 - val_f1_score: 0.0000e+00 - val_accuracy: 0.5691\n",
            "\n",
            "Epoch 00080: saving model to gs://dataproc-e3bd1f7b-2e29-4da6-a5c4-077c164fd32a-us-central1/avito/dl0/transformers2/cp-0080.ckpt\n",
            "Epoch 81/100\n",
            "1680000/1680000 [==============================] - 43s 25us/step - loss: 0.4009 - f1_score: 0.0000e+00 - accuracy: 0.8348 - val_loss: 0.9034 - val_f1_score: 0.0000e+00 - val_accuracy: 0.6086\n",
            "Epoch 82/100\n",
            "1680000/1680000 [==============================] - 43s 26us/step - loss: 0.3998 - f1_score: 0.0000e+00 - accuracy: 0.8351 - val_loss: 0.9099 - val_f1_score: 0.0000e+00 - val_accuracy: 0.6102\n",
            "Epoch 83/100\n",
            "1680000/1680000 [==============================] - 43s 25us/step - loss: 0.3997 - f1_score: 0.0000e+00 - accuracy: 0.8354 - val_loss: 0.9289 - val_f1_score: 0.0000e+00 - val_accuracy: 0.6026\n",
            "Epoch 84/100\n",
            "1680000/1680000 [==============================] - 43s 26us/step - loss: 0.3992 - f1_score: 0.0000e+00 - accuracy: 0.8355 - val_loss: 0.9550 - val_f1_score: 0.0000e+00 - val_accuracy: 0.5814\n",
            "Epoch 85/100\n",
            "1680000/1680000 [==============================] - 42s 25us/step - loss: 0.3988 - f1_score: 0.0000e+00 - accuracy: 0.8355 - val_loss: 0.9760 - val_f1_score: 0.0000e+00 - val_accuracy: 0.5766\n",
            "\n",
            "Epoch 00085: saving model to gs://dataproc-e3bd1f7b-2e29-4da6-a5c4-077c164fd32a-us-central1/avito/dl0/transformers2/cp-0085.ckpt\n",
            "Epoch 86/100\n",
            "1680000/1680000 [==============================] - 42s 25us/step - loss: 0.3982 - f1_score: 0.0000e+00 - accuracy: 0.8361 - val_loss: 0.9438 - val_f1_score: 0.0000e+00 - val_accuracy: 0.5913\n",
            "Epoch 87/100\n",
            "1680000/1680000 [==============================] - 42s 25us/step - loss: 0.3977 - f1_score: 0.0000e+00 - accuracy: 0.8361 - val_loss: 0.9461 - val_f1_score: 0.0000e+00 - val_accuracy: 0.5939\n",
            "Epoch 88/100\n",
            "1680000/1680000 [==============================] - 42s 25us/step - loss: 0.3976 - f1_score: 0.0000e+00 - accuracy: 0.8363 - val_loss: 0.9158 - val_f1_score: 0.0000e+00 - val_accuracy: 0.6117\n",
            "Epoch 89/100\n",
            "1680000/1680000 [==============================] - 42s 25us/step - loss: 0.3963 - f1_score: 0.0000e+00 - accuracy: 0.8366 - val_loss: 1.0104 - val_f1_score: 0.0000e+00 - val_accuracy: 0.5614\n",
            "Epoch 90/100\n",
            "1680000/1680000 [==============================] - 42s 25us/step - loss: 0.3963 - f1_score: 0.0000e+00 - accuracy: 0.8368 - val_loss: 0.9869 - val_f1_score: 0.0000e+00 - val_accuracy: 0.5746\n",
            "\n",
            "Epoch 00090: saving model to gs://dataproc-e3bd1f7b-2e29-4da6-a5c4-077c164fd32a-us-central1/avito/dl0/transformers2/cp-0090.ckpt\n",
            "Epoch 91/100\n",
            "1680000/1680000 [==============================] - 44s 26us/step - loss: 0.3961 - f1_score: 0.0000e+00 - accuracy: 0.8369 - val_loss: 0.9521 - val_f1_score: 0.0000e+00 - val_accuracy: 0.5929\n",
            "Epoch 92/100\n",
            "1680000/1680000 [==============================] - 43s 25us/step - loss: 0.3950 - f1_score: 0.0000e+00 - accuracy: 0.8373 - val_loss: 0.9449 - val_f1_score: 0.0000e+00 - val_accuracy: 0.5968\n",
            "Epoch 93/100\n",
            "1680000/1680000 [==============================] - 42s 25us/step - loss: 0.3946 - f1_score: 0.0000e+00 - accuracy: 0.8371 - val_loss: 1.0102 - val_f1_score: 0.0000e+00 - val_accuracy: 0.5673\n",
            "Epoch 94/100\n",
            "1680000/1680000 [==============================] - 43s 25us/step - loss: 0.3942 - f1_score: 0.0000e+00 - accuracy: 0.8374 - val_loss: 0.9626 - val_f1_score: 0.0000e+00 - val_accuracy: 0.5873\n",
            "Epoch 95/100\n",
            "1680000/1680000 [==============================] - 42s 25us/step - loss: 0.3940 - f1_score: 0.0000e+00 - accuracy: 0.8375 - val_loss: 0.9680 - val_f1_score: 0.0000e+00 - val_accuracy: 0.5839\n",
            "\n",
            "Epoch 00095: saving model to gs://dataproc-e3bd1f7b-2e29-4da6-a5c4-077c164fd32a-us-central1/avito/dl0/transformers2/cp-0095.ckpt\n",
            "Epoch 96/100\n",
            "1680000/1680000 [==============================] - 42s 25us/step - loss: 0.3935 - f1_score: 0.0000e+00 - accuracy: 0.8380 - val_loss: 0.8840 - val_f1_score: 0.0000e+00 - val_accuracy: 0.6260\n",
            "Epoch 97/100\n",
            "1680000/1680000 [==============================] - 43s 25us/step - loss: 0.3930 - f1_score: 0.0000e+00 - accuracy: 0.8379 - val_loss: 0.9427 - val_f1_score: 0.0000e+00 - val_accuracy: 0.5943\n",
            "Epoch 98/100\n",
            "1680000/1680000 [==============================] - 43s 25us/step - loss: 0.3933 - f1_score: 0.0000e+00 - accuracy: 0.8378 - val_loss: 0.9466 - val_f1_score: 0.0000e+00 - val_accuracy: 0.5879\n",
            "Epoch 99/100\n",
            "1680000/1680000 [==============================] - 43s 25us/step - loss: 0.3924 - f1_score: 0.0000e+00 - accuracy: 0.8384 - val_loss: 0.8949 - val_f1_score: 0.0000e+00 - val_accuracy: 0.6234\n",
            "Epoch 100/100\n",
            "1680000/1680000 [==============================] - 42s 25us/step - loss: 0.3922 - f1_score: 0.0000e+00 - accuracy: 0.8381 - val_loss: 0.9738 - val_f1_score: 0.0000e+00 - val_accuracy: 0.5888\n",
            "\n",
            "Epoch 00100: saving model to gs://dataproc-e3bd1f7b-2e29-4da6-a5c4-077c164fd32a-us-central1/avito/dl0/transformers2/cp-0100.ckpt\n"
          ],
          "name": "stdout"
        }
      ]
    },
    {
      "cell_type": "code",
      "metadata": {
        "id": "lZ3lEvYi102R",
        "colab_type": "code",
        "colab": {
          "base_uri": "https://localhost:8080/",
          "height": 745
        },
        "outputId": "cf1da6c2-70c2-4554-c549-be60ffe428d5"
      },
      "source": [
        "model.summary()"
      ],
      "execution_count": null,
      "outputs": [
        {
          "output_type": "stream",
          "text": [
            "Model: \"model_1\"\n",
            "__________________________________________________________________________________________________\n",
            "Layer (type)                    Output Shape         Param #     Connected to                     \n",
            "==================================================================================================\n",
            "nlp_input_title (InputLayer)    (None, 50)           0                                            \n",
            "__________________________________________________________________________________________________\n",
            "nlp_input_desc (InputLayer)     (None, 150)          0                                            \n",
            "__________________________________________________________________________________________________\n",
            "embedding_1 (Embedding)         (None, 50, 1)        119547      nlp_input_title[0][0]            \n",
            "__________________________________________________________________________________________________\n",
            "embedding_2 (Embedding)         (None, 150, 1)       119547      nlp_input_desc[0][0]             \n",
            "__________________________________________________________________________________________________\n",
            "spatial_dropout1d_1 (SpatialDro (None, 50, 1)        0           embedding_1[0][0]                \n",
            "__________________________________________________________________________________________________\n",
            "spatial_dropout1d_2 (SpatialDro (None, 150, 1)       0           embedding_2[0][0]                \n",
            "__________________________________________________________________________________________________\n",
            "flatten_1 (Flatten)             (None, 50)           0           spatial_dropout1d_1[0][0]        \n",
            "__________________________________________________________________________________________________\n",
            "flatten_2 (Flatten)             (None, 150)          0           spatial_dropout1d_2[0][0]        \n",
            "__________________________________________________________________________________________________\n",
            "meta_input (InputLayer)         (None, 82)           0                                            \n",
            "__________________________________________________________________________________________________\n",
            "concatenate_1 (Concatenate)     (None, 282)          0           flatten_1[0][0]                  \n",
            "                                                                 flatten_2[0][0]                  \n",
            "                                                                 meta_input[0][0]                 \n",
            "__________________________________________________________________________________________________\n",
            "dense_1 (Dense)                 (None, 512)          144896      concatenate_1[0][0]              \n",
            "__________________________________________________________________________________________________\n",
            "dropout_1 (Dropout)             (None, 512)          0           dense_1[0][0]                    \n",
            "__________________________________________________________________________________________________\n",
            "dense_2 (Dense)                 (None, 256)          131328      dropout_1[0][0]                  \n",
            "__________________________________________________________________________________________________\n",
            "dense_3 (Dense)                 (None, 64)           16448       dense_2[0][0]                    \n",
            "__________________________________________________________________________________________________\n",
            "dense_4 (Dense)                 (None, 32)           2080        dense_3[0][0]                    \n",
            "__________________________________________________________________________________________________\n",
            "dense_5 (Dense)                 (None, 3)            99          dense_4[0][0]                    \n",
            "==================================================================================================\n",
            "Total params: 533,945\n",
            "Trainable params: 533,945\n",
            "Non-trainable params: 0\n",
            "__________________________________________________________________________________________________\n"
          ],
          "name": "stdout"
        }
      ]
    },
    {
      "cell_type": "code",
      "metadata": {
        "id": "AqOnsxZ4TnHt",
        "colab_type": "code",
        "colab": {}
      },
      "source": [
        "model.load_weights(\"gs://dataproc-e3bd1f7b-2e29-4da6-a5c4-077c164fd32a-us-central1/avito/dl0/transformers2/cp-0100.ckpt\")"
      ],
      "execution_count": null,
      "outputs": []
    },
    {
      "cell_type": "markdown",
      "metadata": {
        "id": "vrKEp9_paTaH",
        "colab_type": "text"
      },
      "source": [
        "## Results"
      ]
    },
    {
      "cell_type": "code",
      "metadata": {
        "id": "UIlpaynkUdPr",
        "colab_type": "code",
        "colab": {}
      },
      "source": [
        "from matplotlib import pyplot"
      ],
      "execution_count": null,
      "outputs": []
    },
    {
      "cell_type": "code",
      "metadata": {
        "id": "gcZLc3QlUeIW",
        "colab_type": "code",
        "colab": {
          "base_uri": "https://localhost:8080/",
          "height": 181
        },
        "outputId": "eb3acbcd-0348-42dc-82e7-38fbd875441a"
      },
      "source": [
        "# plot loss during training\n",
        "pyplot.subplot(221)\n",
        "pyplot.title('Loss')\n",
        "pyplot.plot(history.history['loss'], label='train')\n",
        "pyplot.plot(history.history['val_loss'], label='valid')\n",
        "pyplot.legend()\n",
        "pyplot.subplot(222)\n",
        "pyplot.title('acc')\n",
        "pyplot.plot(history.history['accuracy'], label='train')\n",
        "pyplot.plot(history.history['val_accuracy'], label='valid')\n",
        "pyplot.legend()"
      ],
      "execution_count": null,
      "outputs": [
        {
          "output_type": "execute_result",
          "data": {
            "text/plain": [
              "<matplotlib.legend.Legend at 0x7f1ab6ef6748>"
            ]
          },
          "metadata": {
            "tags": []
          },
          "execution_count": 58
        },
        {
          "output_type": "display_data",
          "data": {
            "image/png": "[encoded data removed]",
            "text/plain": [
              "<Figure size 432x288 with 2 Axes>"
            ]
          },
          "metadata": {
            "tags": [],
            "needs_background": "light"
          }
        }
      ]
    },
    {
      "cell_type": "code",
      "metadata": {
        "id": "02Web4P7RSt9",
        "colab_type": "code",
        "colab": {
          "base_uri": "https://localhost:8080/",
          "height": 87
        },
        "outputId": "87fd4670-9ba5-4790-eef9-5d3b2dd171a8"
      },
      "source": [
        "print('\\n# Evaluate on test data')\n",
        "results = model.evaluate([X_test_title,X_test_desc,X_test], y_test, batch_size=1024)\n",
        "print('test loss, test acc:', results)"
      ],
      "execution_count": null,
      "outputs": [
        {
          "output_type": "stream",
          "text": [
            "\n",
            "# Evaluate on test data\n",
            "300685/300685 [==============================] - 6s 21us/step\n",
            "test loss, test acc: [458257.84921398223, 0.0, 0.8199743628501892]\n"
          ],
          "name": "stdout"
        }
      ]
    },
    {
      "cell_type": "code",
      "metadata": {
        "id": "JFkLAZMQYB_W",
        "colab_type": "code",
        "colab": {
          "base_uri": "https://localhost:8080/",
          "height": 52
        },
        "outputId": "9669ab5e-6edd-4b41-882d-543f83568ad8"
      },
      "source": [
        "actual = np.argmax(y_test, axis=1) \n",
        "print('\\n# Generate predictions for 3 samples')\n",
        "predictions = model.predict([X_test_title,X_test_desc,X_test])\n",
        "result = np.argmax(predictions, axis=1)"
      ],
      "execution_count": null,
      "outputs": [
        {
          "output_type": "stream",
          "text": [
            "\n",
            "# Generate predictions for 3 samples\n"
          ],
          "name": "stdout"
        }
      ]
    },
    {
      "cell_type": "code",
      "metadata": {
        "id": "90bEs7K0YMA5",
        "colab_type": "code",
        "colab": {
          "base_uri": "https://localhost:8080/",
          "height": 191
        },
        "outputId": "0591303d-f499-4963-9ce0-b376d32eabaa"
      },
      "source": [
        "print(classification_report(actual,result))"
      ],
      "execution_count": null,
      "outputs": [
        {
          "output_type": "stream",
          "text": [
            "              precision    recall  f1-score   support\n",
            "\n",
            "           0       0.20      0.01      0.03     32609\n",
            "           1       0.20      0.11      0.14     16533\n",
            "           2       0.84      0.97      0.90    251543\n",
            "\n",
            "    accuracy                           0.82    300685\n",
            "   macro avg       0.41      0.36      0.36    300685\n",
            "weighted avg       0.74      0.82      0.77    300685\n",
            "\n"
          ],
          "name": "stdout"
        }
      ]
    }
  ]
}
