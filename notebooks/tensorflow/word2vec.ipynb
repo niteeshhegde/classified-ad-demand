{
  "nbformat": 4,
  "nbformat_minor": 0,
  "metadata": {
    "colab": {
      "name": "Final-w2v.ipynb",
      "provenance": [],
      "collapsed_sections": [],
      "machine_shape": "hm"
    },
    "kernelspec": {
      "name": "python3",
      "display_name": "Python 3"
    },
    "accelerator": "TPU"
  },
  "cells": [
    {
      "cell_type": "markdown",
      "metadata": {
        "id": "_eKSlqolJsNj",
        "colab_type": "text"
      },
      "source": [
        "# DeepLearning using Tensorflow"
      ]
    },
    {
      "cell_type": "markdown",
      "metadata": {
        "id": "v3JrvGU3Lzww",
        "colab_type": "text"
      },
      "source": [
        "## Data Preparation and Environment Setup"
      ]
    },
    {
      "cell_type": "markdown",
      "metadata": {
        "id": "816ABKkEL-Xa",
        "colab_type": "text"
      },
      "source": [
        "Second round of data preparation was essential and number of classes were reduced. \n",
        "\n",
        "Details in this [notebook](https://github.com/niteeshhegde/classified-ad-demand/blob/master/data-preprocessing/dataprep-pandas.ipynb) \n",
        "\n",
        "Google's Colab has free GPUs and users can run 2 sessions at a time.\n",
        "\n",
        "This notebook was run on colab with Python 3 and GPU with 36Gi RAM.\n",
        "\n",
        "Also here text data from Title and Description are taken intoo consideration.\n",
        "\n",
        "In this tensorflow model, word2vec russian is used for text embeddings"
      ]
    },
    {
      "cell_type": "markdown",
      "metadata": {
        "id": "cIUTUMElMha3",
        "colab_type": "text"
      },
      "source": [
        "Authenticate into gcp"
      ]
    },
    {
      "cell_type": "code",
      "metadata": {
        "id": "DJ-muVdcMcFz",
        "colab_type": "code",
        "colab": {}
      },
      "source": [
        "from google.colab import auth"
      ],
      "execution_count": null,
      "outputs": []
    },
    {
      "cell_type": "code",
      "metadata": {
        "id": "IT78Abl0MvhR",
        "colab_type": "code",
        "colab": {}
      },
      "source": [
        "auth.authenticate_user()"
      ],
      "execution_count": null,
      "outputs": []
    },
    {
      "cell_type": "code",
      "metadata": {
        "id": "oCqAZwAgM4vw",
        "colab_type": "code",
        "colab": {
          "base_uri": "https://localhost:8080/",
          "height": 34
        },
        "outputId": "1e855e64-f53e-4c99-8d72-566bba5eea87"
      },
      "source": [
        "!gcloud config set project skilful-orb-255314"
      ],
      "execution_count": null,
      "outputs": [
        {
          "output_type": "stream",
          "text": [
            "Updated property [core/project].\n"
          ],
          "name": "stdout"
        }
      ]
    },
    {
      "cell_type": "markdown",
      "metadata": {
        "id": "ZxidUi-cMovx",
        "colab_type": "text"
      },
      "source": [
        "Copy the dataset "
      ]
    },
    {
      "cell_type": "code",
      "metadata": {
        "id": "W0DykSBBNEHP",
        "colab_type": "code",
        "colab": {
          "base_uri": "https://localhost:8080/",
          "height": 68
        },
        "outputId": "46d595fd-b2fd-41bd-933f-ee86aeb5c849"
      },
      "source": [
        "!gsutil cp gs://dataproc-e3bd1f7b-2e29-4da6-a5c4-077c164fd32a-us-central1/avito/test/three_class_model_train_param_title_desc_params.csv /train.csv"
      ],
      "execution_count": null,
      "outputs": [
        {
          "output_type": "stream",
          "text": [
            "Copying gs://dataproc-e3bd1f7b-2e29-4da6-a5c4-077c164fd32a-us-central1/avito/test/three_class_model_train_param_title_desc_params.csv...\n",
            "/ [1 files][712.8 MiB/712.8 MiB]                                                \n",
            "Operation completed over 1 objects/712.8 MiB.                                    \n"
          ],
          "name": "stdout"
        }
      ]
    },
    {
      "cell_type": "markdown",
      "metadata": {
        "id": "4yjnFwwsM_9y",
        "colab_type": "text"
      },
      "source": [
        "Copy Russian Word2Vec Vectors"
      ]
    },
    {
      "cell_type": "code",
      "metadata": {
        "id": "pXT5n4rncoPK",
        "colab_type": "code",
        "colab": {
          "base_uri": "https://localhost:8080/",
          "height": 68
        },
        "outputId": "914155f1-4972-40ad-8c7d-0bb0ac41d3d5"
      },
      "source": [
        "!gsutil cp gs://dataproc-e3bd1f7b-2e29-4da6-a5c4-077c164fd32a-us-central1/avito/wiki.ru.vec /wiki.ru.vec"
      ],
      "execution_count": null,
      "outputs": [
        {
          "output_type": "stream",
          "text": [
            "Copying gs://dataproc-e3bd1f7b-2e29-4da6-a5c4-077c164fd32a-us-central1/avito/wiki.ru.vec...\n",
            "/ [1 files][  4.6 GiB/  4.6 GiB]   50.2 MiB/s                                   \n",
            "Operation completed over 1 objects/4.6 GiB.                                      \n"
          ],
          "name": "stdout"
        }
      ]
    },
    {
      "cell_type": "code",
      "metadata": {
        "id": "0tPzWPD3Nhzu",
        "colab_type": "code",
        "colab": {
          "base_uri": "https://localhost:8080/",
          "height": 394
        },
        "outputId": "78ca5e31-2364-4f27-d0ed-84274dfed973"
      },
      "source": [
        "!pip install gcsfs"
      ],
      "execution_count": null,
      "outputs": [
        {
          "output_type": "stream",
          "text": [
            "Collecting gcsfs\n",
            "  Downloading https://files.pythonhosted.org/packages/ce/5c/bc61dbd2e5b61d84486a96a64ca43512c9ac085487464562182f58406290/gcsfs-0.6.2-py2.py3-none-any.whl\n",
            "Requirement already satisfied: fsspec>=0.6.0 in /usr/local/lib/python3.6/dist-packages (from gcsfs) (0.7.4)\n",
            "Requirement already satisfied: requests in /usr/local/lib/python3.6/dist-packages (from gcsfs) (2.23.0)\n",
            "Requirement already satisfied: google-auth>=1.2 in /usr/local/lib/python3.6/dist-packages (from gcsfs) (1.17.2)\n",
            "Requirement already satisfied: google-auth-oauthlib in /usr/local/lib/python3.6/dist-packages (from gcsfs) (0.4.1)\n",
            "Requirement already satisfied: decorator in /usr/local/lib/python3.6/dist-packages (from gcsfs) (4.4.2)\n",
            "Requirement already satisfied: chardet<4,>=3.0.2 in /usr/local/lib/python3.6/dist-packages (from requests->gcsfs) (3.0.4)\n",
            "Requirement already satisfied: certifi>=2017.4.17 in /usr/local/lib/python3.6/dist-packages (from requests->gcsfs) (2020.6.20)\n",
            "Requirement already satisfied: idna<3,>=2.5 in /usr/local/lib/python3.6/dist-packages (from requests->gcsfs) (2.10)\n",
            "Requirement already satisfied: urllib3!=1.25.0,!=1.25.1,<1.26,>=1.21.1 in /usr/local/lib/python3.6/dist-packages (from requests->gcsfs) (1.24.3)\n",
            "Requirement already satisfied: rsa<5,>=3.1.4; python_version >= \"3\" in /usr/local/lib/python3.6/dist-packages (from google-auth>=1.2->gcsfs) (4.6)\n",
            "Requirement already satisfied: cachetools<5.0,>=2.0.0 in /usr/local/lib/python3.6/dist-packages (from google-auth>=1.2->gcsfs) (4.1.1)\n",
            "Requirement already satisfied: setuptools>=40.3.0 in /usr/local/lib/python3.6/dist-packages (from google-auth>=1.2->gcsfs) (49.1.0)\n",
            "Requirement already satisfied: pyasn1-modules>=0.2.1 in /usr/local/lib/python3.6/dist-packages (from google-auth>=1.2->gcsfs) (0.2.8)\n",
            "Requirement already satisfied: six>=1.9.0 in /usr/local/lib/python3.6/dist-packages (from google-auth>=1.2->gcsfs) (1.12.0)\n",
            "Requirement already satisfied: requests-oauthlib>=0.7.0 in /usr/local/lib/python3.6/dist-packages (from google-auth-oauthlib->gcsfs) (1.3.0)\n",
            "Requirement already satisfied: pyasn1>=0.1.3 in /usr/local/lib/python3.6/dist-packages (from rsa<5,>=3.1.4; python_version >= \"3\"->google-auth>=1.2->gcsfs) (0.4.8)\n",
            "Requirement already satisfied: oauthlib>=3.0.0 in /usr/local/lib/python3.6/dist-packages (from requests-oauthlib>=0.7.0->google-auth-oauthlib->gcsfs) (3.1.0)\n",
            "Installing collected packages: gcsfs\n",
            "Successfully installed gcsfs-0.6.2\n"
          ],
          "name": "stdout"
        }
      ]
    },
    {
      "cell_type": "code",
      "metadata": {
        "id": "R-zNZGvtNJ_E",
        "colab_type": "code",
        "colab": {}
      },
      "source": [
        "import pandas as pd\n",
        "import numpy as np\n",
        "import gcsfs"
      ],
      "execution_count": null,
      "outputs": []
    },
    {
      "cell_type": "code",
      "metadata": {
        "id": "H1KvhFWCN66w",
        "colab_type": "code",
        "colab": {
          "base_uri": "https://localhost:8080/",
          "height": 71
        },
        "outputId": "805833a9-ba84-432a-8568-5e325e48a90e"
      },
      "source": [
        "from sklearn.model_selection import train_test_split\n",
        "from sklearn.metrics import accuracy_score\n",
        "import matplotlib.pyplot as plt\n",
        "import seaborn as sns\n",
        "from sklearn import preprocessing\n",
        "from sklearn.preprocessing import LabelEncoder, OneHotEncoder\n",
        "from sklearn.preprocessing import StandardScaler\n",
        "from sklearn.metrics import classification_report\n",
        "from sklearn.metrics import f1_score\n",
        "from sklearn.utils import resample\n",
        "from sklearn.model_selection import GridSearchCV\n",
        "from sklearn.metrics import confusion_matrix \n",
        "import time"
      ],
      "execution_count": null,
      "outputs": [
        {
          "output_type": "stream",
          "text": [
            "/usr/local/lib/python3.6/dist-packages/statsmodels/tools/_testing.py:19: FutureWarning: pandas.util.testing is deprecated. Use the functions in the public API at pandas.testing instead.\n",
            "  import pandas.util.testing as tm\n"
          ],
          "name": "stderr"
        }
      ]
    },
    {
      "cell_type": "markdown",
      "metadata": {
        "id": "FPQjMdnyNH6K",
        "colab_type": "text"
      },
      "source": [
        "Get Embeddings frm word vectors"
      ]
    },
    {
      "cell_type": "code",
      "metadata": {
        "id": "Qb0P99GYcMSZ",
        "colab_type": "code",
        "colab": {}
      },
      "source": [
        "def get_coefs(word, *arr): \n",
        "    return word, np.asarray(arr, dtype='float32')\n",
        "\n",
        "embeddings_index = dict(get_coefs(*o.rstrip().rsplit(' ')) for o in open('/wiki.ru.vec'))"
      ],
      "execution_count": null,
      "outputs": []
    },
    {
      "cell_type": "code",
      "metadata": {
        "id": "nbu7MaC3NNyU",
        "colab_type": "code",
        "colab": {
          "base_uri": "https://localhost:8080/",
          "height": 360
        },
        "outputId": "a1d328ef-c0e7-43ad-c537-a24c0a3fc7d6"
      },
      "source": [
        "df_train = pd.read_csv('/train.csv')\n",
        "df_train.head()"
      ],
      "execution_count": null,
      "outputs": [
        {
          "output_type": "execute_result",
          "data": {
            "text/html": [
              "<div>\n",
              "<style scoped>\n",
              "    .dataframe tbody tr th:only-of-type {\n",
              "        vertical-align: middle;\n",
              "    }\n",
              "\n",
              "    .dataframe tbody tr th {\n",
              "        vertical-align: top;\n",
              "    }\n",
              "\n",
              "    .dataframe thead th {\n",
              "        text-align: right;\n",
              "    }\n",
              "</style>\n",
              "<table border=\"1\" class=\"dataframe\">\n",
              "  <thead>\n",
              "    <tr style=\"text-align: right;\">\n",
              "      <th></th>\n",
              "      <th>region_en</th>\n",
              "      <th>category_name_en</th>\n",
              "      <th>parent_category_name_en</th>\n",
              "      <th>user_type</th>\n",
              "      <th>weekend</th>\n",
              "      <th>price</th>\n",
              "      <th>description</th>\n",
              "      <th>title</th>\n",
              "      <th>param_1</th>\n",
              "      <th>param_2</th>\n",
              "      <th>param_3</th>\n",
              "      <th>description_len</th>\n",
              "      <th>title_len</th>\n",
              "      <th>param_1_len</th>\n",
              "      <th>param_2_len</th>\n",
              "      <th>param_3_len</th>\n",
              "      <th>item_seq_number</th>\n",
              "      <th>image_present</th>\n",
              "      <th>image_top_1</th>\n",
              "      <th>deal_class_5</th>\n",
              "    </tr>\n",
              "  </thead>\n",
              "  <tbody>\n",
              "    <tr>\n",
              "      <th>0</th>\n",
              "      <td>Sverdlovsk oblast</td>\n",
              "      <td>Children's products and toys</td>\n",
              "      <td>Personal belongings</td>\n",
              "      <td>Private</td>\n",
              "      <td>0</td>\n",
              "      <td>400.0</td>\n",
              "      <td>Кокон для сна малыша,пользовались меньше месяц...</td>\n",
              "      <td>Кокоби(кокон для сна)</td>\n",
              "      <td>Постельные принадлежности</td>\n",
              "      <td></td>\n",
              "      <td></td>\n",
              "      <td>7</td>\n",
              "      <td>3</td>\n",
              "      <td>2</td>\n",
              "      <td>0</td>\n",
              "      <td>0</td>\n",
              "      <td>2</td>\n",
              "      <td>False</td>\n",
              "      <td>1008.0</td>\n",
              "      <td>Poor</td>\n",
              "    </tr>\n",
              "    <tr>\n",
              "      <th>1</th>\n",
              "      <td>Samara oblast</td>\n",
              "      <td>Furniture and interior</td>\n",
              "      <td>For the home and garden</td>\n",
              "      <td>Private</td>\n",
              "      <td>1</td>\n",
              "      <td>3000.0</td>\n",
              "      <td>Стойка для одежды, под вешалки. С бутика.</td>\n",
              "      <td>Стойка для Одежды</td>\n",
              "      <td>Другое</td>\n",
              "      <td></td>\n",
              "      <td></td>\n",
              "      <td>7</td>\n",
              "      <td>3</td>\n",
              "      <td>1</td>\n",
              "      <td>0</td>\n",
              "      <td>0</td>\n",
              "      <td>19</td>\n",
              "      <td>False</td>\n",
              "      <td>692.0</td>\n",
              "      <td>Poor</td>\n",
              "    </tr>\n",
              "    <tr>\n",
              "      <th>2</th>\n",
              "      <td>Rostov oblast</td>\n",
              "      <td>Audio and video</td>\n",
              "      <td>Consumer electronics</td>\n",
              "      <td>Private</td>\n",
              "      <td>1</td>\n",
              "      <td>4000.0</td>\n",
              "      <td>В хорошем состоянии, домашний кинотеатр с blu ...</td>\n",
              "      <td>Philips bluray</td>\n",
              "      <td>Видео, DVD и Blu-ray плееры</td>\n",
              "      <td></td>\n",
              "      <td></td>\n",
              "      <td>17</td>\n",
              "      <td>2</td>\n",
              "      <td>5</td>\n",
              "      <td>0</td>\n",
              "      <td>0</td>\n",
              "      <td>9</td>\n",
              "      <td>False</td>\n",
              "      <td>3032.0</td>\n",
              "      <td>Okay</td>\n",
              "    </tr>\n",
              "    <tr>\n",
              "      <th>3</th>\n",
              "      <td>Tatarstan</td>\n",
              "      <td>Children's products and toys</td>\n",
              "      <td>Personal belongings</td>\n",
              "      <td>Company</td>\n",
              "      <td>0</td>\n",
              "      <td>2200.0</td>\n",
              "      <td>Продам кресло от0-25кг</td>\n",
              "      <td>Автокресло</td>\n",
              "      <td>Автомобильные кресла</td>\n",
              "      <td></td>\n",
              "      <td></td>\n",
              "      <td>3</td>\n",
              "      <td>1</td>\n",
              "      <td>2</td>\n",
              "      <td>0</td>\n",
              "      <td>0</td>\n",
              "      <td>286</td>\n",
              "      <td>False</td>\n",
              "      <td>796.0</td>\n",
              "      <td>Good</td>\n",
              "    </tr>\n",
              "    <tr>\n",
              "      <th>4</th>\n",
              "      <td>Volgograd oblast</td>\n",
              "      <td>Cars</td>\n",
              "      <td>Transport</td>\n",
              "      <td>Private</td>\n",
              "      <td>0</td>\n",
              "      <td>40000.0</td>\n",
              "      <td>Все вопросы по телефону.</td>\n",
              "      <td>ВАЗ 2110, 2003</td>\n",
              "      <td>С пробегом</td>\n",
              "      <td>ВАЗ (LADA)</td>\n",
              "      <td>2110</td>\n",
              "      <td>4</td>\n",
              "      <td>3</td>\n",
              "      <td>2</td>\n",
              "      <td>2</td>\n",
              "      <td>1</td>\n",
              "      <td>3</td>\n",
              "      <td>False</td>\n",
              "      <td>2264.0</td>\n",
              "      <td>Poor</td>\n",
              "    </tr>\n",
              "  </tbody>\n",
              "</table>\n",
              "</div>"
            ],
            "text/plain": [
              "           region_en              category_name_en  ... image_top_1 deal_class_5\n",
              "0  Sverdlovsk oblast  Children's products and toys  ...      1008.0         Poor\n",
              "1      Samara oblast        Furniture and interior  ...       692.0         Poor\n",
              "2      Rostov oblast               Audio and video  ...      3032.0         Okay\n",
              "3          Tatarstan  Children's products and toys  ...       796.0         Good\n",
              "4   Volgograd oblast                          Cars  ...      2264.0         Poor\n",
              "\n",
              "[5 rows x 20 columns]"
            ]
          },
          "metadata": {
            "tags": []
          },
          "execution_count": 11
        }
      ]
    },
    {
      "cell_type": "code",
      "metadata": {
        "id": "LlAgt2jcNqBj",
        "colab_type": "code",
        "colab": {
          "base_uri": "https://localhost:8080/",
          "height": 423
        },
        "outputId": "c2c675d0-ad8d-43d2-920d-8691e5306e71"
      },
      "source": [
        "X = df_train[['region_en','category_name_en','user_type','weekend','price','description','description_len','title','title_len','param_1_len','param_2_len','param_3_len','param_1','param_2','param_3']]\n",
        "y = df_train[['deal_class_5']]\n",
        "X_enc = pd.get_dummies(X, columns=['region_en','user_type','category_name_en'], drop_first = True)\n",
        "X_enc.head()"
      ],
      "execution_count": null,
      "outputs": [
        {
          "output_type": "execute_result",
          "data": {
            "text/html": [
              "<div>\n",
              "<style scoped>\n",
              "    .dataframe tbody tr th:only-of-type {\n",
              "        vertical-align: middle;\n",
              "    }\n",
              "\n",
              "    .dataframe tbody tr th {\n",
              "        vertical-align: top;\n",
              "    }\n",
              "\n",
              "    .dataframe thead th {\n",
              "        text-align: right;\n",
              "    }\n",
              "</style>\n",
              "<table border=\"1\" class=\"dataframe\">\n",
              "  <thead>\n",
              "    <tr style=\"text-align: right;\">\n",
              "      <th></th>\n",
              "      <th>weekend</th>\n",
              "      <th>price</th>\n",
              "      <th>description</th>\n",
              "      <th>description_len</th>\n",
              "      <th>title</th>\n",
              "      <th>title_len</th>\n",
              "      <th>param_1_len</th>\n",
              "      <th>param_2_len</th>\n",
              "      <th>param_3_len</th>\n",
              "      <th>param_1</th>\n",
              "      <th>param_2</th>\n",
              "      <th>param_3</th>\n",
              "      <th>region_en_Bashkortostan</th>\n",
              "      <th>region_en_Belgorod oblast</th>\n",
              "      <th>region_en_Chelyabinsk oblast</th>\n",
              "      <th>region_en_Irkutsk oblast</th>\n",
              "      <th>region_en_Kaliningrad oblast</th>\n",
              "      <th>region_en_Kemerovo oblast</th>\n",
              "      <th>region_en_Khanty-Mansi Autonomous Okrug</th>\n",
              "      <th>region_en_Krasnodar Krai</th>\n",
              "      <th>region_en_Krasnoyarsk Krai</th>\n",
              "      <th>region_en_Nizhny Novgorod oblast</th>\n",
              "      <th>region_en_Novosibirsk oblast</th>\n",
              "      <th>region_en_Omsk oblast</th>\n",
              "      <th>region_en_Orenburg oblast</th>\n",
              "      <th>region_en_Perm Krai</th>\n",
              "      <th>region_en_Rostov oblast</th>\n",
              "      <th>region_en_Samara oblast</th>\n",
              "      <th>region_en_Saratov oblast</th>\n",
              "      <th>region_en_Stavropol Krai</th>\n",
              "      <th>region_en_Sverdlovsk oblast</th>\n",
              "      <th>region_en_Tatarstan</th>\n",
              "      <th>region_en_Tula oblast</th>\n",
              "      <th>region_en_Tyumen oblast</th>\n",
              "      <th>region_en_Udmurtia</th>\n",
              "      <th>region_en_Vladimir oblast</th>\n",
              "      <th>region_en_Volgograd oblast</th>\n",
              "      <th>region_en_Voronezh oblast</th>\n",
              "      <th>region_en_Yaroslavl oblast</th>\n",
              "      <th>user_type_Private</th>\n",
              "      <th>...</th>\n",
              "      <th>category_name_en_Cars</th>\n",
              "      <th>category_name_en_Cats</th>\n",
              "      <th>category_name_en_Children's clothing and shoes</th>\n",
              "      <th>category_name_en_Children's products and toys</th>\n",
              "      <th>category_name_en_Clothing, shoes, accessories</th>\n",
              "      <th>category_name_en_Collecting</th>\n",
              "      <th>category_name_en_Commercial property</th>\n",
              "      <th>category_name_en_Desktop computers</th>\n",
              "      <th>category_name_en_Dogs</th>\n",
              "      <th>category_name_en_Equipment for business</th>\n",
              "      <th>category_name_en_Food</th>\n",
              "      <th>category_name_en_Furniture and interior</th>\n",
              "      <th>category_name_en_Games, consoles and software</th>\n",
              "      <th>category_name_en_Garages and Parking spaces</th>\n",
              "      <th>category_name_en_Health and beauty</th>\n",
              "      <th>category_name_en_Houses, villas, cottages</th>\n",
              "      <th>category_name_en_Hunting and fishing</th>\n",
              "      <th>category_name_en_Land</th>\n",
              "      <th>category_name_en_Laptops</th>\n",
              "      <th>category_name_en_Motorcycles and bikes</th>\n",
              "      <th>category_name_en_Musical instruments</th>\n",
              "      <th>category_name_en_Offer services</th>\n",
              "      <th>category_name_en_Office equipment and consumables</th>\n",
              "      <th>category_name_en_Other animals</th>\n",
              "      <th>category_name_en_Pet products</th>\n",
              "      <th>category_name_en_Phones</th>\n",
              "      <th>category_name_en_Photo</th>\n",
              "      <th>category_name_en_Plants</th>\n",
              "      <th>category_name_en_Products for computer</th>\n",
              "      <th>category_name_en_Property abroad</th>\n",
              "      <th>category_name_en_Ready business</th>\n",
              "      <th>category_name_en_Repair and construction</th>\n",
              "      <th>category_name_en_Room</th>\n",
              "      <th>category_name_en_Sports and recreation</th>\n",
              "      <th>category_name_en_Tablets and e-books</th>\n",
              "      <th>category_name_en_Tableware and goods for kitchen</th>\n",
              "      <th>category_name_en_Tickets and travel</th>\n",
              "      <th>category_name_en_Trucks and buses</th>\n",
              "      <th>category_name_en_Watches and jewelry</th>\n",
              "      <th>category_name_en_Water transport</th>\n",
              "    </tr>\n",
              "  </thead>\n",
              "  <tbody>\n",
              "    <tr>\n",
              "      <th>0</th>\n",
              "      <td>0</td>\n",
              "      <td>400.0</td>\n",
              "      <td>Кокон для сна малыша,пользовались меньше месяц...</td>\n",
              "      <td>7</td>\n",
              "      <td>Кокоби(кокон для сна)</td>\n",
              "      <td>3</td>\n",
              "      <td>2</td>\n",
              "      <td>0</td>\n",
              "      <td>0</td>\n",
              "      <td>Постельные принадлежности</td>\n",
              "      <td></td>\n",
              "      <td></td>\n",
              "      <td>0</td>\n",
              "      <td>0</td>\n",
              "      <td>0</td>\n",
              "      <td>0</td>\n",
              "      <td>0</td>\n",
              "      <td>0</td>\n",
              "      <td>0</td>\n",
              "      <td>0</td>\n",
              "      <td>0</td>\n",
              "      <td>0</td>\n",
              "      <td>0</td>\n",
              "      <td>0</td>\n",
              "      <td>0</td>\n",
              "      <td>0</td>\n",
              "      <td>0</td>\n",
              "      <td>0</td>\n",
              "      <td>0</td>\n",
              "      <td>0</td>\n",
              "      <td>1</td>\n",
              "      <td>0</td>\n",
              "      <td>0</td>\n",
              "      <td>0</td>\n",
              "      <td>0</td>\n",
              "      <td>0</td>\n",
              "      <td>0</td>\n",
              "      <td>0</td>\n",
              "      <td>0</td>\n",
              "      <td>1</td>\n",
              "      <td>...</td>\n",
              "      <td>0</td>\n",
              "      <td>0</td>\n",
              "      <td>0</td>\n",
              "      <td>1</td>\n",
              "      <td>0</td>\n",
              "      <td>0</td>\n",
              "      <td>0</td>\n",
              "      <td>0</td>\n",
              "      <td>0</td>\n",
              "      <td>0</td>\n",
              "      <td>0</td>\n",
              "      <td>0</td>\n",
              "      <td>0</td>\n",
              "      <td>0</td>\n",
              "      <td>0</td>\n",
              "      <td>0</td>\n",
              "      <td>0</td>\n",
              "      <td>0</td>\n",
              "      <td>0</td>\n",
              "      <td>0</td>\n",
              "      <td>0</td>\n",
              "      <td>0</td>\n",
              "      <td>0</td>\n",
              "      <td>0</td>\n",
              "      <td>0</td>\n",
              "      <td>0</td>\n",
              "      <td>0</td>\n",
              "      <td>0</td>\n",
              "      <td>0</td>\n",
              "      <td>0</td>\n",
              "      <td>0</td>\n",
              "      <td>0</td>\n",
              "      <td>0</td>\n",
              "      <td>0</td>\n",
              "      <td>0</td>\n",
              "      <td>0</td>\n",
              "      <td>0</td>\n",
              "      <td>0</td>\n",
              "      <td>0</td>\n",
              "      <td>0</td>\n",
              "    </tr>\n",
              "    <tr>\n",
              "      <th>1</th>\n",
              "      <td>1</td>\n",
              "      <td>3000.0</td>\n",
              "      <td>Стойка для одежды, под вешалки. С бутика.</td>\n",
              "      <td>7</td>\n",
              "      <td>Стойка для Одежды</td>\n",
              "      <td>3</td>\n",
              "      <td>1</td>\n",
              "      <td>0</td>\n",
              "      <td>0</td>\n",
              "      <td>Другое</td>\n",
              "      <td></td>\n",
              "      <td></td>\n",
              "      <td>0</td>\n",
              "      <td>0</td>\n",
              "      <td>0</td>\n",
              "      <td>0</td>\n",
              "      <td>0</td>\n",
              "      <td>0</td>\n",
              "      <td>0</td>\n",
              "      <td>0</td>\n",
              "      <td>0</td>\n",
              "      <td>0</td>\n",
              "      <td>0</td>\n",
              "      <td>0</td>\n",
              "      <td>0</td>\n",
              "      <td>0</td>\n",
              "      <td>0</td>\n",
              "      <td>1</td>\n",
              "      <td>0</td>\n",
              "      <td>0</td>\n",
              "      <td>0</td>\n",
              "      <td>0</td>\n",
              "      <td>0</td>\n",
              "      <td>0</td>\n",
              "      <td>0</td>\n",
              "      <td>0</td>\n",
              "      <td>0</td>\n",
              "      <td>0</td>\n",
              "      <td>0</td>\n",
              "      <td>1</td>\n",
              "      <td>...</td>\n",
              "      <td>0</td>\n",
              "      <td>0</td>\n",
              "      <td>0</td>\n",
              "      <td>0</td>\n",
              "      <td>0</td>\n",
              "      <td>0</td>\n",
              "      <td>0</td>\n",
              "      <td>0</td>\n",
              "      <td>0</td>\n",
              "      <td>0</td>\n",
              "      <td>0</td>\n",
              "      <td>1</td>\n",
              "      <td>0</td>\n",
              "      <td>0</td>\n",
              "      <td>0</td>\n",
              "      <td>0</td>\n",
              "      <td>0</td>\n",
              "      <td>0</td>\n",
              "      <td>0</td>\n",
              "      <td>0</td>\n",
              "      <td>0</td>\n",
              "      <td>0</td>\n",
              "      <td>0</td>\n",
              "      <td>0</td>\n",
              "      <td>0</td>\n",
              "      <td>0</td>\n",
              "      <td>0</td>\n",
              "      <td>0</td>\n",
              "      <td>0</td>\n",
              "      <td>0</td>\n",
              "      <td>0</td>\n",
              "      <td>0</td>\n",
              "      <td>0</td>\n",
              "      <td>0</td>\n",
              "      <td>0</td>\n",
              "      <td>0</td>\n",
              "      <td>0</td>\n",
              "      <td>0</td>\n",
              "      <td>0</td>\n",
              "      <td>0</td>\n",
              "    </tr>\n",
              "    <tr>\n",
              "      <th>2</th>\n",
              "      <td>1</td>\n",
              "      <td>4000.0</td>\n",
              "      <td>В хорошем состоянии, домашний кинотеатр с blu ...</td>\n",
              "      <td>17</td>\n",
              "      <td>Philips bluray</td>\n",
              "      <td>2</td>\n",
              "      <td>5</td>\n",
              "      <td>0</td>\n",
              "      <td>0</td>\n",
              "      <td>Видео, DVD и Blu-ray плееры</td>\n",
              "      <td></td>\n",
              "      <td></td>\n",
              "      <td>0</td>\n",
              "      <td>0</td>\n",
              "      <td>0</td>\n",
              "      <td>0</td>\n",
              "      <td>0</td>\n",
              "      <td>0</td>\n",
              "      <td>0</td>\n",
              "      <td>0</td>\n",
              "      <td>0</td>\n",
              "      <td>0</td>\n",
              "      <td>0</td>\n",
              "      <td>0</td>\n",
              "      <td>0</td>\n",
              "      <td>0</td>\n",
              "      <td>1</td>\n",
              "      <td>0</td>\n",
              "      <td>0</td>\n",
              "      <td>0</td>\n",
              "      <td>0</td>\n",
              "      <td>0</td>\n",
              "      <td>0</td>\n",
              "      <td>0</td>\n",
              "      <td>0</td>\n",
              "      <td>0</td>\n",
              "      <td>0</td>\n",
              "      <td>0</td>\n",
              "      <td>0</td>\n",
              "      <td>1</td>\n",
              "      <td>...</td>\n",
              "      <td>0</td>\n",
              "      <td>0</td>\n",
              "      <td>0</td>\n",
              "      <td>0</td>\n",
              "      <td>0</td>\n",
              "      <td>0</td>\n",
              "      <td>0</td>\n",
              "      <td>0</td>\n",
              "      <td>0</td>\n",
              "      <td>0</td>\n",
              "      <td>0</td>\n",
              "      <td>0</td>\n",
              "      <td>0</td>\n",
              "      <td>0</td>\n",
              "      <td>0</td>\n",
              "      <td>0</td>\n",
              "      <td>0</td>\n",
              "      <td>0</td>\n",
              "      <td>0</td>\n",
              "      <td>0</td>\n",
              "      <td>0</td>\n",
              "      <td>0</td>\n",
              "      <td>0</td>\n",
              "      <td>0</td>\n",
              "      <td>0</td>\n",
              "      <td>0</td>\n",
              "      <td>0</td>\n",
              "      <td>0</td>\n",
              "      <td>0</td>\n",
              "      <td>0</td>\n",
              "      <td>0</td>\n",
              "      <td>0</td>\n",
              "      <td>0</td>\n",
              "      <td>0</td>\n",
              "      <td>0</td>\n",
              "      <td>0</td>\n",
              "      <td>0</td>\n",
              "      <td>0</td>\n",
              "      <td>0</td>\n",
              "      <td>0</td>\n",
              "    </tr>\n",
              "    <tr>\n",
              "      <th>3</th>\n",
              "      <td>0</td>\n",
              "      <td>2200.0</td>\n",
              "      <td>Продам кресло от0-25кг</td>\n",
              "      <td>3</td>\n",
              "      <td>Автокресло</td>\n",
              "      <td>1</td>\n",
              "      <td>2</td>\n",
              "      <td>0</td>\n",
              "      <td>0</td>\n",
              "      <td>Автомобильные кресла</td>\n",
              "      <td></td>\n",
              "      <td></td>\n",
              "      <td>0</td>\n",
              "      <td>0</td>\n",
              "      <td>0</td>\n",
              "      <td>0</td>\n",
              "      <td>0</td>\n",
              "      <td>0</td>\n",
              "      <td>0</td>\n",
              "      <td>0</td>\n",
              "      <td>0</td>\n",
              "      <td>0</td>\n",
              "      <td>0</td>\n",
              "      <td>0</td>\n",
              "      <td>0</td>\n",
              "      <td>0</td>\n",
              "      <td>0</td>\n",
              "      <td>0</td>\n",
              "      <td>0</td>\n",
              "      <td>0</td>\n",
              "      <td>0</td>\n",
              "      <td>1</td>\n",
              "      <td>0</td>\n",
              "      <td>0</td>\n",
              "      <td>0</td>\n",
              "      <td>0</td>\n",
              "      <td>0</td>\n",
              "      <td>0</td>\n",
              "      <td>0</td>\n",
              "      <td>0</td>\n",
              "      <td>...</td>\n",
              "      <td>0</td>\n",
              "      <td>0</td>\n",
              "      <td>0</td>\n",
              "      <td>1</td>\n",
              "      <td>0</td>\n",
              "      <td>0</td>\n",
              "      <td>0</td>\n",
              "      <td>0</td>\n",
              "      <td>0</td>\n",
              "      <td>0</td>\n",
              "      <td>0</td>\n",
              "      <td>0</td>\n",
              "      <td>0</td>\n",
              "      <td>0</td>\n",
              "      <td>0</td>\n",
              "      <td>0</td>\n",
              "      <td>0</td>\n",
              "      <td>0</td>\n",
              "      <td>0</td>\n",
              "      <td>0</td>\n",
              "      <td>0</td>\n",
              "      <td>0</td>\n",
              "      <td>0</td>\n",
              "      <td>0</td>\n",
              "      <td>0</td>\n",
              "      <td>0</td>\n",
              "      <td>0</td>\n",
              "      <td>0</td>\n",
              "      <td>0</td>\n",
              "      <td>0</td>\n",
              "      <td>0</td>\n",
              "      <td>0</td>\n",
              "      <td>0</td>\n",
              "      <td>0</td>\n",
              "      <td>0</td>\n",
              "      <td>0</td>\n",
              "      <td>0</td>\n",
              "      <td>0</td>\n",
              "      <td>0</td>\n",
              "      <td>0</td>\n",
              "    </tr>\n",
              "    <tr>\n",
              "      <th>4</th>\n",
              "      <td>0</td>\n",
              "      <td>40000.0</td>\n",
              "      <td>Все вопросы по телефону.</td>\n",
              "      <td>4</td>\n",
              "      <td>ВАЗ 2110, 2003</td>\n",
              "      <td>3</td>\n",
              "      <td>2</td>\n",
              "      <td>2</td>\n",
              "      <td>1</td>\n",
              "      <td>С пробегом</td>\n",
              "      <td>ВАЗ (LADA)</td>\n",
              "      <td>2110</td>\n",
              "      <td>0</td>\n",
              "      <td>0</td>\n",
              "      <td>0</td>\n",
              "      <td>0</td>\n",
              "      <td>0</td>\n",
              "      <td>0</td>\n",
              "      <td>0</td>\n",
              "      <td>0</td>\n",
              "      <td>0</td>\n",
              "      <td>0</td>\n",
              "      <td>0</td>\n",
              "      <td>0</td>\n",
              "      <td>0</td>\n",
              "      <td>0</td>\n",
              "      <td>0</td>\n",
              "      <td>0</td>\n",
              "      <td>0</td>\n",
              "      <td>0</td>\n",
              "      <td>0</td>\n",
              "      <td>0</td>\n",
              "      <td>0</td>\n",
              "      <td>0</td>\n",
              "      <td>0</td>\n",
              "      <td>0</td>\n",
              "      <td>1</td>\n",
              "      <td>0</td>\n",
              "      <td>0</td>\n",
              "      <td>1</td>\n",
              "      <td>...</td>\n",
              "      <td>1</td>\n",
              "      <td>0</td>\n",
              "      <td>0</td>\n",
              "      <td>0</td>\n",
              "      <td>0</td>\n",
              "      <td>0</td>\n",
              "      <td>0</td>\n",
              "      <td>0</td>\n",
              "      <td>0</td>\n",
              "      <td>0</td>\n",
              "      <td>0</td>\n",
              "      <td>0</td>\n",
              "      <td>0</td>\n",
              "      <td>0</td>\n",
              "      <td>0</td>\n",
              "      <td>0</td>\n",
              "      <td>0</td>\n",
              "      <td>0</td>\n",
              "      <td>0</td>\n",
              "      <td>0</td>\n",
              "      <td>0</td>\n",
              "      <td>0</td>\n",
              "      <td>0</td>\n",
              "      <td>0</td>\n",
              "      <td>0</td>\n",
              "      <td>0</td>\n",
              "      <td>0</td>\n",
              "      <td>0</td>\n",
              "      <td>0</td>\n",
              "      <td>0</td>\n",
              "      <td>0</td>\n",
              "      <td>0</td>\n",
              "      <td>0</td>\n",
              "      <td>0</td>\n",
              "      <td>0</td>\n",
              "      <td>0</td>\n",
              "      <td>0</td>\n",
              "      <td>0</td>\n",
              "      <td>0</td>\n",
              "      <td>0</td>\n",
              "    </tr>\n",
              "  </tbody>\n",
              "</table>\n",
              "<p>5 rows × 87 columns</p>\n",
              "</div>"
            ],
            "text/plain": [
              "   weekend  ...  category_name_en_Water transport\n",
              "0        0  ...                                 0\n",
              "1        1  ...                                 0\n",
              "2        1  ...                                 0\n",
              "3        0  ...                                 0\n",
              "4        0  ...                                 0\n",
              "\n",
              "[5 rows x 87 columns]"
            ]
          },
          "metadata": {
            "tags": []
          },
          "execution_count": 12
        }
      ]
    },
    {
      "cell_type": "markdown",
      "metadata": {
        "id": "TSVHADLtNQ_s",
        "colab_type": "text"
      },
      "source": [
        "## Stopwords Removal"
      ]
    },
    {
      "cell_type": "code",
      "metadata": {
        "id": "wgpmXmiGJa-g",
        "colab_type": "code",
        "colab": {}
      },
      "source": [
        "import nltk\n",
        "from nltk.corpus import stopwords\n",
        "from sklearn.feature_extraction.text import CountVectorizer, TfidfVectorizer\n",
        "import re, string, timeit"
      ],
      "execution_count": null,
      "outputs": []
    },
    {
      "cell_type": "code",
      "metadata": {
        "id": "ov_l2V19bGOY",
        "colab_type": "code",
        "colab": {
          "base_uri": "https://localhost:8080/",
          "height": 51
        },
        "outputId": "b611b192-95ba-4169-b739-480aa6182058"
      },
      "source": [
        "nltk.download(\"stopwords\")\n",
        "stopWords = stopwords.words('russian')"
      ],
      "execution_count": null,
      "outputs": [
        {
          "output_type": "stream",
          "text": [
            "[nltk_data] Downloading package stopwords to /root/nltk_data...\n",
            "[nltk_data]   Unzipping corpora/stopwords.zip.\n"
          ],
          "name": "stdout"
        }
      ]
    },
    {
      "cell_type": "markdown",
      "metadata": {
        "id": "p9d-yhCGOHBw",
        "colab_type": "text"
      },
      "source": [
        "Remove special Characters, numbers and words with len < 2 for title and description"
      ]
    },
    {
      "cell_type": "code",
      "metadata": {
        "id": "BfrO5Jd7K5zi",
        "colab_type": "code",
        "colab": {}
      },
      "source": [
        "X_enc['description_non_stop'] = X_enc['description'].str.replace(r'\\d+','')\n",
        "X_enc['description_non_stop'] = X_enc['description_non_stop'].apply(lambda x: ' '.join([re.sub(r'[^\\w\\s]',' ',word) for word in x.split()]))\n",
        "X_enc['description_non_stop'] = X_enc['description_non_stop'].apply(lambda x: ' '.join([word.lower().strip() for word in x.split() if word.lower().strip() not in (stopWords) and len(word)>=3 ]))"
      ],
      "execution_count": null,
      "outputs": []
    },
    {
      "cell_type": "code",
      "metadata": {
        "id": "OFq7nxgtJQI3",
        "colab_type": "code",
        "colab": {}
      },
      "source": [
        "X_enc['title_non_stop'] = X_enc['title'].str.replace(r'\\d+','')\n",
        "X_enc['title_non_stop'] = X_enc['title_non_stop'].apply(lambda x: ' '.join([re.sub(r'[^\\w\\s]',' ',word) for word in x.split()]))\n",
        "X_enc['title_non_stop'] = X_enc['title_non_stop'].apply(lambda x: ' '.join([word.lower().strip() for word in x.split() if word.lower().strip() not in (stopWords) and len(word)>=3 ]))"
      ],
      "execution_count": null,
      "outputs": []
    },
    {
      "cell_type": "markdown",
      "metadata": {
        "id": "qmuoTftINcj7",
        "colab_type": "text"
      },
      "source": [
        "## Resampling the data"
      ]
    },
    {
      "cell_type": "code",
      "metadata": {
        "id": "-sjcxzCQGri2",
        "colab_type": "code",
        "colab": {
          "base_uri": "https://localhost:8080/",
          "height": 34
        },
        "outputId": "45b8e01d-643a-4a62-b94a-e5cc18859bd2"
      },
      "source": [
        "from sklearn.utils import resample\n",
        "from keras.preprocessing import text, sequence"
      ],
      "execution_count": null,
      "outputs": [
        {
          "output_type": "stream",
          "text": [
            "Using TensorFlow backend.\n"
          ],
          "name": "stderr"
        }
      ]
    },
    {
      "cell_type": "code",
      "metadata": {
        "id": "xSX9lNdIGlg4",
        "colab_type": "code",
        "colab": {}
      },
      "source": [
        "X_train, X_test, y_train, y_test = train_test_split(X_enc, y, test_size = 0.20, random_state = 42, stratify=y)"
      ],
      "execution_count": null,
      "outputs": []
    },
    {
      "cell_type": "code",
      "metadata": {
        "id": "m3D3ikuJGsX3",
        "colab_type": "code",
        "colab": {
          "base_uri": "https://localhost:8080/",
          "height": 323
        },
        "outputId": "3b73c2c2-b7c2-456b-a8c1-e45dbfd48dba"
      },
      "source": [
        "LE = LabelEncoder()\n",
        "y_train['deal_class_5'] = LE.fit_transform(y_train.deal_class_5)\n",
        "y_test['deal_class_5'] = LE.fit_transform(y_test.deal_class_5)\n",
        "X_train['deal_class_5'] = y_train['deal_class_5']"
      ],
      "execution_count": null,
      "outputs": [
        {
          "output_type": "stream",
          "text": [
            "/usr/local/lib/python3.6/dist-packages/ipykernel_launcher.py:2: SettingWithCopyWarning: \n",
            "A value is trying to be set on a copy of a slice from a DataFrame.\n",
            "Try using .loc[row_indexer,col_indexer] = value instead\n",
            "\n",
            "See the caveats in the documentation: https://pandas.pydata.org/pandas-docs/stable/user_guide/indexing.html#returning-a-view-versus-a-copy\n",
            "  \n",
            "/usr/local/lib/python3.6/dist-packages/ipykernel_launcher.py:3: SettingWithCopyWarning: \n",
            "A value is trying to be set on a copy of a slice from a DataFrame.\n",
            "Try using .loc[row_indexer,col_indexer] = value instead\n",
            "\n",
            "See the caveats in the documentation: https://pandas.pydata.org/pandas-docs/stable/user_guide/indexing.html#returning-a-view-versus-a-copy\n",
            "  This is separate from the ipykernel package so we can avoid doing imports until\n",
            "/usr/local/lib/python3.6/dist-packages/ipykernel_launcher.py:4: SettingWithCopyWarning: \n",
            "A value is trying to be set on a copy of a slice from a DataFrame.\n",
            "Try using .loc[row_indexer,col_indexer] = value instead\n",
            "\n",
            "See the caveats in the documentation: https://pandas.pydata.org/pandas-docs/stable/user_guide/indexing.html#returning-a-view-versus-a-copy\n",
            "  after removing the cwd from sys.path.\n"
          ],
          "name": "stderr"
        }
      ]
    },
    {
      "cell_type": "code",
      "metadata": {
        "id": "n46sXVMmG0kp",
        "colab_type": "code",
        "colab": {
          "base_uri": "https://localhost:8080/",
          "height": 85
        },
        "outputId": "266666e4-057a-49f5-c6d7-2cd530f53945"
      },
      "source": [
        "df_2 = X_train[X_train['deal_class_5']==2]\n",
        "df_1= X_train[X_train['deal_class_5']==1]\n",
        "df_0= X_train[X_train['deal_class_5']==0]\n",
        "# Downsample majority class\n",
        "df_2 = resample(df_2, \n",
        "                                 replace=False,    # sample without replacement\n",
        "                                 n_samples=700000,     # to match minority class\n",
        "                                 random_state=123) # reproducible results\n",
        "df_1 = resample(df_1, \n",
        "                                 replace=True,    # sample without replacement\n",
        "                                 n_samples=700000,     # to match minority class\n",
        "                                 random_state=123) \n",
        "df_0 = resample(df_0, \n",
        "                                 replace=True,    # sample without replacement\n",
        "                                 n_samples=700000,     # to match minority class\n",
        "                                 random_state=123) \n",
        "# Combine minority class with downsampled majority class\n",
        "df_downsampled = pd.concat([df_2, df_1, df_0])\n",
        " \n",
        "# Display new class counts\n",
        "df_downsampled.deal_class_5.value_counts()"
      ],
      "execution_count": null,
      "outputs": [
        {
          "output_type": "execute_result",
          "data": {
            "text/plain": [
              "2    700000\n",
              "1    700000\n",
              "0    700000\n",
              "Name: deal_class_5, dtype: int64"
            ]
          },
          "metadata": {
            "tags": []
          },
          "execution_count": 20
        }
      ]
    },
    {
      "cell_type": "code",
      "metadata": {
        "id": "5CHMj7jiG5Qe",
        "colab_type": "code",
        "colab": {}
      },
      "source": [
        "y_train = df_downsampled['deal_class_5']\n",
        "X_train = df_downsampled.drop(columns=['deal_class_5'])"
      ],
      "execution_count": null,
      "outputs": []
    },
    {
      "cell_type": "markdown",
      "metadata": {
        "id": "Q7_Hn7-rNjZ9",
        "colab_type": "text"
      },
      "source": [
        "## Tokenizing and word embeddings"
      ]
    },
    {
      "cell_type": "code",
      "metadata": {
        "id": "WfjU4AnOghVP",
        "colab_type": "code",
        "colab": {}
      },
      "source": [
        "max_features = 100000\n",
        "maxlen_title = 20\n",
        "maxlen_desc = 60\n",
        "embed_size = 300"
      ],
      "execution_count": null,
      "outputs": []
    },
    {
      "cell_type": "code",
      "metadata": {
        "id": "My9-DYOyHFxN",
        "colab_type": "code",
        "colab": {}
      },
      "source": [
        "X_train_title = X_train['title_non_stop'].values\n",
        "X_test_title = X_test['title_non_stop'].values\n",
        "tokenizer_title = text.Tokenizer(num_words=max_features)\n",
        "tokenizer_title.fit_on_texts(list(X_test_title)+list(X_train_title))\n",
        "\n",
        "X_train_title = tokenizer_title.texts_to_sequences(X_train_title)\n",
        "X_train_title = sequence.pad_sequences(X_train_title, maxlen=maxlen_title)"
      ],
      "execution_count": null,
      "outputs": []
    },
    {
      "cell_type": "code",
      "metadata": {
        "id": "EK4zg_F0Gpkc",
        "colab_type": "code",
        "colab": {}
      },
      "source": [
        "X_test_title = tokenizer_title.texts_to_sequences(X_test_title)\n",
        "X_test_title = sequence.pad_sequences(X_test_title, maxlen=maxlen_title)"
      ],
      "execution_count": null,
      "outputs": []
    },
    {
      "cell_type": "code",
      "metadata": {
        "id": "hnHPFEQYBnWS",
        "colab_type": "code",
        "colab": {}
      },
      "source": [
        "def get_coefs(word, *arr): return word, np.asarray(arr, dtype='float32')\n",
        "embeddings_index = dict(get_coefs(*o.rstrip().rsplit(' ')) for o in open('/wiki.ru.vec'))\n",
        "\n",
        "word_index_title = tokenizer_title.word_index\n",
        "nb_words = min(max_features, len(word_index_title))\n",
        "embedding_matrix_title = np.zeros((nb_words, embed_size))\n",
        "for word, i in word_index_title.items():\n",
        "    if i >= max_features: continue\n",
        "    embedding_vector_title = embeddings_index.get(word)\n",
        "    if embedding_vector_title is not None: embedding_matrix_title[i] = embedding_vector_title"
      ],
      "execution_count": null,
      "outputs": []
    },
    {
      "cell_type": "code",
      "metadata": {
        "id": "I8TldZfgJ6oo",
        "colab_type": "code",
        "colab": {}
      },
      "source": [
        "X_train_desc = X_train['description_non_stop'].values\n",
        "X_test_desc = X_test['description_non_stop'].values\n",
        "tokenizer_desc = text.Tokenizer(num_words=max_features)\n",
        "tokenizer_desc.fit_on_texts(list(X_test_desc)+list(X_train_desc))\n",
        "\n",
        "X_train_desc = tokenizer_desc.texts_to_sequences(X_train_desc)\n",
        "X_train_desc = sequence.pad_sequences(X_train_desc, maxlen=maxlen_desc)"
      ],
      "execution_count": null,
      "outputs": []
    },
    {
      "cell_type": "code",
      "metadata": {
        "id": "ODClNxAPGlee",
        "colab_type": "code",
        "colab": {}
      },
      "source": [
        "X_test_desc = tokenizer_desc.texts_to_sequences(X_test_desc)\n",
        "X_test_desc = sequence.pad_sequences(X_test_desc, maxlen=maxlen_desc)"
      ],
      "execution_count": null,
      "outputs": []
    },
    {
      "cell_type": "code",
      "metadata": {
        "id": "rNth9IxoKhGE",
        "colab_type": "code",
        "colab": {}
      },
      "source": [
        "def get_coefs(word, *arr): return word, np.asarray(arr, dtype='float32')\n",
        "embeddings_index_2 = dict(get_coefs(*o.rstrip().rsplit(' ')) for o in open('/wiki.ru.vec'))\n",
        "\n",
        "word_index_desc = tokenizer_desc.word_index\n",
        "nb_words = min(max_features, len(word_index_desc))\n",
        "embedding_matrix_desc = np.zeros((nb_words, embed_size))\n",
        "for word, i in word_index_desc.items():\n",
        "    if i >= max_features: continue\n",
        "    embedding_vector_desc = embeddings_index_2.get(word)\n",
        "    if embedding_vector_desc is not None: embedding_matrix_desc[i] = embedding_vector_desc"
      ],
      "execution_count": null,
      "outputs": []
    },
    {
      "cell_type": "code",
      "metadata": {
        "id": "ZJPvVZmhLSR8",
        "colab_type": "code",
        "colab": {}
      },
      "source": [
        "X_enc = X_enc.drop(columns=['description', 'title','description_non_stop', 'title_non_stop','param_1', 'param_2','param_3'])\n",
        "X_train = X_train.drop(columns=['description', 'title','description_non_stop', 'title_non_stop','param_1', 'param_2','param_3'])\n",
        "X_test = X_test.drop(columns=['description', 'title','description_non_stop', 'title_non_stop','param_1', 'param_2','param_3'])"
      ],
      "execution_count": null,
      "outputs": []
    },
    {
      "cell_type": "code",
      "metadata": {
        "id": "wUZFEuwlLanR",
        "colab_type": "code",
        "colab": {}
      },
      "source": [
        "sc = StandardScaler()\n",
        "X_train.loc[:,[\"price\",\"description_len\",\"title_len\",\"param_1_len\",\"param_2_len\",\"param_3_len\"]] = sc.fit_transform(X_train[[\"price\",\"description_len\",\"title_len\",\"param_1_len\",\"param_2_len\",\"param_3_len\"]])\n",
        "X_test.loc[:,[\"price\",\"description_len\",\"title_len\",\"param_1_len\",\"param_2_len\",\"param_3_len\"]] = sc.transform(X_test[[\"price\",\"description_len\",\"title_len\",\"param_1_len\",\"param_2_len\",\"param_3_len\"]])\n"
      ],
      "execution_count": null,
      "outputs": []
    },
    {
      "cell_type": "code",
      "metadata": {
        "id": "ETEJ4cNyML0I",
        "colab_type": "code",
        "colab": {
          "base_uri": "https://localhost:8080/",
          "height": 136
        },
        "outputId": "8b37fed3-03a8-42e3-98be-4ef04ab81858"
      },
      "source": [
        "X_train = X_train.to_numpy()\n",
        "y_test = pd.get_dummies(y_test, columns=['deal_class_5']).to_numpy()\n",
        "y_train = pd.get_dummies(y_train, columns=['0']).to_numpy()\n",
        "y_train"
      ],
      "execution_count": null,
      "outputs": [
        {
          "output_type": "execute_result",
          "data": {
            "text/plain": [
              "array([[0, 0, 1],\n",
              "       [0, 0, 1],\n",
              "       [0, 0, 1],\n",
              "       ...,\n",
              "       [1, 0, 0],\n",
              "       [1, 0, 0],\n",
              "       [1, 0, 0]], dtype=uint8)"
            ]
          },
          "metadata": {
            "tags": []
          },
          "execution_count": 31
        }
      ]
    },
    {
      "cell_type": "markdown",
      "metadata": {
        "id": "uNMyBvVMN0Hf",
        "colab_type": "text"
      },
      "source": [
        "## Tensorflow Model Environment Setup"
      ]
    },
    {
      "cell_type": "code",
      "metadata": {
        "id": "hwireco2MdDv",
        "colab_type": "code",
        "colab": {
          "base_uri": "https://localhost:8080/",
          "height": 51
        },
        "outputId": "6ab100f3-894f-4297-94fd-07c272d56d7c"
      },
      "source": [
        "pip install tensorflow-addons"
      ],
      "execution_count": null,
      "outputs": [
        {
          "output_type": "stream",
          "text": [
            "Requirement already satisfied: tensorflow-addons in /usr/local/lib/python3.6/dist-packages (0.8.3)\n",
            "Requirement already satisfied: typeguard in /usr/local/lib/python3.6/dist-packages (from tensorflow-addons) (2.7.1)\n"
          ],
          "name": "stdout"
        }
      ]
    },
    {
      "cell_type": "code",
      "metadata": {
        "id": "NFlaRGSHMa-h",
        "colab_type": "code",
        "colab": {
          "base_uri": "https://localhost:8080/",
          "height": 309
        },
        "outputId": "20b7fd84-498d-44e9-f44b-b7679594c0ba"
      },
      "source": [
        "pip install git+https://github.com/tensorflow/docs"
      ],
      "execution_count": null,
      "outputs": [
        {
          "output_type": "stream",
          "text": [
            "Collecting git+https://github.com/tensorflow/docs\n",
            "  Cloning https://github.com/tensorflow/docs to /tmp/pip-req-build-5uy3q04m\n",
            "  Running command git clone -q https://github.com/tensorflow/docs /tmp/pip-req-build-5uy3q04m\n",
            "Requirement already satisfied: astor in /usr/local/lib/python3.6/dist-packages (from tensorflow-docs===0.0.0d41eeb858e80108db8d13ba25867757d7de0fcf9-) (0.8.1)\n",
            "Requirement already satisfied: absl-py in /usr/local/lib/python3.6/dist-packages (from tensorflow-docs===0.0.0d41eeb858e80108db8d13ba25867757d7de0fcf9-) (0.9.0)\n",
            "Requirement already satisfied: protobuf in /usr/local/lib/python3.6/dist-packages (from tensorflow-docs===0.0.0d41eeb858e80108db8d13ba25867757d7de0fcf9-) (3.12.2)\n",
            "Requirement already satisfied: pyyaml in /usr/local/lib/python3.6/dist-packages (from tensorflow-docs===0.0.0d41eeb858e80108db8d13ba25867757d7de0fcf9-) (3.13)\n",
            "Requirement already satisfied: six in /usr/local/lib/python3.6/dist-packages (from absl-py->tensorflow-docs===0.0.0d41eeb858e80108db8d13ba25867757d7de0fcf9-) (1.12.0)\n",
            "Requirement already satisfied: setuptools in /usr/local/lib/python3.6/dist-packages (from protobuf->tensorflow-docs===0.0.0d41eeb858e80108db8d13ba25867757d7de0fcf9-) (49.1.0)\n",
            "Building wheels for collected packages: tensorflow-docs\n",
            "  Building wheel for tensorflow-docs (setup.py) ... \u001b[?25l\u001b[?25hdone\n",
            "  Created wheel for tensorflow-docs: filename=tensorflow_docs-0.0.0d41eeb858e80108db8d13ba25867757d7de0fcf9_-cp36-none-any.whl size=124709 sha256=c901297211b4b003f735707231e39fe1e30659c44ecb1f7a894e9f35b119a266\n",
            "  Stored in directory: /tmp/pip-ephem-wheel-cache-fc_dydyn/wheels/eb/1b/35/fce87697be00d2fc63e0b4b395b0d9c7e391a10e98d9a0d97f\n",
            "Successfully built tensorflow-docs\n",
            "Installing collected packages: tensorflow-docs\n",
            "Successfully installed tensorflow-docs-0.0.0d41eeb858e80108db8d13ba25867757d7de0fcf9-\n"
          ],
          "name": "stdout"
        }
      ]
    },
    {
      "cell_type": "code",
      "metadata": {
        "id": "XaOVlML3MVnU",
        "colab_type": "code",
        "colab": {
          "base_uri": "https://localhost:8080/",
          "height": 34
        },
        "outputId": "53f2ad24-46b3-401f-daae-9abafbb823e0"
      },
      "source": [
        "from sklearn import metrics\n",
        "import tensorflow as tf\n",
        "\n",
        "from tensorflow import keras as k1\n",
        "from tensorflow.keras import layers\n",
        "from tensorflow.keras import Model\n",
        "print(tf.__version__)"
      ],
      "execution_count": null,
      "outputs": [
        {
          "output_type": "stream",
          "text": [
            "2.2.0\n"
          ],
          "name": "stdout"
        }
      ]
    },
    {
      "cell_type": "code",
      "metadata": {
        "id": "E6lqlpJ-Mfl2",
        "colab_type": "code",
        "colab": {}
      },
      "source": [
        "import tensorflow_docs as tfdocs\n",
        "import tensorflow_docs.plots\n",
        "import tensorflow_docs.modeling\n",
        "import keras.backend as K\n",
        "import tensorflow_addons as tfa\n"
      ],
      "execution_count": null,
      "outputs": []
    },
    {
      "cell_type": "code",
      "metadata": {
        "id": "Gx5sh40lMh4u",
        "colab_type": "code",
        "colab": {}
      },
      "source": [
        "from keras import backend as K\n",
        "from keras.layers import Input\n",
        "from keras.layers import Embedding, concatenate,GlobalAveragePooling1D,Dense,Dropout,SpatialDropout1D,Reshape,Flatten\n",
        "from keras import Model\n",
        "from keras.callbacks import ModelCheckpoint"
      ],
      "execution_count": null,
      "outputs": []
    },
    {
      "cell_type": "markdown",
      "metadata": {
        "id": "vkpUu2dwN8SO",
        "colab_type": "text"
      },
      "source": [
        "## Tensorflow Model"
      ]
    },
    {
      "cell_type": "code",
      "metadata": {
        "id": "f4ukOQD0Mk8L",
        "colab_type": "code",
        "colab": {}
      },
      "source": [
        "embedding_dim=300\n",
        "seq_length_title = 20\n",
        "seq_length_desc = 60"
      ],
      "execution_count": null,
      "outputs": []
    },
    {
      "cell_type": "markdown",
      "metadata": {
        "id": "uDmgx5unOakJ",
        "colab_type": "text"
      },
      "source": [
        "Description and title tokens are passed through embedding layers separately. \n",
        "\n",
        "Both of them along with other data is fed to feed forward Neural Network."
      ]
    },
    {
      "cell_type": "code",
      "metadata": {
        "id": "BPDqdGHeNUwu",
        "colab_type": "code",
        "colab": {}
      },
      "source": [
        "nlp_input_desc = Input(shape=(seq_length_title,), name='nlp_input_desc')\n",
        "nlp_input_title = Input(shape=(seq_length_desc,), name='nlp_input_title')\n",
        "emb1 = Embedding(input_dim=100000,output_dim=300,weights=[embedding_matrix_title])(nlp_input_title)\n",
        "emb1 = SpatialDropout1D(0.3)(emb1)\n",
        "emb1 = Flatten()(emb1)\n",
        "emb2 = Embedding(input_dim=100000,output_dim=300,weights=[embedding_matrix_desc])(nlp_input_desc)\n",
        "emb2 = SpatialDropout1D(0.3)(emb2)\n",
        "emb2 = Flatten()(emb2)\n",
        "meta_input = Input(shape=(82,), name='meta_input')\n",
        "x = concatenate([emb1,emb2, meta_input])\n",
        "x = Dense(512, activation='relu')(x)\n",
        "x = Dropout(0.05)(x)\n",
        "x = Dense(256, activation='relu')(x)\n",
        "x = Dense(64, activation='relu')(x)\n",
        "x = Dense(32, activation='relu')(x)\n",
        "x = Dense(3, activation='softmax')(x)\n",
        "model =  Model(inputs=[nlp_input_desc,nlp_input_title, meta_input], outputs=[x])\n",
        "\n",
        "\n"
      ],
      "execution_count": null,
      "outputs": []
    },
    {
      "cell_type": "code",
      "metadata": {
        "id": "10JU9_5SNriw",
        "colab_type": "code",
        "colab": {}
      },
      "source": [
        "early_stopping = k1.callbacks.EarlyStopping(\n",
        "    monitor='accuracy', \n",
        "    verbose=1,\n",
        "    patience=30,\n",
        "    mode='max',\n",
        "    restore_best_weights=True)"
      ],
      "execution_count": null,
      "outputs": []
    },
    {
      "cell_type": "code",
      "metadata": {
        "id": "rGQydKCpNo5A",
        "colab_type": "code",
        "colab": {}
      },
      "source": [
        "model.compile(optimizer=k1.optimizers.Adam(lr=2e-4),\n",
        "              loss=\"categorical_crossentropy\",\n",
        "              metrics=[tfa.metrics.F1Score(num_classes=3,average=\"macro\",threshold=None),\"accuracy\" ])"
      ],
      "execution_count": null,
      "outputs": []
    },
    {
      "cell_type": "code",
      "metadata": {
        "id": "4jhLksl7Nk6W",
        "colab_type": "code",
        "colab": {}
      },
      "source": [
        "checkpoint_path = \"gs://dataproc-e3bd1f7b-2e29-4da6-a5c4-077c164fd32a-us-central1/avito/w2v/11/cp-{epoch:04d}.ckpt\""
      ],
      "execution_count": null,
      "outputs": []
    },
    {
      "cell_type": "code",
      "metadata": {
        "id": "bQdyCDOsNyIA",
        "colab_type": "code",
        "colab": {}
      },
      "source": [
        "cp_callback = ModelCheckpoint(\n",
        "    filepath=checkpoint_path, \n",
        "    verbose=1, \n",
        "    save_weights_only=True,\n",
        "    period=3)"
      ],
      "execution_count": null,
      "outputs": []
    },
    {
      "cell_type": "code",
      "metadata": {
        "id": "_XlLXT_fOHUD",
        "colab_type": "code",
        "colab": {}
      },
      "source": [
        "model.load_weights(\"gs://dataproc-e3bd1f7b-2e29-4da6-a5c4-077c164fd32a-us-central1/avito/w2v/3/cp-0039.ckpt\")"
      ],
      "execution_count": null,
      "outputs": []
    },
    {
      "cell_type": "code",
      "metadata": {
        "id": "hGBm87-jN3aR",
        "colab_type": "code",
        "colab": {
          "base_uri": "https://localhost:8080/",
          "height": 1000
        },
        "outputId": "6322a921-f065-46df-b8d1-cffb585d4d4b"
      },
      "source": [
        "history = model.fit([X_train_title,X_train_desc,X_train],y_train, epochs=100, callbacks=[cp_callback,early_stopping], validation_split=0.2, shuffle= True,batch_size=2048)"
      ],
      "execution_count": null,
      "outputs": [
        {
          "output_type": "stream",
          "text": [
            "Train on 1680000 samples, validate on 420000 samples\n",
            "Epoch 1/30\n",
            "1680000/1680000 [==============================] - 232s 138us/step - loss: 0.7872 - f1_score: 0.0000e+00 - accuracy: 0.6602 - val_loss: 1.3204 - val_f1_score: 0.0000e+00 - val_accuracy: 0.2891\n",
            "Epoch 2/30\n",
            "1680000/1680000 [==============================] - 237s 141us/step - loss: 0.5205 - f1_score: 0.0000e+00 - accuracy: 0.7871 - val_loss: 0.9285 - val_f1_score: 0.0000e+00 - val_accuracy: 0.5487\n",
            "Epoch 3/30\n",
            "1680000/1680000 [==============================] - 236s 141us/step - loss: 0.3848 - f1_score: 0.0000e+00 - accuracy: 0.8431 - val_loss: 0.8897 - val_f1_score: 0.0000e+00 - val_accuracy: 0.5805\n",
            "\n",
            "Epoch 00003: saving model to gs://dataproc-e3bd1f7b-2e29-4da6-a5c4-077c164fd32a-us-central1/avito/w2v/11/cp-0003.ckpt\n",
            "Epoch 4/30\n",
            "1680000/1680000 [==============================] - 237s 141us/step - loss: 0.3180 - f1_score: 0.0000e+00 - accuracy: 0.8713 - val_loss: 0.6847 - val_f1_score: 0.0000e+00 - val_accuracy: 0.7077\n",
            "Epoch 5/30\n",
            "1680000/1680000 [==============================] - 239s 142us/step - loss: 0.2733 - f1_score: 0.0000e+00 - accuracy: 0.8903 - val_loss: 0.5937 - val_f1_score: 0.0000e+00 - val_accuracy: 0.7546\n",
            "Epoch 6/30\n",
            "1680000/1680000 [==============================] - 235s 140us/step - loss: 0.2413 - f1_score: 0.0000e+00 - accuracy: 0.9040 - val_loss: 0.5345 - val_f1_score: 0.0000e+00 - val_accuracy: 0.7889\n",
            "\n",
            "Epoch 00006: saving model to gs://dataproc-e3bd1f7b-2e29-4da6-a5c4-077c164fd32a-us-central1/avito/w2v/11/cp-0006.ckpt\n",
            "Epoch 7/30\n",
            "1680000/1680000 [==============================] - 242s 144us/step - loss: 0.2165 - f1_score: 0.0000e+00 - accuracy: 0.9143 - val_loss: 0.5561 - val_f1_score: 0.0000e+00 - val_accuracy: 0.7921\n",
            "Epoch 8/30\n",
            "1680000/1680000 [==============================] - 240s 143us/step - loss: 0.1968 - f1_score: 0.0000e+00 - accuracy: 0.9228 - val_loss: 0.5576 - val_f1_score: 0.0000e+00 - val_accuracy: 0.8040\n",
            "Epoch 9/30\n",
            "1680000/1680000 [==============================] - 241s 143us/step - loss: 0.1808 - f1_score: 0.0000e+00 - accuracy: 0.9293 - val_loss: 0.5958 - val_f1_score: 0.0000e+00 - val_accuracy: 0.7948\n",
            "\n",
            "Epoch 00009: saving model to gs://dataproc-e3bd1f7b-2e29-4da6-a5c4-077c164fd32a-us-central1/avito/w2v/11/cp-0009.ckpt\n",
            "Epoch 10/30\n",
            "1680000/1680000 [==============================] - 237s 141us/step - loss: 0.1674 - f1_score: 0.0000e+00 - accuracy: 0.9347 - val_loss: 0.5099 - val_f1_score: 0.0000e+00 - val_accuracy: 0.8337\n",
            "Epoch 11/30\n",
            "1680000/1680000 [==============================] - 241s 143us/step - loss: 0.1559 - f1_score: 0.0000e+00 - accuracy: 0.9397 - val_loss: 0.5474 - val_f1_score: 0.0000e+00 - val_accuracy: 0.8272\n",
            "Epoch 12/30\n",
            "1680000/1680000 [==============================] - 240s 143us/step - loss: 0.1464 - f1_score: 0.0000e+00 - accuracy: 0.9434 - val_loss: 0.5299 - val_f1_score: 0.0000e+00 - val_accuracy: 0.8384\n",
            "\n",
            "Epoch 00012: saving model to gs://dataproc-e3bd1f7b-2e29-4da6-a5c4-077c164fd32a-us-central1/avito/w2v/11/cp-0012.ckpt\n",
            "Epoch 13/30\n",
            "1680000/1680000 [==============================] - 238s 141us/step - loss: 0.1375 - f1_score: 0.0000e+00 - accuracy: 0.9471 - val_loss: 0.4169 - val_f1_score: 0.0000e+00 - val_accuracy: 0.8764\n",
            "Epoch 14/30\n",
            "1680000/1680000 [==============================] - 237s 141us/step - loss: 0.1295 - f1_score: 0.0000e+00 - accuracy: 0.9503 - val_loss: 0.5031 - val_f1_score: 0.0000e+00 - val_accuracy: 0.8561\n",
            "Epoch 15/30\n",
            "1680000/1680000 [==============================] - 239s 142us/step - loss: 0.1228 - f1_score: 0.0000e+00 - accuracy: 0.9530 - val_loss: 0.5591 - val_f1_score: 0.0000e+00 - val_accuracy: 0.8517\n",
            "\n",
            "Epoch 00015: saving model to gs://dataproc-e3bd1f7b-2e29-4da6-a5c4-077c164fd32a-us-central1/avito/w2v/11/cp-0015.ckpt\n",
            "Epoch 16/30\n",
            "1680000/1680000 [==============================] - 239s 142us/step - loss: 0.1167 - f1_score: 0.0000e+00 - accuracy: 0.9553 - val_loss: 0.4683 - val_f1_score: 0.0000e+00 - val_accuracy: 0.8767\n",
            "Epoch 17/30\n",
            "1680000/1680000 [==============================] - 238s 142us/step - loss: 0.1110 - f1_score: 0.0000e+00 - accuracy: 0.9578 - val_loss: 0.4662 - val_f1_score: 0.0000e+00 - val_accuracy: 0.8745\n",
            "Epoch 18/30\n",
            "1680000/1680000 [==============================] - 243s 145us/step - loss: 0.1058 - f1_score: 0.0000e+00 - accuracy: 0.9600 - val_loss: 0.4963 - val_f1_score: 0.0000e+00 - val_accuracy: 0.8738\n",
            "\n",
            "Epoch 00018: saving model to gs://dataproc-e3bd1f7b-2e29-4da6-a5c4-077c164fd32a-us-central1/avito/w2v/11/cp-0018.ckpt\n",
            "Epoch 19/30\n",
            "1680000/1680000 [==============================] - 247s 147us/step - loss: 0.1007 - f1_score: 0.0000e+00 - accuracy: 0.9619 - val_loss: 0.5088 - val_f1_score: 0.0000e+00 - val_accuracy: 0.8752\n",
            "Epoch 20/30\n",
            "1680000/1680000 [==============================] - 241s 144us/step - loss: 0.0976 - f1_score: 0.0000e+00 - accuracy: 0.9630 - val_loss: 0.5001 - val_f1_score: 0.0000e+00 - val_accuracy: 0.8765\n",
            "Epoch 21/30\n",
            "1680000/1680000 [==============================] - 235s 140us/step - loss: 0.0929 - f1_score: 0.0000e+00 - accuracy: 0.9648 - val_loss: 0.5260 - val_f1_score: 0.0000e+00 - val_accuracy: 0.8755\n",
            "\n",
            "Epoch 00021: saving model to gs://dataproc-e3bd1f7b-2e29-4da6-a5c4-077c164fd32a-us-central1/avito/w2v/11/cp-0021.ckpt\n",
            "Epoch 22/30\n",
            "1680000/1680000 [==============================] - 247s 147us/step - loss: 0.0895 - f1_score: 0.0000e+00 - accuracy: 0.9664 - val_loss: 0.4923 - val_f1_score: 0.0000e+00 - val_accuracy: 0.8843\n",
            "Epoch 23/30\n",
            "1680000/1680000 [==============================] - 239s 143us/step - loss: 0.0860 - f1_score: 0.0000e+00 - accuracy: 0.9677 - val_loss: 0.5354 - val_f1_score: 0.0000e+00 - val_accuracy: 0.8807\n",
            "Epoch 24/30\n",
            "1680000/1680000 [==============================] - 241s 143us/step - loss: 0.0824 - f1_score: 0.0000e+00 - accuracy: 0.9690 - val_loss: 0.5321 - val_f1_score: 0.0000e+00 - val_accuracy: 0.8800\n",
            "\n",
            "Epoch 00024: saving model to gs://dataproc-e3bd1f7b-2e29-4da6-a5c4-077c164fd32a-us-central1/avito/w2v/11/cp-0024.ckpt\n",
            "Epoch 25/30\n",
            "1680000/1680000 [==============================] - 240s 143us/step - loss: 0.0799 - f1_score: 0.0000e+00 - accuracy: 0.9701 - val_loss: 0.5472 - val_f1_score: 0.0000e+00 - val_accuracy: 0.8831\n",
            "Epoch 26/30\n",
            "1680000/1680000 [==============================] - 240s 143us/step - loss: 0.0772 - f1_score: 0.0000e+00 - accuracy: 0.9711 - val_loss: 0.4810 - val_f1_score: 0.0000e+00 - val_accuracy: 0.8940\n",
            "Epoch 27/30\n",
            "1680000/1680000 [==============================] - 238s 142us/step - loss: 0.0747 - f1_score: 0.0000e+00 - accuracy: 0.9723 - val_loss: 0.5185 - val_f1_score: 0.0000e+00 - val_accuracy: 0.8899\n",
            "\n",
            "Epoch 00027: saving model to gs://dataproc-e3bd1f7b-2e29-4da6-a5c4-077c164fd32a-us-central1/avito/w2v/11/cp-0027.ckpt\n",
            "Epoch 28/30\n",
            "1680000/1680000 [==============================] - 245s 146us/step - loss: 0.0719 - f1_score: 0.0000e+00 - accuracy: 0.9732 - val_loss: 0.4924 - val_f1_score: 0.0000e+00 - val_accuracy: 0.8938\n",
            "Epoch 29/30\n",
            "1680000/1680000 [==============================] - 236s 140us/step - loss: 0.0699 - f1_score: 0.0000e+00 - accuracy: 0.9739 - val_loss: 0.5333 - val_f1_score: 0.0000e+00 - val_accuracy: 0.8895\n",
            "Epoch 30/30\n",
            "1680000/1680000 [==============================] - 252s 150us/step - loss: 0.0679 - f1_score: 0.0000e+00 - accuracy: 0.9747 - val_loss: 0.5152 - val_f1_score: 0.0000e+00 - val_accuracy: 0.8944\n",
            "\n",
            "Epoch 00030: saving model to gs://dataproc-e3bd1f7b-2e29-4da6-a5c4-077c164fd32a-us-central1/avito/w2v/11/cp-0030.ckpt\n"
          ],
          "name": "stdout"
        }
      ]
    },
    {
      "cell_type": "code",
      "metadata": {
        "id": "cikSIGDXcuNY",
        "colab_type": "code",
        "colab": {
          "base_uri": "https://localhost:8080/",
          "height": 731
        },
        "outputId": "b3f21c1d-c37d-42f1-d470-e015e382dad2"
      },
      "source": [
        "model.summary()"
      ],
      "execution_count": null,
      "outputs": [
        {
          "output_type": "stream",
          "text": [
            "Model: \"model_1\"\n",
            "__________________________________________________________________________________________________\n",
            "Layer (type)                    Output Shape         Param #     Connected to                     \n",
            "==================================================================================================\n",
            "nlp_input_title (InputLayer)    (None, 60)           0                                            \n",
            "__________________________________________________________________________________________________\n",
            "nlp_input_desc (InputLayer)     (None, 20)           0                                            \n",
            "__________________________________________________________________________________________________\n",
            "embedding_1 (Embedding)         (None, 60, 300)      30000000    nlp_input_title[0][0]            \n",
            "__________________________________________________________________________________________________\n",
            "embedding_2 (Embedding)         (None, 20, 300)      30000000    nlp_input_desc[0][0]             \n",
            "__________________________________________________________________________________________________\n",
            "spatial_dropout1d_1 (SpatialDro (None, 60, 300)      0           embedding_1[0][0]                \n",
            "__________________________________________________________________________________________________\n",
            "spatial_dropout1d_2 (SpatialDro (None, 20, 300)      0           embedding_2[0][0]                \n",
            "__________________________________________________________________________________________________\n",
            "flatten_1 (Flatten)             (None, 18000)        0           spatial_dropout1d_1[0][0]        \n",
            "__________________________________________________________________________________________________\n",
            "flatten_2 (Flatten)             (None, 6000)         0           spatial_dropout1d_2[0][0]        \n",
            "__________________________________________________________________________________________________\n",
            "meta_input (InputLayer)         (None, 82)           0                                            \n",
            "__________________________________________________________________________________________________\n",
            "concatenate_1 (Concatenate)     (None, 24082)        0           flatten_1[0][0]                  \n",
            "                                                                 flatten_2[0][0]                  \n",
            "                                                                 meta_input[0][0]                 \n",
            "__________________________________________________________________________________________________\n",
            "dense_1 (Dense)                 (None, 512)          12330496    concatenate_1[0][0]              \n",
            "__________________________________________________________________________________________________\n",
            "dropout_1 (Dropout)             (None, 512)          0           dense_1[0][0]                    \n",
            "__________________________________________________________________________________________________\n",
            "dense_2 (Dense)                 (None, 256)          131328      dropout_1[0][0]                  \n",
            "__________________________________________________________________________________________________\n",
            "dense_3 (Dense)                 (None, 64)           16448       dense_2[0][0]                    \n",
            "__________________________________________________________________________________________________\n",
            "dense_4 (Dense)                 (None, 32)           2080        dense_3[0][0]                    \n",
            "__________________________________________________________________________________________________\n",
            "dense_5 (Dense)                 (None, 3)            99          dense_4[0][0]                    \n",
            "==================================================================================================\n",
            "Total params: 72,480,451\n",
            "Trainable params: 72,480,451\n",
            "Non-trainable params: 0\n",
            "__________________________________________________________________________________________________\n"
          ],
          "name": "stdout"
        }
      ]
    },
    {
      "cell_type": "markdown",
      "metadata": {
        "id": "2EWA0hVDOAjI",
        "colab_type": "text"
      },
      "source": [
        "## Results"
      ]
    },
    {
      "cell_type": "code",
      "metadata": {
        "id": "WOXLpKMLGCtb",
        "colab_type": "code",
        "colab": {
          "base_uri": "https://localhost:8080/",
          "height": 85
        },
        "outputId": "d26de20e-f63b-4584-a256-51ce972f54f7"
      },
      "source": [
        "print('\\n# Evaluate on test data')\n",
        "results = model.evaluate([X_test_title,X_test_desc,X_test], y_test, batch_size=1024)\n",
        "print('test loss, test acc:', results)"
      ],
      "execution_count": null,
      "outputs": [
        {
          "output_type": "stream",
          "text": [
            "\n",
            "# Evaluate on test data\n",
            "300685/300685 [==============================] - 14s 48us/step\n",
            "test loss, test acc: [1.5194234940135756, 0.0, 0.8016495704650879]\n"
          ],
          "name": "stdout"
        }
      ]
    },
    {
      "cell_type": "code",
      "metadata": {
        "id": "Gicvoi90GCeu",
        "colab_type": "code",
        "colab": {
          "base_uri": "https://localhost:8080/",
          "height": 51
        },
        "outputId": "23a43eeb-f388-49a9-e7d8-5d18efbdcfbb"
      },
      "source": [
        "actual = np.argmax(y_test, axis=1) \n",
        "print('\\n# Generate predictions for 3 samples')\n",
        "predictions = model.predict([X_test_title,X_test_desc,X_test])\n",
        "result = np.argmax(predictions, axis=1) "
      ],
      "execution_count": null,
      "outputs": [
        {
          "output_type": "stream",
          "text": [
            "\n",
            "# Generate predictions for 3 samples\n"
          ],
          "name": "stdout"
        }
      ]
    },
    {
      "cell_type": "code",
      "metadata": {
        "id": "pOBTxBF5Qsuj",
        "colab_type": "code",
        "colab": {
          "base_uri": "https://localhost:8080/",
          "height": 68
        },
        "outputId": "96353960-007c-4ee2-977a-531b416de18b"
      },
      "source": [
        "metrics.confusion_matrix(actual, result)"
      ],
      "execution_count": null,
      "outputs": [
        {
          "output_type": "execute_result",
          "data": {
            "text/plain": [
              "array([[  9882,   3032,  19695],\n",
              "       [  3453,   3092,   9988],\n",
              "       [ 21894,  10102, 219547]])"
            ]
          },
          "metadata": {
            "tags": []
          },
          "execution_count": 74
        }
      ]
    },
    {
      "cell_type": "code",
      "metadata": {
        "id": "z34Kc6WGQ1W6",
        "colab_type": "code",
        "colab": {
          "base_uri": "https://localhost:8080/",
          "height": 187
        },
        "outputId": "6ccb27e0-3b95-4ab5-e0ae-06ca8da8aa13"
      },
      "source": [
        "print(classification_report(actual,result))"
      ],
      "execution_count": null,
      "outputs": [
        {
          "output_type": "stream",
          "text": [
            "              precision    recall  f1-score   support\n",
            "\n",
            "           0       0.28      0.30      0.29     32609\n",
            "           1       0.19      0.19      0.19     16533\n",
            "           2       0.88      0.87      0.88    251543\n",
            "\n",
            "    accuracy                           0.77    300685\n",
            "   macro avg       0.45      0.45      0.45    300685\n",
            "weighted avg       0.78      0.77      0.78    300685\n",
            "\n"
          ],
          "name": "stdout"
        }
      ]
    }
  ]
}