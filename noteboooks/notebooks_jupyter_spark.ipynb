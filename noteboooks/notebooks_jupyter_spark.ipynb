{
 "cells": [
  {
   "cell_type": "code",
   "execution_count": 1,
   "metadata": {},
   "outputs": [],
   "source": [
    "import findspark\n",
    "import pyspark\n",
    "import random\n",
    "import pandas as pd"
   ]
  },
  {
   "cell_type": "code",
   "execution_count": 10,
   "metadata": {},
   "outputs": [],
   "source": [
    "from pyspark.sql.functions import *"
   ]
  },
  {
   "cell_type": "code",
   "execution_count": 23,
   "metadata": {},
   "outputs": [],
   "source": [
    "from datetime import datetime"
   ]
  },
  {
   "cell_type": "code",
   "execution_count": 3,
   "metadata": {},
   "outputs": [],
   "source": [
    "from pyspark import SparkContext\n",
    "from pyspark.sql import SQLContext\n",
    "\n",
    "sc = SparkContext('local','example')  # if using locally\n",
    "sqlContext = SQLContext(sc)"
   ]
  },
  {
   "cell_type": "code",
   "execution_count": null,
   "metadata": {},
   "outputs": [],
   "source": []
  },
  {
   "cell_type": "code",
   "execution_count": 4,
   "metadata": {},
   "outputs": [],
   "source": [
    "df_train_active = sqlContext.read.format('com.databricks.spark.csv').options(header='true', inferschema='true').option('mode','FAILFAST').option(\"multiLine\",'true').option('escape','\"').load('gs://dataproc-e3bd1f7b-2e29-4da6-a5c4-077c164fd32a-us-central1/avito/test/train_active.csv')"
   ]
  },
  {
   "cell_type": "code",
   "execution_count": 5,
   "metadata": {},
   "outputs": [
    {
     "data": {
      "text/plain": [
       "pyspark.sql.dataframe.DataFrame"
      ]
     },
     "execution_count": 5,
     "metadata": {},
     "output_type": "execute_result"
    }
   ],
   "source": [
    "type(df_train_active)"
   ]
  },
  {
   "cell_type": "code",
   "execution_count": 5,
   "metadata": {},
   "outputs": [
    {
     "name": "stdout",
     "output_type": "stream",
     "text": [
      "+------------+------------+--------------------+---------------+--------------------+--------------------+-------+------------------+---------+--------------------+--------------------+--------+---------------+-------------------+---------+\n",
      "|     item_id|     user_id|              region|           city|parent_category_name|       category_name|param_1|           param_2|  param_3|               title|         description|   price|item_seq_number|    activation_date|user_type|\n",
      "+------------+------------+--------------------+---------------+--------------------+--------------------+-------+------------------+---------+--------------------+--------------------+--------+---------------+-------------------+---------+\n",
      "|70d6342079ef|11d4c04d8c51|Нижегородская обл...|Нижний Новгород|       Хобби и отдых|     Книги и журналы|  Книги|              null|     null|Детская знциклопедия|детская энциклопе...|   200.0|           20.0|2017-03-15 00:00:00|  Private|\n",
      "|97cf505710e1|d7068c60b2c6| Воронежская область|        Воронеж|        Недвижимость|Гаражи и машиноместа| Продам|             Гараж|Кирпичный|      Гараж, > 30 м²|Продается ГАРАЖ в...|590000.0|           23.0|2017-03-27 00:00:00|  Private|\n",
      "|6a93a31a945d|755c88999bc7|Нижегородская обл...|Нижний Новгород|        Недвижимость|Коммерческая недв...|   Сдам|Торговое помещение|     null|Торговое помещени...|Сдаем в аренду лу...|100000.0|            4.0|2017-03-15 00:00:00|  Private|\n",
      "+------------+------------+--------------------+---------------+--------------------+--------------------+-------+------------------+---------+--------------------+--------------------+--------+---------------+-------------------+---------+\n",
      "only showing top 3 rows\n",
      "\n"
     ]
    }
   ],
   "source": [
    "df_train_active.show(3)"
   ]
  },
  {
   "cell_type": "code",
   "execution_count": 6,
   "metadata": {},
   "outputs": [
    {
     "name": "stdout",
     "output_type": "stream",
     "text": [
      "root\n",
      " |-- item_id: string (nullable = true)\n",
      " |-- user_id: string (nullable = true)\n",
      " |-- region: string (nullable = true)\n",
      " |-- city: string (nullable = true)\n",
      " |-- parent_category_name: string (nullable = true)\n",
      " |-- category_name: string (nullable = true)\n",
      " |-- param_1: string (nullable = true)\n",
      " |-- param_2: string (nullable = true)\n",
      " |-- param_3: string (nullable = true)\n",
      " |-- title: string (nullable = true)\n",
      " |-- description: string (nullable = true)\n",
      " |-- price: double (nullable = true)\n",
      " |-- item_seq_number: double (nullable = true)\n",
      " |-- activation_date: timestamp (nullable = true)\n",
      " |-- user_type: string (nullable = true)\n",
      "\n"
     ]
    }
   ],
   "source": [
    "df_train_active.printSchema()"
   ]
  },
  {
   "cell_type": "code",
   "execution_count": 7,
   "metadata": {},
   "outputs": [
    {
     "data": {
      "text/plain": [
       "14129821"
      ]
     },
     "execution_count": 7,
     "metadata": {},
     "output_type": "execute_result"
    }
   ],
   "source": [
    "df_train_active.count()"
   ]
  },
  {
   "cell_type": "code",
   "execution_count": 8,
   "metadata": {
    "scrolled": true
   },
   "outputs": [
    {
     "data": {
      "text/plain": [
       "(15,\n",
       " ['item_id',\n",
       "  'user_id',\n",
       "  'region',\n",
       "  'city',\n",
       "  'parent_category_name',\n",
       "  'category_name',\n",
       "  'param_1',\n",
       "  'param_2',\n",
       "  'param_3',\n",
       "  'title',\n",
       "  'description',\n",
       "  'price',\n",
       "  'item_seq_number',\n",
       "  'activation_date',\n",
       "  'user_type'])"
      ]
     },
     "execution_count": 8,
     "metadata": {},
     "output_type": "execute_result"
    }
   ],
   "source": [
    "len(df_train_active.columns), df_train_active.columns"
   ]
  },
  {
   "cell_type": "code",
   "execution_count": 9,
   "metadata": {},
   "outputs": [
    {
     "name": "stdout",
     "output_type": "stream",
     "text": [
      "+-------+------------+------------+-------------------+----------+--------------------+----------------+------------+------------------+------------------+--------------------+--------------------+-------------------+-----------------+---------+\n",
      "|summary|     item_id|     user_id|             region|      city|parent_category_name|   category_name|     param_1|           param_2|           param_3|               title|         description|              price|  item_seq_number|user_type|\n",
      "+-------+------------+------------+-------------------+----------+--------------------+----------------+------------+------------------+------------------+--------------------+--------------------+-------------------+-----------------+---------+\n",
      "|  count|    14129821|    14129821|           14064285|  14064285|            14064285|        14064284|    13513497|           8086250|           5951345|            14063264|            13534224|           13777564|         14005498| 14005498|\n",
      "|   mean|    Infinity|    Infinity|               10.0|      null|                null|            null|        null| 1.981067276873885|197.40190499360827|            Infinity| 9.613144814179464E9|   585062.094787511|465.5909000165506|     null|\n",
      "| stddev|         NaN|         NaN|                NaN|      null|                null|            null|        null|3.0536349471650763|1564.9208877776578|                 NaN|2.734854293467029E10|3.392787445850252E8|3605.546289013257|     null|\n",
      "|    min|00000077ff21|00000077ff21|                 10|2017-03-15|             Private|      Автомобили|        ASUS|                 1|                 1|\" (101 см) LED-те...|                   !|                0.0|              1.0|  Company|\n",
      "|    max|fffffffec760|fffff926cb96|Ярославская область|        Яя|       Хобби и отдых|Часы и украшения|Японский хин|Юридические услуги|           Эстония|   юбка на подкладке|🦋🦋🦋WOW ГРЕЦИЯ!...|   9.99999999999E11|         204404.0|     Shop|\n",
      "+-------+------------+------------+-------------------+----------+--------------------+----------------+------------+------------------+------------------+--------------------+--------------------+-------------------+-----------------+---------+\n",
      "\n"
     ]
    }
   ],
   "source": [
    "df_train_active.describe().show()"
   ]
  },
  {
   "cell_type": "code",
   "execution_count": 11,
   "metadata": {},
   "outputs": [],
   "source": [
    "df_train_active_2 = df_train_active.filter(df_train_active.category_name.isNotNull())"
   ]
  },
  {
   "cell_type": "code",
   "execution_count": 12,
   "metadata": {},
   "outputs": [],
   "source": [
    "df_train_active_2 = df_train_active_2.filter(df_train_active_2.parent_category_name.isNotNull())"
   ]
  },
  {
   "cell_type": "code",
   "execution_count": 13,
   "metadata": {},
   "outputs": [],
   "source": [
    "df_train_active_2 = df_train_active_2.filter(df_train_active_2.item_id.isNotNull())"
   ]
  },
  {
   "cell_type": "code",
   "execution_count": 14,
   "metadata": {},
   "outputs": [],
   "source": [
    "df_train_active_2 = df_train_active_2.filter(df_train_active_2.user_id.isNotNull())"
   ]
  },
  {
   "cell_type": "code",
   "execution_count": 15,
   "metadata": {},
   "outputs": [],
   "source": [
    "df_train_active_2 = df_train_active_2.filter(df_train_active_2.region.isNotNull())"
   ]
  },
  {
   "cell_type": "code",
   "execution_count": 16,
   "metadata": {},
   "outputs": [],
   "source": [
    "df_train_active_2 = df_train_active_2.filter(df_train_active_2.activation_date.isNotNull())"
   ]
  },
  {
   "cell_type": "code",
   "execution_count": 17,
   "metadata": {},
   "outputs": [],
   "source": [
    "df_train_active_2 = df_train_active_2.filter(df_train_active_2.user_type.isNotNull())"
   ]
  },
  {
   "cell_type": "code",
   "execution_count": 18,
   "metadata": {},
   "outputs": [],
   "source": [
    "df_train_active_2 = df_train_active_2.filter(df_train_active_2.item_seq_number.isNotNull())"
   ]
  },
  {
   "cell_type": "code",
   "execution_count": 19,
   "metadata": {},
   "outputs": [],
   "source": [
    "df_train_active_2 = df_train_active_2.filter(df_train_active_2.title.isNotNull())"
   ]
  },
  {
   "cell_type": "code",
   "execution_count": 20,
   "metadata": {},
   "outputs": [],
   "source": [
    "df_train_active_2 = df_train_active_2.fillna( { 'price':0 } )"
   ]
  },
  {
   "cell_type": "code",
   "execution_count": 21,
   "metadata": {},
   "outputs": [
    {
     "data": {
      "text/plain": [
       "[Row(item_id='70d6342079ef', user_id='11d4c04d8c51', region='Нижегородская область', city='Нижний Новгород', parent_category_name='Хобби и отдых', category_name='Книги и журналы', param_1='Книги', param_2=None, param_3=None, title='Детская знциклопедия', description='детская энциклопедия,10 томов, в книге 630 страниц ,книги в твердом переплете (22х27) Выпуск-19651968гг Один том-200р', price=200.0, item_seq_number=20.0, activation_date=datetime.datetime(2017, 3, 15, 0, 0), user_type='Private'),\n",
       " Row(item_id='97cf505710e1', user_id='d7068c60b2c6', region='Воронежская область', city='Воронеж', parent_category_name='Недвижимость', category_name='Гаражи и машиноместа', param_1='Продам', param_2='Гараж', param_3='Кирпичный', title='Гараж, > 30 м²', description='Продается ГАРАЖ в ПГСК Алмаз/\\nУдобный въезд, рядом с пропускным пунктом со стороны ЖК Острова./\\nПлощадь 41.   В 2х уровнях./\\nСухой не промерзающий подвал. Металлические ворота, есть электричество./\\nТерритория охраняется. Возможен торг.', price=590000.0, item_seq_number=23.0, activation_date=datetime.datetime(2017, 3, 27, 0, 0), user_type='Private')]"
      ]
     },
     "execution_count": 21,
     "metadata": {},
     "output_type": "execute_result"
    }
   ],
   "source": [
    "df_train_active_2.take(2)"
   ]
  },
  {
   "cell_type": "code",
   "execution_count": 27,
   "metadata": {},
   "outputs": [
    {
     "name": "stdout",
     "output_type": "stream",
     "text": [
      "+-------+------------+------------+-------------------+--------+--------------------+----------------+------------+------------------+------------------+--------------------+--------------------+-------------------+-----------------+---------+\n",
      "|summary|     item_id|     user_id|             region|    city|parent_category_name|   category_name|     param_1|           param_2|           param_3|               title|         description|              price|  item_seq_number|user_type|\n",
      "+-------+------------+------------+-------------------+--------+--------------------+----------------+------------+------------------+------------------+--------------------+--------------------+-------------------+-----------------+---------+\n",
      "|  count|    14005498|    14005498|           14005498|14005498|            14005498|        14005498|    13454711|           8086250|           5951345|            14004478|            13475438|           13777564|         14005498| 14005498|\n",
      "|   mean|    Infinity|    Infinity|               null|    null|                null|            null|        null| 1.981067276873885|197.40190499360827|            Infinity| 9.613144814179464E9|   585062.094787511|465.5909000165506|     null|\n",
      "| stddev|         NaN|         NaN|               null|    null|                null|            null|        null|3.0536349471650763|1564.9208877776578|                 NaN|2.734854293467029E10|3.392787445850252E8|3605.546289013257|     null|\n",
      "|    min|00000077ff21|00000077ff21|     Алтайский край|    Абан| Бытовая электроника|      Автомобили|        ASUS|                 1|                 1|\" (101 см) LED-те...|                   !|                0.0|              1.0|  Company|\n",
      "|    max|fffffffec760|fffff926cb96|Ярославская область|      Яя|       Хобби и отдых|Часы и украшения|Японский хин|Юридические услуги|           Эстония|   юбка на подкладке|🦋🦋🦋WOW ГРЕЦИЯ!...|   9.99999999999E11|         204404.0|     Shop|\n",
      "+-------+------------+------------+-------------------+--------+--------------------+----------------+------------+------------------+------------------+--------------------+--------------------+-------------------+-----------------+---------+\n",
      "\n"
     ]
    }
   ],
   "source": [
    "df_train_active_2.describe().show()"
   ]
  },
  {
   "cell_type": "code",
   "execution_count": 22,
   "metadata": {},
   "outputs": [
    {
     "data": {
      "text/plain": [
       "14004478"
      ]
     },
     "execution_count": 22,
     "metadata": {},
     "output_type": "execute_result"
    }
   ],
   "source": [
    "df_train_active_2.count()"
   ]
  },
  {
   "cell_type": "code",
   "execution_count": 24,
   "metadata": {},
   "outputs": [],
   "source": [
    "df_train_active_3 = df_train_active_2.withColumn(\"activation_date_year\",year(df_train_active_2.activation_date))"
   ]
  },
  {
   "cell_type": "code",
   "execution_count": 25,
   "metadata": {},
   "outputs": [],
   "source": [
    "df_train_active_3 = df_train_active_3.withColumn(\"activation_date_month\",month(df_train_active_3.activation_date))"
   ]
  },
  {
   "cell_type": "code",
   "execution_count": 26,
   "metadata": {},
   "outputs": [],
   "source": [
    "df_train_active_3 = df_train_active_3.withColumn(\"activation_date_date\",dayofmonth(df_train_active_3.activation_date).alias('dt_day'))"
   ]
  },
  {
   "cell_type": "code",
   "execution_count": 27,
   "metadata": {},
   "outputs": [],
   "source": [
    "df_train_active_3 = df_train_active_3.withColumn(\"activation_date_week_no\",weekofyear(df_train_active_3.activation_date))"
   ]
  },
  {
   "cell_type": "code",
   "execution_count": 28,
   "metadata": {},
   "outputs": [],
   "source": [
    "funcWeekDay =  udf(lambda x: datetime.strptime(x, '%Y-%m-%d').strftime('%w'))"
   ]
  },
  {
   "cell_type": "code",
   "execution_count": 29,
   "metadata": {},
   "outputs": [],
   "source": [
    "df_train_active_3 = df_train_active_3.withColumn('shortdate',col('activation_date').substr(1, 10))\\\n",
    "     .withColumn('activation_date_week_day', funcWeekDay(col('shortdate')))\\\n",
    "     .drop('shortdate')"
   ]
  },
  {
   "cell_type": "code",
   "execution_count": 30,
   "metadata": {},
   "outputs": [
    {
     "data": {
      "text/plain": [
       "[Row(item_id='70d6342079ef', user_id='11d4c04d8c51', region='Нижегородская область', city='Нижний Новгород', parent_category_name='Хобби и отдых', category_name='Книги и журналы', param_1='Книги', param_2=None, param_3=None, title='Детская знциклопедия', description='детская энциклопедия,10 томов, в книге 630 страниц ,книги в твердом переплете (22х27) Выпуск-19651968гг Один том-200р', price=200.0, item_seq_number=20.0, activation_date=datetime.datetime(2017, 3, 15, 0, 0), user_type='Private', activation_date_year=2017, activation_date_month=3, activation_date_date=15, activation_date_week_no=11, activation_date_week_day='3')]"
      ]
     },
     "execution_count": 30,
     "metadata": {},
     "output_type": "execute_result"
    }
   ],
   "source": [
    "df_train_active_3.take(1)"
   ]
  },
  {
   "cell_type": "code",
   "execution_count": 34,
   "metadata": {},
   "outputs": [],
   "source": [
    "parent_category_name_map = {\"Личные вещи\" : \"Personal belongings\",\n",
    "                            \"Для дома и дачи\" : \"For the home and garden\",\n",
    "                            \"Бытовая электроника\" : \"Consumer electronics\",\n",
    "                            \"Недвижимость\" : \"Real estate\",\n",
    "                            \"Хобби и отдых\" : \"Hobbies & leisure\",\n",
    "                            \"Транспорт\" : \"Transport\",\n",
    "                            \"Услуги\" : \"Services\",\n",
    "                            \"Животные\" : \"Animals\",\n",
    "                            \"Для бизнеса\" : \"For business\"}\n",
    "\n",
    "region_map = {\"Свердловская область\" : \"Sverdlovsk oblast\",\n",
    "            \"Самарская область\" : \"Samara oblast\",\n",
    "            \"Ростовская область\" : \"Rostov oblast\",\n",
    "            \"Татарстан\" : \"Tatarstan\",\n",
    "            \"Волгоградская область\" : \"Volgograd oblast\",\n",
    "            \"Нижегородская область\" : \"Nizhny Novgorod oblast\",\n",
    "            \"Пермский край\" : \"Perm Krai\",\n",
    "            \"Оренбургская область\" : \"Orenburg oblast\",\n",
    "            \"Ханты-Мансийский АО\" : \"Khanty-Mansi Autonomous Okrug\",\n",
    "            \"Тюменская область\" : \"Tyumen oblast\",\n",
    "            \"Башкортостан\" : \"Bashkortostan\",\n",
    "            \"Краснодарский край\" : \"Krasnodar Krai\",\n",
    "            \"Новосибирская область\" : \"Novosibirsk oblast\",\n",
    "            \"Омская область\" : \"Omsk oblast\",\n",
    "            \"Белгородская область\" : \"Belgorod oblast\",\n",
    "            \"Челябинская область\" : \"Chelyabinsk oblast\",\n",
    "            \"Воронежская область\" : \"Voronezh oblast\",\n",
    "            \"Кемеровская область\" : \"Kemerovo oblast\",\n",
    "            \"Саратовская область\" : \"Saratov oblast\",\n",
    "            \"Владимирская область\" : \"Vladimir oblast\",\n",
    "            \"Калининградская область\" : \"Kaliningrad oblast\",\n",
    "            \"Красноярский край\" : \"Krasnoyarsk Krai\",\n",
    "            \"Ярославская область\" : \"Yaroslavl oblast\",\n",
    "            \"Удмуртия\" : \"Udmurtia\",\n",
    "            \"Алтайский край\" : \"Altai Krai\",\n",
    "            \"Иркутская область\" : \"Irkutsk oblast\",\n",
    "            \"Ставропольский край\" : \"Stavropol Krai\",\n",
    "            \"Тульская область\" : \"Tula oblast\"}\n",
    "\n",
    "\n",
    "category_map = {\"Одежда, обувь, аксессуары\":\"Clothing, shoes, accessories\",\n",
    "\"Детская одежда и обувь\":\"Children's clothing and shoes\",\n",
    "\"Товары для детей и игрушки\":\"Children's products and toys\",\n",
    "\"Квартиры\":\"Apartments\",\n",
    "\"Телефоны\":\"Phones\",\n",
    "\"Мебель и интерьер\":\"Furniture and interior\",\n",
    "\"Предложение услуг\":\"Offer services\",\n",
    "\"Автомобили\":\"Cars\",\n",
    "\"Ремонт и строительство\":\"Repair and construction\",\n",
    "\"Бытовая техника\":\"Appliances\",\n",
    "\"Товары для компьютера\":\"Products for computer\",\n",
    "\"Дома, дачи, коттеджи\":\"Houses, villas, cottages\",\n",
    "\"Красота и здоровье\":\"Health and beauty\",\n",
    "\"Аудио и видео\":\"Audio and video\",\n",
    "\"Спорт и отдых\":\"Sports and recreation\",\n",
    "\"Коллекционирование\":\"Collecting\",\n",
    "\"Оборудование для бизнеса\":\"Equipment for business\",\n",
    "\"Земельные участки\":\"Land\",\n",
    "\"Часы и украшения\":\"Watches and jewelry\",\n",
    "\"Книги и журналы\":\"Books and magazines\",\n",
    "\"Собаки\":\"Dogs\",\n",
    "\"Игры, приставки и программы\":\"Games, consoles and software\",\n",
    "\"Другие животные\":\"Other animals\",\n",
    "\"Велосипеды\":\"Bikes\",\n",
    "\"Ноутбуки\":\"Laptops\",\n",
    "\"Кошки\":\"Cats\",\n",
    "\"Грузовики и спецтехника\":\"Trucks and buses\",\n",
    "\"Посуда и товары для кухни\":\"Tableware and goods for kitchen\",\n",
    "\"Растения\":\"Plants\",\n",
    "\"Планшеты и электронные книги\":\"Tablets and e-books\",\n",
    "\"Товары для животных\":\"Pet products\",\n",
    "\"Комнаты\":\"Room\",\n",
    "\"Фототехника\":\"Photo\",\n",
    "\"Коммерческая недвижимость\":\"Commercial property\",\n",
    "\"Гаражи и машиноместа\":\"Garages and Parking spaces\",\n",
    "\"Музыкальные инструменты\":\"Musical instruments\",\n",
    "\"Оргтехника и расходники\":\"Office equipment and consumables\",\n",
    "\"Птицы\":\"Birds\",\n",
    "\"Продукты питания\":\"Food\",\n",
    "\"Мотоциклы и мототехника\":\"Motorcycles and bikes\",\n",
    "\"Настольные компьютеры\":\"Desktop computers\",\n",
    "\"Аквариум\":\"Aquarium\",\n",
    "\"Охота и рыбалка\":\"Hunting and fishing\",\n",
    "\"Билеты и путешествия\":\"Tickets and travel\",\n",
    "\"Водный транспорт\":\"Water transport\",\n",
    "\"Готовый бизнес\":\"Ready business\",\n",
    "\"Недвижимость за рубежом\":\"Property abroad\"}"
   ]
  },
  {
   "cell_type": "code",
   "execution_count": 35,
   "metadata": {},
   "outputs": [],
   "source": [
    "funcParentCatMap =  udf(lambda x: parent_category_name_map[x])\n",
    "funcCatNameMap =  udf(lambda x: category_map[x])\n",
    "funcRegionMap =  udf(lambda x: region_map[x])"
   ]
  },
  {
   "cell_type": "code",
   "execution_count": 36,
   "metadata": {},
   "outputs": [],
   "source": [
    "df_train_active_3 = df_train_active_3.withColumn('parent_category_name_en', funcParentCatMap(col('parent_category_name')))\n",
    "df_train_active_3 = df_train_active_3.withColumn('category_name_en', funcCatNameMap(col('category_name')))\n",
    "df_train_active_3 = df_train_active_3.withColumn('region_en', funcRegionMap(col('region')))"
   ]
  },
  {
   "cell_type": "code",
   "execution_count": 37,
   "metadata": {},
   "outputs": [
    {
     "name": "stdout",
     "output_type": "stream",
     "text": [
      "+------------+------------+--------------------+---------------+--------------------+--------------------+-------+------------------+---------+--------------------+--------------------+--------+---------------+-------------------+---------+--------------------+---------------------+--------------------+-----------------------+------------------------+-----------------------+--------------------+--------------------+\n",
      "|     item_id|     user_id|              region|           city|parent_category_name|       category_name|param_1|           param_2|  param_3|               title|         description|   price|item_seq_number|    activation_date|user_type|activation_date_year|activation_date_month|activation_date_date|activation_date_week_no|activation_date_week_day|parent_category_name_en|    category_name_en|           region_en|\n",
      "+------------+------------+--------------------+---------------+--------------------+--------------------+-------+------------------+---------+--------------------+--------------------+--------+---------------+-------------------+---------+--------------------+---------------------+--------------------+-----------------------+------------------------+-----------------------+--------------------+--------------------+\n",
      "|70d6342079ef|11d4c04d8c51|Нижегородская обл...|Нижний Новгород|       Хобби и отдых|     Книги и журналы|  Книги|              null|     null|Детская знциклопедия|детская энциклопе...|   200.0|           20.0|2017-03-15 00:00:00|  Private|                2017|                    3|                  15|                     11|                       3|      Hobbies & leisure| Books and magazines|Nizhny Novgorod o...|\n",
      "|97cf505710e1|d7068c60b2c6| Воронежская область|        Воронеж|        Недвижимость|Гаражи и машиноместа| Продам|             Гараж|Кирпичный|      Гараж, > 30 м²|Продается ГАРАЖ в...|590000.0|           23.0|2017-03-27 00:00:00|  Private|                2017|                    3|                  27|                     13|                       1|            Real estate|Garages and Parki...|     Voronezh oblast|\n",
      "|6a93a31a945d|755c88999bc7|Нижегородская обл...|Нижний Новгород|        Недвижимость|Коммерческая недв...|   Сдам|Торговое помещение|     null|Торговое помещени...|Сдаем в аренду лу...|100000.0|            4.0|2017-03-15 00:00:00|  Private|                2017|                    3|                  15|                     11|                       3|            Real estate| Commercial property|Nizhny Novgorod o...|\n",
      "+------------+------------+--------------------+---------------+--------------------+--------------------+-------+------------------+---------+--------------------+--------------------+--------+---------------+-------------------+---------+--------------------+---------------------+--------------------+-----------------------+------------------------+-----------------------+--------------------+--------------------+\n",
      "only showing top 3 rows\n",
      "\n"
     ]
    }
   ],
   "source": [
    "df_train_active_3.show(3)"
   ]
  },
  {
   "cell_type": "code",
   "execution_count": 38,
   "metadata": {},
   "outputs": [
    {
     "data": {
      "text/plain": [
       "9"
      ]
     },
     "execution_count": 38,
     "metadata": {},
     "output_type": "execute_result"
    }
   ],
   "source": [
    "df_train_active_3.select('parent_category_name_en').distinct().count()"
   ]
  },
  {
   "cell_type": "code",
   "execution_count": 39,
   "metadata": {},
   "outputs": [
    {
     "data": {
      "text/plain": [
       "47"
      ]
     },
     "execution_count": 39,
     "metadata": {},
     "output_type": "execute_result"
    }
   ],
   "source": [
    "df_train_active_3.select('category_name_en').distinct().count()"
   ]
  },
  {
   "cell_type": "code",
   "execution_count": 40,
   "metadata": {},
   "outputs": [
    {
     "data": {
      "text/plain": [
       "28"
      ]
     },
     "execution_count": 40,
     "metadata": {},
     "output_type": "execute_result"
    }
   ],
   "source": [
    "df_train_active_3.select('region_en').distinct().count()"
   ]
  },
  {
   "cell_type": "code",
   "execution_count": 41,
   "metadata": {},
   "outputs": [
    {
     "name": "stdout",
     "output_type": "stream",
     "text": [
      "+-----------------------+\n",
      "|parent_category_name_en|\n",
      "+-----------------------+\n",
      "|               Services|\n",
      "|            Real estate|\n",
      "|      Hobbies & leisure|\n",
      "|           For business|\n",
      "|   Consumer electronics|\n",
      "|    Personal belongings|\n",
      "|                Animals|\n",
      "|              Transport|\n",
      "|   For the home and ...|\n",
      "+-----------------------+\n",
      "\n"
     ]
    }
   ],
   "source": [
    "df_train_active_3.select('parent_category_name_en').distinct().show()"
   ]
  },
  {
   "cell_type": "code",
   "execution_count": 42,
   "metadata": {},
   "outputs": [
    {
     "name": "stdout",
     "output_type": "stream",
     "text": [
      "+--------------------+\n",
      "|    category_name_en|\n",
      "+--------------------+\n",
      "|Repair and constr...|\n",
      "|          Apartments|\n",
      "|            Aquarium|\n",
      "|                Food|\n",
      "|Sports and recrea...|\n",
      "| Watches and jewelry|\n",
      "|       Other animals|\n",
      "|  Tickets and travel|\n",
      "|      Offer services|\n",
      "|      Ready business|\n",
      "|               Bikes|\n",
      "|               Photo|\n",
      "|        Pet products|\n",
      "| Books and magazines|\n",
      "| Musical instruments|\n",
      "|   Health and beauty|\n",
      "|Houses, villas, c...|\n",
      "|Children's clothi...|\n",
      "|                Land|\n",
      "|Clothing, shoes, ...|\n",
      "+--------------------+\n",
      "only showing top 20 rows\n",
      "\n"
     ]
    }
   ],
   "source": [
    "df_train_active_3.select('category_name_en').distinct().show()"
   ]
  },
  {
   "cell_type": "code",
   "execution_count": 43,
   "metadata": {},
   "outputs": [
    {
     "name": "stdout",
     "output_type": "stream",
     "text": [
      "+--------------------+\n",
      "|           region_en|\n",
      "+--------------------+\n",
      "|       Samara oblast|\n",
      "|      Krasnodar Krai|\n",
      "|           Tatarstan|\n",
      "|Khanty-Mansi Auto...|\n",
      "|     Belgorod oblast|\n",
      "|         Omsk oblast|\n",
      "|Nizhny Novgorod o...|\n",
      "|       Tyumen oblast|\n",
      "|    Yaroslavl oblast|\n",
      "|    Krasnoyarsk Krai|\n",
      "|       Rostov oblast|\n",
      "|     Voronezh oblast|\n",
      "|         Tula oblast|\n",
      "|     Kemerovo oblast|\n",
      "|  Chelyabinsk oblast|\n",
      "|          Altai Krai|\n",
      "|  Kaliningrad oblast|\n",
      "|      Stavropol Krai|\n",
      "|       Bashkortostan|\n",
      "|     Vladimir oblast|\n",
      "+--------------------+\n",
      "only showing top 20 rows\n",
      "\n"
     ]
    }
   ],
   "source": [
    "df_train_active_3.select('region_en').distinct().show()"
   ]
  },
  {
   "cell_type": "code",
   "execution_count": 45,
   "metadata": {},
   "outputs": [],
   "source": [
    "df_train_active_3.write.parquet(\"gs://dataproc-e3bd1f7b-2e29-4da6-a5c4-077c164fd32a-us-central1/avito/neat_data/train_active.parquet\")"
   ]
  },
  {
   "cell_type": "code",
   "execution_count": 46,
   "metadata": {},
   "outputs": [],
   "source": [
    "df_train_active_4 = sqlContext.read.parquet(\"gs://dataproc-e3bd1f7b-2e29-4da6-a5c4-077c164fd32a-us-central1/avito/neat_data/train_active.parquet\")"
   ]
  },
  {
   "cell_type": "code",
   "execution_count": 47,
   "metadata": {},
   "outputs": [
    {
     "name": "stdout",
     "output_type": "stream",
     "text": [
      "+------------+------------+--------------------+---------------+--------------------+--------------------+-------+------------------+---------+--------------------+--------------------+--------+---------------+-------------------+---------+--------------------+---------------------+--------------------+-----------------------+------------------------+-----------------------+--------------------+--------------------+\n",
      "|     item_id|     user_id|              region|           city|parent_category_name|       category_name|param_1|           param_2|  param_3|               title|         description|   price|item_seq_number|    activation_date|user_type|activation_date_year|activation_date_month|activation_date_date|activation_date_week_no|activation_date_week_day|parent_category_name_en|    category_name_en|           region_en|\n",
      "+------------+------------+--------------------+---------------+--------------------+--------------------+-------+------------------+---------+--------------------+--------------------+--------+---------------+-------------------+---------+--------------------+---------------------+--------------------+-----------------------+------------------------+-----------------------+--------------------+--------------------+\n",
      "|70d6342079ef|11d4c04d8c51|Нижегородская обл...|Нижний Новгород|       Хобби и отдых|     Книги и журналы|  Книги|              null|     null|Детская знциклопедия|детская энциклопе...|   200.0|           20.0|2017-03-15 00:00:00|  Private|                2017|                    3|                  15|                     11|                       3|      Hobbies & leisure| Books and magazines|Nizhny Novgorod o...|\n",
      "|97cf505710e1|d7068c60b2c6| Воронежская область|        Воронеж|        Недвижимость|Гаражи и машиноместа| Продам|             Гараж|Кирпичный|      Гараж, > 30 м²|Продается ГАРАЖ в...|590000.0|           23.0|2017-03-27 00:00:00|  Private|                2017|                    3|                  27|                     13|                       1|            Real estate|Garages and Parki...|     Voronezh oblast|\n",
      "|6a93a31a945d|755c88999bc7|Нижегородская обл...|Нижний Новгород|        Недвижимость|Коммерческая недв...|   Сдам|Торговое помещение|     null|Торговое помещени...|Сдаем в аренду лу...|100000.0|            4.0|2017-03-15 00:00:00|  Private|                2017|                    3|                  15|                     11|                       3|            Real estate| Commercial property|Nizhny Novgorod o...|\n",
      "+------------+------------+--------------------+---------------+--------------------+--------------------+-------+------------------+---------+--------------------+--------------------+--------+---------------+-------------------+---------+--------------------+---------------------+--------------------+-----------------------+------------------------+-----------------------+--------------------+--------------------+\n",
      "only showing top 3 rows\n",
      "\n"
     ]
    }
   ],
   "source": [
    "df_train_active_4.show(3)"
   ]
  },
  {
   "cell_type": "code",
   "execution_count": 48,
   "metadata": {},
   "outputs": [
    {
     "data": {
      "text/plain": [
       "14004478"
      ]
     },
     "execution_count": 48,
     "metadata": {},
     "output_type": "execute_result"
    }
   ],
   "source": [
    "df_train_active_4.count()"
   ]
  },
  {
   "cell_type": "code",
   "execution_count": null,
   "metadata": {},
   "outputs": [],
   "source": []
  }
 ],
 "metadata": {
  "kernelspec": {
   "display_name": "Python 3",
   "language": "python",
   "name": "python3"
  },
  "language_info": {
   "codemirror_mode": {
    "name": "ipython",
    "version": 3
   },
   "file_extension": ".py",
   "mimetype": "text/x-python",
   "name": "python",
   "nbconvert_exporter": "python",
   "pygments_lexer": "ipython3",
   "version": "3.6.9"
  }
 },
 "nbformat": 4,
 "nbformat_minor": 2
}