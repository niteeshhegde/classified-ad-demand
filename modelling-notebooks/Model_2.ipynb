{
  "nbformat": 4,
  "nbformat_minor": 0,
  "metadata": {
    "colab": {
      "name": "Model-2.ipynb",
      "provenance": [],
      "collapsed_sections": [],
      "machine_shape": "hm"
    },
    "kernelspec": {
      "name": "python3",
      "display_name": "Python 3"
    },
    "accelerator": "GPU"
  },
  "cells": [
    {
      "cell_type": "markdown",
      "metadata": {
        "id": "aV4lBSV5ZMkn",
        "colab_type": "text"
      },
      "source": [
        "# **Application of ML Algorithms Notebook - 2**"
      ]
    },
    {
      "cell_type": "markdown",
      "metadata": {
        "id": "25NWFSYXZUvm",
        "colab_type": "text"
      },
      "source": [
        "## **Data Preparation and Environment Setup**"
      ]
    },
    {
      "cell_type": "markdown",
      "metadata": {
        "id": "kntoY-t8ZcHa",
        "colab_type": "text"
      },
      "source": [
        "Different Machiene Learning Classification Algorithms were applied on the dataset.\n",
        "\n",
        "This is divided into 2 notebooks and this is the second one.\n",
        "\n",
        "The classification Algorithms applied and compared in this notebook are \n",
        "\n",
        "1.   Ada Boost Classifier\n",
        "2.   XGBoost Classifier\n",
        "3.   Light GBM Classifier\n",
        "\n",
        "As the data is highly skewed, all the above models are tried with and without resampling an the results are analysed.\n",
        "\n",
        "Please Refer to Model-1.ipynb for detailed data preparation section"
      ]
    },
    {
      "cell_type": "code",
      "metadata": {
        "id": "CDHSdOfGrSr4",
        "colab_type": "code",
        "colab": {}
      },
      "source": [
        "from google.colab import auth"
      ],
      "execution_count": 0,
      "outputs": []
    },
    {
      "cell_type": "code",
      "metadata": {
        "id": "Y2FsVDtIqTCg",
        "colab_type": "code",
        "outputId": "3d4deadc-27ec-4efe-bf11-31725a6de191",
        "colab": {
          "base_uri": "https://localhost:8080/",
          "height": 383
        }
      },
      "source": [
        "!pip install gcloud"
      ],
      "execution_count": 0,
      "outputs": [
        {
          "output_type": "stream",
          "text": [
            "Collecting gcloud\n",
            "\u001b[?25l  Downloading https://files.pythonhosted.org/packages/11/ab/d0cee58db2d8445c26e6f5db25d9b1f1aa14a3ab30eea8ce77ae808d10ef/gcloud-0.18.3.tar.gz (454kB)\n",
            "\r\u001b[K     |▊                               | 10kB 29.8MB/s eta 0:00:01\r\u001b[K     |█▍                              | 20kB 1.7MB/s eta 0:00:01\r\u001b[K     |██▏                             | 30kB 2.3MB/s eta 0:00:01\r\u001b[K     |██▉                             | 40kB 1.6MB/s eta 0:00:01\r\u001b[K     |███▋                            | 51kB 1.9MB/s eta 0:00:01\r\u001b[K     |████▎                           | 61kB 2.3MB/s eta 0:00:01\r\u001b[K     |█████                           | 71kB 2.5MB/s eta 0:00:01\r\u001b[K     |█████▊                          | 81kB 2.6MB/s eta 0:00:01\r\u001b[K     |██████▌                         | 92kB 3.0MB/s eta 0:00:01\r\u001b[K     |███████▏                        | 102kB 2.7MB/s eta 0:00:01\r\u001b[K     |████████                        | 112kB 2.7MB/s eta 0:00:01\r\u001b[K     |████████▋                       | 122kB 2.7MB/s eta 0:00:01\r\u001b[K     |█████████▍                      | 133kB 2.7MB/s eta 0:00:01\r\u001b[K     |██████████                      | 143kB 2.7MB/s eta 0:00:01\r\u001b[K     |██████████▉                     | 153kB 2.7MB/s eta 0:00:01\r\u001b[K     |███████████▌                    | 163kB 2.7MB/s eta 0:00:01\r\u001b[K     |████████████▎                   | 174kB 2.7MB/s eta 0:00:01\r\u001b[K     |█████████████                   | 184kB 2.7MB/s eta 0:00:01\r\u001b[K     |█████████████▊                  | 194kB 2.7MB/s eta 0:00:01\r\u001b[K     |██████████████▍                 | 204kB 2.7MB/s eta 0:00:01\r\u001b[K     |███████████████▏                | 215kB 2.7MB/s eta 0:00:01\r\u001b[K     |███████████████▉                | 225kB 2.7MB/s eta 0:00:01\r\u001b[K     |████████████████▋               | 235kB 2.7MB/s eta 0:00:01\r\u001b[K     |█████████████████▎              | 245kB 2.7MB/s eta 0:00:01\r\u001b[K     |██████████████████              | 256kB 2.7MB/s eta 0:00:01\r\u001b[K     |██████████████████▊             | 266kB 2.7MB/s eta 0:00:01\r\u001b[K     |███████████████████▌            | 276kB 2.7MB/s eta 0:00:01\r\u001b[K     |████████████████████▏           | 286kB 2.7MB/s eta 0:00:01\r\u001b[K     |█████████████████████           | 296kB 2.7MB/s eta 0:00:01\r\u001b[K     |█████████████████████▋          | 307kB 2.7MB/s eta 0:00:01\r\u001b[K     |██████████████████████▍         | 317kB 2.7MB/s eta 0:00:01\r\u001b[K     |███████████████████████         | 327kB 2.7MB/s eta 0:00:01\r\u001b[K     |███████████████████████▉        | 337kB 2.7MB/s eta 0:00:01\r\u001b[K     |████████████████████████▌       | 348kB 2.7MB/s eta 0:00:01\r\u001b[K     |█████████████████████████▎      | 358kB 2.7MB/s eta 0:00:01\r\u001b[K     |██████████████████████████      | 368kB 2.7MB/s eta 0:00:01\r\u001b[K     |██████████████████████████▊     | 378kB 2.7MB/s eta 0:00:01\r\u001b[K     |███████████████████████████▍    | 389kB 2.7MB/s eta 0:00:01\r\u001b[K     |████████████████████████████▏   | 399kB 2.7MB/s eta 0:00:01\r\u001b[K     |████████████████████████████▉   | 409kB 2.7MB/s eta 0:00:01\r\u001b[K     |█████████████████████████████▋  | 419kB 2.7MB/s eta 0:00:01\r\u001b[K     |██████████████████████████████▎ | 430kB 2.7MB/s eta 0:00:01\r\u001b[K     |███████████████████████████████ | 440kB 2.7MB/s eta 0:00:01\r\u001b[K     |███████████████████████████████▊| 450kB 2.7MB/s eta 0:00:01\r\u001b[K     |████████████████████████████████| 460kB 2.7MB/s \n",
            "\u001b[?25hRequirement already satisfied: httplib2>=0.9.1 in /usr/local/lib/python3.6/dist-packages (from gcloud) (0.11.3)\n",
            "Requirement already satisfied: googleapis-common-protos in /usr/local/lib/python3.6/dist-packages (from gcloud) (1.6.0)\n",
            "Requirement already satisfied: oauth2client>=2.0.1 in /usr/local/lib/python3.6/dist-packages (from gcloud) (4.1.3)\n",
            "Requirement already satisfied: protobuf!=3.0.0.b2.post1,>=3.0.0b2 in /usr/local/lib/python3.6/dist-packages (from gcloud) (3.10.0)\n",
            "Requirement already satisfied: six in /usr/local/lib/python3.6/dist-packages (from gcloud) (1.12.0)\n",
            "Requirement already satisfied: pyasn1>=0.1.7 in /usr/local/lib/python3.6/dist-packages (from oauth2client>=2.0.1->gcloud) (0.4.8)\n",
            "Requirement already satisfied: pyasn1-modules>=0.0.5 in /usr/local/lib/python3.6/dist-packages (from oauth2client>=2.0.1->gcloud) (0.2.7)\n",
            "Requirement already satisfied: rsa>=3.1.4 in /usr/local/lib/python3.6/dist-packages (from oauth2client>=2.0.1->gcloud) (4.0)\n",
            "Requirement already satisfied: setuptools in /usr/local/lib/python3.6/dist-packages (from protobuf!=3.0.0.b2.post1,>=3.0.0b2->gcloud) (42.0.2)\n",
            "Building wheels for collected packages: gcloud\n",
            "  Building wheel for gcloud (setup.py) ... \u001b[?25l\u001b[?25hdone\n",
            "  Created wheel for gcloud: filename=gcloud-0.18.3-cp36-none-any.whl size=602939 sha256=7937856f5d9ecd27ffabe075ae2e8a9bc76c6b51b465ef4ade7b607b14d280b0\n",
            "  Stored in directory: /root/.cache/pip/wheels/b9/9b/9c/a01be401658fea33b93a35d03921b0c638266821b264dc8662\n",
            "Successfully built gcloud\n",
            "Installing collected packages: gcloud\n",
            "Successfully installed gcloud-0.18.3\n"
          ],
          "name": "stdout"
        }
      ]
    },
    {
      "cell_type": "code",
      "metadata": {
        "id": "iKCcWwMUrUCh",
        "colab_type": "code",
        "colab": {}
      },
      "source": [
        "auth.authenticate_user()"
      ],
      "execution_count": 0,
      "outputs": []
    },
    {
      "cell_type": "code",
      "metadata": {
        "id": "nve0Xdstpefs",
        "colab_type": "code",
        "outputId": "37101376-313a-41e3-c0e7-3ba772f11e82",
        "colab": {
          "base_uri": "https://localhost:8080/",
          "height": 346
        }
      },
      "source": [
        "!pip install gcsfs"
      ],
      "execution_count": 0,
      "outputs": [
        {
          "output_type": "stream",
          "text": [
            "Requirement already satisfied: gcsfs in /usr/local/lib/python3.6/dist-packages (0.6.0)\n",
            "Requirement already satisfied: requests in /usr/local/lib/python3.6/dist-packages (from gcsfs) (2.21.0)\n",
            "Requirement already satisfied: google-auth-oauthlib in /usr/local/lib/python3.6/dist-packages (from gcsfs) (0.4.1)\n",
            "Requirement already satisfied: fsspec>=0.6.0 in /usr/local/lib/python3.6/dist-packages (from gcsfs) (0.6.2)\n",
            "Requirement already satisfied: google-auth>=1.2 in /usr/local/lib/python3.6/dist-packages (from gcsfs) (1.4.2)\n",
            "Requirement already satisfied: decorator in /usr/local/lib/python3.6/dist-packages (from gcsfs) (4.4.1)\n",
            "Requirement already satisfied: idna<2.9,>=2.5 in /usr/local/lib/python3.6/dist-packages (from requests->gcsfs) (2.8)\n",
            "Requirement already satisfied: urllib3<1.25,>=1.21.1 in /usr/local/lib/python3.6/dist-packages (from requests->gcsfs) (1.24.3)\n",
            "Requirement already satisfied: chardet<3.1.0,>=3.0.2 in /usr/local/lib/python3.6/dist-packages (from requests->gcsfs) (3.0.4)\n",
            "Requirement already satisfied: certifi>=2017.4.17 in /usr/local/lib/python3.6/dist-packages (from requests->gcsfs) (2019.11.28)\n",
            "Requirement already satisfied: requests-oauthlib>=0.7.0 in /usr/local/lib/python3.6/dist-packages (from google-auth-oauthlib->gcsfs) (1.3.0)\n",
            "Requirement already satisfied: cachetools>=2.0.0 in /usr/local/lib/python3.6/dist-packages (from google-auth>=1.2->gcsfs) (4.0.0)\n",
            "Requirement already satisfied: pyasn1-modules>=0.2.1 in /usr/local/lib/python3.6/dist-packages (from google-auth>=1.2->gcsfs) (0.2.7)\n",
            "Requirement already satisfied: rsa>=3.1.4 in /usr/local/lib/python3.6/dist-packages (from google-auth>=1.2->gcsfs) (4.0)\n",
            "Requirement already satisfied: six>=1.9.0 in /usr/local/lib/python3.6/dist-packages (from google-auth>=1.2->gcsfs) (1.12.0)\n",
            "Requirement already satisfied: oauthlib>=3.0.0 in /usr/local/lib/python3.6/dist-packages (from requests-oauthlib>=0.7.0->google-auth-oauthlib->gcsfs) (3.1.0)\n",
            "Requirement already satisfied: pyasn1<0.5.0,>=0.4.6 in /usr/local/lib/python3.6/dist-packages (from pyasn1-modules>=0.2.1->google-auth>=1.2->gcsfs) (0.4.8)\n"
          ],
          "name": "stdout"
        }
      ]
    },
    {
      "cell_type": "code",
      "metadata": {
        "id": "xRlCNKfWMWcs",
        "colab_type": "code",
        "colab": {}
      },
      "source": [
        "d=[]\n",
        "while(1):\n",
        "  d.append('1')"
      ],
      "execution_count": 0,
      "outputs": []
    },
    {
      "cell_type": "code",
      "metadata": {
        "id": "w_VW02kwsvD-",
        "colab_type": "code",
        "outputId": "204303b0-7e62-4a5b-830b-146f2b5e8670",
        "colab": {
          "base_uri": "https://localhost:8080/",
          "height": 35
        }
      },
      "source": [
        "!gcloud config set project skilful-orb-255314"
      ],
      "execution_count": 0,
      "outputs": [
        {
          "output_type": "stream",
          "text": [
            "Updated property [core/project].\n"
          ],
          "name": "stdout"
        }
      ]
    },
    {
      "cell_type": "code",
      "metadata": {
        "id": "zl_6qfJ9thgt",
        "colab_type": "code",
        "outputId": "e7fc7de2-1869-4814-fba6-c0185daebffb",
        "colab": {
          "base_uri": "https://localhost:8080/",
          "height": 72
        }
      },
      "source": [
        "!gsutil cp gs://dataproc-e3bd1f7b-2e29-4da6-a5c4-077c164fd32a-us-central1/avito/test/three_class_model_train.csv /train.csv"
      ],
      "execution_count": 0,
      "outputs": [
        {
          "output_type": "stream",
          "text": [
            "Copying gs://dataproc-e3bd1f7b-2e29-4da6-a5c4-077c164fd32a-us-central1/avito/test/three_class_model_train.csv...\n",
            "\\ [1 files][137.4 MiB/137.4 MiB]                                                \n",
            "Operation completed over 1 objects/137.4 MiB.                                    \n"
          ],
          "name": "stdout"
        }
      ]
    },
    {
      "cell_type": "code",
      "metadata": {
        "id": "kT6iu4f3pmMF",
        "colab_type": "code",
        "colab": {}
      },
      "source": [
        "import pandas as pd\n",
        "import numpy as np\n",
        "import gcsfs"
      ],
      "execution_count": 0,
      "outputs": []
    },
    {
      "cell_type": "code",
      "metadata": {
        "id": "WXEOLqUcpsmG",
        "colab_type": "code",
        "outputId": "f5758f8f-9110-4218-97c9-8fac1dc526ce",
        "colab": {
          "base_uri": "https://localhost:8080/",
          "height": 305
        }
      },
      "source": [
        "df_train = pd.read_csv('/train.csv')\n",
        "df_train.head()"
      ],
      "execution_count": 0,
      "outputs": [
        {
          "output_type": "execute_result",
          "data": {
            "text/html": [
              "<div>\n",
              "<style scoped>\n",
              "    .dataframe tbody tr th:only-of-type {\n",
              "        vertical-align: middle;\n",
              "    }\n",
              "\n",
              "    .dataframe tbody tr th {\n",
              "        vertical-align: top;\n",
              "    }\n",
              "\n",
              "    .dataframe thead th {\n",
              "        text-align: right;\n",
              "    }\n",
              "</style>\n",
              "<table border=\"1\" class=\"dataframe\">\n",
              "  <thead>\n",
              "    <tr style=\"text-align: right;\">\n",
              "      <th></th>\n",
              "      <th>region_en</th>\n",
              "      <th>category_name_en</th>\n",
              "      <th>parent_category_name_en</th>\n",
              "      <th>user_type</th>\n",
              "      <th>weekend</th>\n",
              "      <th>price</th>\n",
              "      <th>description_len</th>\n",
              "      <th>title_len</th>\n",
              "      <th>param_combined_len</th>\n",
              "      <th>image_present</th>\n",
              "      <th>image_top_1</th>\n",
              "      <th>deal_class_5</th>\n",
              "    </tr>\n",
              "  </thead>\n",
              "  <tbody>\n",
              "    <tr>\n",
              "      <th>0</th>\n",
              "      <td>Sverdlovsk oblast</td>\n",
              "      <td>Children's products and toys</td>\n",
              "      <td>Personal belongings</td>\n",
              "      <td>Private</td>\n",
              "      <td>0</td>\n",
              "      <td>400.0</td>\n",
              "      <td>7</td>\n",
              "      <td>3</td>\n",
              "      <td>2</td>\n",
              "      <td>False</td>\n",
              "      <td>1008.0</td>\n",
              "      <td>Poor</td>\n",
              "    </tr>\n",
              "    <tr>\n",
              "      <th>1</th>\n",
              "      <td>Samara oblast</td>\n",
              "      <td>Furniture and interior</td>\n",
              "      <td>For the home and garden</td>\n",
              "      <td>Private</td>\n",
              "      <td>1</td>\n",
              "      <td>3000.0</td>\n",
              "      <td>7</td>\n",
              "      <td>3</td>\n",
              "      <td>1</td>\n",
              "      <td>False</td>\n",
              "      <td>692.0</td>\n",
              "      <td>Poor</td>\n",
              "    </tr>\n",
              "    <tr>\n",
              "      <th>2</th>\n",
              "      <td>Rostov oblast</td>\n",
              "      <td>Audio and video</td>\n",
              "      <td>Consumer electronics</td>\n",
              "      <td>Private</td>\n",
              "      <td>1</td>\n",
              "      <td>4000.0</td>\n",
              "      <td>17</td>\n",
              "      <td>2</td>\n",
              "      <td>5</td>\n",
              "      <td>False</td>\n",
              "      <td>3032.0</td>\n",
              "      <td>Okay</td>\n",
              "    </tr>\n",
              "    <tr>\n",
              "      <th>3</th>\n",
              "      <td>Tatarstan</td>\n",
              "      <td>Children's products and toys</td>\n",
              "      <td>Personal belongings</td>\n",
              "      <td>Company</td>\n",
              "      <td>0</td>\n",
              "      <td>2200.0</td>\n",
              "      <td>3</td>\n",
              "      <td>1</td>\n",
              "      <td>2</td>\n",
              "      <td>False</td>\n",
              "      <td>796.0</td>\n",
              "      <td>Good</td>\n",
              "    </tr>\n",
              "    <tr>\n",
              "      <th>4</th>\n",
              "      <td>Volgograd oblast</td>\n",
              "      <td>Cars</td>\n",
              "      <td>Transport</td>\n",
              "      <td>Private</td>\n",
              "      <td>0</td>\n",
              "      <td>40000.0</td>\n",
              "      <td>4</td>\n",
              "      <td>3</td>\n",
              "      <td>5</td>\n",
              "      <td>False</td>\n",
              "      <td>2264.0</td>\n",
              "      <td>Poor</td>\n",
              "    </tr>\n",
              "  </tbody>\n",
              "</table>\n",
              "</div>"
            ],
            "text/plain": [
              "           region_en              category_name_en  ... image_top_1 deal_class_5\n",
              "0  Sverdlovsk oblast  Children's products and toys  ...      1008.0         Poor\n",
              "1      Samara oblast        Furniture and interior  ...       692.0         Poor\n",
              "2      Rostov oblast               Audio and video  ...      3032.0         Okay\n",
              "3          Tatarstan  Children's products and toys  ...       796.0         Good\n",
              "4   Volgograd oblast                          Cars  ...      2264.0         Poor\n",
              "\n",
              "[5 rows x 12 columns]"
            ]
          },
          "metadata": {
            "tags": []
          },
          "execution_count": 12
        }
      ]
    },
    {
      "cell_type": "code",
      "metadata": {
        "id": "C4QVR4bMscDB",
        "colab_type": "code",
        "outputId": "1d66ba59-2e82-4fa8-b49e-ba66b064e1ae",
        "colab": {
          "base_uri": "https://localhost:8080/",
          "height": 326
        }
      },
      "source": [
        "df_train.info()"
      ],
      "execution_count": 0,
      "outputs": [
        {
          "output_type": "stream",
          "text": [
            "<class 'pandas.core.frame.DataFrame'>\n",
            "RangeIndex: 1503424 entries, 0 to 1503423\n",
            "Data columns (total 12 columns):\n",
            "region_en                  1503424 non-null object\n",
            "category_name_en           1503424 non-null object\n",
            "parent_category_name_en    1503424 non-null object\n",
            "user_type                  1503424 non-null object\n",
            "weekend                    1503424 non-null int64\n",
            "price                      1503424 non-null float64\n",
            "description_len            1503424 non-null int64\n",
            "title_len                  1503424 non-null int64\n",
            "param_combined_len         1503424 non-null int64\n",
            "image_present              1503424 non-null bool\n",
            "image_top_1                1503424 non-null float64\n",
            "deal_class_5               1503424 non-null object\n",
            "dtypes: bool(1), float64(2), int64(4), object(5)\n",
            "memory usage: 127.6+ MB\n"
          ],
          "name": "stdout"
        }
      ]
    },
    {
      "cell_type": "code",
      "metadata": {
        "id": "AGsmm3-jv6nn",
        "colab_type": "code",
        "colab": {}
      },
      "source": [
        "from sklearn.model_selection import train_test_split\n",
        "from sklearn.linear_model import LogisticRegression\n",
        "from sklearn.metrics import accuracy_score\n",
        "import matplotlib.pyplot as plt\n",
        "import seaborn as sns\n",
        "from sklearn import preprocessing\n",
        "from sklearn.preprocessing import LabelEncoder, OneHotEncoder\n",
        "from sklearn.preprocessing import StandardScaler\n",
        "from sklearn.metrics import classification_report\n",
        "from sklearn.metrics import f1_score\n",
        "from sklearn.utils import resample\n",
        "from sklearn.model_selection import GridSearchCV\n",
        "from sklearn.metrics import confusion_matrix \n",
        "import time"
      ],
      "execution_count": 0,
      "outputs": []
    },
    {
      "cell_type": "code",
      "metadata": {
        "id": "uQNHNGoiwPIY",
        "colab_type": "code",
        "colab": {}
      },
      "source": [
        "X = df_train[['region_en','parent_category_name_en','user_type','weekend','price','description_len','title_len','param_combined_len','image_present','image_top_1']]\n",
        "y = df_train[['deal_class_5']]"
      ],
      "execution_count": 0,
      "outputs": []
    },
    {
      "cell_type": "code",
      "metadata": {
        "id": "Vxc3LKg0wakK",
        "colab_type": "code",
        "outputId": "b96d4700-60fd-4947-8caa-8e5e8deb8cfb",
        "colab": {
          "base_uri": "https://localhost:8080/",
          "height": 253
        }
      },
      "source": [
        "X_enc = pd.get_dummies(X, columns=['region_en','user_type','parent_category_name_en'], drop_first = True)\n",
        "X_enc.head()"
      ],
      "execution_count": 0,
      "outputs": [
        {
          "output_type": "execute_result",
          "data": {
            "text/html": [
              "<div>\n",
              "<style scoped>\n",
              "    .dataframe tbody tr th:only-of-type {\n",
              "        vertical-align: middle;\n",
              "    }\n",
              "\n",
              "    .dataframe tbody tr th {\n",
              "        vertical-align: top;\n",
              "    }\n",
              "\n",
              "    .dataframe thead th {\n",
              "        text-align: right;\n",
              "    }\n",
              "</style>\n",
              "<table border=\"1\" class=\"dataframe\">\n",
              "  <thead>\n",
              "    <tr style=\"text-align: right;\">\n",
              "      <th></th>\n",
              "      <th>weekend</th>\n",
              "      <th>price</th>\n",
              "      <th>description_len</th>\n",
              "      <th>title_len</th>\n",
              "      <th>param_combined_len</th>\n",
              "      <th>image_present</th>\n",
              "      <th>image_top_1</th>\n",
              "      <th>region_en_Bashkortostan</th>\n",
              "      <th>region_en_Belgorod oblast</th>\n",
              "      <th>region_en_Chelyabinsk oblast</th>\n",
              "      <th>region_en_Irkutsk oblast</th>\n",
              "      <th>region_en_Kaliningrad oblast</th>\n",
              "      <th>region_en_Kemerovo oblast</th>\n",
              "      <th>region_en_Khanty-Mansi Autonomous Okrug</th>\n",
              "      <th>region_en_Krasnodar Krai</th>\n",
              "      <th>region_en_Krasnoyarsk Krai</th>\n",
              "      <th>region_en_Nizhny Novgorod oblast</th>\n",
              "      <th>region_en_Novosibirsk oblast</th>\n",
              "      <th>region_en_Omsk oblast</th>\n",
              "      <th>region_en_Orenburg oblast</th>\n",
              "      <th>region_en_Perm Krai</th>\n",
              "      <th>region_en_Rostov oblast</th>\n",
              "      <th>region_en_Samara oblast</th>\n",
              "      <th>region_en_Saratov oblast</th>\n",
              "      <th>region_en_Stavropol Krai</th>\n",
              "      <th>region_en_Sverdlovsk oblast</th>\n",
              "      <th>region_en_Tatarstan</th>\n",
              "      <th>region_en_Tula oblast</th>\n",
              "      <th>region_en_Tyumen oblast</th>\n",
              "      <th>region_en_Udmurtia</th>\n",
              "      <th>region_en_Vladimir oblast</th>\n",
              "      <th>region_en_Volgograd oblast</th>\n",
              "      <th>region_en_Voronezh oblast</th>\n",
              "      <th>region_en_Yaroslavl oblast</th>\n",
              "      <th>user_type_Private</th>\n",
              "      <th>user_type_Shop</th>\n",
              "      <th>parent_category_name_en_Consumer electronics</th>\n",
              "      <th>parent_category_name_en_For business</th>\n",
              "      <th>parent_category_name_en_For the home and garden</th>\n",
              "      <th>parent_category_name_en_Hobbies &amp; leisure</th>\n",
              "      <th>parent_category_name_en_Personal belongings</th>\n",
              "      <th>parent_category_name_en_Real estate</th>\n",
              "      <th>parent_category_name_en_Services</th>\n",
              "      <th>parent_category_name_en_Transport</th>\n",
              "    </tr>\n",
              "  </thead>\n",
              "  <tbody>\n",
              "    <tr>\n",
              "      <th>0</th>\n",
              "      <td>0</td>\n",
              "      <td>400.0</td>\n",
              "      <td>7</td>\n",
              "      <td>3</td>\n",
              "      <td>2</td>\n",
              "      <td>False</td>\n",
              "      <td>1008.0</td>\n",
              "      <td>0</td>\n",
              "      <td>0</td>\n",
              "      <td>0</td>\n",
              "      <td>0</td>\n",
              "      <td>0</td>\n",
              "      <td>0</td>\n",
              "      <td>0</td>\n",
              "      <td>0</td>\n",
              "      <td>0</td>\n",
              "      <td>0</td>\n",
              "      <td>0</td>\n",
              "      <td>0</td>\n",
              "      <td>0</td>\n",
              "      <td>0</td>\n",
              "      <td>0</td>\n",
              "      <td>0</td>\n",
              "      <td>0</td>\n",
              "      <td>0</td>\n",
              "      <td>1</td>\n",
              "      <td>0</td>\n",
              "      <td>0</td>\n",
              "      <td>0</td>\n",
              "      <td>0</td>\n",
              "      <td>0</td>\n",
              "      <td>0</td>\n",
              "      <td>0</td>\n",
              "      <td>0</td>\n",
              "      <td>1</td>\n",
              "      <td>0</td>\n",
              "      <td>0</td>\n",
              "      <td>0</td>\n",
              "      <td>0</td>\n",
              "      <td>0</td>\n",
              "      <td>1</td>\n",
              "      <td>0</td>\n",
              "      <td>0</td>\n",
              "      <td>0</td>\n",
              "    </tr>\n",
              "    <tr>\n",
              "      <th>1</th>\n",
              "      <td>1</td>\n",
              "      <td>3000.0</td>\n",
              "      <td>7</td>\n",
              "      <td>3</td>\n",
              "      <td>1</td>\n",
              "      <td>False</td>\n",
              "      <td>692.0</td>\n",
              "      <td>0</td>\n",
              "      <td>0</td>\n",
              "      <td>0</td>\n",
              "      <td>0</td>\n",
              "      <td>0</td>\n",
              "      <td>0</td>\n",
              "      <td>0</td>\n",
              "      <td>0</td>\n",
              "      <td>0</td>\n",
              "      <td>0</td>\n",
              "      <td>0</td>\n",
              "      <td>0</td>\n",
              "      <td>0</td>\n",
              "      <td>0</td>\n",
              "      <td>0</td>\n",
              "      <td>1</td>\n",
              "      <td>0</td>\n",
              "      <td>0</td>\n",
              "      <td>0</td>\n",
              "      <td>0</td>\n",
              "      <td>0</td>\n",
              "      <td>0</td>\n",
              "      <td>0</td>\n",
              "      <td>0</td>\n",
              "      <td>0</td>\n",
              "      <td>0</td>\n",
              "      <td>0</td>\n",
              "      <td>1</td>\n",
              "      <td>0</td>\n",
              "      <td>0</td>\n",
              "      <td>0</td>\n",
              "      <td>1</td>\n",
              "      <td>0</td>\n",
              "      <td>0</td>\n",
              "      <td>0</td>\n",
              "      <td>0</td>\n",
              "      <td>0</td>\n",
              "    </tr>\n",
              "    <tr>\n",
              "      <th>2</th>\n",
              "      <td>1</td>\n",
              "      <td>4000.0</td>\n",
              "      <td>17</td>\n",
              "      <td>2</td>\n",
              "      <td>5</td>\n",
              "      <td>False</td>\n",
              "      <td>3032.0</td>\n",
              "      <td>0</td>\n",
              "      <td>0</td>\n",
              "      <td>0</td>\n",
              "      <td>0</td>\n",
              "      <td>0</td>\n",
              "      <td>0</td>\n",
              "      <td>0</td>\n",
              "      <td>0</td>\n",
              "      <td>0</td>\n",
              "      <td>0</td>\n",
              "      <td>0</td>\n",
              "      <td>0</td>\n",
              "      <td>0</td>\n",
              "      <td>0</td>\n",
              "      <td>1</td>\n",
              "      <td>0</td>\n",
              "      <td>0</td>\n",
              "      <td>0</td>\n",
              "      <td>0</td>\n",
              "      <td>0</td>\n",
              "      <td>0</td>\n",
              "      <td>0</td>\n",
              "      <td>0</td>\n",
              "      <td>0</td>\n",
              "      <td>0</td>\n",
              "      <td>0</td>\n",
              "      <td>0</td>\n",
              "      <td>1</td>\n",
              "      <td>0</td>\n",
              "      <td>1</td>\n",
              "      <td>0</td>\n",
              "      <td>0</td>\n",
              "      <td>0</td>\n",
              "      <td>0</td>\n",
              "      <td>0</td>\n",
              "      <td>0</td>\n",
              "      <td>0</td>\n",
              "    </tr>\n",
              "    <tr>\n",
              "      <th>3</th>\n",
              "      <td>0</td>\n",
              "      <td>2200.0</td>\n",
              "      <td>3</td>\n",
              "      <td>1</td>\n",
              "      <td>2</td>\n",
              "      <td>False</td>\n",
              "      <td>796.0</td>\n",
              "      <td>0</td>\n",
              "      <td>0</td>\n",
              "      <td>0</td>\n",
              "      <td>0</td>\n",
              "      <td>0</td>\n",
              "      <td>0</td>\n",
              "      <td>0</td>\n",
              "      <td>0</td>\n",
              "      <td>0</td>\n",
              "      <td>0</td>\n",
              "      <td>0</td>\n",
              "      <td>0</td>\n",
              "      <td>0</td>\n",
              "      <td>0</td>\n",
              "      <td>0</td>\n",
              "      <td>0</td>\n",
              "      <td>0</td>\n",
              "      <td>0</td>\n",
              "      <td>0</td>\n",
              "      <td>1</td>\n",
              "      <td>0</td>\n",
              "      <td>0</td>\n",
              "      <td>0</td>\n",
              "      <td>0</td>\n",
              "      <td>0</td>\n",
              "      <td>0</td>\n",
              "      <td>0</td>\n",
              "      <td>0</td>\n",
              "      <td>0</td>\n",
              "      <td>0</td>\n",
              "      <td>0</td>\n",
              "      <td>0</td>\n",
              "      <td>0</td>\n",
              "      <td>1</td>\n",
              "      <td>0</td>\n",
              "      <td>0</td>\n",
              "      <td>0</td>\n",
              "    </tr>\n",
              "    <tr>\n",
              "      <th>4</th>\n",
              "      <td>0</td>\n",
              "      <td>40000.0</td>\n",
              "      <td>4</td>\n",
              "      <td>3</td>\n",
              "      <td>5</td>\n",
              "      <td>False</td>\n",
              "      <td>2264.0</td>\n",
              "      <td>0</td>\n",
              "      <td>0</td>\n",
              "      <td>0</td>\n",
              "      <td>0</td>\n",
              "      <td>0</td>\n",
              "      <td>0</td>\n",
              "      <td>0</td>\n",
              "      <td>0</td>\n",
              "      <td>0</td>\n",
              "      <td>0</td>\n",
              "      <td>0</td>\n",
              "      <td>0</td>\n",
              "      <td>0</td>\n",
              "      <td>0</td>\n",
              "      <td>0</td>\n",
              "      <td>0</td>\n",
              "      <td>0</td>\n",
              "      <td>0</td>\n",
              "      <td>0</td>\n",
              "      <td>0</td>\n",
              "      <td>0</td>\n",
              "      <td>0</td>\n",
              "      <td>0</td>\n",
              "      <td>0</td>\n",
              "      <td>1</td>\n",
              "      <td>0</td>\n",
              "      <td>0</td>\n",
              "      <td>1</td>\n",
              "      <td>0</td>\n",
              "      <td>0</td>\n",
              "      <td>0</td>\n",
              "      <td>0</td>\n",
              "      <td>0</td>\n",
              "      <td>0</td>\n",
              "      <td>0</td>\n",
              "      <td>0</td>\n",
              "      <td>1</td>\n",
              "    </tr>\n",
              "  </tbody>\n",
              "</table>\n",
              "</div>"
            ],
            "text/plain": [
              "   weekend  ...  parent_category_name_en_Transport\n",
              "0        0  ...                                  0\n",
              "1        1  ...                                  0\n",
              "2        1  ...                                  0\n",
              "3        0  ...                                  0\n",
              "4        0  ...                                  1\n",
              "\n",
              "[5 rows x 44 columns]"
            ]
          },
          "metadata": {
            "tags": []
          },
          "execution_count": 22
        }
      ]
    },
    {
      "cell_type": "code",
      "metadata": {
        "id": "o3_HXTBYfBYn",
        "colab_type": "code",
        "outputId": "400a80f0-459e-419c-82d7-abca3d7961ba",
        "colab": {
          "base_uri": "https://localhost:8080/",
          "height": 146
        }
      },
      "source": [
        "X_train, X_test, y_train, y_test = train_test_split(X_enc, y, test_size = 0.12, random_state = 0, stratify=y)\n",
        "X_train, X_valid, y_train, y_valid = train_test_split(X_train, y_train, test_size = 0.12, random_state = 0, stratify=y_train)\n",
        "sc = StandardScaler()\n",
        "X_train.loc[:,[\"price\",\"description_len\",\"title_len\",\"param_combined_len\",\"image_top_1\"]] = sc.fit_transform(X_train[[\"price\",\"description_len\",\"title_len\",\"param_combined_len\",\"image_top_1\"]])\n",
        "X_test.loc[:,[\"price\",\"description_len\",\"title_len\",\"param_combined_len\",\"image_top_1\"]] = sc.transform(X_test[[\"price\",\"description_len\",\"title_len\",\"param_combined_len\",\"image_top_1\"]])\n",
        "X_valid.loc[:,[\"price\",\"description_len\",\"title_len\",\"param_combined_len\",\"image_top_1\"]] = sc.transform(X_valid[[\"price\",\"description_len\",\"title_len\",\"param_combined_len\",\"image_top_1\"]])"
      ],
      "execution_count": 0,
      "outputs": [
        {
          "output_type": "stream",
          "text": [
            "/usr/local/lib/python3.6/dist-packages/pandas/core/indexing.py:494: SettingWithCopyWarning: \n",
            "A value is trying to be set on a copy of a slice from a DataFrame.\n",
            "Try using .loc[row_indexer,col_indexer] = value instead\n",
            "\n",
            "See the caveats in the documentation: http://pandas.pydata.org/pandas-docs/stable/user_guide/indexing.html#returning-a-view-versus-a-copy\n",
            "  self.obj[item] = s\n"
          ],
          "name": "stderr"
        }
      ]
    },
    {
      "cell_type": "markdown",
      "metadata": {
        "id": "6kYcwBi6Z_zi",
        "colab_type": "text"
      },
      "source": [
        "## **Modelling**"
      ]
    },
    {
      "cell_type": "markdown",
      "metadata": {
        "id": "Rqt4SZrFsDVo",
        "colab_type": "text"
      },
      "source": [
        " **Sampling using SMOTE**"
      ]
    },
    {
      "cell_type": "code",
      "metadata": {
        "id": "XHO8PHEfxeyV",
        "colab_type": "code",
        "outputId": "27a5b98a-703d-4a51-bb66-986774e1dd61",
        "colab": {
          "base_uri": "https://localhost:8080/",
          "height": 146
        }
      },
      "source": [
        "!pip install imblearn"
      ],
      "execution_count": 0,
      "outputs": [
        {
          "output_type": "stream",
          "text": [
            "Requirement already satisfied: imblearn in /usr/local/lib/python3.6/dist-packages (0.0)\n",
            "Requirement already satisfied: imbalanced-learn in /usr/local/lib/python3.6/dist-packages (from imblearn) (0.4.3)\n",
            "Requirement already satisfied: scipy>=0.13.3 in /usr/local/lib/python3.6/dist-packages (from imbalanced-learn->imblearn) (1.4.1)\n",
            "Requirement already satisfied: numpy>=1.8.2 in /usr/local/lib/python3.6/dist-packages (from imbalanced-learn->imblearn) (1.17.5)\n",
            "Requirement already satisfied: scikit-learn>=0.20 in /usr/local/lib/python3.6/dist-packages (from imbalanced-learn->imblearn) (0.22.1)\n",
            "Requirement already satisfied: joblib>=0.11 in /usr/local/lib/python3.6/dist-packages (from scikit-learn>=0.20->imbalanced-learn->imblearn) (0.14.1)\n"
          ],
          "name": "stdout"
        }
      ]
    },
    {
      "cell_type": "code",
      "metadata": {
        "id": "5zobBtPRxf9l",
        "colab_type": "code",
        "colab": {}
      },
      "source": [
        "  from imblearn.over_sampling import SMOTE\n",
        "  import time"
      ],
      "execution_count": 0,
      "outputs": []
    },
    {
      "cell_type": "code",
      "metadata": {
        "id": "sUmDKKG4xjoO",
        "colab_type": "code",
        "outputId": "70fe7398-1180-4bc6-c345-c7128829659e",
        "colab": {
          "base_uri": "https://localhost:8080/",
          "height": 128
        }
      },
      "source": [
        "sm = SMOTE(sampling_strategy='auto',random_state=27)\n",
        "y_train_smote = y_train.iloc[:, 0]\n",
        "start = time.time()\n",
        "X_train_smote, y_train_smote = sm.fit_sample(X_train, y_train_smote)\n",
        "end = time.time()\n",
        "print(\"Time in seconds : \", end - start)"
      ],
      "execution_count": 0,
      "outputs": [
        {
          "output_type": "stream",
          "text": [
            "/usr/local/lib/python3.6/dist-packages/sklearn/utils/deprecation.py:87: FutureWarning: Function safe_indexing is deprecated; safe_indexing is deprecated in version 0.22 and will be removed in version 0.24.\n",
            "  warnings.warn(msg, category=FutureWarning)\n",
            "/usr/local/lib/python3.6/dist-packages/sklearn/utils/deprecation.py:87: FutureWarning: Function safe_indexing is deprecated; safe_indexing is deprecated in version 0.22 and will be removed in version 0.24.\n",
            "  warnings.warn(msg, category=FutureWarning)\n"
          ],
          "name": "stderr"
        },
        {
          "output_type": "stream",
          "text": [
            "Time in seconds :  126.46320486068726\n"
          ],
          "name": "stdout"
        }
      ]
    },
    {
      "cell_type": "code",
      "metadata": {
        "id": "JAyEhcxrMzUb",
        "colab_type": "code",
        "outputId": "9dd00cbc-62ed-45f1-f325-d76c2220c3eb",
        "colab": {
          "base_uri": "https://localhost:8080/",
          "height": 35
        }
      },
      "source": [
        "y_train_smote\n"
      ],
      "execution_count": 0,
      "outputs": [
        {
          "output_type": "execute_result",
          "data": {
            "text/plain": [
              "array(['Poor', 'Poor', 'Poor', ..., 'Okay', 'Okay', 'Okay'], dtype=object)"
            ]
          },
          "metadata": {
            "tags": []
          },
          "execution_count": 21
        }
      ]
    },
    {
      "cell_type": "markdown",
      "metadata": {
        "id": "_Qffx7W5B4oM",
        "colab_type": "text"
      },
      "source": [
        "Sample Weights:"
      ]
    },
    {
      "cell_type": "code",
      "metadata": {
        "id": "3R3DY--vB7U1",
        "colab_type": "code",
        "colab": {}
      },
      "source": [
        "from  sklearn.utils.class_weight import compute_class_weight\n",
        "arr_y = np.unique(y.values.ravel())\n",
        "sample_weights_data = compute_class_weight(class_weight = \"balanced\", classes = arr_y, y = y.values.ravel())"
      ],
      "execution_count": 0,
      "outputs": []
    },
    {
      "cell_type": "markdown",
      "metadata": {
        "id": "QgEMYHqfaFiL",
        "colab_type": "text"
      },
      "source": [
        "### Ada Boost"
      ]
    },
    {
      "cell_type": "markdown",
      "metadata": {
        "id": "ox9Xq2egzpQO",
        "colab_type": "text"
      },
      "source": [
        "Ada Boost Without Resampling :"
      ]
    },
    {
      "cell_type": "code",
      "metadata": {
        "id": "mINuP73-07X9",
        "colab_type": "code",
        "colab": {}
      },
      "source": [
        "from sklearn.ensemble import AdaBoostClassifier"
      ],
      "execution_count": 0,
      "outputs": []
    },
    {
      "cell_type": "code",
      "metadata": {
        "id": "w1u9_nI30-vR",
        "colab_type": "code",
        "outputId": "e285a7b0-5483-48f7-a0ea-3d12dd87d2e2",
        "colab": {
          "base_uri": "https://localhost:8080/",
          "height": 110
        }
      },
      "source": [
        "model = AdaBoostClassifier(n_estimators=100, random_state=42)\n",
        "model.fit(X_train,y_train)"
      ],
      "execution_count": 0,
      "outputs": [
        {
          "output_type": "stream",
          "text": [
            "/usr/local/lib/python3.6/dist-packages/sklearn/utils/validation.py:760: DataConversionWarning: A column-vector y was passed when a 1d array was expected. Please change the shape of y to (n_samples, ), for example using ravel().\n",
            "  y = column_or_1d(y, warn=True)\n"
          ],
          "name": "stderr"
        },
        {
          "output_type": "execute_result",
          "data": {
            "text/plain": [
              "AdaBoostClassifier(algorithm='SAMME.R', base_estimator=None, learning_rate=1.0,\n",
              "                   n_estimators=100, random_state=42)"
            ]
          },
          "metadata": {
            "tags": []
          },
          "execution_count": 60
        }
      ]
    },
    {
      "cell_type": "code",
      "metadata": {
        "id": "L5OUDAF91HUS",
        "colab_type": "code",
        "outputId": "9fc6f7c5-a47c-41e1-c86f-3e31553fff91",
        "colab": {
          "base_uri": "https://localhost:8080/",
          "height": 254
        }
      },
      "source": [
        "predictions = model.predict(X_valid)\n",
        "print(classification_report(y_valid,predictions))\n",
        "print(confusion_matrix(y_valid,predictions))"
      ],
      "execution_count": 0,
      "outputs": [
        {
          "output_type": "stream",
          "text": [
            "              precision    recall  f1-score   support\n",
            "\n",
            "        Good       0.36      0.01      0.02     17217\n",
            "        Okay       0.25      0.00      0.00      8730\n",
            "        Poor       0.84      1.00      0.91    132815\n",
            "\n",
            "    accuracy                           0.84    158762\n",
            "   macro avg       0.48      0.34      0.31    158762\n",
            "weighted avg       0.75      0.84      0.76    158762\n",
            "\n",
            "[[   145      4  17068]\n",
            " [   102      3   8625]\n",
            " [   161      5 132649]]\n"
          ],
          "name": "stdout"
        }
      ]
    },
    {
      "cell_type": "markdown",
      "metadata": {
        "id": "FqXVITyL4BtH",
        "colab_type": "text"
      },
      "source": [
        "Ada Boost With Resampling :"
      ]
    },
    {
      "cell_type": "code",
      "metadata": {
        "id": "0fFOWvNz1JC7",
        "colab_type": "code",
        "outputId": "a8665ce7-07d7-4846-ae1f-fc0a500193b5",
        "colab": {
          "base_uri": "https://localhost:8080/",
          "height": 54
        }
      },
      "source": [
        "model = AdaBoostClassifier(n_estimators=100, random_state=42)\n",
        "model.fit(X_train_smote,y_train_smote)"
      ],
      "execution_count": 0,
      "outputs": [
        {
          "output_type": "execute_result",
          "data": {
            "text/plain": [
              "AdaBoostClassifier(algorithm='SAMME.R', base_estimator=None, learning_rate=1.0,\n",
              "                   n_estimators=100, random_state=42)"
            ]
          },
          "metadata": {
            "tags": []
          },
          "execution_count": 63
        }
      ]
    },
    {
      "cell_type": "code",
      "metadata": {
        "id": "jTw9dhoM1Iz5",
        "colab_type": "code",
        "outputId": "2c220b44-29a0-44c5-bf5c-e4eed4c7cca1",
        "colab": {
          "base_uri": "https://localhost:8080/",
          "height": 254
        }
      },
      "source": [
        "predictions = model.predict(X_valid)\n",
        "print(classification_report(y_valid,predictions))\n",
        "print(confusion_matrix(y_valid,predictions))"
      ],
      "execution_count": 0,
      "outputs": [
        {
          "output_type": "stream",
          "text": [
            "              precision    recall  f1-score   support\n",
            "\n",
            "        Good       0.20      0.47      0.28     17217\n",
            "        Okay       0.16      0.51      0.24      8730\n",
            "        Poor       0.92      0.62      0.74    132815\n",
            "\n",
            "    accuracy                           0.60    158762\n",
            "   macro avg       0.43      0.53      0.42    158762\n",
            "weighted avg       0.80      0.60      0.66    158762\n",
            "\n",
            "[[ 8156  3897  5164]\n",
            " [ 2667  4453  1610]\n",
            " [31000 19393 82422]]\n"
          ],
          "name": "stdout"
        }
      ]
    },
    {
      "cell_type": "markdown",
      "metadata": {
        "id": "StvkXpB0CHD-",
        "colab_type": "text"
      },
      "source": [
        "ADABoost With 100 stumps, Resampled data and Learning rate =  0.1"
      ]
    },
    {
      "cell_type": "code",
      "metadata": {
        "id": "5PE6cHt94HKx",
        "colab_type": "code",
        "outputId": "6f817a0d-a175-47cd-a94e-8d8d82b07a16",
        "colab": {
          "base_uri": "https://localhost:8080/",
          "height": 54
        }
      },
      "source": [
        "model = AdaBoostClassifier(n_estimators=100, random_state=42, learning_rate=0.1)\n",
        "model.fit(X_train_smote,y_train_smote)"
      ],
      "execution_count": 0,
      "outputs": [
        {
          "output_type": "execute_result",
          "data": {
            "text/plain": [
              "AdaBoostClassifier(algorithm='SAMME.R', base_estimator=None, learning_rate=0.1,\n",
              "                   n_estimators=100, random_state=42)"
            ]
          },
          "metadata": {
            "tags": []
          },
          "execution_count": 75
        }
      ]
    },
    {
      "cell_type": "code",
      "metadata": {
        "id": "2zP6lIHjEC9Q",
        "colab_type": "code",
        "outputId": "57b36952-5aa3-4212-97d2-f07b06fba105",
        "colab": {
          "base_uri": "https://localhost:8080/",
          "height": 254
        }
      },
      "source": [
        "predictions = model.predict(X_valid)\n",
        "print(classification_report(y_valid,predictions))\n",
        "print(confusion_matrix(y_valid,predictions))"
      ],
      "execution_count": 0,
      "outputs": [
        {
          "output_type": "stream",
          "text": [
            "              precision    recall  f1-score   support\n",
            "\n",
            "        Good       0.18      0.48      0.26     17217\n",
            "        Okay       0.14      0.57      0.23      8730\n",
            "        Poor       0.93      0.55      0.70    132815\n",
            "\n",
            "    accuracy                           0.55    158762\n",
            "   macro avg       0.42      0.53      0.40    158762\n",
            "weighted avg       0.81      0.55      0.62    158762\n",
            "\n",
            "[[ 8242  4872  4103]\n",
            " [ 2652  4993  1085]\n",
            " [34698 24595 73522]]\n"
          ],
          "name": "stdout"
        }
      ]
    },
    {
      "cell_type": "markdown",
      "metadata": {
        "id": "eJYDZOtXbBS2",
        "colab_type": "text"
      },
      "source": [
        "ADABoost didnot perform that well compared to other Boosting Algrithms"
      ]
    },
    {
      "cell_type": "markdown",
      "metadata": {
        "id": "vGPT3o95KSOl",
        "colab_type": "text"
      },
      "source": [
        "-----------------------------------------------------------"
      ]
    },
    {
      "cell_type": "markdown",
      "metadata": {
        "id": "kf4temsOKUhw",
        "colab_type": "text"
      },
      "source": [
        "### XGBoost"
      ]
    },
    {
      "cell_type": "code",
      "metadata": {
        "id": "aLkNTWbgKT2f",
        "colab_type": "code",
        "colab": {}
      },
      "source": [
        "import xgboost as xgb"
      ],
      "execution_count": 0,
      "outputs": []
    },
    {
      "cell_type": "markdown",
      "metadata": {
        "id": "OelFaaPMbmFv",
        "colab_type": "text"
      },
      "source": [
        "XGBClassifier with 100 trees, Learning Rate 0.1, objective= 'multi:softprob', eval_metric = 'mlogloss' and without Resampling "
      ]
    },
    {
      "cell_type": "code",
      "metadata": {
        "id": "7XAOljSZ4G2e",
        "colab_type": "code",
        "outputId": "12e776b8-7246-4f5c-ed4c-975f1ca918c1",
        "colab": {
          "base_uri": "https://localhost:8080/",
          "height": 1000
        }
      },
      "source": [
        "clf = xgb.XGBClassifier(\n",
        " learning_rate =0.1,\n",
        " n_estimators=100,\n",
        " max_depth=10,\n",
        " min_child_weight=1,\n",
        " subsample=0.8,\n",
        " colsample_bytree=0.8,\n",
        " verbosity = 3,\n",
        " objective= 'multi:softprob',\n",
        " eval_metric = 'mlogloss',\n",
        " sample_weight=sample_weights_data,\n",
        " seed=27)\n",
        "start = time.time()\n",
        "clf = clf.fit(X_train,y_train.values.ravel(),verbose=True)\n",
        "end = time.time()\n",
        "print(\"Time in seconds : \", end - start)"
      ],
      "execution_count": 0,
      "outputs": [
        {
          "output_type": "stream",
          "text": [
            "[17:56:05] INFO: /workspace/src/tree/updater_prune.cc:74: tree pruning end, 1 roots, 1078 extra nodes, 0 pruned nodes, max_depth=10\n",
            "[17:56:09] INFO: /workspace/src/tree/updater_prune.cc:74: tree pruning end, 1 roots, 1270 extra nodes, 0 pruned nodes, max_depth=10\n",
            "[17:56:13] INFO: /workspace/src/tree/updater_prune.cc:74: tree pruning end, 1 roots, 1396 extra nodes, 0 pruned nodes, max_depth=10\n",
            "[17:56:19] INFO: /workspace/src/tree/updater_prune.cc:74: tree pruning end, 1 roots, 1186 extra nodes, 0 pruned nodes, max_depth=10\n",
            "[17:56:23] INFO: /workspace/src/tree/updater_prune.cc:74: tree pruning end, 1 roots, 1066 extra nodes, 0 pruned nodes, max_depth=10\n",
            "[17:56:27] INFO: /workspace/src/tree/updater_prune.cc:74: tree pruning end, 1 roots, 1142 extra nodes, 0 pruned nodes, max_depth=10\n",
            "[17:56:33] INFO: /workspace/src/tree/updater_prune.cc:74: tree pruning end, 1 roots, 1272 extra nodes, 0 pruned nodes, max_depth=10\n",
            "[17:56:37] INFO: /workspace/src/tree/updater_prune.cc:74: tree pruning end, 1 roots, 760 extra nodes, 0 pruned nodes, max_depth=10\n",
            "[17:56:41] INFO: /workspace/src/tree/updater_prune.cc:74: tree pruning end, 1 roots, 1074 extra nodes, 0 pruned nodes, max_depth=10\n",
            "[17:56:47] INFO: /workspace/src/tree/updater_prune.cc:74: tree pruning end, 1 roots, 1318 extra nodes, 0 pruned nodes, max_depth=10\n",
            "[17:56:51] INFO: /workspace/src/tree/updater_prune.cc:74: tree pruning end, 1 roots, 1274 extra nodes, 0 pruned nodes, max_depth=10\n",
            "[17:56:55] INFO: /workspace/src/tree/updater_prune.cc:74: tree pruning end, 1 roots, 1460 extra nodes, 0 pruned nodes, max_depth=10\n",
            "[17:57:00] INFO: /workspace/src/tree/updater_prune.cc:74: tree pruning end, 1 roots, 1320 extra nodes, 0 pruned nodes, max_depth=10\n",
            "[17:57:05] INFO: /workspace/src/tree/updater_prune.cc:74: tree pruning end, 1 roots, 1096 extra nodes, 0 pruned nodes, max_depth=10\n",
            "[17:57:09] INFO: /workspace/src/tree/updater_prune.cc:74: tree pruning end, 1 roots, 1488 extra nodes, 0 pruned nodes, max_depth=10\n",
            "[17:57:15] INFO: /workspace/src/tree/updater_prune.cc:74: tree pruning end, 1 roots, 1400 extra nodes, 0 pruned nodes, max_depth=10\n",
            "[17:57:19] INFO: /workspace/src/tree/updater_prune.cc:74: tree pruning end, 1 roots, 1130 extra nodes, 0 pruned nodes, max_depth=10\n",
            "[17:57:23] INFO: /workspace/src/tree/updater_prune.cc:74: tree pruning end, 1 roots, 1442 extra nodes, 0 pruned nodes, max_depth=10\n",
            "[17:57:28] INFO: /workspace/src/tree/updater_prune.cc:74: tree pruning end, 1 roots, 1212 extra nodes, 0 pruned nodes, max_depth=10\n",
            "[17:57:33] INFO: /workspace/src/tree/updater_prune.cc:74: tree pruning end, 1 roots, 642 extra nodes, 0 pruned nodes, max_depth=10\n",
            "[17:57:37] INFO: /workspace/src/tree/updater_prune.cc:74: tree pruning end, 1 roots, 1520 extra nodes, 0 pruned nodes, max_depth=10\n",
            "[17:57:43] INFO: /workspace/src/tree/updater_prune.cc:74: tree pruning end, 1 roots, 1386 extra nodes, 0 pruned nodes, max_depth=10\n",
            "[17:57:47] INFO: /workspace/src/tree/updater_prune.cc:74: tree pruning end, 1 roots, 1094 extra nodes, 0 pruned nodes, max_depth=10\n",
            "[17:57:51] INFO: /workspace/src/tree/updater_prune.cc:74: tree pruning end, 1 roots, 1574 extra nodes, 0 pruned nodes, max_depth=10\n",
            "[17:57:56] INFO: /workspace/src/tree/updater_prune.cc:74: tree pruning end, 1 roots, 1384 extra nodes, 0 pruned nodes, max_depth=10\n",
            "[17:58:00] INFO: /workspace/src/tree/updater_prune.cc:74: tree pruning end, 1 roots, 684 extra nodes, 0 pruned nodes, max_depth=10\n",
            "[17:58:05] INFO: /workspace/src/tree/updater_prune.cc:74: tree pruning end, 1 roots, 1534 extra nodes, 0 pruned nodes, max_depth=10\n",
            "[17:58:10] INFO: /workspace/src/tree/updater_prune.cc:74: tree pruning end, 1 roots, 1302 extra nodes, 0 pruned nodes, max_depth=10\n",
            "[17:58:14] INFO: /workspace/src/tree/updater_prune.cc:74: tree pruning end, 1 roots, 1436 extra nodes, 0 pruned nodes, max_depth=10\n",
            "[17:58:19] INFO: /workspace/src/tree/updater_prune.cc:74: tree pruning end, 1 roots, 1580 extra nodes, 0 pruned nodes, max_depth=10\n",
            "[17:58:24] INFO: /workspace/src/tree/updater_prune.cc:74: tree pruning end, 1 roots, 1550 extra nodes, 0 pruned nodes, max_depth=10\n",
            "[17:58:29] INFO: /workspace/src/tree/updater_prune.cc:74: tree pruning end, 1 roots, 1428 extra nodes, 0 pruned nodes, max_depth=10\n",
            "[17:58:33] INFO: /workspace/src/tree/updater_prune.cc:74: tree pruning end, 1 roots, 1676 extra nodes, 0 pruned nodes, max_depth=10\n",
            "[17:58:38] INFO: /workspace/src/tree/updater_prune.cc:74: tree pruning end, 1 roots, 1424 extra nodes, 0 pruned nodes, max_depth=10\n",
            "[17:58:43] INFO: /workspace/src/tree/updater_prune.cc:74: tree pruning end, 1 roots, 1170 extra nodes, 0 pruned nodes, max_depth=10\n",
            "[17:58:47] INFO: /workspace/src/tree/updater_prune.cc:74: tree pruning end, 1 roots, 1466 extra nodes, 0 pruned nodes, max_depth=10\n",
            "[17:58:52] INFO: /workspace/src/tree/updater_prune.cc:74: tree pruning end, 1 roots, 1224 extra nodes, 0 pruned nodes, max_depth=10\n",
            "[17:58:56] INFO: /workspace/src/tree/updater_prune.cc:74: tree pruning end, 1 roots, 998 extra nodes, 0 pruned nodes, max_depth=10\n",
            "[17:59:00] INFO: /workspace/src/tree/updater_prune.cc:74: tree pruning end, 1 roots, 1664 extra nodes, 0 pruned nodes, max_depth=10\n",
            "[17:59:06] INFO: /workspace/src/tree/updater_prune.cc:74: tree pruning end, 1 roots, 1482 extra nodes, 0 pruned nodes, max_depth=10\n",
            "[17:59:11] INFO: /workspace/src/tree/updater_prune.cc:74: tree pruning end, 1 roots, 1160 extra nodes, 0 pruned nodes, max_depth=10\n",
            "[17:59:15] INFO: /workspace/src/tree/updater_prune.cc:74: tree pruning end, 1 roots, 1756 extra nodes, 0 pruned nodes, max_depth=10\n",
            "[17:59:21] INFO: /workspace/src/tree/updater_prune.cc:74: tree pruning end, 1 roots, 1484 extra nodes, 0 pruned nodes, max_depth=10\n",
            "[17:59:25] INFO: /workspace/src/tree/updater_prune.cc:74: tree pruning end, 1 roots, 1158 extra nodes, 0 pruned nodes, max_depth=10\n",
            "[17:59:29] INFO: /workspace/src/tree/updater_prune.cc:74: tree pruning end, 1 roots, 1604 extra nodes, 0 pruned nodes, max_depth=10\n",
            "[17:59:34] INFO: /workspace/src/tree/updater_prune.cc:74: tree pruning end, 1 roots, 1320 extra nodes, 0 pruned nodes, max_depth=10\n",
            "[17:59:39] INFO: /workspace/src/tree/updater_prune.cc:74: tree pruning end, 1 roots, 1276 extra nodes, 0 pruned nodes, max_depth=10\n",
            "[17:59:43] INFO: /workspace/src/tree/updater_prune.cc:74: tree pruning end, 1 roots, 1678 extra nodes, 0 pruned nodes, max_depth=10\n",
            "[17:59:48] INFO: /workspace/src/tree/updater_prune.cc:74: tree pruning end, 1 roots, 1464 extra nodes, 0 pruned nodes, max_depth=10\n",
            "[17:59:52] INFO: /workspace/src/tree/updater_prune.cc:74: tree pruning end, 1 roots, 1210 extra nodes, 0 pruned nodes, max_depth=10\n",
            "[17:59:56] INFO: /workspace/src/tree/updater_prune.cc:74: tree pruning end, 1 roots, 1622 extra nodes, 0 pruned nodes, max_depth=10\n",
            "[18:00:02] INFO: /workspace/src/tree/updater_prune.cc:74: tree pruning end, 1 roots, 1332 extra nodes, 0 pruned nodes, max_depth=10\n",
            "[18:00:06] INFO: /workspace/src/tree/updater_prune.cc:74: tree pruning end, 1 roots, 1360 extra nodes, 0 pruned nodes, max_depth=10\n",
            "[18:00:10] INFO: /workspace/src/tree/updater_prune.cc:74: tree pruning end, 1 roots, 1600 extra nodes, 0 pruned nodes, max_depth=10\n",
            "[18:00:16] INFO: /workspace/src/tree/updater_prune.cc:74: tree pruning end, 1 roots, 1388 extra nodes, 0 pruned nodes, max_depth=10\n",
            "[18:00:20] INFO: /workspace/src/tree/updater_prune.cc:74: tree pruning end, 1 roots, 1364 extra nodes, 0 pruned nodes, max_depth=10\n",
            "[18:00:25] INFO: /workspace/src/tree/updater_prune.cc:74: tree pruning end, 1 roots, 1460 extra nodes, 0 pruned nodes, max_depth=10\n",
            "[18:00:30] INFO: /workspace/src/tree/updater_prune.cc:74: tree pruning end, 1 roots, 1314 extra nodes, 0 pruned nodes, max_depth=10\n",
            "[18:00:34] INFO: /workspace/src/tree/updater_prune.cc:74: tree pruning end, 1 roots, 1196 extra nodes, 0 pruned nodes, max_depth=10\n",
            "[18:00:38] INFO: /workspace/src/tree/updater_prune.cc:74: tree pruning end, 1 roots, 1290 extra nodes, 0 pruned nodes, max_depth=10\n",
            "[18:00:43] INFO: /workspace/src/tree/updater_prune.cc:74: tree pruning end, 1 roots, 1222 extra nodes, 0 pruned nodes, max_depth=10\n",
            "[18:00:48] INFO: /workspace/src/tree/updater_prune.cc:74: tree pruning end, 1 roots, 1250 extra nodes, 0 pruned nodes, max_depth=10\n",
            "[18:00:52] INFO: /workspace/src/tree/updater_prune.cc:74: tree pruning end, 1 roots, 1536 extra nodes, 0 pruned nodes, max_depth=10\n",
            "[18:00:57] INFO: /workspace/src/tree/updater_prune.cc:74: tree pruning end, 1 roots, 1188 extra nodes, 0 pruned nodes, max_depth=10\n",
            "[18:01:01] INFO: /workspace/src/tree/updater_prune.cc:74: tree pruning end, 1 roots, 1272 extra nodes, 0 pruned nodes, max_depth=10\n",
            "[18:01:06] INFO: /workspace/src/tree/updater_prune.cc:74: tree pruning end, 1 roots, 1610 extra nodes, 0 pruned nodes, max_depth=10\n",
            "[18:01:11] INFO: /workspace/src/tree/updater_prune.cc:74: tree pruning end, 1 roots, 1324 extra nodes, 0 pruned nodes, max_depth=10\n",
            "[18:01:15] INFO: /workspace/src/tree/updater_prune.cc:74: tree pruning end, 1 roots, 1448 extra nodes, 0 pruned nodes, max_depth=10\n",
            "[18:01:20] INFO: /workspace/src/tree/updater_prune.cc:74: tree pruning end, 1 roots, 1504 extra nodes, 0 pruned nodes, max_depth=10\n",
            "[18:01:25] INFO: /workspace/src/tree/updater_prune.cc:74: tree pruning end, 1 roots, 1484 extra nodes, 0 pruned nodes, max_depth=10\n",
            "[18:01:29] INFO: /workspace/src/tree/updater_prune.cc:74: tree pruning end, 1 roots, 1320 extra nodes, 0 pruned nodes, max_depth=10\n",
            "[18:01:33] INFO: /workspace/src/tree/updater_prune.cc:74: tree pruning end, 1 roots, 1654 extra nodes, 0 pruned nodes, max_depth=10\n",
            "[18:01:39] INFO: /workspace/src/tree/updater_prune.cc:74: tree pruning end, 1 roots, 1476 extra nodes, 0 pruned nodes, max_depth=10\n",
            "[18:01:43] INFO: /workspace/src/tree/updater_prune.cc:74: tree pruning end, 1 roots, 902 extra nodes, 0 pruned nodes, max_depth=10\n",
            "[18:01:47] INFO: /workspace/src/tree/updater_prune.cc:74: tree pruning end, 1 roots, 1634 extra nodes, 0 pruned nodes, max_depth=10\n",
            "[18:01:52] INFO: /workspace/src/tree/updater_prune.cc:74: tree pruning end, 1 roots, 1462 extra nodes, 0 pruned nodes, max_depth=10\n",
            "[18:01:56] INFO: /workspace/src/tree/updater_prune.cc:74: tree pruning end, 1 roots, 1472 extra nodes, 0 pruned nodes, max_depth=10\n",
            "[18:02:01] INFO: /workspace/src/tree/updater_prune.cc:74: tree pruning end, 1 roots, 1678 extra nodes, 0 pruned nodes, max_depth=10\n",
            "[18:02:06] INFO: /workspace/src/tree/updater_prune.cc:74: tree pruning end, 1 roots, 1278 extra nodes, 0 pruned nodes, max_depth=10\n",
            "[18:02:10] INFO: /workspace/src/tree/updater_prune.cc:74: tree pruning end, 1 roots, 1370 extra nodes, 0 pruned nodes, max_depth=10\n",
            "[18:02:15] INFO: /workspace/src/tree/updater_prune.cc:74: tree pruning end, 1 roots, 1498 extra nodes, 0 pruned nodes, max_depth=10\n",
            "[18:02:20] INFO: /workspace/src/tree/updater_prune.cc:74: tree pruning end, 1 roots, 1484 extra nodes, 0 pruned nodes, max_depth=10\n",
            "[18:02:24] INFO: /workspace/src/tree/updater_prune.cc:74: tree pruning end, 1 roots, 1406 extra nodes, 0 pruned nodes, max_depth=10\n",
            "[18:02:29] INFO: /workspace/src/tree/updater_prune.cc:74: tree pruning end, 1 roots, 1606 extra nodes, 0 pruned nodes, max_depth=10\n",
            "[18:02:34] INFO: /workspace/src/tree/updater_prune.cc:74: tree pruning end, 1 roots, 1172 extra nodes, 0 pruned nodes, max_depth=10\n",
            "[18:02:38] INFO: /workspace/src/tree/updater_prune.cc:74: tree pruning end, 1 roots, 1264 extra nodes, 0 pruned nodes, max_depth=10\n",
            "[18:02:42] INFO: /workspace/src/tree/updater_prune.cc:74: tree pruning end, 1 roots, 1558 extra nodes, 0 pruned nodes, max_depth=10\n",
            "[18:02:47] INFO: /workspace/src/tree/updater_prune.cc:74: tree pruning end, 1 roots, 1068 extra nodes, 0 pruned nodes, max_depth=10\n",
            "[18:02:52] INFO: /workspace/src/tree/updater_prune.cc:74: tree pruning end, 1 roots, 1270 extra nodes, 0 pruned nodes, max_depth=10\n",
            "[18:02:56] INFO: /workspace/src/tree/updater_prune.cc:74: tree pruning end, 1 roots, 1710 extra nodes, 0 pruned nodes, max_depth=10\n",
            "[18:03:01] INFO: /workspace/src/tree/updater_prune.cc:74: tree pruning end, 1 roots, 1076 extra nodes, 0 pruned nodes, max_depth=10\n",
            "[18:03:05] INFO: /workspace/src/tree/updater_prune.cc:74: tree pruning end, 1 roots, 1210 extra nodes, 0 pruned nodes, max_depth=10\n",
            "[18:03:10] INFO: /workspace/src/tree/updater_prune.cc:74: tree pruning end, 1 roots, 1088 extra nodes, 0 pruned nodes, max_depth=10\n",
            "[18:03:15] INFO: /workspace/src/tree/updater_prune.cc:74: tree pruning end, 1 roots, 1120 extra nodes, 0 pruned nodes, max_depth=10\n",
            "[18:03:19] INFO: /workspace/src/tree/updater_prune.cc:74: tree pruning end, 1 roots, 1276 extra nodes, 0 pruned nodes, max_depth=10\n",
            "[18:03:24] INFO: /workspace/src/tree/updater_prune.cc:74: tree pruning end, 1 roots, 1606 extra nodes, 0 pruned nodes, max_depth=10\n",
            "[18:03:29] INFO: /workspace/src/tree/updater_prune.cc:74: tree pruning end, 1 roots, 1146 extra nodes, 0 pruned nodes, max_depth=10\n",
            "[18:03:33] INFO: /workspace/src/tree/updater_prune.cc:74: tree pruning end, 1 roots, 1242 extra nodes, 0 pruned nodes, max_depth=10\n",
            "[18:03:37] INFO: /workspace/src/tree/updater_prune.cc:74: tree pruning end, 1 roots, 1492 extra nodes, 0 pruned nodes, max_depth=10\n",
            "[18:03:43] INFO: /workspace/src/tree/updater_prune.cc:74: tree pruning end, 1 roots, 1206 extra nodes, 0 pruned nodes, max_depth=10\n",
            "[18:03:47] INFO: /workspace/src/tree/updater_prune.cc:74: tree pruning end, 1 roots, 1280 extra nodes, 0 pruned nodes, max_depth=10\n",
            "[18:03:51] INFO: /workspace/src/tree/updater_prune.cc:74: tree pruning end, 1 roots, 1790 extra nodes, 0 pruned nodes, max_depth=10\n",
            "[18:03:56] INFO: /workspace/src/tree/updater_prune.cc:74: tree pruning end, 1 roots, 1142 extra nodes, 0 pruned nodes, max_depth=10\n",
            "[18:04:01] INFO: /workspace/src/tree/updater_prune.cc:74: tree pruning end, 1 roots, 1290 extra nodes, 0 pruned nodes, max_depth=10\n",
            "[18:04:05] INFO: /workspace/src/tree/updater_prune.cc:74: tree pruning end, 1 roots, 1422 extra nodes, 0 pruned nodes, max_depth=10\n",
            "[18:04:10] INFO: /workspace/src/tree/updater_prune.cc:74: tree pruning end, 1 roots, 1154 extra nodes, 0 pruned nodes, max_depth=10\n",
            "[18:04:15] INFO: /workspace/src/tree/updater_prune.cc:74: tree pruning end, 1 roots, 1202 extra nodes, 0 pruned nodes, max_depth=10\n",
            "[18:04:19] INFO: /workspace/src/tree/updater_prune.cc:74: tree pruning end, 1 roots, 1394 extra nodes, 0 pruned nodes, max_depth=10\n",
            "[18:04:25] INFO: /workspace/src/tree/updater_prune.cc:74: tree pruning end, 1 roots, 1174 extra nodes, 0 pruned nodes, max_depth=10\n",
            "[18:04:29] INFO: /workspace/src/tree/updater_prune.cc:74: tree pruning end, 1 roots, 1260 extra nodes, 0 pruned nodes, max_depth=10\n",
            "[18:04:33] INFO: /workspace/src/tree/updater_prune.cc:74: tree pruning end, 1 roots, 1446 extra nodes, 0 pruned nodes, max_depth=10\n",
            "[18:04:39] INFO: /workspace/src/tree/updater_prune.cc:74: tree pruning end, 1 roots, 1178 extra nodes, 0 pruned nodes, max_depth=10\n",
            "[18:04:43] INFO: /workspace/src/tree/updater_prune.cc:74: tree pruning end, 1 roots, 1332 extra nodes, 0 pruned nodes, max_depth=10\n",
            "[18:04:47] INFO: /workspace/src/tree/updater_prune.cc:74: tree pruning end, 1 roots, 1366 extra nodes, 0 pruned nodes, max_depth=10\n",
            "[18:04:52] INFO: /workspace/src/tree/updater_prune.cc:74: tree pruning end, 1 roots, 984 extra nodes, 0 pruned nodes, max_depth=10\n",
            "[18:04:56] INFO: /workspace/src/tree/updater_prune.cc:74: tree pruning end, 1 roots, 1400 extra nodes, 0 pruned nodes, max_depth=10\n",
            "[18:05:01] INFO: /workspace/src/tree/updater_prune.cc:74: tree pruning end, 1 roots, 1406 extra nodes, 0 pruned nodes, max_depth=10\n",
            "[18:05:06] INFO: /workspace/src/tree/updater_prune.cc:74: tree pruning end, 1 roots, 1040 extra nodes, 0 pruned nodes, max_depth=10\n",
            "[18:05:10] INFO: /workspace/src/tree/updater_prune.cc:74: tree pruning end, 1 roots, 1218 extra nodes, 0 pruned nodes, max_depth=10\n",
            "[18:05:15] INFO: /workspace/src/tree/updater_prune.cc:74: tree pruning end, 1 roots, 1312 extra nodes, 0 pruned nodes, max_depth=10\n",
            "[18:05:20] INFO: /workspace/src/tree/updater_prune.cc:74: tree pruning end, 1 roots, 1200 extra nodes, 0 pruned nodes, max_depth=10\n",
            "[18:05:24] INFO: /workspace/src/tree/updater_prune.cc:74: tree pruning end, 1 roots, 1294 extra nodes, 0 pruned nodes, max_depth=10\n",
            "[18:05:29] INFO: /workspace/src/tree/updater_prune.cc:74: tree pruning end, 1 roots, 1400 extra nodes, 0 pruned nodes, max_depth=10\n",
            "[18:05:34] INFO: /workspace/src/tree/updater_prune.cc:74: tree pruning end, 1 roots, 1128 extra nodes, 0 pruned nodes, max_depth=10\n",
            "[18:05:39] INFO: /workspace/src/tree/updater_prune.cc:74: tree pruning end, 1 roots, 1132 extra nodes, 0 pruned nodes, max_depth=10\n",
            "[18:05:43] INFO: /workspace/src/tree/updater_prune.cc:74: tree pruning end, 1 roots, 1438 extra nodes, 0 pruned nodes, max_depth=10\n",
            "[18:05:48] INFO: /workspace/src/tree/updater_prune.cc:74: tree pruning end, 1 roots, 1088 extra nodes, 0 pruned nodes, max_depth=10\n",
            "[18:05:52] INFO: /workspace/src/tree/updater_prune.cc:74: tree pruning end, 1 roots, 1062 extra nodes, 0 pruned nodes, max_depth=10\n",
            "[18:05:56] INFO: /workspace/src/tree/updater_prune.cc:74: tree pruning end, 1 roots, 1372 extra nodes, 0 pruned nodes, max_depth=10\n",
            "[18:06:01] INFO: /workspace/src/tree/updater_prune.cc:74: tree pruning end, 1 roots, 1048 extra nodes, 0 pruned nodes, max_depth=10\n",
            "[18:06:05] INFO: /workspace/src/tree/updater_prune.cc:74: tree pruning end, 1 roots, 1272 extra nodes, 0 pruned nodes, max_depth=10\n",
            "[18:06:10] INFO: /workspace/src/tree/updater_prune.cc:74: tree pruning end, 1 roots, 1454 extra nodes, 0 pruned nodes, max_depth=10\n",
            "[18:06:15] INFO: /workspace/src/tree/updater_prune.cc:74: tree pruning end, 1 roots, 898 extra nodes, 0 pruned nodes, max_depth=10\n",
            "[18:06:19] INFO: /workspace/src/tree/updater_prune.cc:74: tree pruning end, 1 roots, 1188 extra nodes, 0 pruned nodes, max_depth=10\n",
            "[18:06:23] INFO: /workspace/src/tree/updater_prune.cc:74: tree pruning end, 1 roots, 1272 extra nodes, 0 pruned nodes, max_depth=10\n",
            "[18:06:29] INFO: /workspace/src/tree/updater_prune.cc:74: tree pruning end, 1 roots, 1046 extra nodes, 0 pruned nodes, max_depth=10\n",
            "[18:06:32] INFO: /workspace/src/tree/updater_prune.cc:74: tree pruning end, 1 roots, 802 extra nodes, 0 pruned nodes, max_depth=10\n",
            "[18:06:37] INFO: /workspace/src/tree/updater_prune.cc:74: tree pruning end, 1 roots, 1242 extra nodes, 0 pruned nodes, max_depth=10\n",
            "[18:06:42] INFO: /workspace/src/tree/updater_prune.cc:74: tree pruning end, 1 roots, 1058 extra nodes, 0 pruned nodes, max_depth=10\n",
            "[18:06:46] INFO: /workspace/src/tree/updater_prune.cc:74: tree pruning end, 1 roots, 1108 extra nodes, 0 pruned nodes, max_depth=10\n",
            "[18:06:50] INFO: /workspace/src/tree/updater_prune.cc:74: tree pruning end, 1 roots, 1294 extra nodes, 0 pruned nodes, max_depth=10\n",
            "[18:06:55] INFO: /workspace/src/tree/updater_prune.cc:74: tree pruning end, 1 roots, 1008 extra nodes, 0 pruned nodes, max_depth=10\n",
            "[18:06:59] INFO: /workspace/src/tree/updater_prune.cc:74: tree pruning end, 1 roots, 1186 extra nodes, 0 pruned nodes, max_depth=10\n",
            "[18:07:04] INFO: /workspace/src/tree/updater_prune.cc:74: tree pruning end, 1 roots, 1400 extra nodes, 0 pruned nodes, max_depth=10\n",
            "[18:07:09] INFO: /workspace/src/tree/updater_prune.cc:74: tree pruning end, 1 roots, 864 extra nodes, 0 pruned nodes, max_depth=10\n",
            "[18:07:13] INFO: /workspace/src/tree/updater_prune.cc:74: tree pruning end, 1 roots, 1152 extra nodes, 0 pruned nodes, max_depth=10\n",
            "[18:07:17] INFO: /workspace/src/tree/updater_prune.cc:74: tree pruning end, 1 roots, 1226 extra nodes, 0 pruned nodes, max_depth=10\n",
            "[18:07:22] INFO: /workspace/src/tree/updater_prune.cc:74: tree pruning end, 1 roots, 1084 extra nodes, 0 pruned nodes, max_depth=10\n",
            "[18:07:26] INFO: /workspace/src/tree/updater_prune.cc:74: tree pruning end, 1 roots, 1114 extra nodes, 0 pruned nodes, max_depth=10\n",
            "[18:07:30] INFO: /workspace/src/tree/updater_prune.cc:74: tree pruning end, 1 roots, 1240 extra nodes, 0 pruned nodes, max_depth=10\n",
            "[18:07:35] INFO: /workspace/src/tree/updater_prune.cc:74: tree pruning end, 1 roots, 982 extra nodes, 0 pruned nodes, max_depth=10\n",
            "[18:07:39] INFO: /workspace/src/tree/updater_prune.cc:74: tree pruning end, 1 roots, 924 extra nodes, 0 pruned nodes, max_depth=10\n",
            "[18:07:44] INFO: /workspace/src/tree/updater_prune.cc:74: tree pruning end, 1 roots, 1042 extra nodes, 0 pruned nodes, max_depth=10\n",
            "[18:07:48] INFO: /workspace/src/tree/updater_prune.cc:74: tree pruning end, 1 roots, 952 extra nodes, 0 pruned nodes, max_depth=10\n",
            "[18:07:53] INFO: /workspace/src/tree/updater_prune.cc:74: tree pruning end, 1 roots, 1136 extra nodes, 0 pruned nodes, max_depth=10\n",
            "[18:07:57] INFO: /workspace/src/tree/updater_prune.cc:74: tree pruning end, 1 roots, 1330 extra nodes, 0 pruned nodes, max_depth=10\n",
            "[18:08:02] INFO: /workspace/src/tree/updater_prune.cc:74: tree pruning end, 1 roots, 992 extra nodes, 0 pruned nodes, max_depth=10\n",
            "[18:08:06] INFO: /workspace/src/tree/updater_prune.cc:74: tree pruning end, 1 roots, 1118 extra nodes, 0 pruned nodes, max_depth=10\n",
            "[18:08:10] INFO: /workspace/src/tree/updater_prune.cc:74: tree pruning end, 1 roots, 1306 extra nodes, 0 pruned nodes, max_depth=10\n",
            "[18:08:15] INFO: /workspace/src/tree/updater_prune.cc:74: tree pruning end, 1 roots, 1026 extra nodes, 0 pruned nodes, max_depth=10\n",
            "[18:08:19] INFO: /workspace/src/tree/updater_prune.cc:74: tree pruning end, 1 roots, 1076 extra nodes, 0 pruned nodes, max_depth=10\n",
            "[18:08:24] INFO: /workspace/src/tree/updater_prune.cc:74: tree pruning end, 1 roots, 1376 extra nodes, 0 pruned nodes, max_depth=10\n",
            "[18:08:29] INFO: /workspace/src/tree/updater_prune.cc:74: tree pruning end, 1 roots, 984 extra nodes, 0 pruned nodes, max_depth=10\n",
            "[18:08:33] INFO: /workspace/src/tree/updater_prune.cc:74: tree pruning end, 1 roots, 1098 extra nodes, 0 pruned nodes, max_depth=10\n",
            "[18:08:37] INFO: /workspace/src/tree/updater_prune.cc:74: tree pruning end, 1 roots, 1372 extra nodes, 0 pruned nodes, max_depth=10\n",
            "[18:08:42] INFO: /workspace/src/tree/updater_prune.cc:74: tree pruning end, 1 roots, 848 extra nodes, 0 pruned nodes, max_depth=10\n",
            "[18:08:46] INFO: /workspace/src/tree/updater_prune.cc:74: tree pruning end, 1 roots, 1212 extra nodes, 0 pruned nodes, max_depth=10\n",
            "[18:08:50] INFO: /workspace/src/tree/updater_prune.cc:74: tree pruning end, 1 roots, 1150 extra nodes, 0 pruned nodes, max_depth=10\n",
            "[18:08:55] INFO: /workspace/src/tree/updater_prune.cc:74: tree pruning end, 1 roots, 1002 extra nodes, 0 pruned nodes, max_depth=10\n",
            "[18:08:59] INFO: /workspace/src/tree/updater_prune.cc:74: tree pruning end, 1 roots, 1046 extra nodes, 0 pruned nodes, max_depth=10\n",
            "[18:09:04] INFO: /workspace/src/tree/updater_prune.cc:74: tree pruning end, 1 roots, 1522 extra nodes, 0 pruned nodes, max_depth=10\n",
            "[18:09:09] INFO: /workspace/src/tree/updater_prune.cc:74: tree pruning end, 1 roots, 1248 extra nodes, 0 pruned nodes, max_depth=10\n",
            "[18:09:13] INFO: /workspace/src/tree/updater_prune.cc:74: tree pruning end, 1 roots, 916 extra nodes, 0 pruned nodes, max_depth=10\n",
            "[18:09:17] INFO: /workspace/src/tree/updater_prune.cc:74: tree pruning end, 1 roots, 1374 extra nodes, 0 pruned nodes, max_depth=10\n",
            "[18:09:22] INFO: /workspace/src/tree/updater_prune.cc:74: tree pruning end, 1 roots, 834 extra nodes, 0 pruned nodes, max_depth=10\n",
            "[18:09:26] INFO: /workspace/src/tree/updater_prune.cc:74: tree pruning end, 1 roots, 996 extra nodes, 0 pruned nodes, max_depth=10\n",
            "[18:09:30] INFO: /workspace/src/tree/updater_prune.cc:74: tree pruning end, 1 roots, 1274 extra nodes, 0 pruned nodes, max_depth=10\n",
            "[18:09:35] INFO: /workspace/src/tree/updater_prune.cc:74: tree pruning end, 1 roots, 1144 extra nodes, 0 pruned nodes, max_depth=10\n",
            "[18:09:39] INFO: /workspace/src/tree/updater_prune.cc:74: tree pruning end, 1 roots, 854 extra nodes, 0 pruned nodes, max_depth=10\n",
            "[18:09:43] INFO: /workspace/src/tree/updater_prune.cc:74: tree pruning end, 1 roots, 1030 extra nodes, 0 pruned nodes, max_depth=10\n",
            "[18:09:48] INFO: /workspace/src/tree/updater_prune.cc:74: tree pruning end, 1 roots, 1114 extra nodes, 0 pruned nodes, max_depth=10\n",
            "[18:09:52] INFO: /workspace/src/tree/updater_prune.cc:74: tree pruning end, 1 roots, 1148 extra nodes, 0 pruned nodes, max_depth=10\n",
            "[18:09:56] INFO: /workspace/src/tree/updater_prune.cc:74: tree pruning end, 1 roots, 882 extra nodes, 0 pruned nodes, max_depth=10\n",
            "[18:10:01] INFO: /workspace/src/tree/updater_prune.cc:74: tree pruning end, 1 roots, 1122 extra nodes, 0 pruned nodes, max_depth=10\n",
            "[18:10:05] INFO: /workspace/src/tree/updater_prune.cc:74: tree pruning end, 1 roots, 1158 extra nodes, 0 pruned nodes, max_depth=10\n",
            "[18:10:09] INFO: /workspace/src/tree/updater_prune.cc:74: tree pruning end, 1 roots, 976 extra nodes, 0 pruned nodes, max_depth=10\n",
            "[18:10:14] INFO: /workspace/src/tree/updater_prune.cc:74: tree pruning end, 1 roots, 1172 extra nodes, 0 pruned nodes, max_depth=10\n",
            "[18:10:19] INFO: /workspace/src/tree/updater_prune.cc:74: tree pruning end, 1 roots, 1030 extra nodes, 0 pruned nodes, max_depth=10\n",
            "[18:10:22] INFO: /workspace/src/tree/updater_prune.cc:74: tree pruning end, 1 roots, 1042 extra nodes, 0 pruned nodes, max_depth=10\n",
            "[18:10:27] INFO: /workspace/src/tree/updater_prune.cc:74: tree pruning end, 1 roots, 788 extra nodes, 0 pruned nodes, max_depth=10\n",
            "[18:10:31] INFO: /workspace/src/tree/updater_prune.cc:74: tree pruning end, 1 roots, 1096 extra nodes, 0 pruned nodes, max_depth=10\n",
            "[18:10:35] INFO: /workspace/src/tree/updater_prune.cc:74: tree pruning end, 1 roots, 1114 extra nodes, 0 pruned nodes, max_depth=10\n",
            "[18:10:40] INFO: /workspace/src/tree/updater_prune.cc:74: tree pruning end, 1 roots, 1054 extra nodes, 0 pruned nodes, max_depth=10\n",
            "[18:10:44] INFO: /workspace/src/tree/updater_prune.cc:74: tree pruning end, 1 roots, 954 extra nodes, 0 pruned nodes, max_depth=10\n",
            "[18:10:48] INFO: /workspace/src/tree/updater_prune.cc:74: tree pruning end, 1 roots, 1158 extra nodes, 0 pruned nodes, max_depth=10\n",
            "[18:10:53] INFO: /workspace/src/tree/updater_prune.cc:74: tree pruning end, 1 roots, 992 extra nodes, 0 pruned nodes, max_depth=10\n",
            "[18:10:57] INFO: /workspace/src/tree/updater_prune.cc:74: tree pruning end, 1 roots, 828 extra nodes, 0 pruned nodes, max_depth=10\n",
            "[18:11:00] INFO: /workspace/src/tree/updater_prune.cc:74: tree pruning end, 1 roots, 1216 extra nodes, 0 pruned nodes, max_depth=10\n",
            "[18:11:05] INFO: /workspace/src/tree/updater_prune.cc:74: tree pruning end, 1 roots, 1158 extra nodes, 0 pruned nodes, max_depth=10\n",
            "[18:11:10] INFO: /workspace/src/tree/updater_prune.cc:74: tree pruning end, 1 roots, 932 extra nodes, 0 pruned nodes, max_depth=10\n",
            "[18:11:14] INFO: /workspace/src/tree/updater_prune.cc:74: tree pruning end, 1 roots, 1062 extra nodes, 0 pruned nodes, max_depth=10\n",
            "[18:11:18] INFO: /workspace/src/tree/updater_prune.cc:74: tree pruning end, 1 roots, 872 extra nodes, 0 pruned nodes, max_depth=10\n",
            "[18:11:22] INFO: /workspace/src/tree/updater_prune.cc:74: tree pruning end, 1 roots, 994 extra nodes, 0 pruned nodes, max_depth=10\n",
            "[18:11:26] INFO: /workspace/src/tree/updater_prune.cc:74: tree pruning end, 1 roots, 1296 extra nodes, 0 pruned nodes, max_depth=10\n",
            "[18:11:31] INFO: /workspace/src/tree/updater_prune.cc:74: tree pruning end, 1 roots, 1018 extra nodes, 0 pruned nodes, max_depth=10\n",
            "[18:11:35] INFO: /workspace/src/tree/updater_prune.cc:74: tree pruning end, 1 roots, 950 extra nodes, 0 pruned nodes, max_depth=10\n",
            "[18:11:40] INFO: /workspace/src/tree/updater_prune.cc:74: tree pruning end, 1 roots, 1344 extra nodes, 0 pruned nodes, max_depth=10\n",
            "[18:11:44] INFO: /workspace/src/tree/updater_prune.cc:74: tree pruning end, 1 roots, 920 extra nodes, 0 pruned nodes, max_depth=10\n",
            "[18:11:48] INFO: /workspace/src/tree/updater_prune.cc:74: tree pruning end, 1 roots, 968 extra nodes, 0 pruned nodes, max_depth=10\n",
            "[18:11:52] INFO: /workspace/src/tree/updater_prune.cc:74: tree pruning end, 1 roots, 1188 extra nodes, 0 pruned nodes, max_depth=10\n",
            "[18:11:57] INFO: /workspace/src/tree/updater_prune.cc:74: tree pruning end, 1 roots, 990 extra nodes, 0 pruned nodes, max_depth=10\n",
            "[18:12:01] INFO: /workspace/src/tree/updater_prune.cc:74: tree pruning end, 1 roots, 810 extra nodes, 0 pruned nodes, max_depth=10\n",
            "[18:12:05] INFO: /workspace/src/tree/updater_prune.cc:74: tree pruning end, 1 roots, 1364 extra nodes, 0 pruned nodes, max_depth=10\n",
            "[18:12:10] INFO: /workspace/src/tree/updater_prune.cc:74: tree pruning end, 1 roots, 866 extra nodes, 0 pruned nodes, max_depth=10\n",
            "[18:12:13] INFO: /workspace/src/tree/updater_prune.cc:74: tree pruning end, 1 roots, 828 extra nodes, 0 pruned nodes, max_depth=10\n",
            "[18:12:17] INFO: /workspace/src/tree/updater_prune.cc:74: tree pruning end, 1 roots, 928 extra nodes, 0 pruned nodes, max_depth=10\n",
            "[18:12:22] INFO: /workspace/src/tree/updater_prune.cc:74: tree pruning end, 1 roots, 1120 extra nodes, 0 pruned nodes, max_depth=10\n",
            "[18:12:26] INFO: /workspace/src/tree/updater_prune.cc:74: tree pruning end, 1 roots, 790 extra nodes, 0 pruned nodes, max_depth=10\n",
            "[18:12:30] INFO: /workspace/src/tree/updater_prune.cc:74: tree pruning end, 1 roots, 1244 extra nodes, 0 pruned nodes, max_depth=10\n",
            "[18:12:35] INFO: /workspace/src/tree/updater_prune.cc:74: tree pruning end, 1 roots, 842 extra nodes, 0 pruned nodes, max_depth=10\n",
            "[18:12:39] INFO: /workspace/src/tree/updater_prune.cc:74: tree pruning end, 1 roots, 962 extra nodes, 0 pruned nodes, max_depth=10\n",
            "[18:12:43] INFO: /workspace/src/tree/updater_prune.cc:74: tree pruning end, 1 roots, 1028 extra nodes, 0 pruned nodes, max_depth=10\n",
            "[18:12:48] INFO: /workspace/src/tree/updater_prune.cc:74: tree pruning end, 1 roots, 1100 extra nodes, 0 pruned nodes, max_depth=10\n",
            "[18:12:52] INFO: /workspace/src/tree/updater_prune.cc:74: tree pruning end, 1 roots, 810 extra nodes, 0 pruned nodes, max_depth=10\n",
            "[18:12:55] INFO: /workspace/src/tree/updater_prune.cc:74: tree pruning end, 1 roots, 802 extra nodes, 0 pruned nodes, max_depth=10\n",
            "[18:13:00] INFO: /workspace/src/tree/updater_prune.cc:74: tree pruning end, 1 roots, 1110 extra nodes, 0 pruned nodes, max_depth=10\n",
            "[18:13:04] INFO: /workspace/src/tree/updater_prune.cc:74: tree pruning end, 1 roots, 830 extra nodes, 0 pruned nodes, max_depth=10\n",
            "[18:13:08] INFO: /workspace/src/tree/updater_prune.cc:74: tree pruning end, 1 roots, 1236 extra nodes, 0 pruned nodes, max_depth=10\n",
            "[18:13:13] INFO: /workspace/src/tree/updater_prune.cc:74: tree pruning end, 1 roots, 958 extra nodes, 0 pruned nodes, max_depth=10\n",
            "[18:13:17] INFO: /workspace/src/tree/updater_prune.cc:74: tree pruning end, 1 roots, 912 extra nodes, 0 pruned nodes, max_depth=10\n",
            "[18:13:21] INFO: /workspace/src/tree/updater_prune.cc:74: tree pruning end, 1 roots, 1216 extra nodes, 0 pruned nodes, max_depth=10\n",
            "[18:13:26] INFO: /workspace/src/tree/updater_prune.cc:74: tree pruning end, 1 roots, 994 extra nodes, 0 pruned nodes, max_depth=10\n",
            "[18:13:30] INFO: /workspace/src/tree/updater_prune.cc:74: tree pruning end, 1 roots, 1002 extra nodes, 0 pruned nodes, max_depth=10\n",
            "[18:13:33] INFO: /workspace/src/tree/updater_prune.cc:74: tree pruning end, 1 roots, 1024 extra nodes, 0 pruned nodes, max_depth=10\n",
            "[18:13:38] INFO: /workspace/src/tree/updater_prune.cc:74: tree pruning end, 1 roots, 824 extra nodes, 0 pruned nodes, max_depth=10\n",
            "[18:13:42] INFO: /workspace/src/tree/updater_prune.cc:74: tree pruning end, 1 roots, 908 extra nodes, 0 pruned nodes, max_depth=10\n",
            "[18:13:46] INFO: /workspace/src/tree/updater_prune.cc:74: tree pruning end, 1 roots, 1138 extra nodes, 0 pruned nodes, max_depth=10\n",
            "[18:13:51] INFO: /workspace/src/tree/updater_prune.cc:74: tree pruning end, 1 roots, 776 extra nodes, 0 pruned nodes, max_depth=10\n",
            "[18:13:55] INFO: /workspace/src/tree/updater_prune.cc:74: tree pruning end, 1 roots, 814 extra nodes, 0 pruned nodes, max_depth=10\n",
            "[18:13:59] INFO: /workspace/src/tree/updater_prune.cc:74: tree pruning end, 1 roots, 1050 extra nodes, 0 pruned nodes, max_depth=10\n",
            "[18:14:04] INFO: /workspace/src/tree/updater_prune.cc:74: tree pruning end, 1 roots, 768 extra nodes, 0 pruned nodes, max_depth=10\n",
            "[18:14:08] INFO: /workspace/src/tree/updater_prune.cc:74: tree pruning end, 1 roots, 1162 extra nodes, 0 pruned nodes, max_depth=10\n",
            "[18:14:12] INFO: /workspace/src/tree/updater_prune.cc:74: tree pruning end, 1 roots, 1298 extra nodes, 0 pruned nodes, max_depth=10\n",
            "[18:14:16] INFO: /workspace/src/tree/updater_prune.cc:74: tree pruning end, 1 roots, 1084 extra nodes, 0 pruned nodes, max_depth=10\n",
            "[18:14:20] INFO: /workspace/src/tree/updater_prune.cc:74: tree pruning end, 1 roots, 868 extra nodes, 0 pruned nodes, max_depth=10\n",
            "[18:14:24] INFO: /workspace/src/tree/updater_prune.cc:74: tree pruning end, 1 roots, 1190 extra nodes, 0 pruned nodes, max_depth=10\n",
            "[18:14:28] INFO: /workspace/src/tree/updater_prune.cc:74: tree pruning end, 1 roots, 814 extra nodes, 0 pruned nodes, max_depth=10\n",
            "[18:14:32] INFO: /workspace/src/tree/updater_prune.cc:74: tree pruning end, 1 roots, 902 extra nodes, 0 pruned nodes, max_depth=10\n",
            "[18:14:36] INFO: /workspace/src/tree/updater_prune.cc:74: tree pruning end, 1 roots, 990 extra nodes, 0 pruned nodes, max_depth=10\n",
            "[18:14:41] INFO: /workspace/src/tree/updater_prune.cc:74: tree pruning end, 1 roots, 1158 extra nodes, 0 pruned nodes, max_depth=10\n",
            "[18:14:45] INFO: /workspace/src/tree/updater_prune.cc:74: tree pruning end, 1 roots, 828 extra nodes, 0 pruned nodes, max_depth=10\n",
            "[18:14:49] INFO: /workspace/src/tree/updater_prune.cc:74: tree pruning end, 1 roots, 556 extra nodes, 0 pruned nodes, max_depth=10\n",
            "[18:14:53] INFO: /workspace/src/tree/updater_prune.cc:74: tree pruning end, 1 roots, 764 extra nodes, 0 pruned nodes, max_depth=10\n",
            "[18:14:57] INFO: /workspace/src/tree/updater_prune.cc:74: tree pruning end, 1 roots, 886 extra nodes, 0 pruned nodes, max_depth=10\n",
            "[18:15:00] INFO: /workspace/src/tree/updater_prune.cc:74: tree pruning end, 1 roots, 766 extra nodes, 0 pruned nodes, max_depth=10\n",
            "[18:15:05] INFO: /workspace/src/tree/updater_prune.cc:74: tree pruning end, 1 roots, 1216 extra nodes, 0 pruned nodes, max_depth=10\n",
            "[18:15:10] INFO: /workspace/src/tree/updater_prune.cc:74: tree pruning end, 1 roots, 736 extra nodes, 0 pruned nodes, max_depth=10\n",
            "[18:15:13] INFO: /workspace/src/tree/updater_prune.cc:74: tree pruning end, 1 roots, 1164 extra nodes, 0 pruned nodes, max_depth=10\n",
            "[18:15:18] INFO: /workspace/src/tree/updater_prune.cc:74: tree pruning end, 1 roots, 946 extra nodes, 0 pruned nodes, max_depth=10\n",
            "[18:15:22] INFO: /workspace/src/tree/updater_prune.cc:74: tree pruning end, 1 roots, 1000 extra nodes, 0 pruned nodes, max_depth=10\n",
            "[18:15:26] INFO: /workspace/src/tree/updater_prune.cc:74: tree pruning end, 1 roots, 1136 extra nodes, 0 pruned nodes, max_depth=10\n",
            "[18:15:30] INFO: /workspace/src/tree/updater_prune.cc:74: tree pruning end, 1 roots, 824 extra nodes, 0 pruned nodes, max_depth=10\n",
            "[18:15:34] INFO: /workspace/src/tree/updater_prune.cc:74: tree pruning end, 1 roots, 854 extra nodes, 0 pruned nodes, max_depth=10\n",
            "[18:15:38] INFO: /workspace/src/tree/updater_prune.cc:74: tree pruning end, 1 roots, 1240 extra nodes, 0 pruned nodes, max_depth=10\n",
            "[18:15:43] INFO: /workspace/src/tree/updater_prune.cc:74: tree pruning end, 1 roots, 786 extra nodes, 0 pruned nodes, max_depth=10\n",
            "[18:15:46] INFO: /workspace/src/tree/updater_prune.cc:74: tree pruning end, 1 roots, 886 extra nodes, 0 pruned nodes, max_depth=10\n",
            "[18:15:50] INFO: /workspace/src/tree/updater_prune.cc:74: tree pruning end, 1 roots, 718 extra nodes, 0 pruned nodes, max_depth=10\n",
            "[18:15:55] INFO: /workspace/src/tree/updater_prune.cc:74: tree pruning end, 1 roots, 1282 extra nodes, 0 pruned nodes, max_depth=10\n",
            "[18:15:59] INFO: /workspace/src/tree/updater_prune.cc:74: tree pruning end, 1 roots, 966 extra nodes, 0 pruned nodes, max_depth=10\n",
            "[18:16:03] INFO: /workspace/src/tree/updater_prune.cc:74: tree pruning end, 1 roots, 1108 extra nodes, 0 pruned nodes, max_depth=10\n",
            "[18:16:07] INFO: /workspace/src/tree/updater_prune.cc:74: tree pruning end, 1 roots, 704 extra nodes, 0 pruned nodes, max_depth=10\n",
            "[18:16:11] INFO: /workspace/src/tree/updater_prune.cc:74: tree pruning end, 1 roots, 808 extra nodes, 0 pruned nodes, max_depth=10\n",
            "[18:16:15] INFO: /workspace/src/tree/updater_prune.cc:74: tree pruning end, 1 roots, 1124 extra nodes, 0 pruned nodes, max_depth=10\n",
            "[18:16:20] INFO: /workspace/src/tree/updater_prune.cc:74: tree pruning end, 1 roots, 756 extra nodes, 0 pruned nodes, max_depth=10\n",
            "[18:16:24] INFO: /workspace/src/tree/updater_prune.cc:74: tree pruning end, 1 roots, 812 extra nodes, 0 pruned nodes, max_depth=10\n",
            "[18:16:28] INFO: /workspace/src/tree/updater_prune.cc:74: tree pruning end, 1 roots, 650 extra nodes, 0 pruned nodes, max_depth=10\n",
            "[18:16:32] INFO: /workspace/src/tree/updater_prune.cc:74: tree pruning end, 1 roots, 876 extra nodes, 0 pruned nodes, max_depth=10\n",
            "[18:16:36] INFO: /workspace/src/tree/updater_prune.cc:74: tree pruning end, 1 roots, 980 extra nodes, 0 pruned nodes, max_depth=10\n",
            "[18:16:40] INFO: /workspace/src/tree/updater_prune.cc:74: tree pruning end, 1 roots, 1434 extra nodes, 0 pruned nodes, max_depth=10\n",
            "[18:16:45] INFO: /workspace/src/tree/updater_prune.cc:74: tree pruning end, 1 roots, 1096 extra nodes, 0 pruned nodes, max_depth=10\n",
            "[18:16:49] INFO: /workspace/src/tree/updater_prune.cc:74: tree pruning end, 1 roots, 1130 extra nodes, 0 pruned nodes, max_depth=10\n",
            "[18:16:53] INFO: /workspace/src/tree/updater_prune.cc:74: tree pruning end, 1 roots, 1374 extra nodes, 0 pruned nodes, max_depth=10\n",
            "[18:16:58] INFO: /workspace/src/tree/updater_prune.cc:74: tree pruning end, 1 roots, 822 extra nodes, 0 pruned nodes, max_depth=10\n",
            "[18:17:01] INFO: /workspace/src/tree/updater_prune.cc:74: tree pruning end, 1 roots, 1000 extra nodes, 0 pruned nodes, max_depth=10\n",
            "[18:17:06] INFO: /workspace/src/tree/updater_prune.cc:74: tree pruning end, 1 roots, 1132 extra nodes, 0 pruned nodes, max_depth=10\n",
            "[18:17:11] INFO: /workspace/src/tree/updater_prune.cc:74: tree pruning end, 1 roots, 1066 extra nodes, 0 pruned nodes, max_depth=10\n",
            "[18:17:14] INFO: /workspace/src/tree/updater_prune.cc:74: tree pruning end, 1 roots, 720 extra nodes, 0 pruned nodes, max_depth=10\n",
            "[18:17:18] INFO: /workspace/src/tree/updater_prune.cc:74: tree pruning end, 1 roots, 886 extra nodes, 0 pruned nodes, max_depth=10\n",
            "[18:17:23] INFO: /workspace/src/tree/updater_prune.cc:74: tree pruning end, 1 roots, 1048 extra nodes, 0 pruned nodes, max_depth=10\n",
            "[18:17:27] INFO: /workspace/src/tree/updater_prune.cc:74: tree pruning end, 1 roots, 774 extra nodes, 0 pruned nodes, max_depth=10\n",
            "[18:17:31] INFO: /workspace/src/tree/updater_prune.cc:74: tree pruning end, 1 roots, 988 extra nodes, 0 pruned nodes, max_depth=10\n",
            "[18:17:35] INFO: /workspace/src/tree/updater_prune.cc:74: tree pruning end, 1 roots, 842 extra nodes, 0 pruned nodes, max_depth=10\n",
            "[18:17:39] INFO: /workspace/src/tree/updater_prune.cc:74: tree pruning end, 1 roots, 776 extra nodes, 0 pruned nodes, max_depth=10\n",
            "[18:17:43] INFO: /workspace/src/tree/updater_prune.cc:74: tree pruning end, 1 roots, 844 extra nodes, 0 pruned nodes, max_depth=10\n",
            "[18:17:47] INFO: /workspace/src/tree/updater_prune.cc:74: tree pruning end, 1 roots, 940 extra nodes, 0 pruned nodes, max_depth=10\n",
            "[18:17:51] INFO: /workspace/src/tree/updater_prune.cc:74: tree pruning end, 1 roots, 640 extra nodes, 0 pruned nodes, max_depth=10\n",
            "[18:17:54] INFO: /workspace/src/tree/updater_prune.cc:74: tree pruning end, 1 roots, 626 extra nodes, 0 pruned nodes, max_depth=10\n",
            "[18:17:59] INFO: /workspace/src/tree/updater_prune.cc:74: tree pruning end, 1 roots, 1324 extra nodes, 0 pruned nodes, max_depth=10\n",
            "[18:18:03] INFO: /workspace/src/tree/updater_prune.cc:74: tree pruning end, 1 roots, 778 extra nodes, 0 pruned nodes, max_depth=10\n",
            "[18:18:07] INFO: /workspace/src/tree/updater_prune.cc:74: tree pruning end, 1 roots, 960 extra nodes, 0 pruned nodes, max_depth=10\n",
            "Time in seconds :  1336.0076146125793\n"
          ],
          "name": "stdout"
        }
      ]
    },
    {
      "cell_type": "code",
      "metadata": {
        "id": "0e-RSj8A7miS",
        "colab_type": "code",
        "outputId": "23c05cb6-078a-4c9a-9247-1e7fff5fe7e9",
        "colab": {
          "base_uri": "https://localhost:8080/",
          "height": 254
        }
      },
      "source": [
        "predictions = clf.predict(X_valid)\n",
        "print(classification_report(y_valid,predictions))\n",
        "print(confusion_matrix(y_valid,predictions))"
      ],
      "execution_count": 0,
      "outputs": [
        {
          "output_type": "stream",
          "text": [
            "              precision    recall  f1-score   support\n",
            "\n",
            "        Good       0.56      0.09      0.16     17217\n",
            "        Okay       0.38      0.02      0.04      8730\n",
            "        Poor       0.85      0.99      0.91    132815\n",
            "\n",
            "    accuracy                           0.84    158762\n",
            "   macro avg       0.60      0.37      0.37    158762\n",
            "weighted avg       0.79      0.84      0.78    158762\n",
            "\n",
            "[[  1567    126  15524]\n",
            " [   428    167   8135]\n",
            " [   795    144 131876]]\n"
          ],
          "name": "stdout"
        }
      ]
    },
    {
      "cell_type": "markdown",
      "metadata": {
        "id": "I8sbKppGwSRW",
        "colab_type": "text"
      },
      "source": [
        "XgBoost using 60 Trees with Resampling an Learning Rate 0.1 with Smote Resampling"
      ]
    },
    {
      "cell_type": "code",
      "metadata": {
        "colab_type": "code",
        "outputId": "9e8af1da-a72e-4950-cf36-3e21f20b6855",
        "id": "v5iEkfd4wdF2",
        "colab": {
          "base_uri": "https://localhost:8080/",
          "height": 1000
        }
      },
      "source": [
        "clf = xgb.XGBClassifier(\n",
        " learning_rate =0.1,\n",
        " n_estimators=60,\n",
        " max_depth=10,\n",
        " min_child_weight=1,\n",
        " subsample=0.8,\n",
        " colsample_bytree=0.8,\n",
        " verbosity = 3,\n",
        " objective= 'multi:softprob',\n",
        " eval_metric = 'mlogloss',\n",
        " seed=27)\n",
        "start = time.time()\n",
        "clf = clf.fit(X_train_smote,y_train_smote,verbose=True)\n",
        "end = time.time()\n",
        "print(\"Time in seconds : \", end - start)"
      ],
      "execution_count": 0,
      "outputs": [
        {
          "output_type": "stream",
          "text": [
            "[02:52:03] INFO: /workspace/src/tree/updater_prune.cc:74: tree pruning end, 1 roots, 1274 extra nodes, 0 pruned nodes, max_depth=10\n",
            "[02:52:17] INFO: /workspace/src/tree/updater_prune.cc:74: tree pruning end, 1 roots, 1592 extra nodes, 0 pruned nodes, max_depth=10\n",
            "[02:52:28] INFO: /workspace/src/tree/updater_prune.cc:74: tree pruning end, 1 roots, 746 extra nodes, 0 pruned nodes, max_depth=10\n",
            "[02:52:44] INFO: /workspace/src/tree/updater_prune.cc:74: tree pruning end, 1 roots, 1552 extra nodes, 0 pruned nodes, max_depth=10\n",
            "[02:52:58] INFO: /workspace/src/tree/updater_prune.cc:74: tree pruning end, 1 roots, 1688 extra nodes, 0 pruned nodes, max_depth=10\n",
            "[02:53:10] INFO: /workspace/src/tree/updater_prune.cc:74: tree pruning end, 1 roots, 1262 extra nodes, 0 pruned nodes, max_depth=10\n",
            "[02:53:25] INFO: /workspace/src/tree/updater_prune.cc:74: tree pruning end, 1 roots, 970 extra nodes, 0 pruned nodes, max_depth=10\n",
            "[02:53:39] INFO: /workspace/src/tree/updater_prune.cc:74: tree pruning end, 1 roots, 1680 extra nodes, 0 pruned nodes, max_depth=10\n",
            "[02:53:52] INFO: /workspace/src/tree/updater_prune.cc:74: tree pruning end, 1 roots, 812 extra nodes, 0 pruned nodes, max_depth=10\n",
            "[02:54:06] INFO: /workspace/src/tree/updater_prune.cc:74: tree pruning end, 1 roots, 916 extra nodes, 0 pruned nodes, max_depth=10\n",
            "[02:54:20] INFO: /workspace/src/tree/updater_prune.cc:74: tree pruning end, 1 roots, 1468 extra nodes, 0 pruned nodes, max_depth=10\n",
            "[02:54:33] INFO: /workspace/src/tree/updater_prune.cc:74: tree pruning end, 1 roots, 1072 extra nodes, 0 pruned nodes, max_depth=10\n",
            "[02:54:47] INFO: /workspace/src/tree/updater_prune.cc:74: tree pruning end, 1 roots, 752 extra nodes, 0 pruned nodes, max_depth=10\n",
            "[02:55:00] INFO: /workspace/src/tree/updater_prune.cc:74: tree pruning end, 1 roots, 1584 extra nodes, 0 pruned nodes, max_depth=10\n",
            "[02:55:14] INFO: /workspace/src/tree/updater_prune.cc:74: tree pruning end, 1 roots, 1176 extra nodes, 0 pruned nodes, max_depth=10\n",
            "[02:55:29] INFO: /workspace/src/tree/updater_prune.cc:74: tree pruning end, 1 roots, 1380 extra nodes, 0 pruned nodes, max_depth=10\n",
            "[02:55:43] INFO: /workspace/src/tree/updater_prune.cc:74: tree pruning end, 1 roots, 1684 extra nodes, 0 pruned nodes, max_depth=10\n",
            "[02:55:55] INFO: /workspace/src/tree/updater_prune.cc:74: tree pruning end, 1 roots, 796 extra nodes, 0 pruned nodes, max_depth=10\n",
            "[02:56:11] INFO: /workspace/src/tree/updater_prune.cc:74: tree pruning end, 1 roots, 1586 extra nodes, 0 pruned nodes, max_depth=10\n",
            "[02:56:25] INFO: /workspace/src/tree/updater_prune.cc:74: tree pruning end, 1 roots, 1346 extra nodes, 0 pruned nodes, max_depth=10\n",
            "[02:56:38] INFO: /workspace/src/tree/updater_prune.cc:74: tree pruning end, 1 roots, 1056 extra nodes, 0 pruned nodes, max_depth=10\n",
            "[02:56:54] INFO: /workspace/src/tree/updater_prune.cc:74: tree pruning end, 1 roots, 1416 extra nodes, 0 pruned nodes, max_depth=10\n",
            "[02:57:08] INFO: /workspace/src/tree/updater_prune.cc:74: tree pruning end, 1 roots, 1592 extra nodes, 0 pruned nodes, max_depth=10\n",
            "[02:57:21] INFO: /workspace/src/tree/updater_prune.cc:74: tree pruning end, 1 roots, 1124 extra nodes, 0 pruned nodes, max_depth=10\n",
            "[02:57:36] INFO: /workspace/src/tree/updater_prune.cc:74: tree pruning end, 1 roots, 716 extra nodes, 0 pruned nodes, max_depth=10\n",
            "[02:57:49] INFO: /workspace/src/tree/updater_prune.cc:74: tree pruning end, 1 roots, 1344 extra nodes, 0 pruned nodes, max_depth=10\n",
            "[02:58:02] INFO: /workspace/src/tree/updater_prune.cc:74: tree pruning end, 1 roots, 834 extra nodes, 0 pruned nodes, max_depth=10\n",
            "[02:58:16] INFO: /workspace/src/tree/updater_prune.cc:74: tree pruning end, 1 roots, 648 extra nodes, 0 pruned nodes, max_depth=10\n",
            "[02:58:30] INFO: /workspace/src/tree/updater_prune.cc:74: tree pruning end, 1 roots, 1426 extra nodes, 0 pruned nodes, max_depth=10\n",
            "[02:58:42] INFO: /workspace/src/tree/updater_prune.cc:74: tree pruning end, 1 roots, 930 extra nodes, 0 pruned nodes, max_depth=10\n",
            "[02:58:57] INFO: /workspace/src/tree/updater_prune.cc:74: tree pruning end, 1 roots, 1298 extra nodes, 0 pruned nodes, max_depth=10\n",
            "[02:59:12] INFO: /workspace/src/tree/updater_prune.cc:74: tree pruning end, 1 roots, 1448 extra nodes, 0 pruned nodes, max_depth=10\n",
            "[02:59:25] INFO: /workspace/src/tree/updater_prune.cc:74: tree pruning end, 1 roots, 1166 extra nodes, 0 pruned nodes, max_depth=10\n",
            "[02:59:40] INFO: /workspace/src/tree/updater_prune.cc:74: tree pruning end, 1 roots, 1252 extra nodes, 0 pruned nodes, max_depth=10\n",
            "[02:59:53] INFO: /workspace/src/tree/updater_prune.cc:74: tree pruning end, 1 roots, 1202 extra nodes, 0 pruned nodes, max_depth=10\n",
            "[03:00:06] INFO: /workspace/src/tree/updater_prune.cc:74: tree pruning end, 1 roots, 848 extra nodes, 0 pruned nodes, max_depth=10\n",
            "[03:00:20] INFO: /workspace/src/tree/updater_prune.cc:74: tree pruning end, 1 roots, 684 extra nodes, 0 pruned nodes, max_depth=10\n",
            "[03:00:33] INFO: /workspace/src/tree/updater_prune.cc:74: tree pruning end, 1 roots, 726 extra nodes, 0 pruned nodes, max_depth=10\n",
            "[03:00:45] INFO: /workspace/src/tree/updater_prune.cc:74: tree pruning end, 1 roots, 1044 extra nodes, 0 pruned nodes, max_depth=10\n",
            "[03:01:00] INFO: /workspace/src/tree/updater_prune.cc:74: tree pruning end, 1 roots, 1584 extra nodes, 0 pruned nodes, max_depth=10\n",
            "[03:01:14] INFO: /workspace/src/tree/updater_prune.cc:74: tree pruning end, 1 roots, 1256 extra nodes, 0 pruned nodes, max_depth=10\n",
            "[03:01:25] INFO: /workspace/src/tree/updater_prune.cc:74: tree pruning end, 1 roots, 678 extra nodes, 0 pruned nodes, max_depth=10\n",
            "[03:01:41] INFO: /workspace/src/tree/updater_prune.cc:74: tree pruning end, 1 roots, 1360 extra nodes, 0 pruned nodes, max_depth=10\n",
            "[03:01:53] INFO: /workspace/src/tree/updater_prune.cc:74: tree pruning end, 1 roots, 930 extra nodes, 0 pruned nodes, max_depth=10\n",
            "[03:02:05] INFO: /workspace/src/tree/updater_prune.cc:74: tree pruning end, 1 roots, 866 extra nodes, 0 pruned nodes, max_depth=10\n",
            "[03:02:21] INFO: /workspace/src/tree/updater_prune.cc:74: tree pruning end, 1 roots, 1322 extra nodes, 0 pruned nodes, max_depth=10\n",
            "[03:02:34] INFO: /workspace/src/tree/updater_prune.cc:74: tree pruning end, 1 roots, 1524 extra nodes, 0 pruned nodes, max_depth=10\n",
            "[03:02:44] INFO: /workspace/src/tree/updater_prune.cc:74: tree pruning end, 1 roots, 334 extra nodes, 0 pruned nodes, max_depth=10\n",
            "[03:03:00] INFO: /workspace/src/tree/updater_prune.cc:74: tree pruning end, 1 roots, 1270 extra nodes, 0 pruned nodes, max_depth=10\n",
            "[03:03:12] INFO: /workspace/src/tree/updater_prune.cc:74: tree pruning end, 1 roots, 1530 extra nodes, 0 pruned nodes, max_depth=10\n",
            "[03:03:25] INFO: /workspace/src/tree/updater_prune.cc:74: tree pruning end, 1 roots, 732 extra nodes, 0 pruned nodes, max_depth=10\n",
            "[03:03:39] INFO: /workspace/src/tree/updater_prune.cc:74: tree pruning end, 1 roots, 740 extra nodes, 0 pruned nodes, max_depth=10\n",
            "[03:03:52] INFO: /workspace/src/tree/updater_prune.cc:74: tree pruning end, 1 roots, 1438 extra nodes, 0 pruned nodes, max_depth=10\n",
            "[03:04:04] INFO: /workspace/src/tree/updater_prune.cc:74: tree pruning end, 1 roots, 700 extra nodes, 0 pruned nodes, max_depth=10\n",
            "[03:04:19] INFO: /workspace/src/tree/updater_prune.cc:74: tree pruning end, 1 roots, 608 extra nodes, 0 pruned nodes, max_depth=10\n",
            "[03:04:32] INFO: /workspace/src/tree/updater_prune.cc:74: tree pruning end, 1 roots, 1106 extra nodes, 0 pruned nodes, max_depth=10\n",
            "[03:04:45] INFO: /workspace/src/tree/updater_prune.cc:74: tree pruning end, 1 roots, 756 extra nodes, 0 pruned nodes, max_depth=10\n",
            "[03:05:01] INFO: /workspace/src/tree/updater_prune.cc:74: tree pruning end, 1 roots, 1404 extra nodes, 0 pruned nodes, max_depth=10\n",
            "[03:05:13] INFO: /workspace/src/tree/updater_prune.cc:74: tree pruning end, 1 roots, 996 extra nodes, 0 pruned nodes, max_depth=10\n",
            "[03:05:24] INFO: /workspace/src/tree/updater_prune.cc:74: tree pruning end, 1 roots, 286 extra nodes, 0 pruned nodes, max_depth=10\n",
            "[03:05:39] INFO: /workspace/src/tree/updater_prune.cc:74: tree pruning end, 1 roots, 782 extra nodes, 0 pruned nodes, max_depth=10\n",
            "[03:05:52] INFO: /workspace/src/tree/updater_prune.cc:74: tree pruning end, 1 roots, 1642 extra nodes, 0 pruned nodes, max_depth=10\n",
            "[03:06:02] INFO: /workspace/src/tree/updater_prune.cc:74: tree pruning end, 1 roots, 496 extra nodes, 0 pruned nodes, max_depth=10\n",
            "[03:06:17] INFO: /workspace/src/tree/updater_prune.cc:74: tree pruning end, 1 roots, 914 extra nodes, 0 pruned nodes, max_depth=10\n",
            "[03:06:29] INFO: /workspace/src/tree/updater_prune.cc:74: tree pruning end, 1 roots, 530 extra nodes, 0 pruned nodes, max_depth=10\n",
            "[03:06:42] INFO: /workspace/src/tree/updater_prune.cc:74: tree pruning end, 1 roots, 796 extra nodes, 0 pruned nodes, max_depth=10\n",
            "[03:06:56] INFO: /workspace/src/tree/updater_prune.cc:74: tree pruning end, 1 roots, 710 extra nodes, 0 pruned nodes, max_depth=10\n",
            "[03:07:08] INFO: /workspace/src/tree/updater_prune.cc:74: tree pruning end, 1 roots, 812 extra nodes, 0 pruned nodes, max_depth=10\n",
            "[03:07:21] INFO: /workspace/src/tree/updater_prune.cc:74: tree pruning end, 1 roots, 762 extra nodes, 0 pruned nodes, max_depth=10\n",
            "[03:07:37] INFO: /workspace/src/tree/updater_prune.cc:74: tree pruning end, 1 roots, 1536 extra nodes, 0 pruned nodes, max_depth=10\n",
            "[03:07:50] INFO: /workspace/src/tree/updater_prune.cc:74: tree pruning end, 1 roots, 1092 extra nodes, 0 pruned nodes, max_depth=10\n",
            "[03:08:02] INFO: /workspace/src/tree/updater_prune.cc:74: tree pruning end, 1 roots, 926 extra nodes, 0 pruned nodes, max_depth=10\n",
            "[03:08:17] INFO: /workspace/src/tree/updater_prune.cc:74: tree pruning end, 1 roots, 830 extra nodes, 0 pruned nodes, max_depth=10\n",
            "[03:08:30] INFO: /workspace/src/tree/updater_prune.cc:74: tree pruning end, 1 roots, 1640 extra nodes, 0 pruned nodes, max_depth=10\n",
            "[03:08:43] INFO: /workspace/src/tree/updater_prune.cc:74: tree pruning end, 1 roots, 576 extra nodes, 0 pruned nodes, max_depth=10\n",
            "[03:08:56] INFO: /workspace/src/tree/updater_prune.cc:74: tree pruning end, 1 roots, 810 extra nodes, 0 pruned nodes, max_depth=10\n",
            "[03:09:07] INFO: /workspace/src/tree/updater_prune.cc:74: tree pruning end, 1 roots, 550 extra nodes, 0 pruned nodes, max_depth=10\n",
            "[03:09:17] INFO: /workspace/src/tree/updater_prune.cc:74: tree pruning end, 1 roots, 132 extra nodes, 0 pruned nodes, max_depth=10\n",
            "[03:09:32] INFO: /workspace/src/tree/updater_prune.cc:74: tree pruning end, 1 roots, 1384 extra nodes, 0 pruned nodes, max_depth=10\n",
            "[03:09:43] INFO: /workspace/src/tree/updater_prune.cc:74: tree pruning end, 1 roots, 632 extra nodes, 0 pruned nodes, max_depth=10\n",
            "[03:09:52] INFO: /workspace/src/tree/updater_prune.cc:74: tree pruning end, 1 roots, 20 extra nodes, 0 pruned nodes, max_depth=10\n",
            "[03:10:06] INFO: /workspace/src/tree/updater_prune.cc:74: tree pruning end, 1 roots, 890 extra nodes, 0 pruned nodes, max_depth=10\n",
            "[03:10:18] INFO: /workspace/src/tree/updater_prune.cc:74: tree pruning end, 1 roots, 732 extra nodes, 0 pruned nodes, max_depth=10\n",
            "[03:10:31] INFO: /workspace/src/tree/updater_prune.cc:74: tree pruning end, 1 roots, 782 extra nodes, 0 pruned nodes, max_depth=10\n",
            "[03:10:47] INFO: /workspace/src/tree/updater_prune.cc:74: tree pruning end, 1 roots, 1314 extra nodes, 0 pruned nodes, max_depth=10\n",
            "[03:11:00] INFO: /workspace/src/tree/updater_prune.cc:74: tree pruning end, 1 roots, 816 extra nodes, 0 pruned nodes, max_depth=10\n",
            "[03:11:12] INFO: /workspace/src/tree/updater_prune.cc:74: tree pruning end, 1 roots, 930 extra nodes, 0 pruned nodes, max_depth=10\n",
            "[03:11:25] INFO: /workspace/src/tree/updater_prune.cc:74: tree pruning end, 1 roots, 610 extra nodes, 0 pruned nodes, max_depth=10\n",
            "[03:11:37] INFO: /workspace/src/tree/updater_prune.cc:74: tree pruning end, 1 roots, 596 extra nodes, 0 pruned nodes, max_depth=10\n",
            "[03:11:46] INFO: /workspace/src/tree/updater_prune.cc:74: tree pruning end, 1 roots, 80 extra nodes, 0 pruned nodes, max_depth=10\n",
            "[03:12:00] INFO: /workspace/src/tree/updater_prune.cc:74: tree pruning end, 1 roots, 606 extra nodes, 0 pruned nodes, max_depth=10\n",
            "[03:12:11] INFO: /workspace/src/tree/updater_prune.cc:74: tree pruning end, 1 roots, 286 extra nodes, 0 pruned nodes, max_depth=10\n",
            "[03:12:19] INFO: /workspace/src/tree/updater_prune.cc:74: tree pruning end, 1 roots, 20 extra nodes, 0 pruned nodes, max_depth=10\n",
            "[03:12:34] INFO: /workspace/src/tree/updater_prune.cc:74: tree pruning end, 1 roots, 1030 extra nodes, 0 pruned nodes, max_depth=10\n",
            "[03:12:47] INFO: /workspace/src/tree/updater_prune.cc:74: tree pruning end, 1 roots, 1398 extra nodes, 0 pruned nodes, max_depth=10\n",
            "[03:12:59] INFO: /workspace/src/tree/updater_prune.cc:74: tree pruning end, 1 roots, 918 extra nodes, 0 pruned nodes, max_depth=10\n",
            "[03:13:14] INFO: /workspace/src/tree/updater_prune.cc:74: tree pruning end, 1 roots, 1272 extra nodes, 0 pruned nodes, max_depth=10\n",
            "[03:13:26] INFO: /workspace/src/tree/updater_prune.cc:74: tree pruning end, 1 roots, 574 extra nodes, 0 pruned nodes, max_depth=10\n",
            "[03:13:35] INFO: /workspace/src/tree/updater_prune.cc:74: tree pruning end, 1 roots, 20 extra nodes, 0 pruned nodes, max_depth=10\n",
            "[03:13:50] INFO: /workspace/src/tree/updater_prune.cc:74: tree pruning end, 1 roots, 1170 extra nodes, 0 pruned nodes, max_depth=10\n",
            "[03:14:02] INFO: /workspace/src/tree/updater_prune.cc:74: tree pruning end, 1 roots, 556 extra nodes, 0 pruned nodes, max_depth=10\n",
            "[03:14:12] INFO: /workspace/src/tree/updater_prune.cc:74: tree pruning end, 1 roots, 20 extra nodes, 0 pruned nodes, max_depth=10\n",
            "[03:14:27] INFO: /workspace/src/tree/updater_prune.cc:74: tree pruning end, 1 roots, 1646 extra nodes, 0 pruned nodes, max_depth=10\n",
            "[03:14:39] INFO: /workspace/src/tree/updater_prune.cc:74: tree pruning end, 1 roots, 570 extra nodes, 0 pruned nodes, max_depth=10\n",
            "[03:14:48] INFO: /workspace/src/tree/updater_prune.cc:74: tree pruning end, 1 roots, 20 extra nodes, 0 pruned nodes, max_depth=10\n",
            "[03:15:04] INFO: /workspace/src/tree/updater_prune.cc:74: tree pruning end, 1 roots, 1576 extra nodes, 0 pruned nodes, max_depth=10\n",
            "[03:15:14] INFO: /workspace/src/tree/updater_prune.cc:74: tree pruning end, 1 roots, 368 extra nodes, 0 pruned nodes, max_depth=10\n",
            "[03:15:23] INFO: /workspace/src/tree/updater_prune.cc:74: tree pruning end, 1 roots, 20 extra nodes, 0 pruned nodes, max_depth=10\n",
            "[03:15:38] INFO: /workspace/src/tree/updater_prune.cc:74: tree pruning end, 1 roots, 784 extra nodes, 0 pruned nodes, max_depth=10\n",
            "[03:15:47] INFO: /workspace/src/tree/updater_prune.cc:74: tree pruning end, 1 roots, 296 extra nodes, 0 pruned nodes, max_depth=10\n",
            "[03:15:56] INFO: /workspace/src/tree/updater_prune.cc:74: tree pruning end, 1 roots, 20 extra nodes, 0 pruned nodes, max_depth=10\n",
            "[03:16:08] INFO: /workspace/src/tree/updater_prune.cc:74: tree pruning end, 1 roots, 90 extra nodes, 0 pruned nodes, max_depth=10\n",
            "[03:16:18] INFO: /workspace/src/tree/updater_prune.cc:74: tree pruning end, 1 roots, 38 extra nodes, 0 pruned nodes, max_depth=10\n",
            "[03:16:28] INFO: /workspace/src/tree/updater_prune.cc:74: tree pruning end, 1 roots, 20 extra nodes, 0 pruned nodes, max_depth=10\n",
            "[03:16:43] INFO: /workspace/src/tree/updater_prune.cc:74: tree pruning end, 1 roots, 1394 extra nodes, 0 pruned nodes, max_depth=10\n",
            "[03:16:53] INFO: /workspace/src/tree/updater_prune.cc:74: tree pruning end, 1 roots, 274 extra nodes, 0 pruned nodes, max_depth=10\n",
            "[03:17:01] INFO: /workspace/src/tree/updater_prune.cc:74: tree pruning end, 1 roots, 20 extra nodes, 0 pruned nodes, max_depth=10\n",
            "[03:17:16] INFO: /workspace/src/tree/updater_prune.cc:74: tree pruning end, 1 roots, 1418 extra nodes, 0 pruned nodes, max_depth=10\n",
            "[03:17:30] INFO: /workspace/src/tree/updater_prune.cc:74: tree pruning end, 1 roots, 1374 extra nodes, 0 pruned nodes, max_depth=10\n",
            "[03:17:39] INFO: /workspace/src/tree/updater_prune.cc:74: tree pruning end, 1 roots, 20 extra nodes, 0 pruned nodes, max_depth=10\n",
            "[03:17:54] INFO: /workspace/src/tree/updater_prune.cc:74: tree pruning end, 1 roots, 1506 extra nodes, 0 pruned nodes, max_depth=10\n",
            "[03:18:03] INFO: /workspace/src/tree/updater_prune.cc:74: tree pruning end, 1 roots, 20 extra nodes, 0 pruned nodes, max_depth=10\n",
            "[03:18:12] INFO: /workspace/src/tree/updater_prune.cc:74: tree pruning end, 1 roots, 20 extra nodes, 0 pruned nodes, max_depth=10\n",
            "[03:18:27] INFO: /workspace/src/tree/updater_prune.cc:74: tree pruning end, 1 roots, 952 extra nodes, 0 pruned nodes, max_depth=10\n",
            "[03:18:38] INFO: /workspace/src/tree/updater_prune.cc:74: tree pruning end, 1 roots, 318 extra nodes, 0 pruned nodes, max_depth=10\n",
            "[03:18:47] INFO: /workspace/src/tree/updater_prune.cc:74: tree pruning end, 1 roots, 20 extra nodes, 0 pruned nodes, max_depth=10\n",
            "[03:18:58] INFO: /workspace/src/tree/updater_prune.cc:74: tree pruning end, 1 roots, 118 extra nodes, 0 pruned nodes, max_depth=10\n",
            "[03:19:09] INFO: /workspace/src/tree/updater_prune.cc:74: tree pruning end, 1 roots, 498 extra nodes, 0 pruned nodes, max_depth=10\n",
            "[03:19:20] INFO: /workspace/src/tree/updater_prune.cc:74: tree pruning end, 1 roots, 820 extra nodes, 0 pruned nodes, max_depth=10\n",
            "[03:19:35] INFO: /workspace/src/tree/updater_prune.cc:74: tree pruning end, 1 roots, 1564 extra nodes, 0 pruned nodes, max_depth=10\n",
            "[03:19:45] INFO: /workspace/src/tree/updater_prune.cc:74: tree pruning end, 1 roots, 20 extra nodes, 0 pruned nodes, max_depth=10\n",
            "[03:19:53] INFO: /workspace/src/tree/updater_prune.cc:74: tree pruning end, 1 roots, 20 extra nodes, 0 pruned nodes, max_depth=10\n",
            "[03:20:08] INFO: /workspace/src/tree/updater_prune.cc:74: tree pruning end, 1 roots, 1602 extra nodes, 0 pruned nodes, max_depth=10\n",
            "[03:20:17] INFO: /workspace/src/tree/updater_prune.cc:74: tree pruning end, 1 roots, 20 extra nodes, 0 pruned nodes, max_depth=10\n",
            "[03:20:29] INFO: /workspace/src/tree/updater_prune.cc:74: tree pruning end, 1 roots, 628 extra nodes, 0 pruned nodes, max_depth=10\n",
            "[03:20:41] INFO: /workspace/src/tree/updater_prune.cc:74: tree pruning end, 1 roots, 80 extra nodes, 0 pruned nodes, max_depth=10\n",
            "[03:20:53] INFO: /workspace/src/tree/updater_prune.cc:74: tree pruning end, 1 roots, 1160 extra nodes, 0 pruned nodes, max_depth=10\n",
            "[03:21:02] INFO: /workspace/src/tree/updater_prune.cc:74: tree pruning end, 1 roots, 20 extra nodes, 0 pruned nodes, max_depth=10\n",
            "[03:21:17] INFO: /workspace/src/tree/updater_prune.cc:74: tree pruning end, 1 roots, 1412 extra nodes, 0 pruned nodes, max_depth=10\n",
            "[03:21:27] INFO: /workspace/src/tree/updater_prune.cc:74: tree pruning end, 1 roots, 20 extra nodes, 0 pruned nodes, max_depth=10\n",
            "[03:21:36] INFO: /workspace/src/tree/updater_prune.cc:74: tree pruning end, 1 roots, 20 extra nodes, 0 pruned nodes, max_depth=10\n",
            "[03:21:47] INFO: /workspace/src/tree/updater_prune.cc:74: tree pruning end, 1 roots, 90 extra nodes, 0 pruned nodes, max_depth=10\n",
            "[03:21:55] INFO: /workspace/src/tree/updater_prune.cc:74: tree pruning end, 1 roots, 20 extra nodes, 0 pruned nodes, max_depth=10\n",
            "[03:22:04] INFO: /workspace/src/tree/updater_prune.cc:74: tree pruning end, 1 roots, 20 extra nodes, 0 pruned nodes, max_depth=10\n",
            "[03:22:17] INFO: /workspace/src/tree/updater_prune.cc:74: tree pruning end, 1 roots, 250 extra nodes, 0 pruned nodes, max_depth=10\n",
            "[03:22:26] INFO: /workspace/src/tree/updater_prune.cc:74: tree pruning end, 1 roots, 20 extra nodes, 0 pruned nodes, max_depth=10\n",
            "[03:22:35] INFO: /workspace/src/tree/updater_prune.cc:74: tree pruning end, 1 roots, 20 extra nodes, 0 pruned nodes, max_depth=10\n",
            "[03:22:50] INFO: /workspace/src/tree/updater_prune.cc:74: tree pruning end, 1 roots, 1372 extra nodes, 0 pruned nodes, max_depth=10\n",
            "[03:22:59] INFO: /workspace/src/tree/updater_prune.cc:74: tree pruning end, 1 roots, 20 extra nodes, 0 pruned nodes, max_depth=10\n",
            "[03:23:11] INFO: /workspace/src/tree/updater_prune.cc:74: tree pruning end, 1 roots, 832 extra nodes, 0 pruned nodes, max_depth=10\n",
            "[03:23:25] INFO: /workspace/src/tree/updater_prune.cc:74: tree pruning end, 1 roots, 1340 extra nodes, 0 pruned nodes, max_depth=10\n",
            "[03:23:35] INFO: /workspace/src/tree/updater_prune.cc:74: tree pruning end, 1 roots, 20 extra nodes, 0 pruned nodes, max_depth=10\n",
            "[03:23:44] INFO: /workspace/src/tree/updater_prune.cc:74: tree pruning end, 1 roots, 20 extra nodes, 0 pruned nodes, max_depth=10\n",
            "[03:23:56] INFO: /workspace/src/tree/updater_prune.cc:74: tree pruning end, 1 roots, 80 extra nodes, 0 pruned nodes, max_depth=10\n",
            "[03:24:05] INFO: /workspace/src/tree/updater_prune.cc:74: tree pruning end, 1 roots, 20 extra nodes, 0 pruned nodes, max_depth=10\n",
            "[03:24:16] INFO: /workspace/src/tree/updater_prune.cc:74: tree pruning end, 1 roots, 754 extra nodes, 0 pruned nodes, max_depth=10\n",
            "[03:24:29] INFO: /workspace/src/tree/updater_prune.cc:74: tree pruning end, 1 roots, 280 extra nodes, 0 pruned nodes, max_depth=10\n",
            "[03:24:39] INFO: /workspace/src/tree/updater_prune.cc:74: tree pruning end, 1 roots, 20 extra nodes, 0 pruned nodes, max_depth=10\n",
            "[03:24:51] INFO: /workspace/src/tree/updater_prune.cc:74: tree pruning end, 1 roots, 886 extra nodes, 0 pruned nodes, max_depth=10\n",
            "[03:25:02] INFO: /workspace/src/tree/updater_prune.cc:74: tree pruning end, 1 roots, 382 extra nodes, 0 pruned nodes, max_depth=10\n",
            "[03:25:15] INFO: /workspace/src/tree/updater_prune.cc:74: tree pruning end, 1 roots, 1378 extra nodes, 0 pruned nodes, max_depth=10\n",
            "[03:25:24] INFO: /workspace/src/tree/updater_prune.cc:74: tree pruning end, 1 roots, 20 extra nodes, 0 pruned nodes, max_depth=10\n",
            "[03:25:39] INFO: /workspace/src/tree/updater_prune.cc:74: tree pruning end, 1 roots, 1432 extra nodes, 0 pruned nodes, max_depth=10\n",
            "[03:25:49] INFO: /workspace/src/tree/updater_prune.cc:74: tree pruning end, 1 roots, 20 extra nodes, 0 pruned nodes, max_depth=10\n",
            "[03:25:58] INFO: /workspace/src/tree/updater_prune.cc:74: tree pruning end, 1 roots, 20 extra nodes, 0 pruned nodes, max_depth=10\n",
            "[03:26:13] INFO: /workspace/src/tree/updater_prune.cc:74: tree pruning end, 1 roots, 1556 extra nodes, 0 pruned nodes, max_depth=10\n",
            "[03:26:22] INFO: /workspace/src/tree/updater_prune.cc:74: tree pruning end, 1 roots, 20 extra nodes, 0 pruned nodes, max_depth=10\n",
            "[03:26:33] INFO: /workspace/src/tree/updater_prune.cc:74: tree pruning end, 1 roots, 756 extra nodes, 0 pruned nodes, max_depth=10\n",
            "[03:26:45] INFO: /workspace/src/tree/updater_prune.cc:74: tree pruning end, 1 roots, 80 extra nodes, 0 pruned nodes, max_depth=10\n",
            "[03:26:54] INFO: /workspace/src/tree/updater_prune.cc:74: tree pruning end, 1 roots, 20 extra nodes, 0 pruned nodes, max_depth=10\n",
            "[03:27:06] INFO: /workspace/src/tree/updater_prune.cc:74: tree pruning end, 1 roots, 736 extra nodes, 0 pruned nodes, max_depth=10\n",
            "[03:27:20] INFO: /workspace/src/tree/updater_prune.cc:74: tree pruning end, 1 roots, 1000 extra nodes, 0 pruned nodes, max_depth=10\n",
            "[03:27:29] INFO: /workspace/src/tree/updater_prune.cc:74: tree pruning end, 1 roots, 20 extra nodes, 0 pruned nodes, max_depth=10\n",
            "[03:27:38] INFO: /workspace/src/tree/updater_prune.cc:74: tree pruning end, 1 roots, 20 extra nodes, 0 pruned nodes, max_depth=10\n",
            "[03:27:52] INFO: /workspace/src/tree/updater_prune.cc:74: tree pruning end, 1 roots, 406 extra nodes, 0 pruned nodes, max_depth=10\n",
            "[03:28:05] INFO: /workspace/src/tree/updater_prune.cc:74: tree pruning end, 1 roots, 1240 extra nodes, 0 pruned nodes, max_depth=10\n",
            "[03:28:14] INFO: /workspace/src/tree/updater_prune.cc:74: tree pruning end, 1 roots, 20 extra nodes, 0 pruned nodes, max_depth=10\n",
            "[03:28:26] INFO: /workspace/src/tree/updater_prune.cc:74: tree pruning end, 1 roots, 268 extra nodes, 0 pruned nodes, max_depth=10\n",
            "[03:28:34] INFO: /workspace/src/tree/updater_prune.cc:74: tree pruning end, 1 roots, 20 extra nodes, 0 pruned nodes, max_depth=10\n",
            "[03:28:43] INFO: /workspace/src/tree/updater_prune.cc:74: tree pruning end, 1 roots, 20 extra nodes, 0 pruned nodes, max_depth=10\n",
            "Time in seconds :  2229.6263234615326\n"
          ],
          "name": "stdout"
        }
      ]
    },
    {
      "cell_type": "code",
      "metadata": {
        "id": "U9_PN6xUwZ3C",
        "colab_type": "code",
        "outputId": "5bc569c7-6416-4de8-8792-74934439a8a8",
        "colab": {
          "base_uri": "https://localhost:8080/",
          "height": 310
        }
      },
      "source": [
        "predictions = clf.predict(X_valid.as_matrix())\n",
        "print(classification_report(y_valid,predictions))\n",
        "print(confusion_matrix(y_valid,predictions))"
      ],
      "execution_count": 0,
      "outputs": [
        {
          "output_type": "stream",
          "text": [
            "/usr/local/lib/python3.6/dist-packages/ipykernel_launcher.py:1: FutureWarning: Method .as_matrix will be removed in a future version. Use .values instead.\n",
            "  \"\"\"Entry point for launching an IPython kernel.\n"
          ],
          "name": "stderr"
        },
        {
          "output_type": "stream",
          "text": [
            "              precision    recall  f1-score   support\n",
            "\n",
            "        Good       0.24      0.43      0.31     17217\n",
            "        Okay       0.17      0.57      0.26      8730\n",
            "        Poor       0.93      0.69      0.79    132815\n",
            "\n",
            "    accuracy                           0.66    158762\n",
            "   macro avg       0.45      0.57      0.46    158762\n",
            "weighted avg       0.81      0.66      0.71    158762\n",
            "\n",
            "[[ 7482  4450  5285]\n",
            " [ 1935  4991  1804]\n",
            " [21370 19748 91697]]\n"
          ],
          "name": "stdout"
        }
      ]
    },
    {
      "cell_type": "markdown",
      "metadata": {
        "id": "kT4oMuyq78Xb",
        "colab_type": "text"
      },
      "source": [
        "XgBoost using 60 Trees with Resampling an Learning Rate 0.1 with Smote Resampling with max_depth = 15"
      ]
    },
    {
      "cell_type": "code",
      "metadata": {
        "id": "VHTmiBsWw5wc",
        "colab_type": "code",
        "outputId": "80081287-4dd5-4efe-be37-ef569cce0969",
        "colab": {
          "base_uri": "https://localhost:8080/",
          "height": 1000
        }
      },
      "source": [
        "clf = xgb.XGBClassifier(\n",
        " learning_rate =0.1,\n",
        " n_estimators=60,\n",
        " max_depth=15,\n",
        " min_child_weight=1,\n",
        " subsample=0.8,\n",
        " colsample_bytree=0.8,\n",
        " verbosity = 3,\n",
        " objective= 'multi:softprob',\n",
        " eval_metric = 'mlogloss',\n",
        " seed=27)\n",
        "start = time.time()\n",
        "clf = clf.fit(X_train_smote,y_train_smote,verbose=True)\n",
        "end = time.time()\n",
        "print(\"Time in seconds : \", end - start)"
      ],
      "execution_count": 0,
      "outputs": [
        {
          "output_type": "stream",
          "text": [
            "[03:42:36] INFO: /workspace/src/tree/updater_prune.cc:74: tree pruning end, 1 roots, 8908 extra nodes, 0 pruned nodes, max_depth=15\n",
            "[03:42:59] INFO: /workspace/src/tree/updater_prune.cc:74: tree pruning end, 1 roots, 15278 extra nodes, 0 pruned nodes, max_depth=15\n",
            "[03:43:16] INFO: /workspace/src/tree/updater_prune.cc:74: tree pruning end, 1 roots, 3430 extra nodes, 0 pruned nodes, max_depth=15\n",
            "[03:43:42] INFO: /workspace/src/tree/updater_prune.cc:74: tree pruning end, 1 roots, 11390 extra nodes, 0 pruned nodes, max_depth=15\n",
            "[03:44:03] INFO: /workspace/src/tree/updater_prune.cc:74: tree pruning end, 1 roots, 14834 extra nodes, 0 pruned nodes, max_depth=15\n",
            "[03:44:22] INFO: /workspace/src/tree/updater_prune.cc:74: tree pruning end, 1 roots, 9068 extra nodes, 0 pruned nodes, max_depth=15\n",
            "[03:44:45] INFO: /workspace/src/tree/updater_prune.cc:74: tree pruning end, 1 roots, 6404 extra nodes, 0 pruned nodes, max_depth=15\n",
            "[03:45:07] INFO: /workspace/src/tree/updater_prune.cc:74: tree pruning end, 1 roots, 14610 extra nodes, 0 pruned nodes, max_depth=15\n",
            "[03:45:27] INFO: /workspace/src/tree/updater_prune.cc:74: tree pruning end, 1 roots, 6066 extra nodes, 0 pruned nodes, max_depth=15\n",
            "[03:45:49] INFO: /workspace/src/tree/updater_prune.cc:74: tree pruning end, 1 roots, 6736 extra nodes, 0 pruned nodes, max_depth=15\n",
            "[03:46:11] INFO: /workspace/src/tree/updater_prune.cc:74: tree pruning end, 1 roots, 13162 extra nodes, 0 pruned nodes, max_depth=15\n",
            "[03:46:32] INFO: /workspace/src/tree/updater_prune.cc:74: tree pruning end, 1 roots, 8968 extra nodes, 0 pruned nodes, max_depth=15\n",
            "[03:46:54] INFO: /workspace/src/tree/updater_prune.cc:74: tree pruning end, 1 roots, 6656 extra nodes, 0 pruned nodes, max_depth=15\n",
            "[03:47:15] INFO: /workspace/src/tree/updater_prune.cc:74: tree pruning end, 1 roots, 14238 extra nodes, 0 pruned nodes, max_depth=15\n",
            "[03:47:36] INFO: /workspace/src/tree/updater_prune.cc:74: tree pruning end, 1 roots, 8146 extra nodes, 0 pruned nodes, max_depth=15\n",
            "[03:47:59] INFO: /workspace/src/tree/updater_prune.cc:74: tree pruning end, 1 roots, 9352 extra nodes, 0 pruned nodes, max_depth=15\n",
            "[03:48:21] INFO: /workspace/src/tree/updater_prune.cc:74: tree pruning end, 1 roots, 15470 extra nodes, 0 pruned nodes, max_depth=15\n",
            "[03:48:39] INFO: /workspace/src/tree/updater_prune.cc:74: tree pruning end, 1 roots, 4494 extra nodes, 0 pruned nodes, max_depth=15\n",
            "[03:49:05] INFO: /workspace/src/tree/updater_prune.cc:74: tree pruning end, 1 roots, 14574 extra nodes, 0 pruned nodes, max_depth=15\n",
            "[03:49:27] INFO: /workspace/src/tree/updater_prune.cc:74: tree pruning end, 1 roots, 12410 extra nodes, 0 pruned nodes, max_depth=15\n",
            "[03:49:48] INFO: /workspace/src/tree/updater_prune.cc:74: tree pruning end, 1 roots, 8630 extra nodes, 0 pruned nodes, max_depth=15\n",
            "[03:50:13] INFO: /workspace/src/tree/updater_prune.cc:74: tree pruning end, 1 roots, 12510 extra nodes, 0 pruned nodes, max_depth=15\n",
            "[03:50:35] INFO: /workspace/src/tree/updater_prune.cc:74: tree pruning end, 1 roots, 13194 extra nodes, 0 pruned nodes, max_depth=15\n",
            "[03:50:55] INFO: /workspace/src/tree/updater_prune.cc:74: tree pruning end, 1 roots, 8928 extra nodes, 0 pruned nodes, max_depth=15\n",
            "[03:51:17] INFO: /workspace/src/tree/updater_prune.cc:74: tree pruning end, 1 roots, 4456 extra nodes, 0 pruned nodes, max_depth=15\n",
            "[03:51:39] INFO: /workspace/src/tree/updater_prune.cc:74: tree pruning end, 1 roots, 12286 extra nodes, 0 pruned nodes, max_depth=15\n",
            "[03:51:59] INFO: /workspace/src/tree/updater_prune.cc:74: tree pruning end, 1 roots, 6162 extra nodes, 0 pruned nodes, max_depth=15\n",
            "[03:52:21] INFO: /workspace/src/tree/updater_prune.cc:74: tree pruning end, 1 roots, 4410 extra nodes, 0 pruned nodes, max_depth=15\n",
            "[03:52:43] INFO: /workspace/src/tree/updater_prune.cc:74: tree pruning end, 1 roots, 11882 extra nodes, 0 pruned nodes, max_depth=15\n",
            "[03:53:02] INFO: /workspace/src/tree/updater_prune.cc:74: tree pruning end, 1 roots, 6884 extra nodes, 0 pruned nodes, max_depth=15\n",
            "[03:53:27] INFO: /workspace/src/tree/updater_prune.cc:74: tree pruning end, 1 roots, 12514 extra nodes, 0 pruned nodes, max_depth=15\n",
            "[03:53:49] INFO: /workspace/src/tree/updater_prune.cc:74: tree pruning end, 1 roots, 12386 extra nodes, 0 pruned nodes, max_depth=15\n",
            "[03:54:10] INFO: /workspace/src/tree/updater_prune.cc:74: tree pruning end, 1 roots, 9696 extra nodes, 0 pruned nodes, max_depth=15\n",
            "[03:54:34] INFO: /workspace/src/tree/updater_prune.cc:74: tree pruning end, 1 roots, 9866 extra nodes, 0 pruned nodes, max_depth=15\n",
            "[03:54:55] INFO: /workspace/src/tree/updater_prune.cc:74: tree pruning end, 1 roots, 10162 extra nodes, 0 pruned nodes, max_depth=15\n",
            "[03:55:15] INFO: /workspace/src/tree/updater_prune.cc:74: tree pruning end, 1 roots, 6412 extra nodes, 0 pruned nodes, max_depth=15\n",
            "[03:55:36] INFO: /workspace/src/tree/updater_prune.cc:74: tree pruning end, 1 roots, 4036 extra nodes, 0 pruned nodes, max_depth=15\n",
            "[03:55:57] INFO: /workspace/src/tree/updater_prune.cc:74: tree pruning end, 1 roots, 8962 extra nodes, 0 pruned nodes, max_depth=15\n",
            "[03:56:16] INFO: /workspace/src/tree/updater_prune.cc:74: tree pruning end, 1 roots, 8080 extra nodes, 0 pruned nodes, max_depth=15\n",
            "[03:56:41] INFO: /workspace/src/tree/updater_prune.cc:74: tree pruning end, 1 roots, 12192 extra nodes, 0 pruned nodes, max_depth=15\n",
            "[03:57:01] INFO: /workspace/src/tree/updater_prune.cc:74: tree pruning end, 1 roots, 10660 extra nodes, 0 pruned nodes, max_depth=15\n",
            "[03:57:20] INFO: /workspace/src/tree/updater_prune.cc:74: tree pruning end, 1 roots, 4452 extra nodes, 0 pruned nodes, max_depth=15\n",
            "[03:57:43] INFO: /workspace/src/tree/updater_prune.cc:74: tree pruning end, 1 roots, 11286 extra nodes, 0 pruned nodes, max_depth=15\n",
            "[03:58:03] INFO: /workspace/src/tree/updater_prune.cc:74: tree pruning end, 1 roots, 6072 extra nodes, 0 pruned nodes, max_depth=15\n",
            "[03:58:23] INFO: /workspace/src/tree/updater_prune.cc:74: tree pruning end, 1 roots, 4488 extra nodes, 0 pruned nodes, max_depth=15\n",
            "[03:58:46] INFO: /workspace/src/tree/updater_prune.cc:74: tree pruning end, 1 roots, 11358 extra nodes, 0 pruned nodes, max_depth=15\n",
            "[03:59:08] INFO: /workspace/src/tree/updater_prune.cc:74: tree pruning end, 1 roots, 11922 extra nodes, 0 pruned nodes, max_depth=15\n",
            "[03:59:27] INFO: /workspace/src/tree/updater_prune.cc:74: tree pruning end, 1 roots, 4254 extra nodes, 0 pruned nodes, max_depth=15\n",
            "[03:59:51] INFO: /workspace/src/tree/updater_prune.cc:74: tree pruning end, 1 roots, 11022 extra nodes, 0 pruned nodes, max_depth=15\n",
            "[04:00:12] INFO: /workspace/src/tree/updater_prune.cc:74: tree pruning end, 1 roots, 14528 extra nodes, 0 pruned nodes, max_depth=15\n",
            "[04:00:32] INFO: /workspace/src/tree/updater_prune.cc:74: tree pruning end, 1 roots, 5354 extra nodes, 0 pruned nodes, max_depth=15\n",
            "[04:00:53] INFO: /workspace/src/tree/updater_prune.cc:74: tree pruning end, 1 roots, 4144 extra nodes, 0 pruned nodes, max_depth=15\n",
            "[04:01:13] INFO: /workspace/src/tree/updater_prune.cc:74: tree pruning end, 1 roots, 12768 extra nodes, 0 pruned nodes, max_depth=15\n",
            "[04:01:33] INFO: /workspace/src/tree/updater_prune.cc:74: tree pruning end, 1 roots, 5226 extra nodes, 0 pruned nodes, max_depth=15\n",
            "[04:01:54] INFO: /workspace/src/tree/updater_prune.cc:74: tree pruning end, 1 roots, 3122 extra nodes, 0 pruned nodes, max_depth=15\n",
            "[04:02:15] INFO: /workspace/src/tree/updater_prune.cc:74: tree pruning end, 1 roots, 11264 extra nodes, 0 pruned nodes, max_depth=15\n",
            "[04:02:35] INFO: /workspace/src/tree/updater_prune.cc:74: tree pruning end, 1 roots, 5768 extra nodes, 0 pruned nodes, max_depth=15\n",
            "[04:02:59] INFO: /workspace/src/tree/updater_prune.cc:74: tree pruning end, 1 roots, 13422 extra nodes, 0 pruned nodes, max_depth=15\n",
            "[04:03:19] INFO: /workspace/src/tree/updater_prune.cc:74: tree pruning end, 1 roots, 8288 extra nodes, 0 pruned nodes, max_depth=15\n",
            "[04:03:32] INFO: /workspace/src/tree/updater_prune.cc:74: tree pruning end, 1 roots, 458 extra nodes, 0 pruned nodes, max_depth=15\n",
            "[04:03:55] INFO: /workspace/src/tree/updater_prune.cc:74: tree pruning end, 1 roots, 6584 extra nodes, 0 pruned nodes, max_depth=15\n",
            "[04:04:17] INFO: /workspace/src/tree/updater_prune.cc:74: tree pruning end, 1 roots, 14236 extra nodes, 0 pruned nodes, max_depth=15\n",
            "[04:04:34] INFO: /workspace/src/tree/updater_prune.cc:74: tree pruning end, 1 roots, 2280 extra nodes, 0 pruned nodes, max_depth=15\n",
            "[04:04:57] INFO: /workspace/src/tree/updater_prune.cc:74: tree pruning end, 1 roots, 8516 extra nodes, 0 pruned nodes, max_depth=15\n",
            "[04:05:18] INFO: /workspace/src/tree/updater_prune.cc:74: tree pruning end, 1 roots, 9318 extra nodes, 0 pruned nodes, max_depth=15\n",
            "[04:05:38] INFO: /workspace/src/tree/updater_prune.cc:74: tree pruning end, 1 roots, 4298 extra nodes, 0 pruned nodes, max_depth=15\n",
            "[04:06:01] INFO: /workspace/src/tree/updater_prune.cc:74: tree pruning end, 1 roots, 5182 extra nodes, 0 pruned nodes, max_depth=15\n",
            "[04:06:20] INFO: /workspace/src/tree/updater_prune.cc:74: tree pruning end, 1 roots, 7548 extra nodes, 0 pruned nodes, max_depth=15\n",
            "[04:06:40] INFO: /workspace/src/tree/updater_prune.cc:74: tree pruning end, 1 roots, 4296 extra nodes, 0 pruned nodes, max_depth=15\n",
            "[04:07:04] INFO: /workspace/src/tree/updater_prune.cc:74: tree pruning end, 1 roots, 11340 extra nodes, 0 pruned nodes, max_depth=15\n",
            "[04:07:21] INFO: /workspace/src/tree/updater_prune.cc:74: tree pruning end, 1 roots, 1632 extra nodes, 0 pruned nodes, max_depth=15\n",
            "[04:07:43] INFO: /workspace/src/tree/updater_prune.cc:74: tree pruning end, 1 roots, 6580 extra nodes, 0 pruned nodes, max_depth=15\n",
            "[04:08:07] INFO: /workspace/src/tree/updater_prune.cc:74: tree pruning end, 1 roots, 4556 extra nodes, 0 pruned nodes, max_depth=15\n",
            "[04:08:32] INFO: /workspace/src/tree/updater_prune.cc:74: tree pruning end, 1 roots, 14718 extra nodes, 0 pruned nodes, max_depth=15\n",
            "[04:08:52] INFO: /workspace/src/tree/updater_prune.cc:74: tree pruning end, 1 roots, 3316 extra nodes, 0 pruned nodes, max_depth=15\n",
            "[04:09:16] INFO: /workspace/src/tree/updater_prune.cc:74: tree pruning end, 1 roots, 5486 extra nodes, 0 pruned nodes, max_depth=15\n",
            "[04:09:36] INFO: /workspace/src/tree/updater_prune.cc:74: tree pruning end, 1 roots, 4806 extra nodes, 0 pruned nodes, max_depth=15\n",
            "[04:09:51] INFO: /workspace/src/tree/updater_prune.cc:74: tree pruning end, 1 roots, 394 extra nodes, 0 pruned nodes, max_depth=15\n",
            "[04:10:15] INFO: /workspace/src/tree/updater_prune.cc:74: tree pruning end, 1 roots, 10148 extra nodes, 0 pruned nodes, max_depth=15\n",
            "[04:10:36] INFO: /workspace/src/tree/updater_prune.cc:74: tree pruning end, 1 roots, 6434 extra nodes, 0 pruned nodes, max_depth=15\n",
            "[04:10:49] INFO: /workspace/src/tree/updater_prune.cc:74: tree pruning end, 1 roots, 284 extra nodes, 0 pruned nodes, max_depth=15\n",
            "[04:11:12] INFO: /workspace/src/tree/updater_prune.cc:74: tree pruning end, 1 roots, 4830 extra nodes, 0 pruned nodes, max_depth=15\n",
            "[04:11:33] INFO: /workspace/src/tree/updater_prune.cc:74: tree pruning end, 1 roots, 5516 extra nodes, 0 pruned nodes, max_depth=15\n",
            "[04:11:53] INFO: /workspace/src/tree/updater_prune.cc:74: tree pruning end, 1 roots, 5042 extra nodes, 0 pruned nodes, max_depth=15\n",
            "[04:12:16] INFO: /workspace/src/tree/updater_prune.cc:74: tree pruning end, 1 roots, 3124 extra nodes, 0 pruned nodes, max_depth=15\n",
            "[04:12:38] INFO: /workspace/src/tree/updater_prune.cc:74: tree pruning end, 1 roots, 7436 extra nodes, 0 pruned nodes, max_depth=15\n",
            "[04:12:59] INFO: /workspace/src/tree/updater_prune.cc:74: tree pruning end, 1 roots, 6180 extra nodes, 0 pruned nodes, max_depth=15\n",
            "[04:13:24] INFO: /workspace/src/tree/updater_prune.cc:74: tree pruning end, 1 roots, 6760 extra nodes, 0 pruned nodes, max_depth=15\n",
            "[04:13:45] INFO: /workspace/src/tree/updater_prune.cc:74: tree pruning end, 1 roots, 3768 extra nodes, 0 pruned nodes, max_depth=15\n",
            "[04:14:05] INFO: /workspace/src/tree/updater_prune.cc:74: tree pruning end, 1 roots, 4202 extra nodes, 0 pruned nodes, max_depth=15\n",
            "[04:14:26] INFO: /workspace/src/tree/updater_prune.cc:74: tree pruning end, 1 roots, 2614 extra nodes, 0 pruned nodes, max_depth=15\n",
            "[04:14:46] INFO: /workspace/src/tree/updater_prune.cc:74: tree pruning end, 1 roots, 5896 extra nodes, 0 pruned nodes, max_depth=15\n",
            "[04:15:05] INFO: /workspace/src/tree/updater_prune.cc:74: tree pruning end, 1 roots, 5550 extra nodes, 0 pruned nodes, max_depth=15\n",
            "[04:15:29] INFO: /workspace/src/tree/updater_prune.cc:74: tree pruning end, 1 roots, 6002 extra nodes, 0 pruned nodes, max_depth=15\n",
            "[04:15:53] INFO: /workspace/src/tree/updater_prune.cc:74: tree pruning end, 1 roots, 12068 extra nodes, 0 pruned nodes, max_depth=15\n",
            "[04:16:13] INFO: /workspace/src/tree/updater_prune.cc:74: tree pruning end, 1 roots, 6318 extra nodes, 0 pruned nodes, max_depth=15\n",
            "[04:16:38] INFO: /workspace/src/tree/updater_prune.cc:74: tree pruning end, 1 roots, 9198 extra nodes, 0 pruned nodes, max_depth=15\n",
            "[04:16:58] INFO: /workspace/src/tree/updater_prune.cc:74: tree pruning end, 1 roots, 5832 extra nodes, 0 pruned nodes, max_depth=15\n",
            "[04:17:12] INFO: /workspace/src/tree/updater_prune.cc:74: tree pruning end, 1 roots, 30 extra nodes, 0 pruned nodes, max_depth=15\n",
            "[04:17:34] INFO: /workspace/src/tree/updater_prune.cc:74: tree pruning end, 1 roots, 2848 extra nodes, 0 pruned nodes, max_depth=15\n",
            "[04:17:53] INFO: /workspace/src/tree/updater_prune.cc:74: tree pruning end, 1 roots, 3552 extra nodes, 0 pruned nodes, max_depth=15\n",
            "[04:18:07] INFO: /workspace/src/tree/updater_prune.cc:74: tree pruning end, 1 roots, 30 extra nodes, 0 pruned nodes, max_depth=15\n",
            "[04:18:34] INFO: /workspace/src/tree/updater_prune.cc:74: tree pruning end, 1 roots, 13518 extra nodes, 0 pruned nodes, max_depth=15\n",
            "[04:18:53] INFO: /workspace/src/tree/updater_prune.cc:74: tree pruning end, 1 roots, 4846 extra nodes, 0 pruned nodes, max_depth=15\n",
            "[04:19:06] INFO: /workspace/src/tree/updater_prune.cc:74: tree pruning end, 1 roots, 30 extra nodes, 0 pruned nodes, max_depth=15\n",
            "[04:19:33] INFO: /workspace/src/tree/updater_prune.cc:74: tree pruning end, 1 roots, 14370 extra nodes, 0 pruned nodes, max_depth=15\n",
            "[04:19:49] INFO: /workspace/src/tree/updater_prune.cc:74: tree pruning end, 1 roots, 1284 extra nodes, 0 pruned nodes, max_depth=15\n",
            "[04:20:02] INFO: /workspace/src/tree/updater_prune.cc:74: tree pruning end, 1 roots, 30 extra nodes, 0 pruned nodes, max_depth=15\n",
            "[04:20:24] INFO: /workspace/src/tree/updater_prune.cc:74: tree pruning end, 1 roots, 2966 extra nodes, 0 pruned nodes, max_depth=15\n",
            "[04:20:40] INFO: /workspace/src/tree/updater_prune.cc:74: tree pruning end, 1 roots, 990 extra nodes, 0 pruned nodes, max_depth=15\n",
            "[04:20:53] INFO: /workspace/src/tree/updater_prune.cc:74: tree pruning end, 1 roots, 30 extra nodes, 0 pruned nodes, max_depth=15\n",
            "[04:21:17] INFO: /workspace/src/tree/updater_prune.cc:74: tree pruning end, 1 roots, 9700 extra nodes, 0 pruned nodes, max_depth=15\n",
            "[04:21:40] INFO: /workspace/src/tree/updater_prune.cc:74: tree pruning end, 1 roots, 6348 extra nodes, 0 pruned nodes, max_depth=15\n",
            "[04:21:53] INFO: /workspace/src/tree/updater_prune.cc:74: tree pruning end, 1 roots, 30 extra nodes, 0 pruned nodes, max_depth=15\n",
            "[04:22:18] INFO: /workspace/src/tree/updater_prune.cc:74: tree pruning end, 1 roots, 9996 extra nodes, 0 pruned nodes, max_depth=15\n",
            "[04:22:38] INFO: /workspace/src/tree/updater_prune.cc:74: tree pruning end, 1 roots, 4442 extra nodes, 0 pruned nodes, max_depth=15\n",
            "[04:22:50] INFO: /workspace/src/tree/updater_prune.cc:74: tree pruning end, 1 roots, 30 extra nodes, 0 pruned nodes, max_depth=15\n",
            "[04:23:15] INFO: /workspace/src/tree/updater_prune.cc:74: tree pruning end, 1 roots, 13880 extra nodes, 0 pruned nodes, max_depth=15\n",
            "[04:23:38] INFO: /workspace/src/tree/updater_prune.cc:74: tree pruning end, 1 roots, 11756 extra nodes, 0 pruned nodes, max_depth=15\n",
            "[04:23:51] INFO: /workspace/src/tree/updater_prune.cc:74: tree pruning end, 1 roots, 30 extra nodes, 0 pruned nodes, max_depth=15\n",
            "[04:24:16] INFO: /workspace/src/tree/updater_prune.cc:74: tree pruning end, 1 roots, 11334 extra nodes, 0 pruned nodes, max_depth=15\n",
            "[04:24:29] INFO: /workspace/src/tree/updater_prune.cc:74: tree pruning end, 1 roots, 30 extra nodes, 0 pruned nodes, max_depth=15\n",
            "[04:24:43] INFO: /workspace/src/tree/updater_prune.cc:74: tree pruning end, 1 roots, 30 extra nodes, 0 pruned nodes, max_depth=15\n",
            "[04:25:07] INFO: /workspace/src/tree/updater_prune.cc:74: tree pruning end, 1 roots, 8054 extra nodes, 0 pruned nodes, max_depth=15\n",
            "[04:25:24] INFO: /workspace/src/tree/updater_prune.cc:74: tree pruning end, 1 roots, 1096 extra nodes, 0 pruned nodes, max_depth=15\n",
            "[04:25:38] INFO: /workspace/src/tree/updater_prune.cc:74: tree pruning end, 1 roots, 30 extra nodes, 0 pruned nodes, max_depth=15\n",
            "[04:26:01] INFO: /workspace/src/tree/updater_prune.cc:74: tree pruning end, 1 roots, 6046 extra nodes, 0 pruned nodes, max_depth=15\n",
            "[04:26:20] INFO: /workspace/src/tree/updater_prune.cc:74: tree pruning end, 1 roots, 3268 extra nodes, 0 pruned nodes, max_depth=15\n",
            "[04:26:40] INFO: /workspace/src/tree/updater_prune.cc:74: tree pruning end, 1 roots, 5906 extra nodes, 0 pruned nodes, max_depth=15\n",
            "[04:27:06] INFO: /workspace/src/tree/updater_prune.cc:74: tree pruning end, 1 roots, 12074 extra nodes, 0 pruned nodes, max_depth=15\n",
            "[04:27:25] INFO: /workspace/src/tree/updater_prune.cc:74: tree pruning end, 1 roots, 3110 extra nodes, 0 pruned nodes, max_depth=15\n",
            "[04:27:38] INFO: /workspace/src/tree/updater_prune.cc:74: tree pruning end, 1 roots, 30 extra nodes, 0 pruned nodes, max_depth=15\n",
            "[04:28:04] INFO: /workspace/src/tree/updater_prune.cc:74: tree pruning end, 1 roots, 12836 extra nodes, 0 pruned nodes, max_depth=15\n",
            "[04:28:17] INFO: /workspace/src/tree/updater_prune.cc:74: tree pruning end, 1 roots, 30 extra nodes, 0 pruned nodes, max_depth=15\n",
            "[04:28:36] INFO: /workspace/src/tree/updater_prune.cc:74: tree pruning end, 1 roots, 3158 extra nodes, 0 pruned nodes, max_depth=15\n",
            "[04:29:01] INFO: /workspace/src/tree/updater_prune.cc:74: tree pruning end, 1 roots, 9906 extra nodes, 0 pruned nodes, max_depth=15\n",
            "[04:29:22] INFO: /workspace/src/tree/updater_prune.cc:74: tree pruning end, 1 roots, 10528 extra nodes, 0 pruned nodes, max_depth=15\n",
            "[04:29:36] INFO: /workspace/src/tree/updater_prune.cc:74: tree pruning end, 1 roots, 30 extra nodes, 0 pruned nodes, max_depth=15\n",
            "[04:30:02] INFO: /workspace/src/tree/updater_prune.cc:74: tree pruning end, 1 roots, 11832 extra nodes, 0 pruned nodes, max_depth=15\n",
            "[04:30:16] INFO: /workspace/src/tree/updater_prune.cc:74: tree pruning end, 1 roots, 30 extra nodes, 0 pruned nodes, max_depth=15\n",
            "[04:30:30] INFO: /workspace/src/tree/updater_prune.cc:74: tree pruning end, 1 roots, 30 extra nodes, 0 pruned nodes, max_depth=15\n",
            "[04:30:45] INFO: /workspace/src/tree/updater_prune.cc:74: tree pruning end, 1 roots, 150 extra nodes, 0 pruned nodes, max_depth=15\n",
            "[04:30:58] INFO: /workspace/src/tree/updater_prune.cc:74: tree pruning end, 1 roots, 30 extra nodes, 0 pruned nodes, max_depth=15\n",
            "[04:31:12] INFO: /workspace/src/tree/updater_prune.cc:74: tree pruning end, 1 roots, 30 extra nodes, 0 pruned nodes, max_depth=15\n",
            "[04:31:33] INFO: /workspace/src/tree/updater_prune.cc:74: tree pruning end, 1 roots, 3262 extra nodes, 0 pruned nodes, max_depth=15\n",
            "[04:31:46] INFO: /workspace/src/tree/updater_prune.cc:74: tree pruning end, 1 roots, 30 extra nodes, 0 pruned nodes, max_depth=15\n",
            "[04:31:59] INFO: /workspace/src/tree/updater_prune.cc:74: tree pruning end, 1 roots, 30 extra nodes, 0 pruned nodes, max_depth=15\n",
            "[04:32:25] INFO: /workspace/src/tree/updater_prune.cc:74: tree pruning end, 1 roots, 11776 extra nodes, 0 pruned nodes, max_depth=15\n",
            "[04:32:38] INFO: /workspace/src/tree/updater_prune.cc:74: tree pruning end, 1 roots, 30 extra nodes, 0 pruned nodes, max_depth=15\n",
            "[04:32:58] INFO: /workspace/src/tree/updater_prune.cc:74: tree pruning end, 1 roots, 3860 extra nodes, 0 pruned nodes, max_depth=15\n",
            "[04:33:23] INFO: /workspace/src/tree/updater_prune.cc:74: tree pruning end, 1 roots, 10178 extra nodes, 0 pruned nodes, max_depth=15\n",
            "[04:33:37] INFO: /workspace/src/tree/updater_prune.cc:74: tree pruning end, 1 roots, 30 extra nodes, 0 pruned nodes, max_depth=15\n",
            "[04:33:50] INFO: /workspace/src/tree/updater_prune.cc:74: tree pruning end, 1 roots, 30 extra nodes, 0 pruned nodes, max_depth=15\n",
            "[04:34:14] INFO: /workspace/src/tree/updater_prune.cc:74: tree pruning end, 1 roots, 6836 extra nodes, 0 pruned nodes, max_depth=15\n",
            "[04:34:29] INFO: /workspace/src/tree/updater_prune.cc:74: tree pruning end, 1 roots, 30 extra nodes, 0 pruned nodes, max_depth=15\n",
            "[04:34:49] INFO: /workspace/src/tree/updater_prune.cc:74: tree pruning end, 1 roots, 4302 extra nodes, 0 pruned nodes, max_depth=15\n",
            "[04:35:12] INFO: /workspace/src/tree/updater_prune.cc:74: tree pruning end, 1 roots, 7134 extra nodes, 0 pruned nodes, max_depth=15\n",
            "[04:35:27] INFO: /workspace/src/tree/updater_prune.cc:74: tree pruning end, 1 roots, 30 extra nodes, 0 pruned nodes, max_depth=15\n",
            "[04:35:47] INFO: /workspace/src/tree/updater_prune.cc:74: tree pruning end, 1 roots, 6966 extra nodes, 0 pruned nodes, max_depth=15\n",
            "[04:36:07] INFO: /workspace/src/tree/updater_prune.cc:74: tree pruning end, 1 roots, 2394 extra nodes, 0 pruned nodes, max_depth=15\n",
            "[04:36:30] INFO: /workspace/src/tree/updater_prune.cc:74: tree pruning end, 1 roots, 10692 extra nodes, 0 pruned nodes, max_depth=15\n",
            "[04:36:43] INFO: /workspace/src/tree/updater_prune.cc:74: tree pruning end, 1 roots, 30 extra nodes, 0 pruned nodes, max_depth=15\n",
            "[04:37:07] INFO: /workspace/src/tree/updater_prune.cc:74: tree pruning end, 1 roots, 11486 extra nodes, 0 pruned nodes, max_depth=15\n",
            "[04:37:21] INFO: /workspace/src/tree/updater_prune.cc:74: tree pruning end, 1 roots, 30 extra nodes, 0 pruned nodes, max_depth=15\n",
            "[04:37:36] INFO: /workspace/src/tree/updater_prune.cc:74: tree pruning end, 1 roots, 30 extra nodes, 0 pruned nodes, max_depth=15\n",
            "[04:38:00] INFO: /workspace/src/tree/updater_prune.cc:74: tree pruning end, 1 roots, 12820 extra nodes, 0 pruned nodes, max_depth=15\n",
            "[04:38:14] INFO: /workspace/src/tree/updater_prune.cc:74: tree pruning end, 1 roots, 30 extra nodes, 0 pruned nodes, max_depth=15\n",
            "[04:38:35] INFO: /workspace/src/tree/updater_prune.cc:74: tree pruning end, 1 roots, 4484 extra nodes, 0 pruned nodes, max_depth=15\n",
            "[04:38:57] INFO: /workspace/src/tree/updater_prune.cc:74: tree pruning end, 1 roots, 4954 extra nodes, 0 pruned nodes, max_depth=15\n",
            "[04:39:10] INFO: /workspace/src/tree/updater_prune.cc:74: tree pruning end, 1 roots, 30 extra nodes, 0 pruned nodes, max_depth=15\n",
            "[04:39:30] INFO: /workspace/src/tree/updater_prune.cc:74: tree pruning end, 1 roots, 3308 extra nodes, 0 pruned nodes, max_depth=15\n",
            "[04:39:50] INFO: /workspace/src/tree/updater_prune.cc:74: tree pruning end, 1 roots, 3280 extra nodes, 0 pruned nodes, max_depth=15\n",
            "[04:40:04] INFO: /workspace/src/tree/updater_prune.cc:74: tree pruning end, 1 roots, 30 extra nodes, 0 pruned nodes, max_depth=15\n",
            "[04:40:18] INFO: /workspace/src/tree/updater_prune.cc:74: tree pruning end, 1 roots, 30 extra nodes, 0 pruned nodes, max_depth=15\n",
            "[04:40:39] INFO: /workspace/src/tree/updater_prune.cc:74: tree pruning end, 1 roots, 3462 extra nodes, 0 pruned nodes, max_depth=15\n",
            "[04:41:01] INFO: /workspace/src/tree/updater_prune.cc:74: tree pruning end, 1 roots, 10328 extra nodes, 0 pruned nodes, max_depth=15\n",
            "[04:41:14] INFO: /workspace/src/tree/updater_prune.cc:74: tree pruning end, 1 roots, 30 extra nodes, 0 pruned nodes, max_depth=15\n",
            "[04:41:32] INFO: /workspace/src/tree/updater_prune.cc:74: tree pruning end, 1 roots, 1446 extra nodes, 0 pruned nodes, max_depth=15\n",
            "[04:41:46] INFO: /workspace/src/tree/updater_prune.cc:74: tree pruning end, 1 roots, 30 extra nodes, 0 pruned nodes, max_depth=15\n",
            "[04:41:59] INFO: /workspace/src/tree/updater_prune.cc:74: tree pruning end, 1 roots, 30 extra nodes, 0 pruned nodes, max_depth=15\n",
            "Time in seconds :  3599.5332832336426\n"
          ],
          "name": "stdout"
        }
      ]
    },
    {
      "cell_type": "code",
      "metadata": {
        "id": "L1pw43p58ECj",
        "colab_type": "code",
        "outputId": "ce09abec-7aa7-4503-8681-5cd260c54a23",
        "colab": {
          "base_uri": "https://localhost:8080/",
          "height": 310
        }
      },
      "source": [
        "predictions = clf.predict(X_valid.as_matrix())\n",
        "print(classification_report(y_valid,predictions))\n",
        "print(confusion_matrix(y_valid,predictions))"
      ],
      "execution_count": 0,
      "outputs": [
        {
          "output_type": "stream",
          "text": [
            "/usr/local/lib/python3.6/dist-packages/ipykernel_launcher.py:1: FutureWarning: Method .as_matrix will be removed in a future version. Use .values instead.\n",
            "  \"\"\"Entry point for launching an IPython kernel.\n"
          ],
          "name": "stderr"
        },
        {
          "output_type": "stream",
          "text": [
            "              precision    recall  f1-score   support\n",
            "\n",
            "        Good       0.27      0.42      0.33     17217\n",
            "        Okay       0.19      0.50      0.28      8730\n",
            "        Poor       0.92      0.75      0.83    132815\n",
            "\n",
            "    accuracy                           0.70    158762\n",
            "   macro avg       0.46      0.56      0.48    158762\n",
            "weighted avg       0.81      0.70      0.74    158762\n",
            "\n",
            "[[  7308   3608   6301]\n",
            " [  2000   4387   2343]\n",
            " [ 17555  15091 100169]]\n"
          ],
          "name": "stdout"
        }
      ]
    },
    {
      "cell_type": "markdown",
      "metadata": {
        "id": "ZIB62JjYcXh_",
        "colab_type": "text"
      },
      "source": [
        "XgBoost using 100 Trees with Resampling an Learning Rate 0.1 with Smote Resampling with max_depth = 10"
      ]
    },
    {
      "cell_type": "code",
      "metadata": {
        "id": "iiW8yqNC7yp4",
        "colab_type": "code",
        "outputId": "7062f50d-57ed-4192-ad3d-6102eff85695",
        "colab": {
          "base_uri": "https://localhost:8080/",
          "height": 1000
        }
      },
      "source": [
        "clf = xgb.XGBClassifier(\n",
        " learning_rate =0.1,\n",
        " n_estimators=100,\n",
        " max_depth=10,\n",
        " min_child_weight=1,\n",
        " subsample=0.8,\n",
        " colsample_bytree=0.8,\n",
        " verbosity = 3,\n",
        " objective= 'multi:softprob',\n",
        " eval_metric = 'mlogloss',\n",
        " sample_weight=sample_weights_data,\n",
        " seed=27)\n",
        "start = time.time()\n",
        "clf = clf.fit(X_train_smote,y_train_smote,verbose=True)\n",
        "end = time.time()\n",
        "print(\"Time in seconds : \", end - start)"
      ],
      "execution_count": 0,
      "outputs": [
        {
          "output_type": "stream",
          "text": [
            "[18:21:16] ======== Monitor: Learner ========\n",
            "[18:21:16] GetGradient: 1.16505s, 100 calls @ 11650us\n",
            "[18:21:16] PredictRaw: 0.906931s, 100 calls @ 9069us\n",
            "[18:21:16] UpdateOneIter: 1332.49s, 100 calls @ 13324884us\n",
            "[18:21:16] ======== Monitor: GBTree ========\n",
            "[18:21:16] BoostNewTrees: 1238.64s, 100 calls @ 12386424us\n",
            "[18:21:16] CommitModel: 91.773s, 100 calls @ 917730us\n",
            "[18:21:42] INFO: /workspace/src/tree/updater_prune.cc:74: tree pruning end, 1 roots, 1274 extra nodes, 0 pruned nodes, max_depth=10\n",
            "[18:21:54] INFO: /workspace/src/tree/updater_prune.cc:74: tree pruning end, 1 roots, 1592 extra nodes, 0 pruned nodes, max_depth=10\n",
            "[18:22:04] INFO: /workspace/src/tree/updater_prune.cc:74: tree pruning end, 1 roots, 746 extra nodes, 0 pruned nodes, max_depth=10\n",
            "[18:22:19] INFO: /workspace/src/tree/updater_prune.cc:74: tree pruning end, 1 roots, 1552 extra nodes, 0 pruned nodes, max_depth=10\n",
            "[18:22:31] INFO: /workspace/src/tree/updater_prune.cc:74: tree pruning end, 1 roots, 1688 extra nodes, 0 pruned nodes, max_depth=10\n",
            "[18:22:42] INFO: /workspace/src/tree/updater_prune.cc:74: tree pruning end, 1 roots, 1262 extra nodes, 0 pruned nodes, max_depth=10\n",
            "[18:22:55] INFO: /workspace/src/tree/updater_prune.cc:74: tree pruning end, 1 roots, 970 extra nodes, 0 pruned nodes, max_depth=10\n",
            "[18:23:07] INFO: /workspace/src/tree/updater_prune.cc:74: tree pruning end, 1 roots, 1680 extra nodes, 0 pruned nodes, max_depth=10\n",
            "[18:23:18] INFO: /workspace/src/tree/updater_prune.cc:74: tree pruning end, 1 roots, 812 extra nodes, 0 pruned nodes, max_depth=10\n",
            "[18:23:31] INFO: /workspace/src/tree/updater_prune.cc:74: tree pruning end, 1 roots, 916 extra nodes, 0 pruned nodes, max_depth=10\n",
            "[18:23:44] INFO: /workspace/src/tree/updater_prune.cc:74: tree pruning end, 1 roots, 1468 extra nodes, 0 pruned nodes, max_depth=10\n",
            "[18:23:55] INFO: /workspace/src/tree/updater_prune.cc:74: tree pruning end, 1 roots, 1072 extra nodes, 0 pruned nodes, max_depth=10\n",
            "[18:24:08] INFO: /workspace/src/tree/updater_prune.cc:74: tree pruning end, 1 roots, 752 extra nodes, 0 pruned nodes, max_depth=10\n",
            "[18:24:20] INFO: /workspace/src/tree/updater_prune.cc:74: tree pruning end, 1 roots, 1584 extra nodes, 0 pruned nodes, max_depth=10\n",
            "[18:24:32] INFO: /workspace/src/tree/updater_prune.cc:74: tree pruning end, 1 roots, 1176 extra nodes, 0 pruned nodes, max_depth=10\n",
            "[18:24:46] INFO: /workspace/src/tree/updater_prune.cc:74: tree pruning end, 1 roots, 1380 extra nodes, 0 pruned nodes, max_depth=10\n",
            "[18:24:58] INFO: /workspace/src/tree/updater_prune.cc:74: tree pruning end, 1 roots, 1684 extra nodes, 0 pruned nodes, max_depth=10\n",
            "[18:25:09] INFO: /workspace/src/tree/updater_prune.cc:74: tree pruning end, 1 roots, 796 extra nodes, 0 pruned nodes, max_depth=10\n",
            "[18:25:24] INFO: /workspace/src/tree/updater_prune.cc:74: tree pruning end, 1 roots, 1586 extra nodes, 0 pruned nodes, max_depth=10\n",
            "[18:25:36] INFO: /workspace/src/tree/updater_prune.cc:74: tree pruning end, 1 roots, 1346 extra nodes, 0 pruned nodes, max_depth=10\n",
            "[18:25:48] INFO: /workspace/src/tree/updater_prune.cc:74: tree pruning end, 1 roots, 1056 extra nodes, 0 pruned nodes, max_depth=10\n",
            "[18:26:02] INFO: /workspace/src/tree/updater_prune.cc:74: tree pruning end, 1 roots, 1416 extra nodes, 0 pruned nodes, max_depth=10\n",
            "[18:26:14] INFO: /workspace/src/tree/updater_prune.cc:74: tree pruning end, 1 roots, 1592 extra nodes, 0 pruned nodes, max_depth=10\n",
            "[18:26:26] INFO: /workspace/src/tree/updater_prune.cc:74: tree pruning end, 1 roots, 1124 extra nodes, 0 pruned nodes, max_depth=10\n",
            "[18:26:39] INFO: /workspace/src/tree/updater_prune.cc:74: tree pruning end, 1 roots, 716 extra nodes, 0 pruned nodes, max_depth=10\n",
            "[18:26:51] INFO: /workspace/src/tree/updater_prune.cc:74: tree pruning end, 1 roots, 1344 extra nodes, 0 pruned nodes, max_depth=10\n",
            "[18:27:02] INFO: /workspace/src/tree/updater_prune.cc:74: tree pruning end, 1 roots, 834 extra nodes, 0 pruned nodes, max_depth=10\n",
            "[18:27:15] INFO: /workspace/src/tree/updater_prune.cc:74: tree pruning end, 1 roots, 648 extra nodes, 0 pruned nodes, max_depth=10\n",
            "[18:27:27] INFO: /workspace/src/tree/updater_prune.cc:74: tree pruning end, 1 roots, 1426 extra nodes, 0 pruned nodes, max_depth=10\n",
            "[18:27:38] INFO: /workspace/src/tree/updater_prune.cc:74: tree pruning end, 1 roots, 930 extra nodes, 0 pruned nodes, max_depth=10\n",
            "[18:27:52] INFO: /workspace/src/tree/updater_prune.cc:74: tree pruning end, 1 roots, 1298 extra nodes, 0 pruned nodes, max_depth=10\n",
            "[18:28:04] INFO: /workspace/src/tree/updater_prune.cc:74: tree pruning end, 1 roots, 1448 extra nodes, 0 pruned nodes, max_depth=10\n",
            "[18:28:16] INFO: /workspace/src/tree/updater_prune.cc:74: tree pruning end, 1 roots, 1166 extra nodes, 0 pruned nodes, max_depth=10\n",
            "[18:28:30] INFO: /workspace/src/tree/updater_prune.cc:74: tree pruning end, 1 roots, 1252 extra nodes, 0 pruned nodes, max_depth=10\n",
            "[18:28:42] INFO: /workspace/src/tree/updater_prune.cc:74: tree pruning end, 1 roots, 1202 extra nodes, 0 pruned nodes, max_depth=10\n",
            "[18:28:53] INFO: /workspace/src/tree/updater_prune.cc:74: tree pruning end, 1 roots, 848 extra nodes, 0 pruned nodes, max_depth=10\n",
            "[18:29:05] INFO: /workspace/src/tree/updater_prune.cc:74: tree pruning end, 1 roots, 684 extra nodes, 0 pruned nodes, max_depth=10\n",
            "[18:29:16] INFO: /workspace/src/tree/updater_prune.cc:74: tree pruning end, 1 roots, 726 extra nodes, 0 pruned nodes, max_depth=10\n",
            "[18:29:27] INFO: /workspace/src/tree/updater_prune.cc:74: tree pruning end, 1 roots, 1044 extra nodes, 0 pruned nodes, max_depth=10\n",
            "[18:29:42] INFO: /workspace/src/tree/updater_prune.cc:74: tree pruning end, 1 roots, 1584 extra nodes, 0 pruned nodes, max_depth=10\n",
            "[18:29:53] INFO: /workspace/src/tree/updater_prune.cc:74: tree pruning end, 1 roots, 1256 extra nodes, 0 pruned nodes, max_depth=10\n",
            "[18:30:03] INFO: /workspace/src/tree/updater_prune.cc:74: tree pruning end, 1 roots, 678 extra nodes, 0 pruned nodes, max_depth=10\n",
            "[18:30:18] INFO: /workspace/src/tree/updater_prune.cc:74: tree pruning end, 1 roots, 1360 extra nodes, 0 pruned nodes, max_depth=10\n",
            "[18:30:28] INFO: /workspace/src/tree/updater_prune.cc:74: tree pruning end, 1 roots, 930 extra nodes, 0 pruned nodes, max_depth=10\n",
            "[18:30:40] INFO: /workspace/src/tree/updater_prune.cc:74: tree pruning end, 1 roots, 866 extra nodes, 0 pruned nodes, max_depth=10\n",
            "[18:30:53] INFO: /workspace/src/tree/updater_prune.cc:74: tree pruning end, 1 roots, 1322 extra nodes, 0 pruned nodes, max_depth=10\n",
            "[18:31:04] INFO: /workspace/src/tree/updater_prune.cc:74: tree pruning end, 1 roots, 1524 extra nodes, 0 pruned nodes, max_depth=10\n",
            "[18:31:14] INFO: /workspace/src/tree/updater_prune.cc:74: tree pruning end, 1 roots, 334 extra nodes, 0 pruned nodes, max_depth=10\n",
            "[18:31:28] INFO: /workspace/src/tree/updater_prune.cc:74: tree pruning end, 1 roots, 1270 extra nodes, 0 pruned nodes, max_depth=10\n",
            "[18:31:40] INFO: /workspace/src/tree/updater_prune.cc:74: tree pruning end, 1 roots, 1530 extra nodes, 0 pruned nodes, max_depth=10\n",
            "[18:31:50] INFO: /workspace/src/tree/updater_prune.cc:74: tree pruning end, 1 roots, 732 extra nodes, 0 pruned nodes, max_depth=10\n",
            "[18:32:03] INFO: /workspace/src/tree/updater_prune.cc:74: tree pruning end, 1 roots, 740 extra nodes, 0 pruned nodes, max_depth=10\n",
            "[18:32:14] INFO: /workspace/src/tree/updater_prune.cc:74: tree pruning end, 1 roots, 1438 extra nodes, 0 pruned nodes, max_depth=10\n",
            "[18:32:25] INFO: /workspace/src/tree/updater_prune.cc:74: tree pruning end, 1 roots, 700 extra nodes, 0 pruned nodes, max_depth=10\n",
            "[18:32:38] INFO: /workspace/src/tree/updater_prune.cc:74: tree pruning end, 1 roots, 608 extra nodes, 0 pruned nodes, max_depth=10\n",
            "[18:32:50] INFO: /workspace/src/tree/updater_prune.cc:74: tree pruning end, 1 roots, 1106 extra nodes, 0 pruned nodes, max_depth=10\n",
            "[18:33:01] INFO: /workspace/src/tree/updater_prune.cc:74: tree pruning end, 1 roots, 756 extra nodes, 0 pruned nodes, max_depth=10\n",
            "[18:33:16] INFO: /workspace/src/tree/updater_prune.cc:74: tree pruning end, 1 roots, 1404 extra nodes, 0 pruned nodes, max_depth=10\n",
            "[18:33:27] INFO: /workspace/src/tree/updater_prune.cc:74: tree pruning end, 1 roots, 996 extra nodes, 0 pruned nodes, max_depth=10\n",
            "[18:33:36] INFO: /workspace/src/tree/updater_prune.cc:74: tree pruning end, 1 roots, 286 extra nodes, 0 pruned nodes, max_depth=10\n",
            "[18:33:49] INFO: /workspace/src/tree/updater_prune.cc:74: tree pruning end, 1 roots, 782 extra nodes, 0 pruned nodes, max_depth=10\n",
            "[18:34:01] INFO: /workspace/src/tree/updater_prune.cc:74: tree pruning end, 1 roots, 1642 extra nodes, 0 pruned nodes, max_depth=10\n",
            "[18:34:11] INFO: /workspace/src/tree/updater_prune.cc:74: tree pruning end, 1 roots, 496 extra nodes, 0 pruned nodes, max_depth=10\n",
            "[18:34:24] INFO: /workspace/src/tree/updater_prune.cc:74: tree pruning end, 1 roots, 914 extra nodes, 0 pruned nodes, max_depth=10\n",
            "[18:34:34] INFO: /workspace/src/tree/updater_prune.cc:74: tree pruning end, 1 roots, 530 extra nodes, 0 pruned nodes, max_depth=10\n",
            "[18:34:45] INFO: /workspace/src/tree/updater_prune.cc:74: tree pruning end, 1 roots, 796 extra nodes, 0 pruned nodes, max_depth=10\n",
            "[18:34:59] INFO: /workspace/src/tree/updater_prune.cc:74: tree pruning end, 1 roots, 710 extra nodes, 0 pruned nodes, max_depth=10\n",
            "[18:35:10] INFO: /workspace/src/tree/updater_prune.cc:74: tree pruning end, 1 roots, 812 extra nodes, 0 pruned nodes, max_depth=10\n",
            "[18:35:22] INFO: /workspace/src/tree/updater_prune.cc:74: tree pruning end, 1 roots, 762 extra nodes, 0 pruned nodes, max_depth=10\n",
            "[18:35:36] INFO: /workspace/src/tree/updater_prune.cc:74: tree pruning end, 1 roots, 1536 extra nodes, 0 pruned nodes, max_depth=10\n",
            "[18:35:48] INFO: /workspace/src/tree/updater_prune.cc:74: tree pruning end, 1 roots, 1092 extra nodes, 0 pruned nodes, max_depth=10\n",
            "[18:36:00] INFO: /workspace/src/tree/updater_prune.cc:74: tree pruning end, 1 roots, 926 extra nodes, 0 pruned nodes, max_depth=10\n",
            "[18:36:13] INFO: /workspace/src/tree/updater_prune.cc:74: tree pruning end, 1 roots, 830 extra nodes, 0 pruned nodes, max_depth=10\n",
            "[18:36:26] INFO: /workspace/src/tree/updater_prune.cc:74: tree pruning end, 1 roots, 1640 extra nodes, 0 pruned nodes, max_depth=10\n",
            "[18:36:36] INFO: /workspace/src/tree/updater_prune.cc:74: tree pruning end, 1 roots, 576 extra nodes, 0 pruned nodes, max_depth=10\n",
            "[18:36:49] INFO: /workspace/src/tree/updater_prune.cc:74: tree pruning end, 1 roots, 810 extra nodes, 0 pruned nodes, max_depth=10\n",
            "[18:36:59] INFO: /workspace/src/tree/updater_prune.cc:74: tree pruning end, 1 roots, 550 extra nodes, 0 pruned nodes, max_depth=10\n",
            "[18:37:07] INFO: /workspace/src/tree/updater_prune.cc:74: tree pruning end, 1 roots, 132 extra nodes, 0 pruned nodes, max_depth=10\n",
            "[18:37:21] INFO: /workspace/src/tree/updater_prune.cc:74: tree pruning end, 1 roots, 1384 extra nodes, 0 pruned nodes, max_depth=10\n",
            "[18:37:31] INFO: /workspace/src/tree/updater_prune.cc:74: tree pruning end, 1 roots, 632 extra nodes, 0 pruned nodes, max_depth=10\n",
            "[18:37:39] INFO: /workspace/src/tree/updater_prune.cc:74: tree pruning end, 1 roots, 20 extra nodes, 0 pruned nodes, max_depth=10\n",
            "[18:37:52] INFO: /workspace/src/tree/updater_prune.cc:74: tree pruning end, 1 roots, 890 extra nodes, 0 pruned nodes, max_depth=10\n",
            "[18:38:03] INFO: /workspace/src/tree/updater_prune.cc:74: tree pruning end, 1 roots, 732 extra nodes, 0 pruned nodes, max_depth=10\n",
            "[18:38:14] INFO: /workspace/src/tree/updater_prune.cc:74: tree pruning end, 1 roots, 782 extra nodes, 0 pruned nodes, max_depth=10\n",
            "[18:38:28] INFO: /workspace/src/tree/updater_prune.cc:74: tree pruning end, 1 roots, 1314 extra nodes, 0 pruned nodes, max_depth=10\n",
            "[18:38:40] INFO: /workspace/src/tree/updater_prune.cc:74: tree pruning end, 1 roots, 816 extra nodes, 0 pruned nodes, max_depth=10\n",
            "[18:38:51] INFO: /workspace/src/tree/updater_prune.cc:74: tree pruning end, 1 roots, 930 extra nodes, 0 pruned nodes, max_depth=10\n",
            "[18:39:03] INFO: /workspace/src/tree/updater_prune.cc:74: tree pruning end, 1 roots, 610 extra nodes, 0 pruned nodes, max_depth=10\n",
            "[18:39:14] INFO: /workspace/src/tree/updater_prune.cc:74: tree pruning end, 1 roots, 596 extra nodes, 0 pruned nodes, max_depth=10\n",
            "[18:39:22] INFO: /workspace/src/tree/updater_prune.cc:74: tree pruning end, 1 roots, 80 extra nodes, 0 pruned nodes, max_depth=10\n",
            "[18:39:34] INFO: /workspace/src/tree/updater_prune.cc:74: tree pruning end, 1 roots, 606 extra nodes, 0 pruned nodes, max_depth=10\n",
            "[18:39:44] INFO: /workspace/src/tree/updater_prune.cc:74: tree pruning end, 1 roots, 286 extra nodes, 0 pruned nodes, max_depth=10\n",
            "[18:39:52] INFO: /workspace/src/tree/updater_prune.cc:74: tree pruning end, 1 roots, 20 extra nodes, 0 pruned nodes, max_depth=10\n",
            "[18:40:05] INFO: /workspace/src/tree/updater_prune.cc:74: tree pruning end, 1 roots, 1030 extra nodes, 0 pruned nodes, max_depth=10\n",
            "[18:40:17] INFO: /workspace/src/tree/updater_prune.cc:74: tree pruning end, 1 roots, 1398 extra nodes, 0 pruned nodes, max_depth=10\n",
            "[18:40:28] INFO: /workspace/src/tree/updater_prune.cc:74: tree pruning end, 1 roots, 918 extra nodes, 0 pruned nodes, max_depth=10\n",
            "[18:40:43] INFO: /workspace/src/tree/updater_prune.cc:74: tree pruning end, 1 roots, 1272 extra nodes, 0 pruned nodes, max_depth=10\n",
            "[18:40:54] INFO: /workspace/src/tree/updater_prune.cc:74: tree pruning end, 1 roots, 574 extra nodes, 0 pruned nodes, max_depth=10\n",
            "[18:41:02] INFO: /workspace/src/tree/updater_prune.cc:74: tree pruning end, 1 roots, 20 extra nodes, 0 pruned nodes, max_depth=10\n",
            "[18:41:16] INFO: /workspace/src/tree/updater_prune.cc:74: tree pruning end, 1 roots, 1170 extra nodes, 0 pruned nodes, max_depth=10\n",
            "[18:41:26] INFO: /workspace/src/tree/updater_prune.cc:74: tree pruning end, 1 roots, 556 extra nodes, 0 pruned nodes, max_depth=10\n",
            "[18:41:34] INFO: /workspace/src/tree/updater_prune.cc:74: tree pruning end, 1 roots, 20 extra nodes, 0 pruned nodes, max_depth=10\n",
            "[18:41:49] INFO: /workspace/src/tree/updater_prune.cc:74: tree pruning end, 1 roots, 1646 extra nodes, 0 pruned nodes, max_depth=10\n",
            "[18:41:59] INFO: /workspace/src/tree/updater_prune.cc:74: tree pruning end, 1 roots, 570 extra nodes, 0 pruned nodes, max_depth=10\n",
            "[18:42:07] INFO: /workspace/src/tree/updater_prune.cc:74: tree pruning end, 1 roots, 20 extra nodes, 0 pruned nodes, max_depth=10\n",
            "[18:42:22] INFO: /workspace/src/tree/updater_prune.cc:74: tree pruning end, 1 roots, 1576 extra nodes, 0 pruned nodes, max_depth=10\n",
            "[18:42:31] INFO: /workspace/src/tree/updater_prune.cc:74: tree pruning end, 1 roots, 368 extra nodes, 0 pruned nodes, max_depth=10\n",
            "[18:42:39] INFO: /workspace/src/tree/updater_prune.cc:74: tree pruning end, 1 roots, 20 extra nodes, 0 pruned nodes, max_depth=10\n",
            "[18:42:52] INFO: /workspace/src/tree/updater_prune.cc:74: tree pruning end, 1 roots, 784 extra nodes, 0 pruned nodes, max_depth=10\n",
            "[18:43:01] INFO: /workspace/src/tree/updater_prune.cc:74: tree pruning end, 1 roots, 296 extra nodes, 0 pruned nodes, max_depth=10\n",
            "[18:43:09] INFO: /workspace/src/tree/updater_prune.cc:74: tree pruning end, 1 roots, 20 extra nodes, 0 pruned nodes, max_depth=10\n",
            "[18:43:19] INFO: /workspace/src/tree/updater_prune.cc:74: tree pruning end, 1 roots, 90 extra nodes, 0 pruned nodes, max_depth=10\n",
            "[18:43:28] INFO: /workspace/src/tree/updater_prune.cc:74: tree pruning end, 1 roots, 38 extra nodes, 0 pruned nodes, max_depth=10\n",
            "[18:43:36] INFO: /workspace/src/tree/updater_prune.cc:74: tree pruning end, 1 roots, 20 extra nodes, 0 pruned nodes, max_depth=10\n",
            "[18:43:51] INFO: /workspace/src/tree/updater_prune.cc:74: tree pruning end, 1 roots, 1394 extra nodes, 0 pruned nodes, max_depth=10\n",
            "[18:44:00] INFO: /workspace/src/tree/updater_prune.cc:74: tree pruning end, 1 roots, 274 extra nodes, 0 pruned nodes, max_depth=10\n",
            "[18:44:07] INFO: /workspace/src/tree/updater_prune.cc:74: tree pruning end, 1 roots, 20 extra nodes, 0 pruned nodes, max_depth=10\n",
            "[18:44:20] INFO: /workspace/src/tree/updater_prune.cc:74: tree pruning end, 1 roots, 1418 extra nodes, 0 pruned nodes, max_depth=10\n",
            "[18:44:32] INFO: /workspace/src/tree/updater_prune.cc:74: tree pruning end, 1 roots, 1374 extra nodes, 0 pruned nodes, max_depth=10\n",
            "[18:44:40] INFO: /workspace/src/tree/updater_prune.cc:74: tree pruning end, 1 roots, 20 extra nodes, 0 pruned nodes, max_depth=10\n",
            "[18:44:54] INFO: /workspace/src/tree/updater_prune.cc:74: tree pruning end, 1 roots, 1506 extra nodes, 0 pruned nodes, max_depth=10\n",
            "[18:45:02] INFO: /workspace/src/tree/updater_prune.cc:74: tree pruning end, 1 roots, 20 extra nodes, 0 pruned nodes, max_depth=10\n",
            "[18:45:10] INFO: /workspace/src/tree/updater_prune.cc:74: tree pruning end, 1 roots, 20 extra nodes, 0 pruned nodes, max_depth=10\n",
            "[18:45:23] INFO: /workspace/src/tree/updater_prune.cc:74: tree pruning end, 1 roots, 952 extra nodes, 0 pruned nodes, max_depth=10\n",
            "[18:45:33] INFO: /workspace/src/tree/updater_prune.cc:74: tree pruning end, 1 roots, 318 extra nodes, 0 pruned nodes, max_depth=10\n",
            "[18:45:42] INFO: /workspace/src/tree/updater_prune.cc:74: tree pruning end, 1 roots, 20 extra nodes, 0 pruned nodes, max_depth=10\n",
            "[18:45:52] INFO: /workspace/src/tree/updater_prune.cc:74: tree pruning end, 1 roots, 118 extra nodes, 0 pruned nodes, max_depth=10\n",
            "[18:46:02] INFO: /workspace/src/tree/updater_prune.cc:74: tree pruning end, 1 roots, 498 extra nodes, 0 pruned nodes, max_depth=10\n",
            "[18:46:12] INFO: /workspace/src/tree/updater_prune.cc:74: tree pruning end, 1 roots, 820 extra nodes, 0 pruned nodes, max_depth=10\n",
            "[18:46:26] INFO: /workspace/src/tree/updater_prune.cc:74: tree pruning end, 1 roots, 1564 extra nodes, 0 pruned nodes, max_depth=10\n",
            "[18:46:34] INFO: /workspace/src/tree/updater_prune.cc:74: tree pruning end, 1 roots, 20 extra nodes, 0 pruned nodes, max_depth=10\n",
            "[18:46:42] INFO: /workspace/src/tree/updater_prune.cc:74: tree pruning end, 1 roots, 20 extra nodes, 0 pruned nodes, max_depth=10\n",
            "[18:46:56] INFO: /workspace/src/tree/updater_prune.cc:74: tree pruning end, 1 roots, 1602 extra nodes, 0 pruned nodes, max_depth=10\n",
            "[18:47:04] INFO: /workspace/src/tree/updater_prune.cc:74: tree pruning end, 1 roots, 20 extra nodes, 0 pruned nodes, max_depth=10\n",
            "[18:47:14] INFO: /workspace/src/tree/updater_prune.cc:74: tree pruning end, 1 roots, 628 extra nodes, 0 pruned nodes, max_depth=10\n",
            "[18:47:25] INFO: /workspace/src/tree/updater_prune.cc:74: tree pruning end, 1 roots, 80 extra nodes, 0 pruned nodes, max_depth=10\n",
            "[18:47:37] INFO: /workspace/src/tree/updater_prune.cc:74: tree pruning end, 1 roots, 1160 extra nodes, 0 pruned nodes, max_depth=10\n",
            "[18:47:46] INFO: /workspace/src/tree/updater_prune.cc:74: tree pruning end, 1 roots, 20 extra nodes, 0 pruned nodes, max_depth=10\n",
            "[18:48:00] INFO: /workspace/src/tree/updater_prune.cc:74: tree pruning end, 1 roots, 1412 extra nodes, 0 pruned nodes, max_depth=10\n",
            "[18:48:09] INFO: /workspace/src/tree/updater_prune.cc:74: tree pruning end, 1 roots, 20 extra nodes, 0 pruned nodes, max_depth=10\n",
            "[18:48:17] INFO: /workspace/src/tree/updater_prune.cc:74: tree pruning end, 1 roots, 20 extra nodes, 0 pruned nodes, max_depth=10\n",
            "[18:48:28] INFO: /workspace/src/tree/updater_prune.cc:74: tree pruning end, 1 roots, 90 extra nodes, 0 pruned nodes, max_depth=10\n",
            "[18:48:37] INFO: /workspace/src/tree/updater_prune.cc:74: tree pruning end, 1 roots, 20 extra nodes, 0 pruned nodes, max_depth=10\n",
            "[18:48:47] INFO: /workspace/src/tree/updater_prune.cc:74: tree pruning end, 1 roots, 20 extra nodes, 0 pruned nodes, max_depth=10\n",
            "[18:49:00] INFO: /workspace/src/tree/updater_prune.cc:74: tree pruning end, 1 roots, 250 extra nodes, 0 pruned nodes, max_depth=10\n",
            "[18:49:09] INFO: /workspace/src/tree/updater_prune.cc:74: tree pruning end, 1 roots, 20 extra nodes, 0 pruned nodes, max_depth=10\n",
            "[18:49:18] INFO: /workspace/src/tree/updater_prune.cc:74: tree pruning end, 1 roots, 20 extra nodes, 0 pruned nodes, max_depth=10\n",
            "[18:49:33] INFO: /workspace/src/tree/updater_prune.cc:74: tree pruning end, 1 roots, 1372 extra nodes, 0 pruned nodes, max_depth=10\n",
            "[18:49:43] INFO: /workspace/src/tree/updater_prune.cc:74: tree pruning end, 1 roots, 20 extra nodes, 0 pruned nodes, max_depth=10\n",
            "[18:49:56] INFO: /workspace/src/tree/updater_prune.cc:74: tree pruning end, 1 roots, 832 extra nodes, 0 pruned nodes, max_depth=10\n",
            "[18:50:11] INFO: /workspace/src/tree/updater_prune.cc:74: tree pruning end, 1 roots, 1340 extra nodes, 0 pruned nodes, max_depth=10\n",
            "[18:50:20] INFO: /workspace/src/tree/updater_prune.cc:74: tree pruning end, 1 roots, 20 extra nodes, 0 pruned nodes, max_depth=10\n",
            "[18:50:30] INFO: /workspace/src/tree/updater_prune.cc:74: tree pruning end, 1 roots, 20 extra nodes, 0 pruned nodes, max_depth=10\n",
            "[18:50:42] INFO: /workspace/src/tree/updater_prune.cc:74: tree pruning end, 1 roots, 80 extra nodes, 0 pruned nodes, max_depth=10\n",
            "[18:50:52] INFO: /workspace/src/tree/updater_prune.cc:74: tree pruning end, 1 roots, 20 extra nodes, 0 pruned nodes, max_depth=10\n",
            "[18:51:04] INFO: /workspace/src/tree/updater_prune.cc:74: tree pruning end, 1 roots, 754 extra nodes, 0 pruned nodes, max_depth=10\n",
            "[18:51:17] INFO: /workspace/src/tree/updater_prune.cc:74: tree pruning end, 1 roots, 280 extra nodes, 0 pruned nodes, max_depth=10\n",
            "[18:51:27] INFO: /workspace/src/tree/updater_prune.cc:74: tree pruning end, 1 roots, 20 extra nodes, 0 pruned nodes, max_depth=10\n",
            "[18:51:39] INFO: /workspace/src/tree/updater_prune.cc:74: tree pruning end, 1 roots, 886 extra nodes, 0 pruned nodes, max_depth=10\n",
            "[18:51:52] INFO: /workspace/src/tree/updater_prune.cc:74: tree pruning end, 1 roots, 382 extra nodes, 0 pruned nodes, max_depth=10\n",
            "[18:52:05] INFO: /workspace/src/tree/updater_prune.cc:74: tree pruning end, 1 roots, 1378 extra nodes, 0 pruned nodes, max_depth=10\n",
            "[18:52:14] INFO: /workspace/src/tree/updater_prune.cc:74: tree pruning end, 1 roots, 20 extra nodes, 0 pruned nodes, max_depth=10\n",
            "[18:52:29] INFO: /workspace/src/tree/updater_prune.cc:74: tree pruning end, 1 roots, 1432 extra nodes, 0 pruned nodes, max_depth=10\n",
            "[18:52:39] INFO: /workspace/src/tree/updater_prune.cc:74: tree pruning end, 1 roots, 20 extra nodes, 0 pruned nodes, max_depth=10\n",
            "[18:52:49] INFO: /workspace/src/tree/updater_prune.cc:74: tree pruning end, 1 roots, 20 extra nodes, 0 pruned nodes, max_depth=10\n",
            "[18:53:04] INFO: /workspace/src/tree/updater_prune.cc:74: tree pruning end, 1 roots, 1556 extra nodes, 0 pruned nodes, max_depth=10\n",
            "[18:53:14] INFO: /workspace/src/tree/updater_prune.cc:74: tree pruning end, 1 roots, 20 extra nodes, 0 pruned nodes, max_depth=10\n",
            "[18:53:26] INFO: /workspace/src/tree/updater_prune.cc:74: tree pruning end, 1 roots, 756 extra nodes, 0 pruned nodes, max_depth=10\n",
            "[18:53:38] INFO: /workspace/src/tree/updater_prune.cc:74: tree pruning end, 1 roots, 80 extra nodes, 0 pruned nodes, max_depth=10\n",
            "[18:53:47] INFO: /workspace/src/tree/updater_prune.cc:74: tree pruning end, 1 roots, 20 extra nodes, 0 pruned nodes, max_depth=10\n",
            "[18:54:00] INFO: /workspace/src/tree/updater_prune.cc:74: tree pruning end, 1 roots, 736 extra nodes, 0 pruned nodes, max_depth=10\n",
            "[18:54:14] INFO: /workspace/src/tree/updater_prune.cc:74: tree pruning end, 1 roots, 1000 extra nodes, 0 pruned nodes, max_depth=10\n",
            "[18:54:24] INFO: /workspace/src/tree/updater_prune.cc:74: tree pruning end, 1 roots, 20 extra nodes, 0 pruned nodes, max_depth=10\n",
            "[18:54:34] INFO: /workspace/src/tree/updater_prune.cc:74: tree pruning end, 1 roots, 20 extra nodes, 0 pruned nodes, max_depth=10\n",
            "[18:54:47] INFO: /workspace/src/tree/updater_prune.cc:74: tree pruning end, 1 roots, 406 extra nodes, 0 pruned nodes, max_depth=10\n",
            "[18:55:00] INFO: /workspace/src/tree/updater_prune.cc:74: tree pruning end, 1 roots, 1240 extra nodes, 0 pruned nodes, max_depth=10\n",
            "[18:55:10] INFO: /workspace/src/tree/updater_prune.cc:74: tree pruning end, 1 roots, 20 extra nodes, 0 pruned nodes, max_depth=10\n",
            "[18:55:22] INFO: /workspace/src/tree/updater_prune.cc:74: tree pruning end, 1 roots, 268 extra nodes, 0 pruned nodes, max_depth=10\n",
            "[18:55:31] INFO: /workspace/src/tree/updater_prune.cc:74: tree pruning end, 1 roots, 20 extra nodes, 0 pruned nodes, max_depth=10\n",
            "[18:55:40] INFO: /workspace/src/tree/updater_prune.cc:74: tree pruning end, 1 roots, 20 extra nodes, 0 pruned nodes, max_depth=10\n",
            "[18:55:53] INFO: /workspace/src/tree/updater_prune.cc:74: tree pruning end, 1 roots, 460 extra nodes, 0 pruned nodes, max_depth=10\n",
            "[18:56:03] INFO: /workspace/src/tree/updater_prune.cc:74: tree pruning end, 1 roots, 20 extra nodes, 0 pruned nodes, max_depth=10\n",
            "[18:56:12] INFO: /workspace/src/tree/updater_prune.cc:74: tree pruning end, 1 roots, 20 extra nodes, 0 pruned nodes, max_depth=10\n",
            "[18:56:26] INFO: /workspace/src/tree/updater_prune.cc:74: tree pruning end, 1 roots, 466 extra nodes, 0 pruned nodes, max_depth=10\n",
            "[18:56:35] INFO: /workspace/src/tree/updater_prune.cc:74: tree pruning end, 1 roots, 20 extra nodes, 0 pruned nodes, max_depth=10\n",
            "[18:56:44] INFO: /workspace/src/tree/updater_prune.cc:74: tree pruning end, 1 roots, 20 extra nodes, 0 pruned nodes, max_depth=10\n",
            "[18:56:56] INFO: /workspace/src/tree/updater_prune.cc:74: tree pruning end, 1 roots, 168 extra nodes, 0 pruned nodes, max_depth=10\n",
            "[18:57:05] INFO: /workspace/src/tree/updater_prune.cc:74: tree pruning end, 1 roots, 20 extra nodes, 0 pruned nodes, max_depth=10\n",
            "[18:57:17] INFO: /workspace/src/tree/updater_prune.cc:74: tree pruning end, 1 roots, 716 extra nodes, 0 pruned nodes, max_depth=10\n",
            "[18:57:33] INFO: /workspace/src/tree/updater_prune.cc:74: tree pruning end, 1 roots, 1636 extra nodes, 0 pruned nodes, max_depth=10\n",
            "[18:57:47] INFO: /workspace/src/tree/updater_prune.cc:74: tree pruning end, 1 roots, 1448 extra nodes, 0 pruned nodes, max_depth=10\n",
            "[18:57:59] INFO: /workspace/src/tree/updater_prune.cc:74: tree pruning end, 1 roots, 648 extra nodes, 0 pruned nodes, max_depth=10\n",
            "[18:58:10] INFO: /workspace/src/tree/updater_prune.cc:74: tree pruning end, 1 roots, 80 extra nodes, 0 pruned nodes, max_depth=10\n",
            "[18:58:24] INFO: /workspace/src/tree/updater_prune.cc:74: tree pruning end, 1 roots, 1174 extra nodes, 0 pruned nodes, max_depth=10\n",
            "[18:58:33] INFO: /workspace/src/tree/updater_prune.cc:74: tree pruning end, 1 roots, 20 extra nodes, 0 pruned nodes, max_depth=10\n",
            "[18:58:48] INFO: /workspace/src/tree/updater_prune.cc:74: tree pruning end, 1 roots, 932 extra nodes, 0 pruned nodes, max_depth=10\n",
            "[18:58:58] INFO: /workspace/src/tree/updater_prune.cc:74: tree pruning end, 1 roots, 20 extra nodes, 0 pruned nodes, max_depth=10\n",
            "[18:59:07] INFO: /workspace/src/tree/updater_prune.cc:74: tree pruning end, 1 roots, 20 extra nodes, 0 pruned nodes, max_depth=10\n",
            "[18:59:19] INFO: /workspace/src/tree/updater_prune.cc:74: tree pruning end, 1 roots, 68 extra nodes, 0 pruned nodes, max_depth=10\n",
            "[18:59:29] INFO: /workspace/src/tree/updater_prune.cc:74: tree pruning end, 1 roots, 20 extra nodes, 0 pruned nodes, max_depth=10\n",
            "[18:59:41] INFO: /workspace/src/tree/updater_prune.cc:74: tree pruning end, 1 roots, 838 extra nodes, 0 pruned nodes, max_depth=10\n",
            "[18:59:55] INFO: /workspace/src/tree/updater_prune.cc:74: tree pruning end, 1 roots, 682 extra nodes, 0 pruned nodes, max_depth=10\n",
            "[19:00:08] INFO: /workspace/src/tree/updater_prune.cc:74: tree pruning end, 1 roots, 1246 extra nodes, 0 pruned nodes, max_depth=10\n",
            "[19:00:18] INFO: /workspace/src/tree/updater_prune.cc:74: tree pruning end, 1 roots, 20 extra nodes, 0 pruned nodes, max_depth=10\n",
            "[19:00:29] INFO: /workspace/src/tree/updater_prune.cc:74: tree pruning end, 1 roots, 80 extra nodes, 0 pruned nodes, max_depth=10\n",
            "[19:00:38] INFO: /workspace/src/tree/updater_prune.cc:74: tree pruning end, 1 roots, 20 extra nodes, 0 pruned nodes, max_depth=10\n",
            "[19:00:50] INFO: /workspace/src/tree/updater_prune.cc:74: tree pruning end, 1 roots, 714 extra nodes, 0 pruned nodes, max_depth=10\n",
            "[19:01:05] INFO: /workspace/src/tree/updater_prune.cc:74: tree pruning end, 1 roots, 1662 extra nodes, 0 pruned nodes, max_depth=10\n",
            "[19:01:14] INFO: /workspace/src/tree/updater_prune.cc:74: tree pruning end, 1 roots, 20 extra nodes, 0 pruned nodes, max_depth=10\n",
            "[19:01:24] INFO: /workspace/src/tree/updater_prune.cc:74: tree pruning end, 1 roots, 20 extra nodes, 0 pruned nodes, max_depth=10\n",
            "[19:01:37] INFO: /workspace/src/tree/updater_prune.cc:74: tree pruning end, 1 roots, 376 extra nodes, 0 pruned nodes, max_depth=10\n",
            "[19:01:51] INFO: /workspace/src/tree/updater_prune.cc:74: tree pruning end, 1 roots, 1062 extra nodes, 0 pruned nodes, max_depth=10\n",
            "[19:02:00] INFO: /workspace/src/tree/updater_prune.cc:74: tree pruning end, 1 roots, 20 extra nodes, 0 pruned nodes, max_depth=10\n",
            "[19:02:12] INFO: /workspace/src/tree/updater_prune.cc:74: tree pruning end, 1 roots, 68 extra nodes, 0 pruned nodes, max_depth=10\n",
            "[19:02:21] INFO: /workspace/src/tree/updater_prune.cc:74: tree pruning end, 1 roots, 20 extra nodes, 0 pruned nodes, max_depth=10\n",
            "[19:02:33] INFO: /workspace/src/tree/updater_prune.cc:74: tree pruning end, 1 roots, 772 extra nodes, 0 pruned nodes, max_depth=10\n",
            "[19:02:47] INFO: /workspace/src/tree/updater_prune.cc:74: tree pruning end, 1 roots, 880 extra nodes, 0 pruned nodes, max_depth=10\n",
            "[19:02:57] INFO: /workspace/src/tree/updater_prune.cc:74: tree pruning end, 1 roots, 20 extra nodes, 0 pruned nodes, max_depth=10\n",
            "[19:03:06] INFO: /workspace/src/tree/updater_prune.cc:74: tree pruning end, 1 roots, 20 extra nodes, 0 pruned nodes, max_depth=10\n",
            "[19:03:18] INFO: /workspace/src/tree/updater_prune.cc:74: tree pruning end, 1 roots, 80 extra nodes, 0 pruned nodes, max_depth=10\n",
            "[19:03:27] INFO: /workspace/src/tree/updater_prune.cc:74: tree pruning end, 1 roots, 20 extra nodes, 0 pruned nodes, max_depth=10\n",
            "[19:03:36] INFO: /workspace/src/tree/updater_prune.cc:74: tree pruning end, 1 roots, 20 extra nodes, 0 pruned nodes, max_depth=10\n",
            "[19:03:49] INFO: /workspace/src/tree/updater_prune.cc:74: tree pruning end, 1 roots, 376 extra nodes, 0 pruned nodes, max_depth=10\n",
            "[19:04:03] INFO: /workspace/src/tree/updater_prune.cc:74: tree pruning end, 1 roots, 1076 extra nodes, 0 pruned nodes, max_depth=10\n",
            "[19:04:11] INFO: /workspace/src/tree/updater_prune.cc:74: tree pruning end, 1 roots, 20 extra nodes, 0 pruned nodes, max_depth=10\n",
            "[19:04:23] INFO: /workspace/src/tree/updater_prune.cc:74: tree pruning end, 1 roots, 68 extra nodes, 0 pruned nodes, max_depth=10\n",
            "[19:04:32] INFO: /workspace/src/tree/updater_prune.cc:74: tree pruning end, 1 roots, 20 extra nodes, 0 pruned nodes, max_depth=10\n",
            "[19:04:42] INFO: /workspace/src/tree/updater_prune.cc:74: tree pruning end, 1 roots, 20 extra nodes, 0 pruned nodes, max_depth=10\n",
            "[19:04:55] INFO: /workspace/src/tree/updater_prune.cc:74: tree pruning end, 1 roots, 640 extra nodes, 0 pruned nodes, max_depth=10\n",
            "[19:05:05] INFO: /workspace/src/tree/updater_prune.cc:74: tree pruning end, 1 roots, 20 extra nodes, 0 pruned nodes, max_depth=10\n",
            "[19:05:14] INFO: /workspace/src/tree/updater_prune.cc:74: tree pruning end, 1 roots, 20 extra nodes, 0 pruned nodes, max_depth=10\n",
            "[19:05:29] INFO: /workspace/src/tree/updater_prune.cc:74: tree pruning end, 1 roots, 1490 extra nodes, 0 pruned nodes, max_depth=10\n",
            "[19:05:42] INFO: /workspace/src/tree/updater_prune.cc:74: tree pruning end, 1 roots, 956 extra nodes, 0 pruned nodes, max_depth=10\n",
            "[19:05:51] INFO: /workspace/src/tree/updater_prune.cc:74: tree pruning end, 1 roots, 20 extra nodes, 0 pruned nodes, max_depth=10\n",
            "[19:06:03] INFO: /workspace/src/tree/updater_prune.cc:74: tree pruning end, 1 roots, 54 extra nodes, 0 pruned nodes, max_depth=10\n",
            "[19:06:15] INFO: /workspace/src/tree/updater_prune.cc:74: tree pruning end, 1 roots, 952 extra nodes, 0 pruned nodes, max_depth=10\n",
            "[19:06:26] INFO: /workspace/src/tree/updater_prune.cc:74: tree pruning end, 1 roots, 20 extra nodes, 0 pruned nodes, max_depth=10\n",
            "[19:06:37] INFO: /workspace/src/tree/updater_prune.cc:74: tree pruning end, 1 roots, 68 extra nodes, 0 pruned nodes, max_depth=10\n",
            "[19:06:49] INFO: /workspace/src/tree/updater_prune.cc:74: tree pruning end, 1 roots, 896 extra nodes, 0 pruned nodes, max_depth=10\n",
            "[19:06:59] INFO: /workspace/src/tree/updater_prune.cc:74: tree pruning end, 1 roots, 20 extra nodes, 0 pruned nodes, max_depth=10\n",
            "[19:07:12] INFO: /workspace/src/tree/updater_prune.cc:74: tree pruning end, 1 roots, 172 extra nodes, 0 pruned nodes, max_depth=10\n",
            "[19:07:21] INFO: /workspace/src/tree/updater_prune.cc:74: tree pruning end, 1 roots, 20 extra nodes, 0 pruned nodes, max_depth=10\n",
            "[19:07:31] INFO: /workspace/src/tree/updater_prune.cc:74: tree pruning end, 1 roots, 20 extra nodes, 0 pruned nodes, max_depth=10\n",
            "[19:07:43] INFO: /workspace/src/tree/updater_prune.cc:74: tree pruning end, 1 roots, 54 extra nodes, 0 pruned nodes, max_depth=10\n",
            "[19:07:52] INFO: /workspace/src/tree/updater_prune.cc:74: tree pruning end, 1 roots, 20 extra nodes, 0 pruned nodes, max_depth=10\n",
            "[19:08:03] INFO: /workspace/src/tree/updater_prune.cc:74: tree pruning end, 1 roots, 602 extra nodes, 0 pruned nodes, max_depth=10\n",
            "[19:08:17] INFO: /workspace/src/tree/updater_prune.cc:74: tree pruning end, 1 roots, 378 extra nodes, 0 pruned nodes, max_depth=10\n",
            "[19:08:26] INFO: /workspace/src/tree/updater_prune.cc:74: tree pruning end, 1 roots, 20 extra nodes, 0 pruned nodes, max_depth=10\n",
            "[19:08:35] INFO: /workspace/src/tree/updater_prune.cc:74: tree pruning end, 1 roots, 20 extra nodes, 0 pruned nodes, max_depth=10\n",
            "[19:08:48] INFO: /workspace/src/tree/updater_prune.cc:74: tree pruning end, 1 roots, 54 extra nodes, 0 pruned nodes, max_depth=10\n",
            "[19:08:57] INFO: /workspace/src/tree/updater_prune.cc:74: tree pruning end, 1 roots, 20 extra nodes, 0 pruned nodes, max_depth=10\n",
            "[19:09:06] INFO: /workspace/src/tree/updater_prune.cc:74: tree pruning end, 1 roots, 20 extra nodes, 0 pruned nodes, max_depth=10\n",
            "[19:09:19] INFO: /workspace/src/tree/updater_prune.cc:74: tree pruning end, 1 roots, 396 extra nodes, 0 pruned nodes, max_depth=10\n",
            "[19:09:33] INFO: /workspace/src/tree/updater_prune.cc:74: tree pruning end, 1 roots, 1532 extra nodes, 0 pruned nodes, max_depth=10\n",
            "[19:09:42] INFO: /workspace/src/tree/updater_prune.cc:74: tree pruning end, 1 roots, 20 extra nodes, 0 pruned nodes, max_depth=10\n",
            "[19:09:57] INFO: /workspace/src/tree/updater_prune.cc:74: tree pruning end, 1 roots, 1718 extra nodes, 0 pruned nodes, max_depth=10\n",
            "[19:10:07] INFO: /workspace/src/tree/updater_prune.cc:74: tree pruning end, 1 roots, 20 extra nodes, 0 pruned nodes, max_depth=10\n",
            "[19:10:17] INFO: /workspace/src/tree/updater_prune.cc:74: tree pruning end, 1 roots, 20 extra nodes, 0 pruned nodes, max_depth=10\n",
            "[19:10:28] INFO: /workspace/src/tree/updater_prune.cc:74: tree pruning end, 1 roots, 54 extra nodes, 0 pruned nodes, max_depth=10\n",
            "[19:10:37] INFO: /workspace/src/tree/updater_prune.cc:74: tree pruning end, 1 roots, 20 extra nodes, 0 pruned nodes, max_depth=10\n",
            "[19:10:47] INFO: /workspace/src/tree/updater_prune.cc:74: tree pruning end, 1 roots, 20 extra nodes, 0 pruned nodes, max_depth=10\n",
            "[19:11:02] INFO: /workspace/src/tree/updater_prune.cc:74: tree pruning end, 1 roots, 1392 extra nodes, 0 pruned nodes, max_depth=10\n",
            "[19:11:15] INFO: /workspace/src/tree/updater_prune.cc:74: tree pruning end, 1 roots, 1460 extra nodes, 0 pruned nodes, max_depth=10\n",
            "[19:11:28] INFO: /workspace/src/tree/updater_prune.cc:74: tree pruning end, 1 roots, 782 extra nodes, 0 pruned nodes, max_depth=10\n",
            "[19:11:40] INFO: /workspace/src/tree/updater_prune.cc:74: tree pruning end, 1 roots, 54 extra nodes, 0 pruned nodes, max_depth=10\n",
            "[19:11:50] INFO: /workspace/src/tree/updater_prune.cc:74: tree pruning end, 1 roots, 20 extra nodes, 0 pruned nodes, max_depth=10\n",
            "[19:11:59] INFO: /workspace/src/tree/updater_prune.cc:74: tree pruning end, 1 roots, 20 extra nodes, 0 pruned nodes, max_depth=10\n",
            "[19:12:11] INFO: /workspace/src/tree/updater_prune.cc:74: tree pruning end, 1 roots, 54 extra nodes, 0 pruned nodes, max_depth=10\n",
            "[19:12:23] INFO: /workspace/src/tree/updater_prune.cc:74: tree pruning end, 1 roots, 1370 extra nodes, 0 pruned nodes, max_depth=10\n",
            "[19:12:35] INFO: /workspace/src/tree/updater_prune.cc:74: tree pruning end, 1 roots, 584 extra nodes, 0 pruned nodes, max_depth=10\n",
            "[19:12:47] INFO: /workspace/src/tree/updater_prune.cc:74: tree pruning end, 1 roots, 54 extra nodes, 0 pruned nodes, max_depth=10\n",
            "[19:13:00] INFO: /workspace/src/tree/updater_prune.cc:74: tree pruning end, 1 roots, 1020 extra nodes, 0 pruned nodes, max_depth=10\n",
            "[19:13:09] INFO: /workspace/src/tree/updater_prune.cc:74: tree pruning end, 1 roots, 20 extra nodes, 0 pruned nodes, max_depth=10\n",
            "[19:13:21] INFO: /workspace/src/tree/updater_prune.cc:74: tree pruning end, 1 roots, 54 extra nodes, 0 pruned nodes, max_depth=10\n",
            "[19:13:30] INFO: /workspace/src/tree/updater_prune.cc:74: tree pruning end, 1 roots, 20 extra nodes, 0 pruned nodes, max_depth=10\n",
            "[19:13:42] INFO: /workspace/src/tree/updater_prune.cc:74: tree pruning end, 1 roots, 712 extra nodes, 0 pruned nodes, max_depth=10\n",
            "[19:13:54] INFO: /workspace/src/tree/updater_prune.cc:74: tree pruning end, 1 roots, 54 extra nodes, 0 pruned nodes, max_depth=10\n",
            "[19:14:03] INFO: /workspace/src/tree/updater_prune.cc:74: tree pruning end, 1 roots, 20 extra nodes, 0 pruned nodes, max_depth=10\n",
            "[19:14:16] INFO: /workspace/src/tree/updater_prune.cc:74: tree pruning end, 1 roots, 828 extra nodes, 0 pruned nodes, max_depth=10\n",
            "[19:14:30] INFO: /workspace/src/tree/updater_prune.cc:74: tree pruning end, 1 roots, 1514 extra nodes, 0 pruned nodes, max_depth=10\n",
            "[19:14:40] INFO: /workspace/src/tree/updater_prune.cc:74: tree pruning end, 1 roots, 20 extra nodes, 0 pruned nodes, max_depth=10\n",
            "[19:14:50] INFO: /workspace/src/tree/updater_prune.cc:74: tree pruning end, 1 roots, 20 extra nodes, 0 pruned nodes, max_depth=10\n",
            "[19:15:04] INFO: /workspace/src/tree/updater_prune.cc:74: tree pruning end, 1 roots, 840 extra nodes, 0 pruned nodes, max_depth=10\n",
            "[19:15:13] INFO: /workspace/src/tree/updater_prune.cc:74: tree pruning end, 1 roots, 20 extra nodes, 0 pruned nodes, max_depth=10\n",
            "[19:15:22] INFO: /workspace/src/tree/updater_prune.cc:74: tree pruning end, 1 roots, 20 extra nodes, 0 pruned nodes, max_depth=10\n",
            "[19:15:34] INFO: /workspace/src/tree/updater_prune.cc:74: tree pruning end, 1 roots, 54 extra nodes, 0 pruned nodes, max_depth=10\n",
            "[19:15:43] INFO: /workspace/src/tree/updater_prune.cc:74: tree pruning end, 1 roots, 20 extra nodes, 0 pruned nodes, max_depth=10\n",
            "[19:15:54] INFO: /workspace/src/tree/updater_prune.cc:74: tree pruning end, 1 roots, 290 extra nodes, 0 pruned nodes, max_depth=10\n",
            "[19:16:05] INFO: /workspace/src/tree/updater_prune.cc:74: tree pruning end, 1 roots, 54 extra nodes, 0 pruned nodes, max_depth=10\n",
            "[19:16:17] INFO: /workspace/src/tree/updater_prune.cc:74: tree pruning end, 1 roots, 1338 extra nodes, 0 pruned nodes, max_depth=10\n",
            "[19:16:27] INFO: /workspace/src/tree/updater_prune.cc:74: tree pruning end, 1 roots, 20 extra nodes, 0 pruned nodes, max_depth=10\n",
            "[19:16:38] INFO: /workspace/src/tree/updater_prune.cc:74: tree pruning end, 1 roots, 54 extra nodes, 0 pruned nodes, max_depth=10\n",
            "[19:16:48] INFO: /workspace/src/tree/updater_prune.cc:74: tree pruning end, 1 roots, 20 extra nodes, 0 pruned nodes, max_depth=10\n",
            "[19:16:57] INFO: /workspace/src/tree/updater_prune.cc:74: tree pruning end, 1 roots, 20 extra nodes, 0 pruned nodes, max_depth=10\n",
            "[19:17:08] INFO: /workspace/src/tree/updater_prune.cc:74: tree pruning end, 1 roots, 54 extra nodes, 0 pruned nodes, max_depth=10\n",
            "[19:17:18] INFO: /workspace/src/tree/updater_prune.cc:74: tree pruning end, 1 roots, 20 extra nodes, 0 pruned nodes, max_depth=10\n",
            "[19:17:28] INFO: /workspace/src/tree/updater_prune.cc:74: tree pruning end, 1 roots, 20 extra nodes, 0 pruned nodes, max_depth=10\n",
            "[19:17:39] INFO: /workspace/src/tree/updater_prune.cc:74: tree pruning end, 1 roots, 54 extra nodes, 0 pruned nodes, max_depth=10\n",
            "[19:17:52] INFO: /workspace/src/tree/updater_prune.cc:74: tree pruning end, 1 roots, 922 extra nodes, 0 pruned nodes, max_depth=10\n",
            "[19:18:01] INFO: /workspace/src/tree/updater_prune.cc:74: tree pruning end, 1 roots, 20 extra nodes, 0 pruned nodes, max_depth=10\n",
            "Time in seconds :  3406.847269296646\n"
          ],
          "name": "stdout"
        }
      ]
    },
    {
      "cell_type": "code",
      "metadata": {
        "id": "HS1yqVAGKmp7",
        "colab_type": "code",
        "outputId": "d7cbe830-f1dd-4b87-9eed-101b733ad1fc",
        "colab": {
          "base_uri": "https://localhost:8080/",
          "height": 35
        }
      },
      "source": [
        "X_train_smote.size"
      ],
      "execution_count": 0,
      "outputs": [
        {
          "output_type": "execute_result",
          "data": {
            "text/plain": [
              "128564436"
            ]
          },
          "metadata": {
            "tags": []
          },
          "execution_count": 42
        }
      ]
    },
    {
      "cell_type": "code",
      "metadata": {
        "id": "lyk3LSzq73vM",
        "colab_type": "code",
        "outputId": "f0f30022-7a0c-4d88-a7b5-88cf4d83a230",
        "colab": {
          "base_uri": "https://localhost:8080/",
          "height": 310
        }
      },
      "source": [
        "predictions = clf.predict(X_valid.as_matrix())\n",
        "print(classification_report(y_valid,predictions))\n",
        "print(confusion_matrix(y_valid,predictions))"
      ],
      "execution_count": 0,
      "outputs": [
        {
          "output_type": "stream",
          "text": [
            "/usr/local/lib/python3.6/dist-packages/ipykernel_launcher.py:1: FutureWarning: Method .as_matrix will be removed in a future version. Use .values instead.\n",
            "  \"\"\"Entry point for launching an IPython kernel.\n"
          ],
          "name": "stderr"
        },
        {
          "output_type": "stream",
          "text": [
            "              precision    recall  f1-score   support\n",
            "\n",
            "        Good       0.25      0.42      0.32     17217\n",
            "        Okay       0.18      0.53      0.27      8730\n",
            "        Poor       0.92      0.72      0.81    132815\n",
            "\n",
            "    accuracy                           0.68    158762\n",
            "   macro avg       0.45      0.56      0.46    158762\n",
            "weighted avg       0.81      0.68      0.73    158762\n",
            "\n",
            "[[ 7242  4050  5925]\n",
            " [ 1947  4635  2148]\n",
            " [19534 17237 96044]]\n"
          ],
          "name": "stdout"
        }
      ]
    },
    {
      "cell_type": "markdown",
      "metadata": {
        "id": "Oe32taMaLLSo",
        "colab_type": "text"
      },
      "source": [
        "**Best Model**"
      ]
    },
    {
      "cell_type": "markdown",
      "metadata": {
        "id": "EgE_f2y7QCa7",
        "colab_type": "text"
      },
      "source": [
        "XgBoost using 100 Trees with Resampling an Learning Rate 0.1 with Smote Resampling with max_depth = 15"
      ]
    },
    {
      "cell_type": "code",
      "metadata": {
        "id": "6yLBSGBs73iW",
        "colab_type": "code",
        "outputId": "15dc7082-d07d-4894-b0e0-0d1d1b5708bf",
        "colab": {
          "base_uri": "https://localhost:8080/",
          "height": 1000
        }
      },
      "source": [
        "clf = xgb.XGBClassifier(\n",
        " learning_rate =0.1,\n",
        " n_estimators=100,\n",
        " max_depth=15,\n",
        " min_child_weight=1,\n",
        " subsample=0.8,\n",
        " colsample_bytree=0.8,\n",
        " verbosity = 3,\n",
        " objective= 'multi:softprob',\n",
        " eval_metric = 'mlogloss',\n",
        " seed=27)\n",
        "start = time.time()\n",
        "clf = clf.fit(X_train_smote,y_train_smote,verbose=True)\n",
        "end = time.time()\n",
        "print(\"Time in seconds : \", end - start)"
      ],
      "execution_count": 0,
      "outputs": [
        {
          "output_type": "stream",
          "text": [
            "[19:49:55] INFO: /workspace/src/tree/updater_prune.cc:74: tree pruning end, 1 roots, 8908 extra nodes, 0 pruned nodes, max_depth=15\n",
            "[19:50:22] INFO: /workspace/src/tree/updater_prune.cc:74: tree pruning end, 1 roots, 15278 extra nodes, 0 pruned nodes, max_depth=15\n",
            "[19:50:41] INFO: /workspace/src/tree/updater_prune.cc:74: tree pruning end, 1 roots, 3430 extra nodes, 0 pruned nodes, max_depth=15\n",
            "[19:51:09] INFO: /workspace/src/tree/updater_prune.cc:74: tree pruning end, 1 roots, 11390 extra nodes, 0 pruned nodes, max_depth=15\n",
            "[19:51:33] INFO: /workspace/src/tree/updater_prune.cc:74: tree pruning end, 1 roots, 14834 extra nodes, 0 pruned nodes, max_depth=15\n",
            "[19:51:55] INFO: /workspace/src/tree/updater_prune.cc:74: tree pruning end, 1 roots, 9068 extra nodes, 0 pruned nodes, max_depth=15\n",
            "[19:52:19] INFO: /workspace/src/tree/updater_prune.cc:74: tree pruning end, 1 roots, 6404 extra nodes, 0 pruned nodes, max_depth=15\n",
            "[19:52:45] INFO: /workspace/src/tree/updater_prune.cc:74: tree pruning end, 1 roots, 14610 extra nodes, 0 pruned nodes, max_depth=15\n",
            "[19:53:07] INFO: /workspace/src/tree/updater_prune.cc:74: tree pruning end, 1 roots, 6066 extra nodes, 0 pruned nodes, max_depth=15\n",
            "[19:53:32] INFO: /workspace/src/tree/updater_prune.cc:74: tree pruning end, 1 roots, 6736 extra nodes, 0 pruned nodes, max_depth=15\n",
            "[19:53:56] INFO: /workspace/src/tree/updater_prune.cc:74: tree pruning end, 1 roots, 13162 extra nodes, 0 pruned nodes, max_depth=15\n",
            "[19:54:20] INFO: /workspace/src/tree/updater_prune.cc:74: tree pruning end, 1 roots, 8968 extra nodes, 0 pruned nodes, max_depth=15\n",
            "[19:54:44] INFO: /workspace/src/tree/updater_prune.cc:74: tree pruning end, 1 roots, 6656 extra nodes, 0 pruned nodes, max_depth=15\n",
            "[19:55:08] INFO: /workspace/src/tree/updater_prune.cc:74: tree pruning end, 1 roots, 14238 extra nodes, 0 pruned nodes, max_depth=15\n",
            "[19:55:31] INFO: /workspace/src/tree/updater_prune.cc:74: tree pruning end, 1 roots, 8146 extra nodes, 0 pruned nodes, max_depth=15\n",
            "[19:55:56] INFO: /workspace/src/tree/updater_prune.cc:74: tree pruning end, 1 roots, 9352 extra nodes, 0 pruned nodes, max_depth=15\n",
            "[19:56:21] INFO: /workspace/src/tree/updater_prune.cc:74: tree pruning end, 1 roots, 15470 extra nodes, 0 pruned nodes, max_depth=15\n",
            "[19:56:41] INFO: /workspace/src/tree/updater_prune.cc:74: tree pruning end, 1 roots, 4494 extra nodes, 0 pruned nodes, max_depth=15\n",
            "[19:57:09] INFO: /workspace/src/tree/updater_prune.cc:74: tree pruning end, 1 roots, 14574 extra nodes, 0 pruned nodes, max_depth=15\n",
            "[19:57:34] INFO: /workspace/src/tree/updater_prune.cc:74: tree pruning end, 1 roots, 12410 extra nodes, 0 pruned nodes, max_depth=15\n",
            "[19:57:57] INFO: /workspace/src/tree/updater_prune.cc:74: tree pruning end, 1 roots, 8630 extra nodes, 0 pruned nodes, max_depth=15\n",
            "[19:58:25] INFO: /workspace/src/tree/updater_prune.cc:74: tree pruning end, 1 roots, 12510 extra nodes, 0 pruned nodes, max_depth=15\n",
            "[19:58:49] INFO: /workspace/src/tree/updater_prune.cc:74: tree pruning end, 1 roots, 13194 extra nodes, 0 pruned nodes, max_depth=15\n",
            "[19:59:12] INFO: /workspace/src/tree/updater_prune.cc:74: tree pruning end, 1 roots, 8928 extra nodes, 0 pruned nodes, max_depth=15\n",
            "[19:59:35] INFO: /workspace/src/tree/updater_prune.cc:74: tree pruning end, 1 roots, 4456 extra nodes, 0 pruned nodes, max_depth=15\n",
            "[20:00:01] INFO: /workspace/src/tree/updater_prune.cc:74: tree pruning end, 1 roots, 12286 extra nodes, 0 pruned nodes, max_depth=15\n",
            "[20:00:23] INFO: /workspace/src/tree/updater_prune.cc:74: tree pruning end, 1 roots, 6162 extra nodes, 0 pruned nodes, max_depth=15\n",
            "[20:00:47] INFO: /workspace/src/tree/updater_prune.cc:74: tree pruning end, 1 roots, 4410 extra nodes, 0 pruned nodes, max_depth=15\n",
            "[20:01:11] INFO: /workspace/src/tree/updater_prune.cc:74: tree pruning end, 1 roots, 11882 extra nodes, 0 pruned nodes, max_depth=15\n",
            "[20:01:32] INFO: /workspace/src/tree/updater_prune.cc:74: tree pruning end, 1 roots, 6884 extra nodes, 0 pruned nodes, max_depth=15\n",
            "[20:01:59] INFO: /workspace/src/tree/updater_prune.cc:74: tree pruning end, 1 roots, 12514 extra nodes, 0 pruned nodes, max_depth=15\n",
            "[20:02:24] INFO: /workspace/src/tree/updater_prune.cc:74: tree pruning end, 1 roots, 12386 extra nodes, 0 pruned nodes, max_depth=15\n",
            "[20:02:48] INFO: /workspace/src/tree/updater_prune.cc:74: tree pruning end, 1 roots, 9696 extra nodes, 0 pruned nodes, max_depth=15\n",
            "[20:03:14] INFO: /workspace/src/tree/updater_prune.cc:74: tree pruning end, 1 roots, 9866 extra nodes, 0 pruned nodes, max_depth=15\n",
            "[20:03:37] INFO: /workspace/src/tree/updater_prune.cc:74: tree pruning end, 1 roots, 10162 extra nodes, 0 pruned nodes, max_depth=15\n",
            "[20:04:00] INFO: /workspace/src/tree/updater_prune.cc:74: tree pruning end, 1 roots, 6412 extra nodes, 0 pruned nodes, max_depth=15\n",
            "[20:04:23] INFO: /workspace/src/tree/updater_prune.cc:74: tree pruning end, 1 roots, 4036 extra nodes, 0 pruned nodes, max_depth=15\n",
            "[20:04:46] INFO: /workspace/src/tree/updater_prune.cc:74: tree pruning end, 1 roots, 8962 extra nodes, 0 pruned nodes, max_depth=15\n",
            "[20:05:07] INFO: /workspace/src/tree/updater_prune.cc:74: tree pruning end, 1 roots, 8080 extra nodes, 0 pruned nodes, max_depth=15\n",
            "[20:05:34] INFO: /workspace/src/tree/updater_prune.cc:74: tree pruning end, 1 roots, 12192 extra nodes, 0 pruned nodes, max_depth=15\n",
            "[20:05:57] INFO: /workspace/src/tree/updater_prune.cc:74: tree pruning end, 1 roots, 10660 extra nodes, 0 pruned nodes, max_depth=15\n",
            "[20:06:18] INFO: /workspace/src/tree/updater_prune.cc:74: tree pruning end, 1 roots, 4452 extra nodes, 0 pruned nodes, max_depth=15\n",
            "[20:06:43] INFO: /workspace/src/tree/updater_prune.cc:74: tree pruning end, 1 roots, 11286 extra nodes, 0 pruned nodes, max_depth=15\n",
            "[20:07:05] INFO: /workspace/src/tree/updater_prune.cc:74: tree pruning end, 1 roots, 6072 extra nodes, 0 pruned nodes, max_depth=15\n",
            "[20:07:27] INFO: /workspace/src/tree/updater_prune.cc:74: tree pruning end, 1 roots, 4488 extra nodes, 0 pruned nodes, max_depth=15\n",
            "[20:07:53] INFO: /workspace/src/tree/updater_prune.cc:74: tree pruning end, 1 roots, 11358 extra nodes, 0 pruned nodes, max_depth=15\n",
            "[20:08:15] INFO: /workspace/src/tree/updater_prune.cc:74: tree pruning end, 1 roots, 11922 extra nodes, 0 pruned nodes, max_depth=15\n",
            "[20:08:36] INFO: /workspace/src/tree/updater_prune.cc:74: tree pruning end, 1 roots, 4254 extra nodes, 0 pruned nodes, max_depth=15\n",
            "[20:09:04] INFO: /workspace/src/tree/updater_prune.cc:74: tree pruning end, 1 roots, 11022 extra nodes, 0 pruned nodes, max_depth=15\n",
            "[20:09:27] INFO: /workspace/src/tree/updater_prune.cc:74: tree pruning end, 1 roots, 14528 extra nodes, 0 pruned nodes, max_depth=15\n",
            "[20:09:48] INFO: /workspace/src/tree/updater_prune.cc:74: tree pruning end, 1 roots, 5354 extra nodes, 0 pruned nodes, max_depth=15\n",
            "[20:10:12] INFO: /workspace/src/tree/updater_prune.cc:74: tree pruning end, 1 roots, 4144 extra nodes, 0 pruned nodes, max_depth=15\n",
            "[20:10:34] INFO: /workspace/src/tree/updater_prune.cc:74: tree pruning end, 1 roots, 12768 extra nodes, 0 pruned nodes, max_depth=15\n",
            "[20:10:57] INFO: /workspace/src/tree/updater_prune.cc:74: tree pruning end, 1 roots, 5226 extra nodes, 0 pruned nodes, max_depth=15\n",
            "[20:11:19] INFO: /workspace/src/tree/updater_prune.cc:74: tree pruning end, 1 roots, 3122 extra nodes, 0 pruned nodes, max_depth=15\n",
            "[20:11:43] INFO: /workspace/src/tree/updater_prune.cc:74: tree pruning end, 1 roots, 11264 extra nodes, 0 pruned nodes, max_depth=15\n",
            "[20:12:04] INFO: /workspace/src/tree/updater_prune.cc:74: tree pruning end, 1 roots, 5768 extra nodes, 0 pruned nodes, max_depth=15\n",
            "[20:12:30] INFO: /workspace/src/tree/updater_prune.cc:74: tree pruning end, 1 roots, 13422 extra nodes, 0 pruned nodes, max_depth=15\n",
            "[20:12:52] INFO: /workspace/src/tree/updater_prune.cc:74: tree pruning end, 1 roots, 8288 extra nodes, 0 pruned nodes, max_depth=15\n",
            "[20:13:07] INFO: /workspace/src/tree/updater_prune.cc:74: tree pruning end, 1 roots, 458 extra nodes, 0 pruned nodes, max_depth=15\n",
            "[20:13:32] INFO: /workspace/src/tree/updater_prune.cc:74: tree pruning end, 1 roots, 6584 extra nodes, 0 pruned nodes, max_depth=15\n",
            "[20:13:57] INFO: /workspace/src/tree/updater_prune.cc:74: tree pruning end, 1 roots, 14236 extra nodes, 0 pruned nodes, max_depth=15\n",
            "[20:14:15] INFO: /workspace/src/tree/updater_prune.cc:74: tree pruning end, 1 roots, 2280 extra nodes, 0 pruned nodes, max_depth=15\n",
            "[20:14:41] INFO: /workspace/src/tree/updater_prune.cc:74: tree pruning end, 1 roots, 8516 extra nodes, 0 pruned nodes, max_depth=15\n",
            "[20:15:04] INFO: /workspace/src/tree/updater_prune.cc:74: tree pruning end, 1 roots, 9318 extra nodes, 0 pruned nodes, max_depth=15\n",
            "[20:15:26] INFO: /workspace/src/tree/updater_prune.cc:74: tree pruning end, 1 roots, 4298 extra nodes, 0 pruned nodes, max_depth=15\n",
            "[20:15:51] INFO: /workspace/src/tree/updater_prune.cc:74: tree pruning end, 1 roots, 5182 extra nodes, 0 pruned nodes, max_depth=15\n",
            "[20:16:12] INFO: /workspace/src/tree/updater_prune.cc:74: tree pruning end, 1 roots, 7548 extra nodes, 0 pruned nodes, max_depth=15\n",
            "[20:16:30] INFO: /workspace/src/tree/updater_prune.cc:74: tree pruning end, 1 roots, 4296 extra nodes, 0 pruned nodes, max_depth=15\n",
            "[20:16:54] INFO: /workspace/src/tree/updater_prune.cc:74: tree pruning end, 1 roots, 11340 extra nodes, 0 pruned nodes, max_depth=15\n",
            "[20:17:10] INFO: /workspace/src/tree/updater_prune.cc:74: tree pruning end, 1 roots, 1632 extra nodes, 0 pruned nodes, max_depth=15\n",
            "[20:17:29] INFO: /workspace/src/tree/updater_prune.cc:74: tree pruning end, 1 roots, 6580 extra nodes, 0 pruned nodes, max_depth=15\n",
            "[20:17:50] INFO: /workspace/src/tree/updater_prune.cc:74: tree pruning end, 1 roots, 4556 extra nodes, 0 pruned nodes, max_depth=15\n",
            "[20:18:11] INFO: /workspace/src/tree/updater_prune.cc:74: tree pruning end, 1 roots, 14718 extra nodes, 0 pruned nodes, max_depth=15\n",
            "[20:18:30] INFO: /workspace/src/tree/updater_prune.cc:74: tree pruning end, 1 roots, 3316 extra nodes, 0 pruned nodes, max_depth=15\n",
            "[20:18:52] INFO: /workspace/src/tree/updater_prune.cc:74: tree pruning end, 1 roots, 5486 extra nodes, 0 pruned nodes, max_depth=15\n",
            "[20:19:10] INFO: /workspace/src/tree/updater_prune.cc:74: tree pruning end, 1 roots, 4806 extra nodes, 0 pruned nodes, max_depth=15\n",
            "[20:19:24] INFO: /workspace/src/tree/updater_prune.cc:74: tree pruning end, 1 roots, 394 extra nodes, 0 pruned nodes, max_depth=15\n",
            "[20:19:47] INFO: /workspace/src/tree/updater_prune.cc:74: tree pruning end, 1 roots, 10148 extra nodes, 0 pruned nodes, max_depth=15\n",
            "[20:20:05] INFO: /workspace/src/tree/updater_prune.cc:74: tree pruning end, 1 roots, 6434 extra nodes, 0 pruned nodes, max_depth=15\n",
            "[20:20:17] INFO: /workspace/src/tree/updater_prune.cc:74: tree pruning end, 1 roots, 284 extra nodes, 0 pruned nodes, max_depth=15\n",
            "[20:20:38] INFO: /workspace/src/tree/updater_prune.cc:74: tree pruning end, 1 roots, 4830 extra nodes, 0 pruned nodes, max_depth=15\n",
            "[20:20:57] INFO: /workspace/src/tree/updater_prune.cc:74: tree pruning end, 1 roots, 5516 extra nodes, 0 pruned nodes, max_depth=15\n",
            "[20:21:16] INFO: /workspace/src/tree/updater_prune.cc:74: tree pruning end, 1 roots, 5042 extra nodes, 0 pruned nodes, max_depth=15\n",
            "[20:21:36] INFO: /workspace/src/tree/updater_prune.cc:74: tree pruning end, 1 roots, 3124 extra nodes, 0 pruned nodes, max_depth=15\n",
            "[20:21:56] INFO: /workspace/src/tree/updater_prune.cc:74: tree pruning end, 1 roots, 7436 extra nodes, 0 pruned nodes, max_depth=15\n",
            "[20:22:15] INFO: /workspace/src/tree/updater_prune.cc:74: tree pruning end, 1 roots, 6180 extra nodes, 0 pruned nodes, max_depth=15\n",
            "[20:22:38] INFO: /workspace/src/tree/updater_prune.cc:74: tree pruning end, 1 roots, 6760 extra nodes, 0 pruned nodes, max_depth=15\n",
            "[20:22:56] INFO: /workspace/src/tree/updater_prune.cc:74: tree pruning end, 1 roots, 3768 extra nodes, 0 pruned nodes, max_depth=15\n",
            "[20:23:15] INFO: /workspace/src/tree/updater_prune.cc:74: tree pruning end, 1 roots, 4202 extra nodes, 0 pruned nodes, max_depth=15\n",
            "[20:23:34] INFO: /workspace/src/tree/updater_prune.cc:74: tree pruning end, 1 roots, 2614 extra nodes, 0 pruned nodes, max_depth=15\n",
            "[20:23:52] INFO: /workspace/src/tree/updater_prune.cc:74: tree pruning end, 1 roots, 5896 extra nodes, 0 pruned nodes, max_depth=15\n",
            "[20:24:11] INFO: /workspace/src/tree/updater_prune.cc:74: tree pruning end, 1 roots, 5550 extra nodes, 0 pruned nodes, max_depth=15\n",
            "[20:24:32] INFO: /workspace/src/tree/updater_prune.cc:74: tree pruning end, 1 roots, 6002 extra nodes, 0 pruned nodes, max_depth=15\n",
            "[20:24:55] INFO: /workspace/src/tree/updater_prune.cc:74: tree pruning end, 1 roots, 12068 extra nodes, 0 pruned nodes, max_depth=15\n",
            "[20:25:14] INFO: /workspace/src/tree/updater_prune.cc:74: tree pruning end, 1 roots, 6318 extra nodes, 0 pruned nodes, max_depth=15\n",
            "[20:25:38] INFO: /workspace/src/tree/updater_prune.cc:74: tree pruning end, 1 roots, 9198 extra nodes, 0 pruned nodes, max_depth=15\n",
            "[20:25:57] INFO: /workspace/src/tree/updater_prune.cc:74: tree pruning end, 1 roots, 5832 extra nodes, 0 pruned nodes, max_depth=15\n",
            "[20:26:10] INFO: /workspace/src/tree/updater_prune.cc:74: tree pruning end, 1 roots, 30 extra nodes, 0 pruned nodes, max_depth=15\n",
            "[20:26:30] INFO: /workspace/src/tree/updater_prune.cc:74: tree pruning end, 1 roots, 2848 extra nodes, 0 pruned nodes, max_depth=15\n",
            "[20:26:49] INFO: /workspace/src/tree/updater_prune.cc:74: tree pruning end, 1 roots, 3552 extra nodes, 0 pruned nodes, max_depth=15\n",
            "[20:27:02] INFO: /workspace/src/tree/updater_prune.cc:74: tree pruning end, 1 roots, 30 extra nodes, 0 pruned nodes, max_depth=15\n",
            "[20:27:26] INFO: /workspace/src/tree/updater_prune.cc:74: tree pruning end, 1 roots, 13518 extra nodes, 0 pruned nodes, max_depth=15\n",
            "[20:27:45] INFO: /workspace/src/tree/updater_prune.cc:74: tree pruning end, 1 roots, 4846 extra nodes, 0 pruned nodes, max_depth=15\n",
            "[20:27:57] INFO: /workspace/src/tree/updater_prune.cc:74: tree pruning end, 1 roots, 30 extra nodes, 0 pruned nodes, max_depth=15\n",
            "[20:28:21] INFO: /workspace/src/tree/updater_prune.cc:74: tree pruning end, 1 roots, 14370 extra nodes, 0 pruned nodes, max_depth=15\n",
            "[20:28:36] INFO: /workspace/src/tree/updater_prune.cc:74: tree pruning end, 1 roots, 1284 extra nodes, 0 pruned nodes, max_depth=15\n",
            "[20:28:50] INFO: /workspace/src/tree/updater_prune.cc:74: tree pruning end, 1 roots, 30 extra nodes, 0 pruned nodes, max_depth=15\n",
            "[20:29:11] INFO: /workspace/src/tree/updater_prune.cc:74: tree pruning end, 1 roots, 2966 extra nodes, 0 pruned nodes, max_depth=15\n",
            "[20:29:25] INFO: /workspace/src/tree/updater_prune.cc:74: tree pruning end, 1 roots, 990 extra nodes, 0 pruned nodes, max_depth=15\n",
            "[20:29:38] INFO: /workspace/src/tree/updater_prune.cc:74: tree pruning end, 1 roots, 30 extra nodes, 0 pruned nodes, max_depth=15\n",
            "[20:30:01] INFO: /workspace/src/tree/updater_prune.cc:74: tree pruning end, 1 roots, 9700 extra nodes, 0 pruned nodes, max_depth=15\n",
            "[20:30:22] INFO: /workspace/src/tree/updater_prune.cc:74: tree pruning end, 1 roots, 6348 extra nodes, 0 pruned nodes, max_depth=15\n",
            "[20:30:35] INFO: /workspace/src/tree/updater_prune.cc:74: tree pruning end, 1 roots, 30 extra nodes, 0 pruned nodes, max_depth=15\n",
            "[20:30:59] INFO: /workspace/src/tree/updater_prune.cc:74: tree pruning end, 1 roots, 9996 extra nodes, 0 pruned nodes, max_depth=15\n",
            "[20:31:17] INFO: /workspace/src/tree/updater_prune.cc:74: tree pruning end, 1 roots, 4442 extra nodes, 0 pruned nodes, max_depth=15\n",
            "[20:31:29] INFO: /workspace/src/tree/updater_prune.cc:74: tree pruning end, 1 roots, 30 extra nodes, 0 pruned nodes, max_depth=15\n",
            "[20:31:53] INFO: /workspace/src/tree/updater_prune.cc:74: tree pruning end, 1 roots, 13880 extra nodes, 0 pruned nodes, max_depth=15\n",
            "[20:32:14] INFO: /workspace/src/tree/updater_prune.cc:74: tree pruning end, 1 roots, 11756 extra nodes, 0 pruned nodes, max_depth=15\n",
            "[20:32:27] INFO: /workspace/src/tree/updater_prune.cc:74: tree pruning end, 1 roots, 30 extra nodes, 0 pruned nodes, max_depth=15\n",
            "[20:32:51] INFO: /workspace/src/tree/updater_prune.cc:74: tree pruning end, 1 roots, 11334 extra nodes, 0 pruned nodes, max_depth=15\n",
            "[20:33:04] INFO: /workspace/src/tree/updater_prune.cc:74: tree pruning end, 1 roots, 30 extra nodes, 0 pruned nodes, max_depth=15\n",
            "[20:33:16] INFO: /workspace/src/tree/updater_prune.cc:74: tree pruning end, 1 roots, 30 extra nodes, 0 pruned nodes, max_depth=15\n",
            "[20:33:39] INFO: /workspace/src/tree/updater_prune.cc:74: tree pruning end, 1 roots, 8054 extra nodes, 0 pruned nodes, max_depth=15\n",
            "[20:33:56] INFO: /workspace/src/tree/updater_prune.cc:74: tree pruning end, 1 roots, 1096 extra nodes, 0 pruned nodes, max_depth=15\n",
            "[20:34:08] INFO: /workspace/src/tree/updater_prune.cc:74: tree pruning end, 1 roots, 30 extra nodes, 0 pruned nodes, max_depth=15\n",
            "[20:34:30] INFO: /workspace/src/tree/updater_prune.cc:74: tree pruning end, 1 roots, 6046 extra nodes, 0 pruned nodes, max_depth=15\n",
            "[20:34:49] INFO: /workspace/src/tree/updater_prune.cc:74: tree pruning end, 1 roots, 3268 extra nodes, 0 pruned nodes, max_depth=15\n",
            "[20:35:08] INFO: /workspace/src/tree/updater_prune.cc:74: tree pruning end, 1 roots, 5906 extra nodes, 0 pruned nodes, max_depth=15\n",
            "[20:35:32] INFO: /workspace/src/tree/updater_prune.cc:74: tree pruning end, 1 roots, 12074 extra nodes, 0 pruned nodes, max_depth=15\n",
            "[20:35:51] INFO: /workspace/src/tree/updater_prune.cc:74: tree pruning end, 1 roots, 3110 extra nodes, 0 pruned nodes, max_depth=15\n",
            "[20:36:03] INFO: /workspace/src/tree/updater_prune.cc:74: tree pruning end, 1 roots, 30 extra nodes, 0 pruned nodes, max_depth=15\n",
            "[20:36:27] INFO: /workspace/src/tree/updater_prune.cc:74: tree pruning end, 1 roots, 12836 extra nodes, 0 pruned nodes, max_depth=15\n",
            "[20:36:40] INFO: /workspace/src/tree/updater_prune.cc:74: tree pruning end, 1 roots, 30 extra nodes, 0 pruned nodes, max_depth=15\n",
            "[20:36:58] INFO: /workspace/src/tree/updater_prune.cc:74: tree pruning end, 1 roots, 3158 extra nodes, 0 pruned nodes, max_depth=15\n",
            "[20:37:21] INFO: /workspace/src/tree/updater_prune.cc:74: tree pruning end, 1 roots, 9906 extra nodes, 0 pruned nodes, max_depth=15\n",
            "[20:37:41] INFO: /workspace/src/tree/updater_prune.cc:74: tree pruning end, 1 roots, 10528 extra nodes, 0 pruned nodes, max_depth=15\n",
            "[20:37:55] INFO: /workspace/src/tree/updater_prune.cc:74: tree pruning end, 1 roots, 30 extra nodes, 0 pruned nodes, max_depth=15\n",
            "[20:38:18] INFO: /workspace/src/tree/updater_prune.cc:74: tree pruning end, 1 roots, 11832 extra nodes, 0 pruned nodes, max_depth=15\n",
            "[20:38:32] INFO: /workspace/src/tree/updater_prune.cc:74: tree pruning end, 1 roots, 30 extra nodes, 0 pruned nodes, max_depth=15\n",
            "[20:38:44] INFO: /workspace/src/tree/updater_prune.cc:74: tree pruning end, 1 roots, 30 extra nodes, 0 pruned nodes, max_depth=15\n",
            "[20:38:59] INFO: /workspace/src/tree/updater_prune.cc:74: tree pruning end, 1 roots, 150 extra nodes, 0 pruned nodes, max_depth=15\n",
            "[20:39:11] INFO: /workspace/src/tree/updater_prune.cc:74: tree pruning end, 1 roots, 30 extra nodes, 0 pruned nodes, max_depth=15\n",
            "[20:39:24] INFO: /workspace/src/tree/updater_prune.cc:74: tree pruning end, 1 roots, 30 extra nodes, 0 pruned nodes, max_depth=15\n",
            "[20:39:44] INFO: /workspace/src/tree/updater_prune.cc:74: tree pruning end, 1 roots, 3262 extra nodes, 0 pruned nodes, max_depth=15\n",
            "[20:39:57] INFO: /workspace/src/tree/updater_prune.cc:74: tree pruning end, 1 roots, 30 extra nodes, 0 pruned nodes, max_depth=15\n",
            "[20:40:09] INFO: /workspace/src/tree/updater_prune.cc:74: tree pruning end, 1 roots, 30 extra nodes, 0 pruned nodes, max_depth=15\n",
            "[20:40:33] INFO: /workspace/src/tree/updater_prune.cc:74: tree pruning end, 1 roots, 11776 extra nodes, 0 pruned nodes, max_depth=15\n",
            "[20:40:45] INFO: /workspace/src/tree/updater_prune.cc:74: tree pruning end, 1 roots, 30 extra nodes, 0 pruned nodes, max_depth=15\n",
            "[20:41:04] INFO: /workspace/src/tree/updater_prune.cc:74: tree pruning end, 1 roots, 3860 extra nodes, 0 pruned nodes, max_depth=15\n",
            "[20:41:27] INFO: /workspace/src/tree/updater_prune.cc:74: tree pruning end, 1 roots, 10178 extra nodes, 0 pruned nodes, max_depth=15\n",
            "[20:41:41] INFO: /workspace/src/tree/updater_prune.cc:74: tree pruning end, 1 roots, 30 extra nodes, 0 pruned nodes, max_depth=15\n",
            "[20:41:54] INFO: /workspace/src/tree/updater_prune.cc:74: tree pruning end, 1 roots, 30 extra nodes, 0 pruned nodes, max_depth=15\n",
            "[20:42:16] INFO: /workspace/src/tree/updater_prune.cc:74: tree pruning end, 1 roots, 6836 extra nodes, 0 pruned nodes, max_depth=15\n",
            "[20:42:30] INFO: /workspace/src/tree/updater_prune.cc:74: tree pruning end, 1 roots, 30 extra nodes, 0 pruned nodes, max_depth=15\n",
            "[20:42:50] INFO: /workspace/src/tree/updater_prune.cc:74: tree pruning end, 1 roots, 4302 extra nodes, 0 pruned nodes, max_depth=15\n",
            "[20:43:12] INFO: /workspace/src/tree/updater_prune.cc:74: tree pruning end, 1 roots, 7134 extra nodes, 0 pruned nodes, max_depth=15\n",
            "[20:43:24] INFO: /workspace/src/tree/updater_prune.cc:74: tree pruning end, 1 roots, 30 extra nodes, 0 pruned nodes, max_depth=15\n",
            "[20:43:45] INFO: /workspace/src/tree/updater_prune.cc:74: tree pruning end, 1 roots, 6966 extra nodes, 0 pruned nodes, max_depth=15\n",
            "[20:44:04] INFO: /workspace/src/tree/updater_prune.cc:74: tree pruning end, 1 roots, 2394 extra nodes, 0 pruned nodes, max_depth=15\n",
            "[20:44:25] INFO: /workspace/src/tree/updater_prune.cc:74: tree pruning end, 1 roots, 10692 extra nodes, 0 pruned nodes, max_depth=15\n",
            "[20:44:38] INFO: /workspace/src/tree/updater_prune.cc:74: tree pruning end, 1 roots, 30 extra nodes, 0 pruned nodes, max_depth=15\n",
            "[20:45:02] INFO: /workspace/src/tree/updater_prune.cc:74: tree pruning end, 1 roots, 11486 extra nodes, 0 pruned nodes, max_depth=15\n",
            "[20:45:15] INFO: /workspace/src/tree/updater_prune.cc:74: tree pruning end, 1 roots, 30 extra nodes, 0 pruned nodes, max_depth=15\n",
            "[20:45:28] INFO: /workspace/src/tree/updater_prune.cc:74: tree pruning end, 1 roots, 30 extra nodes, 0 pruned nodes, max_depth=15\n",
            "[20:45:52] INFO: /workspace/src/tree/updater_prune.cc:74: tree pruning end, 1 roots, 12820 extra nodes, 0 pruned nodes, max_depth=15\n",
            "[20:46:05] INFO: /workspace/src/tree/updater_prune.cc:74: tree pruning end, 1 roots, 30 extra nodes, 0 pruned nodes, max_depth=15\n",
            "[20:46:24] INFO: /workspace/src/tree/updater_prune.cc:74: tree pruning end, 1 roots, 4484 extra nodes, 0 pruned nodes, max_depth=15\n",
            "[20:46:46] INFO: /workspace/src/tree/updater_prune.cc:74: tree pruning end, 1 roots, 4954 extra nodes, 0 pruned nodes, max_depth=15\n",
            "[20:46:58] INFO: /workspace/src/tree/updater_prune.cc:74: tree pruning end, 1 roots, 30 extra nodes, 0 pruned nodes, max_depth=15\n",
            "[20:47:16] INFO: /workspace/src/tree/updater_prune.cc:74: tree pruning end, 1 roots, 3308 extra nodes, 0 pruned nodes, max_depth=15\n",
            "[20:47:36] INFO: /workspace/src/tree/updater_prune.cc:74: tree pruning end, 1 roots, 3280 extra nodes, 0 pruned nodes, max_depth=15\n",
            "[20:47:49] INFO: /workspace/src/tree/updater_prune.cc:74: tree pruning end, 1 roots, 30 extra nodes, 0 pruned nodes, max_depth=15\n",
            "[20:48:02] INFO: /workspace/src/tree/updater_prune.cc:74: tree pruning end, 1 roots, 30 extra nodes, 0 pruned nodes, max_depth=15\n",
            "[20:48:21] INFO: /workspace/src/tree/updater_prune.cc:74: tree pruning end, 1 roots, 3462 extra nodes, 0 pruned nodes, max_depth=15\n",
            "[20:48:42] INFO: /workspace/src/tree/updater_prune.cc:74: tree pruning end, 1 roots, 10328 extra nodes, 0 pruned nodes, max_depth=15\n",
            "[20:48:55] INFO: /workspace/src/tree/updater_prune.cc:74: tree pruning end, 1 roots, 30 extra nodes, 0 pruned nodes, max_depth=15\n",
            "[20:49:11] INFO: /workspace/src/tree/updater_prune.cc:74: tree pruning end, 1 roots, 1446 extra nodes, 0 pruned nodes, max_depth=15\n",
            "[20:49:24] INFO: /workspace/src/tree/updater_prune.cc:74: tree pruning end, 1 roots, 30 extra nodes, 0 pruned nodes, max_depth=15\n",
            "[20:49:37] INFO: /workspace/src/tree/updater_prune.cc:74: tree pruning end, 1 roots, 30 extra nodes, 0 pruned nodes, max_depth=15\n",
            "[20:49:57] INFO: /workspace/src/tree/updater_prune.cc:74: tree pruning end, 1 roots, 3290 extra nodes, 0 pruned nodes, max_depth=15\n",
            "[20:50:10] INFO: /workspace/src/tree/updater_prune.cc:74: tree pruning end, 1 roots, 30 extra nodes, 0 pruned nodes, max_depth=15\n",
            "[20:50:23] INFO: /workspace/src/tree/updater_prune.cc:74: tree pruning end, 1 roots, 30 extra nodes, 0 pruned nodes, max_depth=15\n",
            "[20:50:46] INFO: /workspace/src/tree/updater_prune.cc:74: tree pruning end, 1 roots, 4762 extra nodes, 0 pruned nodes, max_depth=15\n",
            "[20:50:58] INFO: /workspace/src/tree/updater_prune.cc:74: tree pruning end, 1 roots, 30 extra nodes, 0 pruned nodes, max_depth=15\n",
            "[20:51:11] INFO: /workspace/src/tree/updater_prune.cc:74: tree pruning end, 1 roots, 30 extra nodes, 0 pruned nodes, max_depth=15\n",
            "[20:51:26] INFO: /workspace/src/tree/updater_prune.cc:74: tree pruning end, 1 roots, 108 extra nodes, 0 pruned nodes, max_depth=15\n",
            "[20:51:39] INFO: /workspace/src/tree/updater_prune.cc:74: tree pruning end, 1 roots, 30 extra nodes, 0 pruned nodes, max_depth=15\n",
            "[20:51:59] INFO: /workspace/src/tree/updater_prune.cc:74: tree pruning end, 1 roots, 4358 extra nodes, 0 pruned nodes, max_depth=15\n",
            "[20:52:24] INFO: /workspace/src/tree/updater_prune.cc:74: tree pruning end, 1 roots, 12932 extra nodes, 0 pruned nodes, max_depth=15\n",
            "[20:52:45] INFO: /workspace/src/tree/updater_prune.cc:74: tree pruning end, 1 roots, 11960 extra nodes, 0 pruned nodes, max_depth=15\n",
            "[20:53:05] INFO: /workspace/src/tree/updater_prune.cc:74: tree pruning end, 1 roots, 4024 extra nodes, 0 pruned nodes, max_depth=15\n",
            "[20:53:27] INFO: /workspace/src/tree/updater_prune.cc:74: tree pruning end, 1 roots, 5406 extra nodes, 0 pruned nodes, max_depth=15\n",
            "[20:53:50] INFO: /workspace/src/tree/updater_prune.cc:74: tree pruning end, 1 roots, 5886 extra nodes, 0 pruned nodes, max_depth=15\n",
            "[20:54:03] INFO: /workspace/src/tree/updater_prune.cc:74: tree pruning end, 1 roots, 30 extra nodes, 0 pruned nodes, max_depth=15\n",
            "[20:54:26] INFO: /workspace/src/tree/updater_prune.cc:74: tree pruning end, 1 roots, 5794 extra nodes, 0 pruned nodes, max_depth=15\n",
            "[20:54:40] INFO: /workspace/src/tree/updater_prune.cc:74: tree pruning end, 1 roots, 30 extra nodes, 0 pruned nodes, max_depth=15\n",
            "[20:54:53] INFO: /workspace/src/tree/updater_prune.cc:74: tree pruning end, 1 roots, 30 extra nodes, 0 pruned nodes, max_depth=15\n",
            "[20:55:09] INFO: /workspace/src/tree/updater_prune.cc:74: tree pruning end, 1 roots, 108 extra nodes, 0 pruned nodes, max_depth=15\n",
            "[20:55:23] INFO: /workspace/src/tree/updater_prune.cc:74: tree pruning end, 1 roots, 30 extra nodes, 0 pruned nodes, max_depth=15\n",
            "[20:55:43] INFO: /workspace/src/tree/updater_prune.cc:74: tree pruning end, 1 roots, 5116 extra nodes, 0 pruned nodes, max_depth=15\n",
            "[20:56:05] INFO: /workspace/src/tree/updater_prune.cc:74: tree pruning end, 1 roots, 6436 extra nodes, 0 pruned nodes, max_depth=15\n",
            "[20:56:25] INFO: /workspace/src/tree/updater_prune.cc:74: tree pruning end, 1 roots, 4448 extra nodes, 0 pruned nodes, max_depth=15\n",
            "[20:56:38] INFO: /workspace/src/tree/updater_prune.cc:74: tree pruning end, 1 roots, 30 extra nodes, 0 pruned nodes, max_depth=15\n",
            "[20:57:00] INFO: /workspace/src/tree/updater_prune.cc:74: tree pruning end, 1 roots, 5546 extra nodes, 0 pruned nodes, max_depth=15\n",
            "[20:57:13] INFO: /workspace/src/tree/updater_prune.cc:74: tree pruning end, 1 roots, 30 extra nodes, 0 pruned nodes, max_depth=15\n",
            "[20:57:33] INFO: /workspace/src/tree/updater_prune.cc:74: tree pruning end, 1 roots, 4920 extra nodes, 0 pruned nodes, max_depth=15\n",
            "[20:57:56] INFO: /workspace/src/tree/updater_prune.cc:74: tree pruning end, 1 roots, 10784 extra nodes, 0 pruned nodes, max_depth=15\n",
            "[20:58:09] INFO: /workspace/src/tree/updater_prune.cc:74: tree pruning end, 1 roots, 30 extra nodes, 0 pruned nodes, max_depth=15\n",
            "[20:58:22] INFO: /workspace/src/tree/updater_prune.cc:74: tree pruning end, 1 roots, 30 extra nodes, 0 pruned nodes, max_depth=15\n",
            "[20:58:43] INFO: /workspace/src/tree/updater_prune.cc:74: tree pruning end, 1 roots, 3258 extra nodes, 0 pruned nodes, max_depth=15\n",
            "[20:59:05] INFO: /workspace/src/tree/updater_prune.cc:74: tree pruning end, 1 roots, 7202 extra nodes, 0 pruned nodes, max_depth=15\n",
            "[20:59:19] INFO: /workspace/src/tree/updater_prune.cc:74: tree pruning end, 1 roots, 30 extra nodes, 0 pruned nodes, max_depth=15\n",
            "[20:59:34] INFO: /workspace/src/tree/updater_prune.cc:74: tree pruning end, 1 roots, 84 extra nodes, 0 pruned nodes, max_depth=15\n",
            "[20:59:48] INFO: /workspace/src/tree/updater_prune.cc:74: tree pruning end, 1 roots, 30 extra nodes, 0 pruned nodes, max_depth=15\n",
            "[21:00:06] INFO: /workspace/src/tree/updater_prune.cc:74: tree pruning end, 1 roots, 3670 extra nodes, 0 pruned nodes, max_depth=15\n",
            "[21:00:22] INFO: /workspace/src/tree/updater_prune.cc:74: tree pruning end, 1 roots, 84 extra nodes, 0 pruned nodes, max_depth=15\n",
            "[21:00:35] INFO: /workspace/src/tree/updater_prune.cc:74: tree pruning end, 1 roots, 30 extra nodes, 0 pruned nodes, max_depth=15\n",
            "[21:00:49] INFO: /workspace/src/tree/updater_prune.cc:74: tree pruning end, 1 roots, 30 extra nodes, 0 pruned nodes, max_depth=15\n",
            "[21:01:07] INFO: /workspace/src/tree/updater_prune.cc:74: tree pruning end, 1 roots, 1860 extra nodes, 0 pruned nodes, max_depth=15\n",
            "[21:01:21] INFO: /workspace/src/tree/updater_prune.cc:74: tree pruning end, 1 roots, 30 extra nodes, 0 pruned nodes, max_depth=15\n",
            "[21:01:34] INFO: /workspace/src/tree/updater_prune.cc:74: tree pruning end, 1 roots, 30 extra nodes, 0 pruned nodes, max_depth=15\n",
            "[21:01:51] INFO: /workspace/src/tree/updater_prune.cc:74: tree pruning end, 1 roots, 84 extra nodes, 0 pruned nodes, max_depth=15\n",
            "[21:02:12] INFO: /workspace/src/tree/updater_prune.cc:74: tree pruning end, 1 roots, 6690 extra nodes, 0 pruned nodes, max_depth=15\n",
            "[21:02:25] INFO: /workspace/src/tree/updater_prune.cc:74: tree pruning end, 1 roots, 30 extra nodes, 0 pruned nodes, max_depth=15\n",
            "[21:02:41] INFO: /workspace/src/tree/updater_prune.cc:74: tree pruning end, 1 roots, 84 extra nodes, 0 pruned nodes, max_depth=15\n",
            "[21:02:55] INFO: /workspace/src/tree/updater_prune.cc:74: tree pruning end, 1 roots, 30 extra nodes, 0 pruned nodes, max_depth=15\n",
            "[21:03:08] INFO: /workspace/src/tree/updater_prune.cc:74: tree pruning end, 1 roots, 30 extra nodes, 0 pruned nodes, max_depth=15\n",
            "[21:03:30] INFO: /workspace/src/tree/updater_prune.cc:74: tree pruning end, 1 roots, 4004 extra nodes, 0 pruned nodes, max_depth=15\n",
            "[21:03:44] INFO: /workspace/src/tree/updater_prune.cc:74: tree pruning end, 1 roots, 30 extra nodes, 0 pruned nodes, max_depth=15\n",
            "[21:03:57] INFO: /workspace/src/tree/updater_prune.cc:74: tree pruning end, 1 roots, 30 extra nodes, 0 pruned nodes, max_depth=15\n",
            "[21:04:21] INFO: /workspace/src/tree/updater_prune.cc:74: tree pruning end, 1 roots, 9626 extra nodes, 0 pruned nodes, max_depth=15\n",
            "[21:04:43] INFO: /workspace/src/tree/updater_prune.cc:74: tree pruning end, 1 roots, 9806 extra nodes, 0 pruned nodes, max_depth=15\n",
            "[21:04:56] INFO: /workspace/src/tree/updater_prune.cc:74: tree pruning end, 1 roots, 30 extra nodes, 0 pruned nodes, max_depth=15\n",
            "[21:05:12] INFO: /workspace/src/tree/updater_prune.cc:74: tree pruning end, 1 roots, 84 extra nodes, 0 pruned nodes, max_depth=15\n",
            "[21:05:32] INFO: /workspace/src/tree/updater_prune.cc:74: tree pruning end, 1 roots, 4848 extra nodes, 0 pruned nodes, max_depth=15\n",
            "[21:05:46] INFO: /workspace/src/tree/updater_prune.cc:74: tree pruning end, 1 roots, 30 extra nodes, 0 pruned nodes, max_depth=15\n",
            "[21:06:01] INFO: /workspace/src/tree/updater_prune.cc:74: tree pruning end, 1 roots, 84 extra nodes, 0 pruned nodes, max_depth=15\n",
            "[21:06:22] INFO: /workspace/src/tree/updater_prune.cc:74: tree pruning end, 1 roots, 5950 extra nodes, 0 pruned nodes, max_depth=15\n",
            "[21:06:36] INFO: /workspace/src/tree/updater_prune.cc:74: tree pruning end, 1 roots, 30 extra nodes, 0 pruned nodes, max_depth=15\n",
            "[21:06:52] INFO: /workspace/src/tree/updater_prune.cc:74: tree pruning end, 1 roots, 84 extra nodes, 0 pruned nodes, max_depth=15\n",
            "[21:07:05] INFO: /workspace/src/tree/updater_prune.cc:74: tree pruning end, 1 roots, 30 extra nodes, 0 pruned nodes, max_depth=15\n",
            "[21:07:18] INFO: /workspace/src/tree/updater_prune.cc:74: tree pruning end, 1 roots, 30 extra nodes, 0 pruned nodes, max_depth=15\n",
            "[21:07:34] INFO: /workspace/src/tree/updater_prune.cc:74: tree pruning end, 1 roots, 84 extra nodes, 0 pruned nodes, max_depth=15\n",
            "[21:07:47] INFO: /workspace/src/tree/updater_prune.cc:74: tree pruning end, 1 roots, 30 extra nodes, 0 pruned nodes, max_depth=15\n",
            "[21:08:06] INFO: /workspace/src/tree/updater_prune.cc:74: tree pruning end, 1 roots, 3142 extra nodes, 0 pruned nodes, max_depth=15\n",
            "[21:08:21] INFO: /workspace/src/tree/updater_prune.cc:74: tree pruning end, 1 roots, 84 extra nodes, 0 pruned nodes, max_depth=15\n",
            "[21:08:34] INFO: /workspace/src/tree/updater_prune.cc:74: tree pruning end, 1 roots, 30 extra nodes, 0 pruned nodes, max_depth=15\n",
            "[21:08:47] INFO: /workspace/src/tree/updater_prune.cc:74: tree pruning end, 1 roots, 30 extra nodes, 0 pruned nodes, max_depth=15\n",
            "[21:09:02] INFO: /workspace/src/tree/updater_prune.cc:74: tree pruning end, 1 roots, 84 extra nodes, 0 pruned nodes, max_depth=15\n",
            "[21:09:15] INFO: /workspace/src/tree/updater_prune.cc:74: tree pruning end, 1 roots, 30 extra nodes, 0 pruned nodes, max_depth=15\n",
            "[21:09:27] INFO: /workspace/src/tree/updater_prune.cc:74: tree pruning end, 1 roots, 30 extra nodes, 0 pruned nodes, max_depth=15\n",
            "[21:09:46] INFO: /workspace/src/tree/updater_prune.cc:74: tree pruning end, 1 roots, 2122 extra nodes, 0 pruned nodes, max_depth=15\n",
            "[21:10:06] INFO: /workspace/src/tree/updater_prune.cc:74: tree pruning end, 1 roots, 6554 extra nodes, 0 pruned nodes, max_depth=15\n",
            "[21:10:19] INFO: /workspace/src/tree/updater_prune.cc:74: tree pruning end, 1 roots, 30 extra nodes, 0 pruned nodes, max_depth=15\n",
            "[21:10:44] INFO: /workspace/src/tree/updater_prune.cc:74: tree pruning end, 1 roots, 12926 extra nodes, 0 pruned nodes, max_depth=15\n",
            "[21:10:57] INFO: /workspace/src/tree/updater_prune.cc:74: tree pruning end, 1 roots, 30 extra nodes, 0 pruned nodes, max_depth=15\n",
            "[21:11:10] INFO: /workspace/src/tree/updater_prune.cc:74: tree pruning end, 1 roots, 30 extra nodes, 0 pruned nodes, max_depth=15\n",
            "[21:11:25] INFO: /workspace/src/tree/updater_prune.cc:74: tree pruning end, 1 roots, 84 extra nodes, 0 pruned nodes, max_depth=15\n",
            "[21:11:39] INFO: /workspace/src/tree/updater_prune.cc:74: tree pruning end, 1 roots, 30 extra nodes, 0 pruned nodes, max_depth=15\n",
            "[21:11:51] INFO: /workspace/src/tree/updater_prune.cc:74: tree pruning end, 1 roots, 30 extra nodes, 0 pruned nodes, max_depth=15\n",
            "[21:12:14] INFO: /workspace/src/tree/updater_prune.cc:74: tree pruning end, 1 roots, 5864 extra nodes, 0 pruned nodes, max_depth=15\n",
            "[21:12:36] INFO: /workspace/src/tree/updater_prune.cc:74: tree pruning end, 1 roots, 9364 extra nodes, 0 pruned nodes, max_depth=15\n",
            "[21:12:57] INFO: /workspace/src/tree/updater_prune.cc:74: tree pruning end, 1 roots, 5114 extra nodes, 0 pruned nodes, max_depth=15\n",
            "[21:13:20] INFO: /workspace/src/tree/updater_prune.cc:74: tree pruning end, 1 roots, 5130 extra nodes, 0 pruned nodes, max_depth=15\n",
            "[21:13:33] INFO: /workspace/src/tree/updater_prune.cc:74: tree pruning end, 1 roots, 30 extra nodes, 0 pruned nodes, max_depth=15\n",
            "[21:13:46] INFO: /workspace/src/tree/updater_prune.cc:74: tree pruning end, 1 roots, 30 extra nodes, 0 pruned nodes, max_depth=15\n",
            "[21:14:02] INFO: /workspace/src/tree/updater_prune.cc:74: tree pruning end, 1 roots, 84 extra nodes, 0 pruned nodes, max_depth=15\n",
            "[21:14:23] INFO: /workspace/src/tree/updater_prune.cc:74: tree pruning end, 1 roots, 7560 extra nodes, 0 pruned nodes, max_depth=15\n",
            "[21:14:41] INFO: /workspace/src/tree/updater_prune.cc:74: tree pruning end, 1 roots, 1936 extra nodes, 0 pruned nodes, max_depth=15\n",
            "[21:14:57] INFO: /workspace/src/tree/updater_prune.cc:74: tree pruning end, 1 roots, 84 extra nodes, 0 pruned nodes, max_depth=15\n",
            "[21:15:19] INFO: /workspace/src/tree/updater_prune.cc:74: tree pruning end, 1 roots, 9524 extra nodes, 0 pruned nodes, max_depth=15\n",
            "[21:15:32] INFO: /workspace/src/tree/updater_prune.cc:74: tree pruning end, 1 roots, 30 extra nodes, 0 pruned nodes, max_depth=15\n",
            "[21:15:49] INFO: /workspace/src/tree/updater_prune.cc:74: tree pruning end, 1 roots, 84 extra nodes, 0 pruned nodes, max_depth=15\n",
            "[21:16:01] INFO: /workspace/src/tree/updater_prune.cc:74: tree pruning end, 1 roots, 30 extra nodes, 0 pruned nodes, max_depth=15\n",
            "[21:16:21] INFO: /workspace/src/tree/updater_prune.cc:74: tree pruning end, 1 roots, 3560 extra nodes, 0 pruned nodes, max_depth=15\n",
            "[21:16:37] INFO: /workspace/src/tree/updater_prune.cc:74: tree pruning end, 1 roots, 84 extra nodes, 0 pruned nodes, max_depth=15\n",
            "[21:16:50] INFO: /workspace/src/tree/updater_prune.cc:74: tree pruning end, 1 roots, 30 extra nodes, 0 pruned nodes, max_depth=15\n",
            "[21:17:07] INFO: /workspace/src/tree/updater_prune.cc:74: tree pruning end, 1 roots, 1290 extra nodes, 0 pruned nodes, max_depth=15\n",
            "[21:17:28] INFO: /workspace/src/tree/updater_prune.cc:74: tree pruning end, 1 roots, 3422 extra nodes, 0 pruned nodes, max_depth=15\n",
            "[21:17:41] INFO: /workspace/src/tree/updater_prune.cc:74: tree pruning end, 1 roots, 30 extra nodes, 0 pruned nodes, max_depth=15\n",
            "[21:17:55] INFO: /workspace/src/tree/updater_prune.cc:74: tree pruning end, 1 roots, 30 extra nodes, 0 pruned nodes, max_depth=15\n",
            "[21:18:10] INFO: /workspace/src/tree/updater_prune.cc:74: tree pruning end, 1 roots, 84 extra nodes, 0 pruned nodes, max_depth=15\n",
            "[21:18:23] INFO: /workspace/src/tree/updater_prune.cc:74: tree pruning end, 1 roots, 30 extra nodes, 0 pruned nodes, max_depth=15\n",
            "[21:18:36] INFO: /workspace/src/tree/updater_prune.cc:74: tree pruning end, 1 roots, 30 extra nodes, 0 pruned nodes, max_depth=15\n",
            "[21:18:56] INFO: /workspace/src/tree/updater_prune.cc:74: tree pruning end, 1 roots, 3418 extra nodes, 0 pruned nodes, max_depth=15\n",
            "[21:19:09] INFO: /workspace/src/tree/updater_prune.cc:74: tree pruning end, 1 roots, 30 extra nodes, 0 pruned nodes, max_depth=15\n",
            "[21:19:26] INFO: /workspace/src/tree/updater_prune.cc:74: tree pruning end, 1 roots, 1218 extra nodes, 0 pruned nodes, max_depth=15\n",
            "[21:19:41] INFO: /workspace/src/tree/updater_prune.cc:74: tree pruning end, 1 roots, 84 extra nodes, 0 pruned nodes, max_depth=15\n",
            "[21:20:03] INFO: /workspace/src/tree/updater_prune.cc:74: tree pruning end, 1 roots, 7526 extra nodes, 0 pruned nodes, max_depth=15\n",
            "[21:20:16] INFO: /workspace/src/tree/updater_prune.cc:74: tree pruning end, 1 roots, 30 extra nodes, 0 pruned nodes, max_depth=15\n",
            "[21:20:31] INFO: /workspace/src/tree/updater_prune.cc:74: tree pruning end, 1 roots, 84 extra nodes, 0 pruned nodes, max_depth=15\n",
            "[21:20:45] INFO: /workspace/src/tree/updater_prune.cc:74: tree pruning end, 1 roots, 30 extra nodes, 0 pruned nodes, max_depth=15\n",
            "[21:20:58] INFO: /workspace/src/tree/updater_prune.cc:74: tree pruning end, 1 roots, 30 extra nodes, 0 pruned nodes, max_depth=15\n",
            "[21:21:13] INFO: /workspace/src/tree/updater_prune.cc:74: tree pruning end, 1 roots, 84 extra nodes, 0 pruned nodes, max_depth=15\n",
            "[21:21:27] INFO: /workspace/src/tree/updater_prune.cc:74: tree pruning end, 1 roots, 30 extra nodes, 0 pruned nodes, max_depth=15\n",
            "[21:21:41] INFO: /workspace/src/tree/updater_prune.cc:74: tree pruning end, 1 roots, 30 extra nodes, 0 pruned nodes, max_depth=15\n",
            "[21:21:56] INFO: /workspace/src/tree/updater_prune.cc:74: tree pruning end, 1 roots, 84 extra nodes, 0 pruned nodes, max_depth=15\n",
            "[21:22:19] INFO: /workspace/src/tree/updater_prune.cc:74: tree pruning end, 1 roots, 7688 extra nodes, 0 pruned nodes, max_depth=15\n",
            "[21:22:32] INFO: /workspace/src/tree/updater_prune.cc:74: tree pruning end, 1 roots, 30 extra nodes, 0 pruned nodes, max_depth=15\n",
            "Time in seconds :  5597.329982757568\n"
          ],
          "name": "stdout"
        }
      ]
    },
    {
      "cell_type": "code",
      "metadata": {
        "id": "F4XqnY4nVPB7",
        "colab_type": "code",
        "outputId": "73e5a542-2876-45ad-f215-49c0b414501e",
        "colab": {
          "base_uri": "https://localhost:8080/",
          "height": 310
        }
      },
      "source": [
        "predictions = clf.predict(X_valid.as_matrix())\n",
        "print(classification_report(y_valid,predictions))\n",
        "print(confusion_matrix(y_valid,predictions))"
      ],
      "execution_count": 0,
      "outputs": [
        {
          "output_type": "stream",
          "text": [
            "/usr/local/lib/python3.6/dist-packages/ipykernel_launcher.py:1: FutureWarning: Method .as_matrix will be removed in a future version. Use .values instead.\n",
            "  \"\"\"Entry point for launching an IPython kernel.\n"
          ],
          "name": "stderr"
        },
        {
          "output_type": "stream",
          "text": [
            "              precision    recall  f1-score   support\n",
            "\n",
            "        Good       0.28      0.42      0.34     17217\n",
            "        Okay       0.20      0.44      0.28      8730\n",
            "        Poor       0.91      0.79      0.85    132815\n",
            "\n",
            "    accuracy                           0.73    158762\n",
            "   macro avg       0.47      0.55      0.49    158762\n",
            "weighted avg       0.81      0.73      0.76    158762\n",
            "\n",
            "[[  7193   2952   7072]\n",
            " [  2042   3801   2887]\n",
            " [ 16148  11803 104864]]\n"
          ],
          "name": "stdout"
        }
      ]
    },
    {
      "cell_type": "markdown",
      "metadata": {
        "id": "poABU6UycuG6",
        "colab_type": "text"
      },
      "source": [
        "**Prediction on Test Set**"
      ]
    },
    {
      "cell_type": "code",
      "metadata": {
        "id": "1KhVkQiUcO1t",
        "colab_type": "code",
        "outputId": "668aabfc-86e8-46c9-9921-65ccf7ff0956",
        "colab": {
          "base_uri": "https://localhost:8080/",
          "height": 310
        }
      },
      "source": [
        "predictions = clf.predict(X_test.as_matrix())\n",
        "print(classification_report(y_test,predictions))\n",
        "print(confusion_matrix(y_test,predictions))"
      ],
      "execution_count": 0,
      "outputs": [
        {
          "output_type": "stream",
          "text": [
            "/usr/local/lib/python3.6/dist-packages/ipykernel_launcher.py:1: FutureWarning: Method .as_matrix will be removed in a future version. Use .values instead.\n",
            "  \"\"\"Entry point for launching an IPython kernel.\n"
          ],
          "name": "stderr"
        },
        {
          "output_type": "stream",
          "text": [
            "              precision    recall  f1-score   support\n",
            "\n",
            "        Good       0.28      0.42      0.34     19565\n",
            "        Okay       0.20      0.43      0.27      9920\n",
            "        Poor       0.91      0.79      0.85    150926\n",
            "\n",
            "    accuracy                           0.73    180411\n",
            "   macro avg       0.47      0.54      0.49    180411\n",
            "weighted avg       0.81      0.73      0.76    180411\n",
            "\n",
            "[[  8121   3570   7874]\n",
            " [  2339   4236   3345]\n",
            " [ 18203  13326 119397]]\n"
          ],
          "name": "stdout"
        }
      ]
    },
    {
      "cell_type": "markdown",
      "metadata": {
        "id": "AimtqsmELGyH",
        "colab_type": "text"
      },
      "source": [
        "-------------------------------------------------------------------------------"
      ]
    },
    {
      "cell_type": "markdown",
      "metadata": {
        "id": "4h_O-Ze5Lbst",
        "colab_type": "text"
      },
      "source": [
        "### Light GBM"
      ]
    },
    {
      "cell_type": "code",
      "metadata": {
        "id": "K7k0lxC7LGZB",
        "colab_type": "code",
        "colab": {}
      },
      "source": [
        "import lightgbm as lgb\n",
        "from lightgbm import LGBMClassifier\n",
        "from time import time "
      ],
      "execution_count": 0,
      "outputs": []
    },
    {
      "cell_type": "markdown",
      "metadata": {
        "id": "u7MRmulSc7yb",
        "colab_type": "text"
      },
      "source": [
        "LightGBM doesnt need resampling as weights are handled well"
      ]
    },
    {
      "cell_type": "code",
      "metadata": {
        "id": "aO_GK8npMK8t",
        "colab_type": "code",
        "colab": {}
      },
      "source": [
        "cate_cols = ['region_en',  'parent_category_name_en', 'user_type']"
      ],
      "execution_count": 0,
      "outputs": []
    },
    {
      "cell_type": "code",
      "metadata": {
        "id": "f_PPOTuvMVLv",
        "colab_type": "code",
        "outputId": "9c8b80d3-5e6b-4cfd-8f57-91fd6b517546",
        "colab": {
          "base_uri": "https://localhost:8080/",
          "height": 146
        }
      },
      "source": [
        "for c in cate_cols:\n",
        "    X[c] = LabelEncoder().fit_transform(X[c].values)"
      ],
      "execution_count": 0,
      "outputs": [
        {
          "output_type": "stream",
          "text": [
            "/usr/local/lib/python3.6/dist-packages/ipykernel_launcher.py:2: SettingWithCopyWarning: \n",
            "A value is trying to be set on a copy of a slice from a DataFrame.\n",
            "Try using .loc[row_indexer,col_indexer] = value instead\n",
            "\n",
            "See the caveats in the documentation: http://pandas.pydata.org/pandas-docs/stable/user_guide/indexing.html#returning-a-view-versus-a-copy\n",
            "  \n"
          ],
          "name": "stderr"
        }
      ]
    },
    {
      "cell_type": "code",
      "metadata": {
        "id": "lizGYG03MeRg",
        "colab_type": "code",
        "outputId": "ed389caa-3fd4-453e-ebf1-2c116e6b952a",
        "colab": {
          "base_uri": "https://localhost:8080/",
          "height": 74
        }
      },
      "source": [
        "y = LabelEncoder().fit_transform(y.values)"
      ],
      "execution_count": 0,
      "outputs": [
        {
          "output_type": "stream",
          "text": [
            "/usr/local/lib/python3.6/dist-packages/sklearn/preprocessing/_label.py:251: DataConversionWarning: A column-vector y was passed when a 1d array was expected. Please change the shape of y to (n_samples, ), for example using ravel().\n",
            "  y = column_or_1d(y, warn=True)\n"
          ],
          "name": "stderr"
        }
      ]
    },
    {
      "cell_type": "code",
      "metadata": {
        "id": "Xa9MfyPLNRAG",
        "colab_type": "code",
        "outputId": "911e0672-c5d2-4d3b-c4cd-0806694bf76d",
        "colab": {
          "base_uri": "https://localhost:8080/",
          "height": 146
        }
      },
      "source": [
        "X_train, X_test, y_train, y_test = train_test_split(X, y, test_size = 0.12, random_state = 0, stratify=y)\n",
        "X_train, X_valid, y_train, y_valid = train_test_split(X_train, y_train, test_size = 0.12, random_state = 0, stratify=y_train)\n",
        "sc = StandardScaler()\n",
        "X_train.loc[:,[\"price\",\"description_len\",\"title_len\",\"param_combined_len\",\"image_top_1\"]] = sc.fit_transform(X_train[[\"price\",\"description_len\",\"title_len\",\"param_combined_len\",\"image_top_1\"]])\n",
        "X_test.loc[:,[\"price\",\"description_len\",\"title_len\",\"param_combined_len\",\"image_top_1\"]] = sc.transform(X_test[[\"price\",\"description_len\",\"title_len\",\"param_combined_len\",\"image_top_1\"]])\n",
        "X_valid.loc[:,[\"price\",\"description_len\",\"title_len\",\"param_combined_len\",\"image_top_1\"]] = sc.transform(X_valid[[\"price\",\"description_len\",\"title_len\",\"param_combined_len\",\"image_top_1\"]])"
      ],
      "execution_count": 0,
      "outputs": [
        {
          "output_type": "stream",
          "text": [
            "/usr/local/lib/python3.6/dist-packages/pandas/core/indexing.py:494: SettingWithCopyWarning: \n",
            "A value is trying to be set on a copy of a slice from a DataFrame.\n",
            "Try using .loc[row_indexer,col_indexer] = value instead\n",
            "\n",
            "See the caveats in the documentation: http://pandas.pydata.org/pandas-docs/stable/user_guide/indexing.html#returning-a-view-versus-a-copy\n",
            "  self.obj[item] = s\n"
          ],
          "name": "stderr"
        }
      ]
    },
    {
      "cell_type": "markdown",
      "metadata": {
        "id": "47ATKxoXdEB5",
        "colab_type": "text"
      },
      "source": [
        "Default LGBMClassifier with 100 trees"
      ]
    },
    {
      "cell_type": "code",
      "metadata": {
        "id": "uQ8S38WmLGKs",
        "colab_type": "code",
        "colab": {}
      },
      "source": [
        "lgbm = LGBMClassifier(\n",
        "          objective = \"multiclass\",\n",
        "          num_class = 3,\n",
        "          bagging_fraction = 0.9,  # subsample\n",
        "          feature_fraction = 0.9,      # subsample_freq\n",
        "          bagging_seed = 42,\n",
        "          verbosity = 2,\n",
        "          verbose_eval=10,\n",
        "          n_estimators =100,\n",
        "          class_weight = \"balanced\")"
      ],
      "execution_count": 0,
      "outputs": []
    },
    {
      "cell_type": "code",
      "metadata": {
        "id": "F4VN-S0McUw6",
        "colab_type": "code",
        "outputId": "084e635c-ef55-4e73-e458-13624b3c3d58",
        "colab": {
          "base_uri": "https://localhost:8080/",
          "height": 635
        }
      },
      "source": [
        "t = time()\n",
        "print('Fitting Up')\n",
        "lgbmodel = lgbm.fit(X_train,y_train,categorical_feature=cate_cols,eval_set = (X_valid, y_valid),verbose = 4,early_stopping_rounds=30)\n",
        "print('Done')\n",
        "print(f'Done, time = {time() - t}')"
      ],
      "execution_count": 0,
      "outputs": [
        {
          "output_type": "stream",
          "text": [
            "Fitting Up\n"
          ],
          "name": "stdout"
        },
        {
          "output_type": "stream",
          "text": [
            "/usr/local/lib/python3.6/dist-packages/lightgbm/basic.py:1209: UserWarning: categorical_feature in Dataset is overridden.\n",
            "New categorical_feature is ['parent_category_name_en', 'region_en', 'user_type']\n",
            "  'New categorical_feature is {}'.format(sorted(list(categorical_feature))))\n"
          ],
          "name": "stderr"
        },
        {
          "output_type": "stream",
          "text": [
            "Training until validation scores don't improve for 30 rounds.\n",
            "[4]\tvalid_0's multi_logloss: 1.00587\n",
            "[8]\tvalid_0's multi_logloss: 0.953616\n",
            "[12]\tvalid_0's multi_logloss: 0.920924\n",
            "[16]\tvalid_0's multi_logloss: 0.901268\n",
            "[20]\tvalid_0's multi_logloss: 0.888599\n",
            "[24]\tvalid_0's multi_logloss: 0.880686\n",
            "[28]\tvalid_0's multi_logloss: 0.874973\n",
            "[32]\tvalid_0's multi_logloss: 0.871004\n",
            "[36]\tvalid_0's multi_logloss: 0.868084\n",
            "[40]\tvalid_0's multi_logloss: 0.865514\n",
            "[44]\tvalid_0's multi_logloss: 0.863978\n",
            "[48]\tvalid_0's multi_logloss: 0.862409\n",
            "[52]\tvalid_0's multi_logloss: 0.861029\n",
            "[56]\tvalid_0's multi_logloss: 0.860078\n",
            "[60]\tvalid_0's multi_logloss: 0.858985\n",
            "[64]\tvalid_0's multi_logloss: 0.858203\n",
            "[68]\tvalid_0's multi_logloss: 0.857218\n",
            "[72]\tvalid_0's multi_logloss: 0.856294\n",
            "[76]\tvalid_0's multi_logloss: 0.855287\n",
            "[80]\tvalid_0's multi_logloss: 0.854432\n",
            "[84]\tvalid_0's multi_logloss: 0.853972\n",
            "[88]\tvalid_0's multi_logloss: 0.853454\n",
            "[92]\tvalid_0's multi_logloss: 0.852951\n",
            "[96]\tvalid_0's multi_logloss: 0.852425\n",
            "[100]\tvalid_0's multi_logloss: 0.851867\n",
            "Did not meet early stopping. Best iteration is:\n",
            "[100]\tvalid_0's multi_logloss: 0.851867\n",
            "Done\n",
            "Done, time = 21.12240195274353\n"
          ],
          "name": "stdout"
        }
      ]
    },
    {
      "cell_type": "code",
      "metadata": {
        "id": "_df_XJrpcUjU",
        "colab_type": "code",
        "outputId": "fd4a10a9-00be-4bd2-9061-6a2f21a336c9",
        "colab": {
          "base_uri": "https://localhost:8080/",
          "height": 254
        }
      },
      "source": [
        "predictions = lgbm.predict(X_test)\n",
        "print(classification_report(y_test,predictions))\n",
        "print(confusion_matrix(y_test,predictions))"
      ],
      "execution_count": 0,
      "outputs": [
        {
          "output_type": "stream",
          "text": [
            "              precision    recall  f1-score   support\n",
            "\n",
            "           0       0.23      0.50      0.31     19565\n",
            "           1       0.16      0.62      0.26      9920\n",
            "           2       0.95      0.63      0.75    150926\n",
            "\n",
            "    accuracy                           0.61    180411\n",
            "   macro avg       0.45      0.58      0.44    180411\n",
            "weighted avg       0.83      0.61      0.68    180411\n",
            "\n",
            "[[ 9768  5695  4102]\n",
            " [ 2480  6187  1253]\n",
            " [30514 25852 94560]]\n"
          ],
          "name": "stdout"
        }
      ]
    },
    {
      "cell_type": "markdown",
      "metadata": {
        "id": "64E4fCN9cUC2",
        "colab_type": "text"
      },
      "source": [
        "LGBMClassifier with Learning Rate 0.01 and Max Depth = 15"
      ]
    },
    {
      "cell_type": "code",
      "metadata": {
        "id": "0mR0n6PU4Gom",
        "colab_type": "code",
        "colab": {}
      },
      "source": [
        "lgbm = LGBMClassifier(\n",
        "          objective = \"multiclass\",\n",
        "          num_class = 3,\n",
        "          num_leaves = 60,\n",
        "          max_depth = 15,\n",
        "          learning_rate = 0.01,\n",
        "          bagging_fraction = 0.9,  # subsample\n",
        "          feature_fraction = 0.9,  # colsample_bytree\n",
        "          bagging_freq = 5,        # subsample_freq\n",
        "          bagging_seed = 42,\n",
        "          verbosity = 2,\n",
        "          verbose_eval=10,\n",
        "          n_estimators =100,\n",
        "          class_weight = \"balanced\")"
      ],
      "execution_count": 0,
      "outputs": []
    },
    {
      "cell_type": "code",
      "metadata": {
        "id": "XIbqptRsg-8Y",
        "colab_type": "code",
        "outputId": "499d83d4-5f2d-43dd-e1cd-57707912f533",
        "colab": {
          "base_uri": "https://localhost:8080/",
          "height": 635
        }
      },
      "source": [
        "t = time()\n",
        "print('Fitting Up')\n",
        "lgbmodel = lgbm.fit(X_train,y_train,categorical_feature=cate_cols,eval_set = (X_valid, y_valid),verbose = 4,early_stopping_rounds=30)\n",
        "print('Done')\n",
        "print(f'Done, time = {time() - t}')"
      ],
      "execution_count": 0,
      "outputs": [
        {
          "output_type": "stream",
          "text": [
            "Fitting Up\n"
          ],
          "name": "stdout"
        },
        {
          "output_type": "stream",
          "text": [
            "/usr/local/lib/python3.6/dist-packages/lightgbm/basic.py:1209: UserWarning: categorical_feature in Dataset is overridden.\n",
            "New categorical_feature is ['parent_category_name_en', 'region_en', 'user_type']\n",
            "  'New categorical_feature is {}'.format(sorted(list(categorical_feature))))\n"
          ],
          "name": "stderr"
        },
        {
          "output_type": "stream",
          "text": [
            "Training until validation scores don't improve for 30 rounds.\n",
            "[4]\tvalid_0's multi_logloss: 1.08641\n",
            "[8]\tvalid_0's multi_logloss: 1.07501\n",
            "[12]\tvalid_0's multi_logloss: 1.06396\n",
            "[16]\tvalid_0's multi_logloss: 1.05375\n",
            "[20]\tvalid_0's multi_logloss: 1.04401\n",
            "[24]\tvalid_0's multi_logloss: 1.03527\n",
            "[28]\tvalid_0's multi_logloss: 1.02675\n",
            "[32]\tvalid_0's multi_logloss: 1.01843\n",
            "[36]\tvalid_0's multi_logloss: 1.01069\n",
            "[40]\tvalid_0's multi_logloss: 1.0033\n",
            "[44]\tvalid_0's multi_logloss: 0.99626\n",
            "[48]\tvalid_0's multi_logloss: 0.989641\n",
            "[52]\tvalid_0's multi_logloss: 0.983438\n",
            "[56]\tvalid_0's multi_logloss: 0.977484\n",
            "[60]\tvalid_0's multi_logloss: 0.971923\n",
            "[64]\tvalid_0's multi_logloss: 0.966501\n",
            "[68]\tvalid_0's multi_logloss: 0.961352\n",
            "[72]\tvalid_0's multi_logloss: 0.956513\n",
            "[76]\tvalid_0's multi_logloss: 0.951935\n",
            "[80]\tvalid_0's multi_logloss: 0.947568\n",
            "[84]\tvalid_0's multi_logloss: 0.943447\n",
            "[88]\tvalid_0's multi_logloss: 0.939651\n",
            "[92]\tvalid_0's multi_logloss: 0.935847\n",
            "[96]\tvalid_0's multi_logloss: 0.932208\n",
            "[100]\tvalid_0's multi_logloss: 0.928793\n",
            "Did not meet early stopping. Best iteration is:\n",
            "[100]\tvalid_0's multi_logloss: 0.928793\n",
            "Done\n",
            "Done, time = 35.94801878929138\n"
          ],
          "name": "stdout"
        }
      ]
    },
    {
      "cell_type": "code",
      "metadata": {
        "id": "5HjddZyShMIb",
        "colab_type": "code",
        "outputId": "4ad48946-89cf-4255-c2c4-03de62ccb383",
        "colab": {
          "base_uri": "https://localhost:8080/",
          "height": 254
        }
      },
      "source": [
        "predictions = lgbm.predict(X_test)\n",
        "print(classification_report(y_test,predictions))\n",
        "print(confusion_matrix(y_test,predictions))"
      ],
      "execution_count": 0,
      "outputs": [
        {
          "output_type": "stream",
          "text": [
            "              precision    recall  f1-score   support\n",
            "\n",
            "           0       0.22      0.48      0.30     19565\n",
            "           1       0.16      0.63      0.25      9920\n",
            "           2       0.94      0.62      0.75    150926\n",
            "\n",
            "    accuracy                           0.60    180411\n",
            "   macro avg       0.44      0.57      0.43    180411\n",
            "weighted avg       0.82      0.60      0.67    180411\n",
            "\n",
            "[[ 9457  5880  4228]\n",
            " [ 2489  6209  1222]\n",
            " [31123 26960 92843]]\n"
          ],
          "name": "stdout"
        }
      ]
    },
    {
      "cell_type": "markdown",
      "metadata": {
        "id": "qArjFQxAhZf1",
        "colab_type": "text"
      },
      "source": [
        "LGBMClassifier with Learning Rate 0.1 and max_depth = 15\n"
      ]
    },
    {
      "cell_type": "code",
      "metadata": {
        "id": "05IYf8x3hSJl",
        "colab_type": "code",
        "colab": {}
      },
      "source": [
        "lgbm = LGBMClassifier(\n",
        "          objective = \"multiclass\",\n",
        "          num_class = 3,\n",
        "          num_leaves = 60,\n",
        "          max_depth = 15,\n",
        "          learning_rate = 0.1,\n",
        "          bagging_fraction = 0.9,  # subsample\n",
        "          feature_fraction = 0.9,  # colsample_bytree\n",
        "          bagging_freq = 5,        # subsample_freq\n",
        "          bagging_seed = 42,\n",
        "          verbosity = 2,\n",
        "          verbose_eval=10,\n",
        "          n_estimators =100,\n",
        "          class_weight = \"balanced\")"
      ],
      "execution_count": 0,
      "outputs": []
    },
    {
      "cell_type": "code",
      "metadata": {
        "id": "Z6Ld8IkchSDc",
        "colab_type": "code",
        "outputId": "5bf75319-30a2-48ef-818c-7c87ea0a2266",
        "colab": {
          "base_uri": "https://localhost:8080/",
          "height": 635
        }
      },
      "source": [
        "t = time()\n",
        "print('Fitting Up')\n",
        "lgbmodel = lgbm.fit(X_train,y_train,categorical_feature=cate_cols,eval_set = (X_valid, y_valid),verbose = 4,early_stopping_rounds=30)\n",
        "print('Done')\n",
        "print(f'Done, time = {time() - t}')"
      ],
      "execution_count": 0,
      "outputs": [
        {
          "output_type": "stream",
          "text": [
            "Fitting Up\n"
          ],
          "name": "stdout"
        },
        {
          "output_type": "stream",
          "text": [
            "/usr/local/lib/python3.6/dist-packages/lightgbm/basic.py:1209: UserWarning: categorical_feature in Dataset is overridden.\n",
            "New categorical_feature is ['parent_category_name_en', 'region_en', 'user_type']\n",
            "  'New categorical_feature is {}'.format(sorted(list(categorical_feature))))\n"
          ],
          "name": "stderr"
        },
        {
          "output_type": "stream",
          "text": [
            "Training until validation scores don't improve for 30 rounds.\n",
            "[4]\tvalid_0's multi_logloss: 1.00096\n",
            "[8]\tvalid_0's multi_logloss: 0.94575\n",
            "[12]\tvalid_0's multi_logloss: 0.911372\n",
            "[16]\tvalid_0's multi_logloss: 0.890976\n",
            "[20]\tvalid_0's multi_logloss: 0.877467\n",
            "[24]\tvalid_0's multi_logloss: 0.86903\n",
            "[28]\tvalid_0's multi_logloss: 0.862993\n",
            "[32]\tvalid_0's multi_logloss: 0.859221\n",
            "[36]\tvalid_0's multi_logloss: 0.856717\n",
            "[40]\tvalid_0's multi_logloss: 0.854553\n",
            "[44]\tvalid_0's multi_logloss: 0.85263\n",
            "[48]\tvalid_0's multi_logloss: 0.851395\n",
            "[52]\tvalid_0's multi_logloss: 0.850025\n",
            "[56]\tvalid_0's multi_logloss: 0.848811\n",
            "[60]\tvalid_0's multi_logloss: 0.847931\n",
            "[64]\tvalid_0's multi_logloss: 0.847004\n",
            "[68]\tvalid_0's multi_logloss: 0.846494\n",
            "[72]\tvalid_0's multi_logloss: 0.845904\n",
            "[76]\tvalid_0's multi_logloss: 0.845256\n",
            "[80]\tvalid_0's multi_logloss: 0.844459\n",
            "[84]\tvalid_0's multi_logloss: 0.843769\n",
            "[88]\tvalid_0's multi_logloss: 0.843314\n",
            "[92]\tvalid_0's multi_logloss: 0.842904\n",
            "[96]\tvalid_0's multi_logloss: 0.842344\n",
            "[100]\tvalid_0's multi_logloss: 0.841576\n",
            "Did not meet early stopping. Best iteration is:\n",
            "[100]\tvalid_0's multi_logloss: 0.841576\n",
            "Done\n",
            "Done, time = 29.992974519729614\n"
          ],
          "name": "stdout"
        }
      ]
    },
    {
      "cell_type": "code",
      "metadata": {
        "id": "xjreLHBwhftD",
        "colab_type": "code",
        "outputId": "0304db66-8a34-47dc-fa76-cae572cf3408",
        "colab": {
          "base_uri": "https://localhost:8080/",
          "height": 254
        }
      },
      "source": [
        "predictions = lgbm.predict(X_test)\n",
        "print(classification_report(y_test,predictions))\n",
        "print(confusion_matrix(y_test,predictions))"
      ],
      "execution_count": 0,
      "outputs": [
        {
          "output_type": "stream",
          "text": [
            "              precision    recall  f1-score   support\n",
            "\n",
            "           0       0.24      0.51      0.32     19565\n",
            "           1       0.17      0.62      0.26      9920\n",
            "           2       0.95      0.64      0.76    150926\n",
            "\n",
            "    accuracy                           0.62    180411\n",
            "   macro avg       0.45      0.59      0.45    180411\n",
            "weighted avg       0.83      0.62      0.69    180411\n",
            "\n",
            "[[ 9966  5535  4064]\n",
            " [ 2503  6123  1294]\n",
            " [29773 25177 95976]]\n"
          ],
          "name": "stdout"
        }
      ]
    },
    {
      "cell_type": "markdown",
      "metadata": {
        "id": "9FvVr0ZKisA8",
        "colab_type": "text"
      },
      "source": [
        "LGBMClassifier with Learning Rate 0.2 and max_depth = 15"
      ]
    },
    {
      "cell_type": "code",
      "metadata": {
        "id": "P9kTgMW0hkK1",
        "colab_type": "code",
        "colab": {}
      },
      "source": [
        "lgbm = LGBMClassifier(\n",
        "          objective = \"multiclass\",\n",
        "          num_class = 3,\n",
        "          num_leaves = 60,\n",
        "          max_depth = 15,\n",
        "          learning_rate = 0.2,\n",
        "          bagging_fraction = 0.9,  # subsample\n",
        "          feature_fraction = 0.9,  # colsample_bytree\n",
        "          bagging_freq = 5,        # subsample_freq\n",
        "          bagging_seed = 42,\n",
        "          verbosity = 2,\n",
        "          verbose_eval=10,\n",
        "          n_estimators =100,\n",
        "          class_weight = \"balanced\")"
      ],
      "execution_count": 0,
      "outputs": []
    },
    {
      "cell_type": "code",
      "metadata": {
        "id": "mVWG8Dz9hj9n",
        "colab_type": "code",
        "outputId": "18d590cc-8844-48b9-fa3a-6447937928f8",
        "colab": {
          "base_uri": "https://localhost:8080/",
          "height": 635
        }
      },
      "source": [
        "t = time()\n",
        "print('Fitting Up')\n",
        "lgbmodel = lgbm.fit(X_train,y_train,categorical_feature=cate_cols,eval_set = (X_valid, y_valid),verbose = 4,early_stopping_rounds=30)\n",
        "print('Done')\n",
        "print(f'Done, time = {time() - t}')"
      ],
      "execution_count": 0,
      "outputs": [
        {
          "output_type": "stream",
          "text": [
            "Fitting Up\n"
          ],
          "name": "stdout"
        },
        {
          "output_type": "stream",
          "text": [
            "/usr/local/lib/python3.6/dist-packages/lightgbm/basic.py:1209: UserWarning: categorical_feature in Dataset is overridden.\n",
            "New categorical_feature is ['parent_category_name_en', 'region_en', 'user_type']\n",
            "  'New categorical_feature is {}'.format(sorted(list(categorical_feature))))\n"
          ],
          "name": "stderr"
        },
        {
          "output_type": "stream",
          "text": [
            "Training until validation scores don't improve for 30 rounds.\n",
            "[4]\tvalid_0's multi_logloss: 0.942759\n",
            "[8]\tvalid_0's multi_logloss: 0.88968\n",
            "[12]\tvalid_0's multi_logloss: 0.868342\n",
            "[16]\tvalid_0's multi_logloss: 0.85906\n",
            "[20]\tvalid_0's multi_logloss: 0.854054\n",
            "[24]\tvalid_0's multi_logloss: 0.851708\n",
            "[28]\tvalid_0's multi_logloss: 0.849196\n",
            "[32]\tvalid_0's multi_logloss: 0.847231\n",
            "[36]\tvalid_0's multi_logloss: 0.845934\n",
            "[40]\tvalid_0's multi_logloss: 0.844297\n",
            "[44]\tvalid_0's multi_logloss: 0.843331\n",
            "[48]\tvalid_0's multi_logloss: 0.842646\n",
            "[52]\tvalid_0's multi_logloss: 0.841411\n",
            "[56]\tvalid_0's multi_logloss: 0.840201\n",
            "[60]\tvalid_0's multi_logloss: 0.839599\n",
            "[64]\tvalid_0's multi_logloss: 0.838795\n",
            "[68]\tvalid_0's multi_logloss: 0.838181\n",
            "[72]\tvalid_0's multi_logloss: 0.837647\n",
            "[76]\tvalid_0's multi_logloss: 0.836662\n",
            "[80]\tvalid_0's multi_logloss: 0.835541\n",
            "[84]\tvalid_0's multi_logloss: 0.834938\n",
            "[88]\tvalid_0's multi_logloss: 0.834251\n",
            "[92]\tvalid_0's multi_logloss: 0.833914\n",
            "[96]\tvalid_0's multi_logloss: 0.833366\n",
            "[100]\tvalid_0's multi_logloss: 0.83208\n",
            "Did not meet early stopping. Best iteration is:\n",
            "[100]\tvalid_0's multi_logloss: 0.83208\n",
            "Done\n",
            "Done, time = 25.27127957344055\n"
          ],
          "name": "stdout"
        }
      ]
    },
    {
      "cell_type": "code",
      "metadata": {
        "id": "CRy4JA-lhj48",
        "colab_type": "code",
        "outputId": "28a58bdc-abaf-48b1-a989-d9869e83d3d9",
        "colab": {
          "base_uri": "https://localhost:8080/",
          "height": 254
        }
      },
      "source": [
        "predictions = lgbm.predict(X_test)\n",
        "print(classification_report(y_test,predictions))\n",
        "print(confusion_matrix(y_test,predictions))"
      ],
      "execution_count": 0,
      "outputs": [
        {
          "output_type": "stream",
          "text": [
            "              precision    recall  f1-score   support\n",
            "\n",
            "           0       0.24      0.52      0.33     19565\n",
            "           1       0.17      0.61      0.26      9920\n",
            "           2       0.95      0.64      0.77    150926\n",
            "\n",
            "    accuracy                           0.63    180411\n",
            "   macro avg       0.45      0.59      0.45    180411\n",
            "weighted avg       0.83      0.63      0.69    180411\n",
            "\n",
            "[[10077  5410  4078]\n",
            " [ 2537  6074  1309]\n",
            " [29377 24527 97022]]\n"
          ],
          "name": "stdout"
        }
      ]
    },
    {
      "cell_type": "markdown",
      "metadata": {
        "id": "TNOobIPeeqwd",
        "colab_type": "text"
      },
      "source": [
        "Best Model"
      ]
    },
    {
      "cell_type": "markdown",
      "metadata": {
        "id": "ONDz2PfBjVEr",
        "colab_type": "text"
      },
      "source": [
        "LGBMClassifier with Learning Rate 0.1 and max_depth = 15 and No of trees = 200"
      ]
    },
    {
      "cell_type": "code",
      "metadata": {
        "id": "Zx346keuhj0d",
        "colab_type": "code",
        "colab": {}
      },
      "source": [
        "lgbm = LGBMClassifier(\n",
        "          objective = \"multiclass\",\n",
        "          num_class = 3,\n",
        "          num_leaves = 60,\n",
        "          max_depth = 15,\n",
        "          learning_rate = 0.1,\n",
        "          bagging_fraction = 0.9,  # subsample\n",
        "          feature_fraction = 0.9,  # colsample_bytree\n",
        "          bagging_freq = 5,        # subsample_freq\n",
        "          bagging_seed = 42,\n",
        "          verbosity = 2,\n",
        "          verbose_eval=10,\n",
        "          n_estimators =200,\n",
        "          class_weight = \"balanced\")"
      ],
      "execution_count": 0,
      "outputs": []
    },
    {
      "cell_type": "code",
      "metadata": {
        "id": "sdZBjipJi56S",
        "colab_type": "code",
        "outputId": "4fb07836-44e9-42e9-cadd-26ebb5a10070",
        "colab": {
          "base_uri": "https://localhost:8080/",
          "height": 1000
        }
      },
      "source": [
        "t = time()\n",
        "print('Fitting Up')\n",
        "lgbmodel = lgbm.fit(X_train,y_train,categorical_feature=cate_cols,eval_set = (X_valid, y_valid),verbose = 4,early_stopping_rounds=30)\n",
        "print('Done')\n",
        "print(f'Done, time = {time() - t}')"
      ],
      "execution_count": 0,
      "outputs": [
        {
          "output_type": "stream",
          "text": [
            "Fitting Up\n"
          ],
          "name": "stdout"
        },
        {
          "output_type": "stream",
          "text": [
            "/usr/local/lib/python3.6/dist-packages/lightgbm/basic.py:1209: UserWarning: categorical_feature in Dataset is overridden.\n",
            "New categorical_feature is ['parent_category_name_en', 'region_en', 'user_type']\n",
            "  'New categorical_feature is {}'.format(sorted(list(categorical_feature))))\n"
          ],
          "name": "stderr"
        },
        {
          "output_type": "stream",
          "text": [
            "Training until validation scores don't improve for 30 rounds.\n",
            "[4]\tvalid_0's multi_logloss: 1.00096\n",
            "[8]\tvalid_0's multi_logloss: 0.94575\n",
            "[12]\tvalid_0's multi_logloss: 0.911372\n",
            "[16]\tvalid_0's multi_logloss: 0.890976\n",
            "[20]\tvalid_0's multi_logloss: 0.877467\n",
            "[24]\tvalid_0's multi_logloss: 0.86903\n",
            "[28]\tvalid_0's multi_logloss: 0.862993\n",
            "[32]\tvalid_0's multi_logloss: 0.859221\n",
            "[36]\tvalid_0's multi_logloss: 0.856717\n",
            "[40]\tvalid_0's multi_logloss: 0.854553\n",
            "[44]\tvalid_0's multi_logloss: 0.85263\n",
            "[48]\tvalid_0's multi_logloss: 0.851395\n",
            "[52]\tvalid_0's multi_logloss: 0.850025\n",
            "[56]\tvalid_0's multi_logloss: 0.848811\n",
            "[60]\tvalid_0's multi_logloss: 0.847931\n",
            "[64]\tvalid_0's multi_logloss: 0.847004\n",
            "[68]\tvalid_0's multi_logloss: 0.846494\n",
            "[72]\tvalid_0's multi_logloss: 0.845904\n",
            "[76]\tvalid_0's multi_logloss: 0.845256\n",
            "[80]\tvalid_0's multi_logloss: 0.844459\n",
            "[84]\tvalid_0's multi_logloss: 0.843769\n",
            "[88]\tvalid_0's multi_logloss: 0.843314\n",
            "[92]\tvalid_0's multi_logloss: 0.842904\n",
            "[96]\tvalid_0's multi_logloss: 0.842344\n",
            "[100]\tvalid_0's multi_logloss: 0.841576\n",
            "[104]\tvalid_0's multi_logloss: 0.840947\n",
            "[108]\tvalid_0's multi_logloss: 0.8405\n",
            "[112]\tvalid_0's multi_logloss: 0.840048\n",
            "[116]\tvalid_0's multi_logloss: 0.839528\n",
            "[120]\tvalid_0's multi_logloss: 0.83889\n",
            "[124]\tvalid_0's multi_logloss: 0.83857\n",
            "[128]\tvalid_0's multi_logloss: 0.838326\n",
            "[132]\tvalid_0's multi_logloss: 0.837881\n",
            "[136]\tvalid_0's multi_logloss: 0.837343\n",
            "[140]\tvalid_0's multi_logloss: 0.83674\n",
            "[144]\tvalid_0's multi_logloss: 0.836429\n",
            "[148]\tvalid_0's multi_logloss: 0.835941\n",
            "[152]\tvalid_0's multi_logloss: 0.835605\n",
            "[156]\tvalid_0's multi_logloss: 0.835343\n",
            "[160]\tvalid_0's multi_logloss: 0.834926\n",
            "[164]\tvalid_0's multi_logloss: 0.834385\n",
            "[168]\tvalid_0's multi_logloss: 0.833865\n",
            "[172]\tvalid_0's multi_logloss: 0.833501\n",
            "[176]\tvalid_0's multi_logloss: 0.833182\n",
            "[180]\tvalid_0's multi_logloss: 0.83288\n",
            "[184]\tvalid_0's multi_logloss: 0.832652\n",
            "[188]\tvalid_0's multi_logloss: 0.832333\n",
            "[192]\tvalid_0's multi_logloss: 0.831988\n",
            "[196]\tvalid_0's multi_logloss: 0.831825\n",
            "[200]\tvalid_0's multi_logloss: 0.831534\n",
            "Did not meet early stopping. Best iteration is:\n",
            "[200]\tvalid_0's multi_logloss: 0.831534\n",
            "Done\n",
            "Done, time = 48.14249801635742\n"
          ],
          "name": "stdout"
        }
      ]
    },
    {
      "cell_type": "markdown",
      "metadata": {
        "id": "88egU39devPv",
        "colab_type": "text"
      },
      "source": [
        "**Prediction on Test data**"
      ]
    },
    {
      "cell_type": "code",
      "metadata": {
        "id": "PYN0V0Bahjse",
        "colab_type": "code",
        "outputId": "68f16bd7-ae55-4e41-b8cd-fc993efd6517",
        "colab": {
          "base_uri": "https://localhost:8080/",
          "height": 254
        }
      },
      "source": [
        "predictions = lgbm.predict(X_test)\n",
        "print(classification_report(y_test,predictions))\n",
        "print(confusion_matrix(y_test,predictions))"
      ],
      "execution_count": 0,
      "outputs": [
        {
          "output_type": "stream",
          "text": [
            "              precision    recall  f1-score   support\n",
            "\n",
            "           0       0.24      0.51      0.33     19565\n",
            "           1       0.17      0.62      0.26      9920\n",
            "           2       0.95      0.64      0.77    150926\n",
            "\n",
            "    accuracy                           0.63    180411\n",
            "   macro avg       0.45      0.59      0.45    180411\n",
            "weighted avg       0.83      0.63      0.69    180411\n",
            "\n",
            "[[10055  5445  4065]\n",
            " [ 2512  6105  1303]\n",
            " [29185 24629 97112]]\n"
          ],
          "name": "stdout"
        }
      ]
    },
    {
      "cell_type": "markdown",
      "metadata": {
        "id": "9Bl8W9evfABY",
        "colab_type": "text"
      },
      "source": [
        "### XgBoost with 100 trees Learning rate = 0.1 and max-depth = 15 did the best among all models"
      ]
    }
  ]
}